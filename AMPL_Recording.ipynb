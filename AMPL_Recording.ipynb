{
  "nbformat": 4,
  "nbformat_minor": 0,
  "metadata": {
    "colab": {
      "provenance": [],
      "authorship_tag": "ABX9TyPbZqFvGX89WLsRufdFIvH/"
    },
    "kernelspec": {
      "name": "python3",
      "display_name": "Python 3"
    },
    "language_info": {
      "name": "python"
    }
  },
  "cells": [
    {
      "cell_type": "markdown",
      "source": [
        "# NCI Data Science Learning Exchange: AMPL for Drug Discovery A hnds-on tutorial:\n",
        "## 1. [ATOM Modeling PipeLine for Drug Discovery: A Hands-on Tutorial](https://www.youtube.com/watch?v=NJ_3ExXXk_o&ab_channel=NCIDataScienceLearningExchangeWorkshops)\n",
        "\n",
        "\n",
        "# ATOM Webinar Series: \n",
        "## 2. [ATOM’s molecular design approach for accelerated drug discovery](https://cbiit.webex.com/recordingservice/sites/cbiit/recording/598438cab8fa103abfef00505681b54b/playback)\n",
        "    \n"
      ],
      "metadata": {
        "id": "W3QtMkyYU79n"
      }
    }
  ]
}