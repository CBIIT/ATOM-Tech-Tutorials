{
 "cells": [
  {
   "cell_type": "code",
   "execution_count": 27,
   "id": "5a33cb60-cd66-4cab-aad4-eb6ace13cd78",
   "metadata": {},
   "outputs": [
    {
     "data": {
      "text/plain": [
       "'/home/jupyter/Summer_AMPL/Renate/Kevin_Model_2'"
      ]
     },
     "execution_count": 27,
     "metadata": {},
     "output_type": "execute_result"
    }
   ],
   "source": [
    "pwd"
   ]
  },
  {
   "cell_type": "code",
   "execution_count": 15,
   "id": "18d70e7a-57ce-4a3c-be8c-41b7488f82fa",
   "metadata": {},
   "outputs": [
    {
     "name": "stdout",
     "output_type": "stream",
     "text": [
      "/home/jupyter/Summer_AMPL/Renate\n"
     ]
    }
   ],
   "source": [
    "cd /home/jupyter/Summer_AMPL/Renate"
   ]
  },
  {
   "cell_type": "code",
   "execution_count": 30,
   "id": "21c6a06a-8cee-4b11-932a-7dff7481f7c7",
   "metadata": {},
   "outputs": [
    {
     "name": "stdout",
     "output_type": "stream",
     "text": [
      "/home/jupyter/Summer_AMPL/Renate/QM9_Curation\n"
     ]
    }
   ],
   "source": [
    "cd /home/jupyter/Summer_AMPL/Renate/QM9_Curation"
   ]
  },
  {
   "cell_type": "code",
   "execution_count": 31,
   "id": "5cb454d4-ae0a-43b1-bfaf-83db9b38de38",
   "metadata": {},
   "outputs": [
    {
     "data": {
      "text/plain": [
       "'/home/jupyter/Summer_AMPL/Renate/QM9_Curation'"
      ]
     },
     "execution_count": 31,
     "metadata": {},
     "output_type": "execute_result"
    }
   ],
   "source": [
    "pwd"
   ]
  },
  {
   "cell_type": "code",
   "execution_count": 32,
   "id": "6c3bc02a",
   "metadata": {},
   "outputs": [
    {
     "name": "stdout",
     "output_type": "stream",
     "text": [
      "tar: select_qm9_data_curated_model_6b863442-a01d-4f8d-a622-9364e7c82b61.tar.gz: Not found in archive\n",
      "tar: select_qm9_data_curated_model_71397a70-cef7-4d04-822d-5828768a2f62.tar.gz: Not found in archive\n",
      "tar: select_qm9_data_curated_model_89cd7a1f-6531-454c-bc1f-392cff327831.tar.gz: Not found in archive\n",
      "tar: select_qm9_data_curated_model_9cec60e2-8d4f-4a01-bb1c-0032313f2277.tar.gz: Not found in archive\n",
      "tar: select_qm9_data_curated_model_a14a4caa-aa6f-4dfd-a892-374a1fc19ee4.tar.gz: Not found in archive\n",
      "tar: select_qm9_data_curated_model_cd65e84f-2498-436b-ac43-13b17e90e48c.tar.gz: Not found in archive\n",
      "tar: Exiting with failure status due to previous errors\n"
     ]
    }
   ],
   "source": [
    "!tar -tf *.tar.gz"
   ]
  },
  {
   "cell_type": "code",
   "execution_count": 19,
   "id": "fd04b143",
   "metadata": {},
   "outputs": [
    {
     "name": "stdout",
     "output_type": "stream",
     "text": [
      "./\n",
      "./best_model/\n",
      "./best_model/checkpoint\n",
      "./best_model/ckpt-18.data-00000-of-00001\n",
      "./best_model/ckpt-18.index\n",
      "./model_metadata.json\n",
      "./model_metrics.json\n",
      "./transformers.pkl\n"
     ]
    }
   ],
   "source": [
    "!tar -xvzf *.tar.gz"
   ]
  },
  {
   "cell_type": "code",
   "execution_count": 20,
   "id": "155f0b87",
   "metadata": {},
   "outputs": [
    {
     "name": "stdout",
     "output_type": "stream",
     "text": [
      "{\n",
      "    \"model_parameters\": {\n",
      "        \"ampl_version\": \"1.5.0\",\n",
      "        \"featurizer\": \"graphconv\",\n",
      "        \"hyperparam_uuid\": null,\n",
      "        \"model_bucket\": \"public\",\n",
      "        \"model_choice_score_type\": \"r2\",\n",
      "        \"model_type\": \"NN\",\n",
      "        \"num_model_tasks\": 3,\n",
      "        \"prediction_type\": \"regression\",\n"
     ]
    }
   ],
   "source": [
    "#!cat FMO_energy_graphconv_fingerprint_split_model_d852304e-cd01-43b1-91ca-15125b225fc6/model_metadata.json| head\n",
    "!cat Kevin_Moel/model-metadata.json| head"
   ]
  },
  {
   "cell_type": "code",
   "execution_count": 21,
   "id": "df70dd5c",
   "metadata": {},
   "outputs": [],
   "source": [
    "import matplotlib.pyplot as plt\n",
    "import seaborn as sns\n",
    "import numpy as np\n",
    "sns.set_context(\"poster\")\n",
    "sns.set_style(\"whitegrid\")\n",
    "sns.set_palette(\"Set2\")\n",
    "\n",
    "import pandas as pd\n",
    "import os, json, sys, glob, pickle"
   ]
  },
  {
   "cell_type": "code",
   "execution_count": 22,
   "id": "a5c8251a",
   "metadata": {},
   "outputs": [
    {
     "name": "stderr",
     "output_type": "stream",
     "text": [
      "/home/jupyter/atomsci/lib/python3.8/site-packages/tqdm/auto.py:21: TqdmWarning: IProgress not found. Please update jupyter and ipywidgets. See https://ipywidgets.readthedocs.io/en/stable/user_install.html\n",
      "  from .autonotebook import tqdm as notebook_tqdm\n",
      "Skipped loading modules with pytorch-geometric dependency, missing a dependency. No module named 'torch_geometric'\n",
      "Skipped loading modules with pytorch-geometric dependency, missing a dependency. cannot import name 'DMPNN' from 'deepchem.models.torch_models' (/home/jupyter/atomsci/lib/python3.8/site-packages/deepchem/models/torch_models/__init__.py)\n",
      "Skipped loading modules with pytorch-lightning dependency, missing a dependency. No module named 'pytorch_lightning'\n",
      "Skipped loading some Jax models, missing a dependency. jax requires jaxlib to be installed. See https://github.com/google/jax#installation for installation instructions.\n",
      "2023-07-06 15:30:27,181 Model tracker client not supported in your environment; will save models in filesystem only.\n"
     ]
    }
   ],
   "source": [
    "from atomsci.ddm.pipeline import parameter_parser as parse\n",
    "from atomsci.ddm.pipeline import perf_data\n",
    "from atomsci.ddm.pipeline import model_pipeline as mp\n",
    "import atomsci.ddm.utils.curate_data as curate_data\n",
    "import atomsci.ddm.utils.struct_utils as struct_utils\n",
    "from atomsci.ddm.pipeline import perf_plots as pp"
   ]
  },
  {
   "cell_type": "code",
   "execution_count": 23,
   "id": "30feb58a",
   "metadata": {},
   "outputs": [],
   "source": [
    "test_data = pd.read_csv('select_qm9_data_curated-Copy1.csv')"
   ]
  },
  {
   "cell_type": "code",
   "execution_count": 24,
   "id": "753283bb",
   "metadata": {},
   "outputs": [
    {
     "data": {
      "text/html": [
       "<div>\n",
       "<style scoped>\n",
       "    .dataframe tbody tr th:only-of-type {\n",
       "        vertical-align: middle;\n",
       "    }\n",
       "\n",
       "    .dataframe tbody tr th {\n",
       "        vertical-align: top;\n",
       "    }\n",
       "\n",
       "    .dataframe thead th {\n",
       "        text-align: right;\n",
       "    }\n",
       "</style>\n",
       "<table border=\"1\" class=\"dataframe\">\n",
       "  <thead>\n",
       "    <tr style=\"text-align: right;\">\n",
       "      <th></th>\n",
       "      <th>mol_id</th>\n",
       "      <th>smiles</th>\n",
       "      <th>homo</th>\n",
       "      <th>lumo</th>\n",
       "      <th>gap</th>\n",
       "      <th>rdkit_smiles</th>\n",
       "      <th>inchi_key</th>\n",
       "      <th>compound_id</th>\n",
       "      <th>mol_wt</th>\n",
       "      <th>VALUE_NUM_mean</th>\n",
       "      <th>VALUE_NUM_std</th>\n",
       "      <th>Perc_Var</th>\n",
       "      <th>Remove_BadDuplicate</th>\n",
       "    </tr>\n",
       "  </thead>\n",
       "  <tbody>\n",
       "    <tr>\n",
       "      <th>0</th>\n",
       "      <td>gdb_1</td>\n",
       "      <td>C</td>\n",
       "      <td>-0.3877</td>\n",
       "      <td>0.1171</td>\n",
       "      <td>0.5048</td>\n",
       "      <td>C</td>\n",
       "      <td>VNWKTOKETHGBQD-UHFFFAOYSA-N</td>\n",
       "      <td>VNWKTOKETHGBQD-UHFFFAOYSA-N</td>\n",
       "      <td>16.031300</td>\n",
       "      <td>0.5048</td>\n",
       "      <td>NaN</td>\n",
       "      <td>0.0</td>\n",
       "      <td>0</td>\n",
       "    </tr>\n",
       "    <tr>\n",
       "      <th>1</th>\n",
       "      <td>gdb_2</td>\n",
       "      <td>N</td>\n",
       "      <td>-0.2570</td>\n",
       "      <td>0.0829</td>\n",
       "      <td>0.3399</td>\n",
       "      <td>N</td>\n",
       "      <td>QGZKDVFQNNGYKY-UHFFFAOYSA-N</td>\n",
       "      <td>QGZKDVFQNNGYKY-UHFFFAOYSA-N</td>\n",
       "      <td>17.026549</td>\n",
       "      <td>0.3399</td>\n",
       "      <td>NaN</td>\n",
       "      <td>0.0</td>\n",
       "      <td>0</td>\n",
       "    </tr>\n",
       "    <tr>\n",
       "      <th>2</th>\n",
       "      <td>gdb_3</td>\n",
       "      <td>O</td>\n",
       "      <td>-0.2928</td>\n",
       "      <td>0.0687</td>\n",
       "      <td>0.3615</td>\n",
       "      <td>O</td>\n",
       "      <td>XLYOFNOQVPJJNP-UHFFFAOYSA-N</td>\n",
       "      <td>XLYOFNOQVPJJNP-UHFFFAOYSA-N</td>\n",
       "      <td>18.010565</td>\n",
       "      <td>0.3615</td>\n",
       "      <td>NaN</td>\n",
       "      <td>0.0</td>\n",
       "      <td>0</td>\n",
       "    </tr>\n",
       "    <tr>\n",
       "      <th>3</th>\n",
       "      <td>gdb_4</td>\n",
       "      <td>C#C</td>\n",
       "      <td>-0.2845</td>\n",
       "      <td>0.0506</td>\n",
       "      <td>0.3351</td>\n",
       "      <td>C#C</td>\n",
       "      <td>HSFWRNGVRCDJHI-UHFFFAOYSA-N</td>\n",
       "      <td>HSFWRNGVRCDJHI-UHFFFAOYSA-N</td>\n",
       "      <td>26.015650</td>\n",
       "      <td>0.3351</td>\n",
       "      <td>NaN</td>\n",
       "      <td>0.0</td>\n",
       "      <td>0</td>\n",
       "    </tr>\n",
       "    <tr>\n",
       "      <th>4</th>\n",
       "      <td>gdb_5</td>\n",
       "      <td>C#N</td>\n",
       "      <td>-0.3604</td>\n",
       "      <td>0.0191</td>\n",
       "      <td>0.3796</td>\n",
       "      <td>C#N</td>\n",
       "      <td>LELOWRISYMNNSU-UHFFFAOYSA-N</td>\n",
       "      <td>LELOWRISYMNNSU-UHFFFAOYSA-N</td>\n",
       "      <td>27.010899</td>\n",
       "      <td>0.3796</td>\n",
       "      <td>NaN</td>\n",
       "      <td>0.0</td>\n",
       "      <td>0</td>\n",
       "    </tr>\n",
       "  </tbody>\n",
       "</table>\n",
       "</div>"
      ],
      "text/plain": [
       "  mol_id smiles    homo    lumo     gap rdkit_smiles  \\\n",
       "0  gdb_1      C -0.3877  0.1171  0.5048            C   \n",
       "1  gdb_2      N -0.2570  0.0829  0.3399            N   \n",
       "2  gdb_3      O -0.2928  0.0687  0.3615            O   \n",
       "3  gdb_4    C#C -0.2845  0.0506  0.3351          C#C   \n",
       "4  gdb_5    C#N -0.3604  0.0191  0.3796          C#N   \n",
       "\n",
       "                     inchi_key                  compound_id     mol_wt  \\\n",
       "0  VNWKTOKETHGBQD-UHFFFAOYSA-N  VNWKTOKETHGBQD-UHFFFAOYSA-N  16.031300   \n",
       "1  QGZKDVFQNNGYKY-UHFFFAOYSA-N  QGZKDVFQNNGYKY-UHFFFAOYSA-N  17.026549   \n",
       "2  XLYOFNOQVPJJNP-UHFFFAOYSA-N  XLYOFNOQVPJJNP-UHFFFAOYSA-N  18.010565   \n",
       "3  HSFWRNGVRCDJHI-UHFFFAOYSA-N  HSFWRNGVRCDJHI-UHFFFAOYSA-N  26.015650   \n",
       "4  LELOWRISYMNNSU-UHFFFAOYSA-N  LELOWRISYMNNSU-UHFFFAOYSA-N  27.010899   \n",
       "\n",
       "   VALUE_NUM_mean  VALUE_NUM_std  Perc_Var  Remove_BadDuplicate  \n",
       "0          0.5048            NaN       0.0                    0  \n",
       "1          0.3399            NaN       0.0                    0  \n",
       "2          0.3615            NaN       0.0                    0  \n",
       "3          0.3351            NaN       0.0                    0  \n",
       "4          0.3796            NaN       0.0                    0  "
      ]
     },
     "execution_count": 24,
     "metadata": {},
     "output_type": "execute_result"
    }
   ],
   "source": [
    "test_data.head()"
   ]
  },
  {
   "cell_type": "code",
   "execution_count": 10,
   "id": "f2b76af3",
   "metadata": {},
   "outputs": [],
   "source": [
    "test_data['rdkit_smiles'] = test_data['smiles'].apply(curate_data.base_smiles_from_smiles)\n",
    "test_data['inchi_key'] = test_data['rdkit_smiles'].apply(struct_utils.smiles_to_inchi_key)\n",
    "test_data['compound_id'] = test_data['inchi_key']"
   ]
  },
  {
   "cell_type": "code",
   "execution_count": 11,
   "id": "6a3e0622-3335-4782-87ba-b36ca4b77b65",
   "metadata": {},
   "outputs": [
    {
     "data": {
      "text/html": [
       "<div>\n",
       "<style scoped>\n",
       "    .dataframe tbody tr th:only-of-type {\n",
       "        vertical-align: middle;\n",
       "    }\n",
       "\n",
       "    .dataframe tbody tr th {\n",
       "        vertical-align: top;\n",
       "    }\n",
       "\n",
       "    .dataframe thead th {\n",
       "        text-align: right;\n",
       "    }\n",
       "</style>\n",
       "<table border=\"1\" class=\"dataframe\">\n",
       "  <thead>\n",
       "    <tr style=\"text-align: right;\">\n",
       "      <th></th>\n",
       "      <th>compound</th>\n",
       "      <th>smiles</th>\n",
       "      <th>rdkit_smiles</th>\n",
       "      <th>inchi_key</th>\n",
       "      <th>compound_id</th>\n",
       "    </tr>\n",
       "  </thead>\n",
       "  <tbody>\n",
       "    <tr>\n",
       "      <th>0</th>\n",
       "      <td>file gdb 133885</td>\n",
       "      <td>[C@]123[C@@H]4[C@H]5[C@H]([C@H]5O3)[C@H]1N4C2</td>\n",
       "      <td>C1N2[C@H]3[C@@H]4[C@@H]5O[C@]13[C@H]2[C@@H]54</td>\n",
       "      <td>AZDPPUQTZXTYOS-GWJPIIGYSA-N</td>\n",
       "      <td>AZDPPUQTZXTYOS-GWJPIIGYSA-N</td>\n",
       "    </tr>\n",
       "  </tbody>\n",
       "</table>\n",
       "</div>"
      ],
      "text/plain": [
       "          compound                                         smiles  \\\n",
       "0  file gdb 133885  [C@]123[C@@H]4[C@H]5[C@H]([C@H]5O3)[C@H]1N4C2   \n",
       "\n",
       "                                    rdkit_smiles                    inchi_key  \\\n",
       "0  C1N2[C@H]3[C@@H]4[C@@H]5O[C@]13[C@H]2[C@@H]54  AZDPPUQTZXTYOS-GWJPIIGYSA-N   \n",
       "\n",
       "                   compound_id  \n",
       "0  AZDPPUQTZXTYOS-GWJPIIGYSA-N  "
      ]
     },
     "execution_count": 11,
     "metadata": {},
     "output_type": "execute_result"
    }
   ],
   "source": [
    "test_data.head()"
   ]
  },
  {
   "cell_type": "code",
   "execution_count": 25,
   "id": "5640256c-7441-4fab-a694-3ccbcf0fb5f5",
   "metadata": {},
   "outputs": [
    {
     "name": "stdout",
     "output_type": "stream",
     "text": [
      "FMO_energy_graphconv_fingerprint_split_model_d852304e-cd01-43b1-91ca-15125b225fc6.tar.gz\n"
     ]
    }
   ],
   "source": [
    "import os\n",
    "files = os.listdir()\n",
    "for f in files: \n",
    "  if (f.endswith(\".tar.gz\")):\n",
    "    mfile = f \n",
    "\n",
    "print(mfile)"
   ]
  },
  {
   "cell_type": "code",
   "execution_count": 28,
   "id": "e87efbe9",
   "metadata": {},
   "outputs": [
    {
     "name": "stdout",
     "output_type": "stream",
     "text": [
      "Standardizing SMILES strings for 129435 compounds.\n"
     ]
    },
    {
     "name": "stderr",
     "output_type": "stream",
     "text": [
      "2023-07-06 16:05:29,068 Aborting reionization to avoid infinite loop due to it being ambiguous where to put a Hydrogen\n",
      "2023-07-06 16:05:31,630 Aborting reionization to avoid infinite loop due to it being ambiguous where to put a Hydrogen\n",
      "2023-07-06 16:05:38,104 Aborting reionization to avoid infinite loop due to it being ambiguous where to put a Hydrogen\n",
      "2023-07-06 16:05:55,514 Aborting reionization to avoid infinite loop due to it being ambiguous where to put a Hydrogen\n",
      "2023-07-06 16:06:01,553 Aborting reionization to avoid infinite loop due to it being ambiguous where to put a Hydrogen\n",
      "2023-07-06 16:06:04,351 Aborting reionization to avoid infinite loop due to it being ambiguous where to put a Hydrogen\n",
      "2023-07-06 16:06:08,260 Aborting reionization to avoid infinite loop due to it being ambiguous where to put a Hydrogen\n",
      "2023-07-06 16:06:08,313 Aborting reionization to avoid infinite loop due to it being ambiguous where to put a Hydrogen\n",
      "2023-07-06 16:06:17,389 Aborting reionization to avoid infinite loop due to it being ambiguous where to put a Hydrogen\n",
      "2023-07-06 16:06:19,685 Aborting reionization to avoid infinite loop due to it being ambiguous where to put a Hydrogen\n",
      "2023-07-06 16:06:20,428 Aborting reionization to avoid infinite loop due to it being ambiguous where to put a Hydrogen\n",
      "2023-07-06 16:06:20,694 Aborting reionization to avoid infinite loop due to it being ambiguous where to put a Hydrogen\n",
      "2023-07-06 16:06:21,389 Aborting reionization to avoid infinite loop due to it being ambiguous where to put a Hydrogen\n",
      "2023-07-06 16:06:21,458 Aborting reionization to avoid infinite loop due to it being ambiguous where to put a Hydrogen\n",
      "2023-07-06 16:06:24,188 Aborting reionization to avoid infinite loop due to it being ambiguous where to put a Hydrogen\n",
      "2023-07-06 16:06:25,054 Aborting reionization to avoid infinite loop due to it being ambiguous where to put a Hydrogen\n",
      "2023-07-06 16:06:28,708 Aborting reionization to avoid infinite loop due to it being ambiguous where to put a Hydrogen\n",
      "2023-07-06 16:06:32,999 Aborting reionization to avoid infinite loop due to it being ambiguous where to put a Hydrogen\n",
      "2023-07-06 16:06:36,537 Aborting reionization to avoid infinite loop due to it being ambiguous where to put a Hydrogen\n",
      "2023-07-06 16:06:37,105 Aborting reionization to avoid infinite loop due to it being ambiguous where to put a Hydrogen\n",
      "2023-07-06 16:06:39,116 Aborting reionization to avoid infinite loop due to it being ambiguous where to put a Hydrogen\n",
      "2023-07-06 16:06:40,935 Aborting reionization to avoid infinite loop due to it being ambiguous where to put a Hydrogen\n",
      "2023-07-06 16:06:42,409 Aborting reionization to avoid infinite loop due to it being ambiguous where to put a Hydrogen\n",
      "2023-07-06 16:06:50,790 Aborting reionization to avoid infinite loop due to it being ambiguous where to put a Hydrogen\n",
      "2023-07-06 16:06:50,821 Aborting reionization to avoid infinite loop due to it being ambiguous where to put a Hydrogen\n",
      "2023-07-06 16:06:53,060 Aborting reionization to avoid infinite loop due to it being ambiguous where to put a Hydrogen\n",
      "2023-07-06 16:07:07,272 Aborting reionization to avoid infinite loop due to it being ambiguous where to put a Hydrogen\n",
      "2023-07-06 16:07:07,437 Aborting reionization to avoid infinite loop due to it being ambiguous where to put a Hydrogen\n",
      "2023-07-06 16:07:23,418 Aborting reionization to avoid infinite loop due to it being ambiguous where to put a Hydrogen\n",
      "2023-07-06 16:07:25,645 FMO_energy_graphconv_fingerprint_split_model_d852304e-cd01-43b1-91ca-15125b225fc6.tar.gz, 1.5.0\n",
      "2023-07-06 16:07:25,649 Version compatible check: FMO_energy_graphconv_fingerprint_split_model_d852304e-cd01-43b1-91ca-15125b225fc6.tar.gz version = \"1.5\", AMPL version = \"1.5\"\n"
     ]
    },
    {
     "name": "stdout",
     "output_type": "stream",
     "text": [
      "num_model_tasks is deprecated and its value is ignored.\n"
     ]
    },
    {
     "ename": "ValueError",
     "evalue": "in user code:\n\n    File \"/home/jupyter/atomsci/lib/python3.8/site-packages/deepchem/models/keras_model.py\", line 698, in _compute_model  *\n        return self.model(inputs, training=False)\n    File \"/home/jupyter/atomsci/lib/python3.8/site-packages/keras/utils/traceback_utils.py\", line 70, in error_handler  **\n        raise e.with_traceback(filtered_tb) from None\n    File \"/var/tmp/__autograph_generated_filegp3xpraw.py\", line 67, in tf__call\n        ag__.for_stmt(ag__.converted_call(ag__.ld(range), (ag__.converted_call(ag__.ld(len), (ag__.ld(self).graph_convs,), None, fscope),), None, fscope), None, loop_body, get_state_2, set_state_2, ('in_layer',), {'iterate_names': 'i'})\n    File \"/var/tmp/__autograph_generated_filegp3xpraw.py\", line 28, in loop_body\n        gc1 = ag__.converted_call(ag__.ld(self).graph_convs[ag__.ld(i)], (ag__.ld(gc_in),), None, fscope)\n    File \"/home/jupyter/atomsci/lib/python3.8/site-packages/deepchem/models/layers.py\", line 129, in build\n        self.W_list = [\n    File \"/home/jupyter/atomsci/lib/python3.8/site-packages/deepchem/models/layers.py\", line 130, in <listcomp>\n        self.add_weight(name='kernel' + str(k),\n\n    ValueError: Exception encountered when calling layer 'private__graph_conv_keras_model_5' (type _GraphConvKerasModel).\n    \n    in user code:\n    \n        File \"/home/jupyter/atomsci/lib/python3.8/site-packages/deepchem/models/graph_models.py\", line 858, in call  *\n            gc1 = self.graph_convs[i](gc_in)\n        File \"/home/jupyter/atomsci/lib/python3.8/site-packages/keras/utils/traceback_utils.py\", line 70, in error_handler  **\n            raise e.with_traceback(filtered_tb) from None\n        File \"/home/jupyter/atomsci/lib/python3.8/site-packages/deepchem/models/layers.py\", line 129, in build\n            self.W_list = [\n        File \"/home/jupyter/atomsci/lib/python3.8/site-packages/deepchem/models/layers.py\", line 130, in <listcomp>\n            self.add_weight(name='kernel' + str(k),\n    \n        ValueError: You are trying to restore a checkpoint from a legacy Keras optimizer into a v2.11+ Optimizer, which can cause errors. Please update the optimizer referenced in your code to be an instance of `tf.keras.optimizers.legacy.Optimizer`, e.g.: `tf.keras.optimizers.legacy.Adam`.\n    \n    \n    Call arguments received by layer 'private__graph_conv_keras_model_5' (type _GraphConvKerasModel):\n      • inputs=['tf.Tensor(shape=(174, 75), dtype=float32)', 'tf.Tensor(shape=(11, 2), dtype=int64)', 'tf.Tensor(shape=(174,), dtype=int32)', 'tf.Tensor(shape=(1,), dtype=int64)', 'tf.Tensor(shape=(86, 1), dtype=int32)', 'tf.Tensor(shape=(75, 2), dtype=int32)', 'tf.Tensor(shape=(10, 3), dtype=int32)', 'tf.Tensor(shape=(0, 4), dtype=int32)', 'tf.Tensor(shape=(0, 5), dtype=int32)', 'tf.Tensor(shape=(0, 6), dtype=int32)', 'tf.Tensor(shape=(0, 7), dtype=int32)', 'tf.Tensor(shape=(0, 8), dtype=int32)', 'tf.Tensor(shape=(0, 9), dtype=int32)', 'tf.Tensor(shape=(0, 10), dtype=int32)']\n      • training=False\n",
     "output_type": "error",
     "traceback": [
      "\u001b[0;31m---------------------------------------------------------------------------\u001b[0m",
      "\u001b[0;31mValueError\u001b[0m                                Traceback (most recent call last)",
      "\u001b[0;32m<ipython-input-28-84b4ef07e62f>\u001b[0m in \u001b[0;36m<module>\u001b[0;34m\u001b[0m\n\u001b[1;32m      6\u001b[0m \u001b[0mcompound_id\u001b[0m \u001b[0;34m=\u001b[0m \u001b[0;34m'compound_id'\u001b[0m\u001b[0;34m\u001b[0m\u001b[0;34m\u001b[0m\u001b[0m\n\u001b[1;32m      7\u001b[0m \u001b[0msmiles_col\u001b[0m \u001b[0;34m=\u001b[0m \u001b[0;34m\"rdkit_smiles\"\u001b[0m\u001b[0;34m\u001b[0m\u001b[0;34m\u001b[0m\u001b[0m\n\u001b[0;32m----> 8\u001b[0;31m results_df = pfm.predict_from_model_file(model_path = mfile, \n\u001b[0m\u001b[1;32m      9\u001b[0m                             \u001b[0minput_df\u001b[0m \u001b[0;34m=\u001b[0m \u001b[0minput_df\u001b[0m\u001b[0;34m,\u001b[0m\u001b[0;34m\u001b[0m\u001b[0;34m\u001b[0m\u001b[0m\n\u001b[1;32m     10\u001b[0m                             \u001b[0msmiles_col\u001b[0m \u001b[0;34m=\u001b[0m \u001b[0msmiles_col\u001b[0m\u001b[0;34m,\u001b[0m\u001b[0;34m\u001b[0m\u001b[0;34m\u001b[0m\u001b[0m\n",
      "\u001b[0;32m~/Summer_AMPL/AMPL/atomsci/ddm/pipeline/predict_from_model.py\u001b[0m in \u001b[0;36mpredict_from_model_file\u001b[0;34m(model_path, input_df, id_col, smiles_col, response_col, conc_col, is_featurized, dont_standardize, AD_method, k, dist_metric, external_training_data, max_train_records_for_AD)\u001b[0m\n\u001b[1;32m    152\u001b[0m     \u001b[0;32mif\u001b[0m \u001b[0mexternal_training_data\u001b[0m \u001b[0;32mis\u001b[0m \u001b[0;32mnot\u001b[0m \u001b[0;32mNone\u001b[0m\u001b[0;34m:\u001b[0m\u001b[0;34m\u001b[0m\u001b[0;34m\u001b[0m\u001b[0m\n\u001b[1;32m    153\u001b[0m         \u001b[0mpipe\u001b[0m\u001b[0;34m.\u001b[0m\u001b[0mparams\u001b[0m\u001b[0;34m.\u001b[0m\u001b[0mdataset_key\u001b[0m\u001b[0;34m=\u001b[0m\u001b[0mexternal_training_data\u001b[0m\u001b[0;34m\u001b[0m\u001b[0;34m\u001b[0m\u001b[0m\n\u001b[0;32m--> 154\u001b[0;31m     pred_df = pipe.predict_full_dataset(input_df, contains_responses=has_responses, is_featurized=is_featurized,\n\u001b[0m\u001b[1;32m    155\u001b[0m                                         \u001b[0mdset_params\u001b[0m\u001b[0;34m=\u001b[0m\u001b[0mpred_params\u001b[0m\u001b[0;34m,\u001b[0m \u001b[0mAD_method\u001b[0m\u001b[0;34m=\u001b[0m\u001b[0mAD_method\u001b[0m\u001b[0;34m,\u001b[0m \u001b[0mk\u001b[0m\u001b[0;34m=\u001b[0m\u001b[0mk\u001b[0m\u001b[0;34m,\u001b[0m \u001b[0mdist_metric\u001b[0m\u001b[0;34m=\u001b[0m\u001b[0mdist_metric\u001b[0m\u001b[0;34m,\u001b[0m\u001b[0;34m\u001b[0m\u001b[0;34m\u001b[0m\u001b[0m\n\u001b[1;32m    156\u001b[0m                                         max_train_records_for_AD=max_train_records_for_AD)\n",
      "\u001b[0;32m~/Summer_AMPL/AMPL/atomsci/ddm/pipeline/model_pipeline.py\u001b[0m in \u001b[0;36mpredict_full_dataset\u001b[0;34m(self, dset_df, is_featurized, contains_responses, dset_params, AD_method, k, dist_metric, max_train_records_for_AD)\u001b[0m\n\u001b[1;32m    840\u001b[0m \u001b[0;34m\u001b[0m\u001b[0m\n\u001b[1;32m    841\u001b[0m         \u001b[0;31m# Get the predictions and standard deviations, if calculated, as numpy arrays\u001b[0m\u001b[0;34m\u001b[0m\u001b[0;34m\u001b[0m\u001b[0;34m\u001b[0m\u001b[0m\n\u001b[0;32m--> 842\u001b[0;31m         \u001b[0mpreds\u001b[0m\u001b[0;34m,\u001b[0m \u001b[0mstds\u001b[0m \u001b[0;34m=\u001b[0m \u001b[0mself\u001b[0m\u001b[0;34m.\u001b[0m\u001b[0mmodel_wrapper\u001b[0m\u001b[0;34m.\u001b[0m\u001b[0mgenerate_predictions\u001b[0m\u001b[0;34m(\u001b[0m\u001b[0mself\u001b[0m\u001b[0;34m.\u001b[0m\u001b[0mdata\u001b[0m\u001b[0;34m.\u001b[0m\u001b[0mdataset\u001b[0m\u001b[0;34m)\u001b[0m\u001b[0;34m\u001b[0m\u001b[0;34m\u001b[0m\u001b[0m\n\u001b[0m\u001b[1;32m    843\u001b[0m         result_df = pd.DataFrame({self.params.id_col: self.data.attr.index.values,\n\u001b[1;32m    844\u001b[0m                                   self.params.smiles_col: self.data.attr[self.params.smiles_col].values})\n",
      "\u001b[0;32m~/Summer_AMPL/AMPL/atomsci/ddm/pipeline/model_wrapper.py\u001b[0m in \u001b[0;36mgenerate_predictions\u001b[0;34m(self, dataset)\u001b[0m\n\u001b[1;32m   1113\u001b[0m         \u001b[0;32melse\u001b[0m\u001b[0;34m:\u001b[0m\u001b[0;34m\u001b[0m\u001b[0;34m\u001b[0m\u001b[0m\n\u001b[1;32m   1114\u001b[0m             \u001b[0mtxform\u001b[0m \u001b[0;34m=\u001b[0m \u001b[0;34m[\u001b[0m\u001b[0;34m]\u001b[0m \u001b[0;32mif\u001b[0m \u001b[0;34m(\u001b[0m\u001b[0;32mnot\u001b[0m \u001b[0mself\u001b[0m\u001b[0;34m.\u001b[0m\u001b[0mparams\u001b[0m\u001b[0;34m.\u001b[0m\u001b[0mtransformers\u001b[0m \u001b[0;32mor\u001b[0m \u001b[0mself\u001b[0m\u001b[0;34m.\u001b[0m\u001b[0mtransformers\u001b[0m \u001b[0;32mis\u001b[0m \u001b[0;32mNone\u001b[0m\u001b[0;34m)\u001b[0m \u001b[0;32melse\u001b[0m \u001b[0mself\u001b[0m\u001b[0;34m.\u001b[0m\u001b[0mtransformers\u001b[0m\u001b[0;34m\u001b[0m\u001b[0;34m\u001b[0m\u001b[0m\n\u001b[0;32m-> 1115\u001b[0;31m             \u001b[0mpred\u001b[0m \u001b[0;34m=\u001b[0m \u001b[0mself\u001b[0m\u001b[0;34m.\u001b[0m\u001b[0mmodel\u001b[0m\u001b[0;34m.\u001b[0m\u001b[0mpredict\u001b[0m\u001b[0;34m(\u001b[0m\u001b[0mdataset\u001b[0m\u001b[0;34m,\u001b[0m \u001b[0mtxform\u001b[0m\u001b[0;34m)\u001b[0m\u001b[0;34m\u001b[0m\u001b[0;34m\u001b[0m\u001b[0m\n\u001b[0m\u001b[1;32m   1116\u001b[0m             \u001b[0;32mif\u001b[0m \u001b[0mself\u001b[0m\u001b[0;34m.\u001b[0m\u001b[0mparams\u001b[0m\u001b[0;34m.\u001b[0m\u001b[0mprediction_type\u001b[0m \u001b[0;34m==\u001b[0m \u001b[0;34m'regression'\u001b[0m\u001b[0;34m:\u001b[0m\u001b[0;34m\u001b[0m\u001b[0;34m\u001b[0m\u001b[0m\n\u001b[1;32m   1117\u001b[0m                 \u001b[0;32mif\u001b[0m \u001b[0mtype\u001b[0m\u001b[0;34m(\u001b[0m\u001b[0mpred\u001b[0m\u001b[0;34m)\u001b[0m \u001b[0;34m==\u001b[0m \u001b[0mlist\u001b[0m \u001b[0;32mand\u001b[0m \u001b[0mlen\u001b[0m\u001b[0;34m(\u001b[0m\u001b[0mpred\u001b[0m\u001b[0;34m)\u001b[0m \u001b[0;34m==\u001b[0m \u001b[0;36m0\u001b[0m\u001b[0;34m:\u001b[0m\u001b[0;34m\u001b[0m\u001b[0;34m\u001b[0m\u001b[0m\n",
      "\u001b[0;32m~/atomsci/lib/python3.8/site-packages/deepchem/models/keras_model.py\u001b[0m in \u001b[0;36mpredict\u001b[0;34m(self, dataset, transformers, outputs, output_types)\u001b[0m\n\u001b[1;32m    823\u001b[0m                                        \u001b[0mdeterministic\u001b[0m\u001b[0;34m=\u001b[0m\u001b[0;32mTrue\u001b[0m\u001b[0;34m,\u001b[0m\u001b[0;34m\u001b[0m\u001b[0;34m\u001b[0m\u001b[0m\n\u001b[1;32m    824\u001b[0m                                        pad_batches=False)\n\u001b[0;32m--> 825\u001b[0;31m     return self.predict_on_generator(generator,\n\u001b[0m\u001b[1;32m    826\u001b[0m                                      \u001b[0mtransformers\u001b[0m\u001b[0;34m=\u001b[0m\u001b[0mtransformers\u001b[0m\u001b[0;34m,\u001b[0m\u001b[0;34m\u001b[0m\u001b[0;34m\u001b[0m\u001b[0m\n\u001b[1;32m    827\u001b[0m                                      \u001b[0moutputs\u001b[0m\u001b[0;34m=\u001b[0m\u001b[0moutputs\u001b[0m\u001b[0;34m,\u001b[0m\u001b[0;34m\u001b[0m\u001b[0;34m\u001b[0m\u001b[0m\n",
      "\u001b[0;32m~/atomsci/lib/python3.8/site-packages/deepchem/models/keras_model.py\u001b[0m in \u001b[0;36mpredict_on_generator\u001b[0;34m(self, generator, transformers, outputs, output_types)\u001b[0m\n\u001b[1;32m    728\u001b[0m       \u001b[0;32mif\u001b[0m \u001b[0mit\u001b[0m \u001b[0mproduces\u001b[0m \u001b[0mmultiple\u001b[0m \u001b[0moutputs\u001b[0m\u001b[0;34m\u001b[0m\u001b[0;34m\u001b[0m\u001b[0m\n\u001b[1;32m    729\u001b[0m     \"\"\"\n\u001b[0;32m--> 730\u001b[0;31m     \u001b[0;32mreturn\u001b[0m \u001b[0mself\u001b[0m\u001b[0;34m.\u001b[0m\u001b[0m_predict\u001b[0m\u001b[0;34m(\u001b[0m\u001b[0mgenerator\u001b[0m\u001b[0;34m,\u001b[0m \u001b[0mtransformers\u001b[0m\u001b[0;34m,\u001b[0m \u001b[0moutputs\u001b[0m\u001b[0;34m,\u001b[0m \u001b[0;32mFalse\u001b[0m\u001b[0;34m,\u001b[0m \u001b[0moutput_types\u001b[0m\u001b[0;34m)\u001b[0m\u001b[0;34m\u001b[0m\u001b[0;34m\u001b[0m\u001b[0m\n\u001b[0m\u001b[1;32m    731\u001b[0m \u001b[0;34m\u001b[0m\u001b[0m\n\u001b[1;32m    732\u001b[0m   def predict_on_batch(\n",
      "\u001b[0;32m~/atomsci/lib/python3.8/site-packages/deepchem/models/keras_model.py\u001b[0m in \u001b[0;36m_predict\u001b[0;34m(self, generator, transformers, outputs, uncertainty, other_output_types)\u001b[0m\n\u001b[1;32m    644\u001b[0m         \u001b[0moutput_values\u001b[0m \u001b[0;34m=\u001b[0m \u001b[0mself\u001b[0m\u001b[0;34m.\u001b[0m\u001b[0m_output_functions\u001b[0m\u001b[0;34m[\u001b[0m\u001b[0mkey\u001b[0m\u001b[0;34m]\u001b[0m\u001b[0;34m(\u001b[0m\u001b[0minputs\u001b[0m\u001b[0;34m)\u001b[0m\u001b[0;34m\u001b[0m\u001b[0;34m\u001b[0m\u001b[0m\n\u001b[1;32m    645\u001b[0m       \u001b[0;32melse\u001b[0m\u001b[0;34m:\u001b[0m\u001b[0;34m\u001b[0m\u001b[0;34m\u001b[0m\u001b[0m\n\u001b[0;32m--> 646\u001b[0;31m         \u001b[0moutput_values\u001b[0m \u001b[0;34m=\u001b[0m \u001b[0mself\u001b[0m\u001b[0;34m.\u001b[0m\u001b[0m_compute_model\u001b[0m\u001b[0;34m(\u001b[0m\u001b[0minputs\u001b[0m\u001b[0;34m)\u001b[0m\u001b[0;34m\u001b[0m\u001b[0;34m\u001b[0m\u001b[0m\n\u001b[0m\u001b[1;32m    647\u001b[0m         \u001b[0;32mif\u001b[0m \u001b[0mtf\u001b[0m\u001b[0;34m.\u001b[0m\u001b[0mis_tensor\u001b[0m\u001b[0;34m(\u001b[0m\u001b[0moutput_values\u001b[0m\u001b[0;34m)\u001b[0m\u001b[0;34m:\u001b[0m\u001b[0;34m\u001b[0m\u001b[0;34m\u001b[0m\u001b[0m\n\u001b[1;32m    648\u001b[0m           \u001b[0moutput_values\u001b[0m \u001b[0;34m=\u001b[0m \u001b[0;34m[\u001b[0m\u001b[0moutput_values\u001b[0m\u001b[0;34m]\u001b[0m\u001b[0;34m\u001b[0m\u001b[0;34m\u001b[0m\u001b[0m\n",
      "\u001b[0;32m~/atomsci/lib/python3.8/site-packages/tensorflow/python/util/traceback_utils.py\u001b[0m in \u001b[0;36merror_handler\u001b[0;34m(*args, **kwargs)\u001b[0m\n\u001b[1;32m    151\u001b[0m     \u001b[0;32mexcept\u001b[0m \u001b[0mException\u001b[0m \u001b[0;32mas\u001b[0m \u001b[0me\u001b[0m\u001b[0;34m:\u001b[0m\u001b[0;34m\u001b[0m\u001b[0;34m\u001b[0m\u001b[0m\n\u001b[1;32m    152\u001b[0m       \u001b[0mfiltered_tb\u001b[0m \u001b[0;34m=\u001b[0m \u001b[0m_process_traceback_frames\u001b[0m\u001b[0;34m(\u001b[0m\u001b[0me\u001b[0m\u001b[0;34m.\u001b[0m\u001b[0m__traceback__\u001b[0m\u001b[0;34m)\u001b[0m\u001b[0;34m\u001b[0m\u001b[0;34m\u001b[0m\u001b[0m\n\u001b[0;32m--> 153\u001b[0;31m       \u001b[0;32mraise\u001b[0m \u001b[0me\u001b[0m\u001b[0;34m.\u001b[0m\u001b[0mwith_traceback\u001b[0m\u001b[0;34m(\u001b[0m\u001b[0mfiltered_tb\u001b[0m\u001b[0;34m)\u001b[0m \u001b[0;32mfrom\u001b[0m \u001b[0;32mNone\u001b[0m\u001b[0;34m\u001b[0m\u001b[0;34m\u001b[0m\u001b[0m\n\u001b[0m\u001b[1;32m    154\u001b[0m     \u001b[0;32mfinally\u001b[0m\u001b[0;34m:\u001b[0m\u001b[0;34m\u001b[0m\u001b[0;34m\u001b[0m\u001b[0m\n\u001b[1;32m    155\u001b[0m       \u001b[0;32mdel\u001b[0m \u001b[0mfiltered_tb\u001b[0m\u001b[0;34m\u001b[0m\u001b[0;34m\u001b[0m\u001b[0m\n",
      "\u001b[0;32m~/atomsci/lib/python3.8/site-packages/deepchem/models/keras_model.py\u001b[0m in \u001b[0;36mtf___compute_model\u001b[0;34m(self, inputs)\u001b[0m\n\u001b[1;32m     11\u001b[0m                 \u001b[0;32mtry\u001b[0m\u001b[0;34m:\u001b[0m\u001b[0;34m\u001b[0m\u001b[0;34m\u001b[0m\u001b[0m\n\u001b[1;32m     12\u001b[0m                     \u001b[0mdo_return\u001b[0m \u001b[0;34m=\u001b[0m \u001b[0;32mTrue\u001b[0m\u001b[0;34m\u001b[0m\u001b[0;34m\u001b[0m\u001b[0m\n\u001b[0;32m---> 13\u001b[0;31m                     \u001b[0mretval_\u001b[0m \u001b[0;34m=\u001b[0m \u001b[0mag__\u001b[0m\u001b[0;34m.\u001b[0m\u001b[0mconverted_call\u001b[0m\u001b[0;34m(\u001b[0m\u001b[0mag__\u001b[0m\u001b[0;34m.\u001b[0m\u001b[0mld\u001b[0m\u001b[0;34m(\u001b[0m\u001b[0mself\u001b[0m\u001b[0;34m)\u001b[0m\u001b[0;34m.\u001b[0m\u001b[0mmodel\u001b[0m\u001b[0;34m,\u001b[0m \u001b[0;34m(\u001b[0m\u001b[0mag__\u001b[0m\u001b[0;34m.\u001b[0m\u001b[0mld\u001b[0m\u001b[0;34m(\u001b[0m\u001b[0minputs\u001b[0m\u001b[0;34m)\u001b[0m\u001b[0;34m,\u001b[0m\u001b[0;34m)\u001b[0m\u001b[0;34m,\u001b[0m \u001b[0mdict\u001b[0m\u001b[0;34m(\u001b[0m\u001b[0mtraining\u001b[0m\u001b[0;34m=\u001b[0m\u001b[0;32mFalse\u001b[0m\u001b[0;34m)\u001b[0m\u001b[0;34m,\u001b[0m \u001b[0mfscope\u001b[0m\u001b[0;34m)\u001b[0m\u001b[0;34m\u001b[0m\u001b[0;34m\u001b[0m\u001b[0m\n\u001b[0m\u001b[1;32m     14\u001b[0m                 \u001b[0;32mexcept\u001b[0m\u001b[0;34m:\u001b[0m\u001b[0;34m\u001b[0m\u001b[0;34m\u001b[0m\u001b[0m\n\u001b[1;32m     15\u001b[0m                     \u001b[0mdo_return\u001b[0m \u001b[0;34m=\u001b[0m \u001b[0;32mFalse\u001b[0m\u001b[0;34m\u001b[0m\u001b[0;34m\u001b[0m\u001b[0m\n",
      "\u001b[0;32m~/atomsci/lib/python3.8/site-packages/keras/utils/traceback_utils.py\u001b[0m in \u001b[0;36merror_handler\u001b[0;34m(*args, **kwargs)\u001b[0m\n\u001b[1;32m     68\u001b[0m             \u001b[0;31m# To get the full stack trace, call:\u001b[0m\u001b[0;34m\u001b[0m\u001b[0;34m\u001b[0m\u001b[0;34m\u001b[0m\u001b[0m\n\u001b[1;32m     69\u001b[0m             \u001b[0;31m# `tf.debugging.disable_traceback_filtering()`\u001b[0m\u001b[0;34m\u001b[0m\u001b[0;34m\u001b[0m\u001b[0;34m\u001b[0m\u001b[0m\n\u001b[0;32m---> 70\u001b[0;31m             \u001b[0;32mraise\u001b[0m \u001b[0me\u001b[0m\u001b[0;34m.\u001b[0m\u001b[0mwith_traceback\u001b[0m\u001b[0;34m(\u001b[0m\u001b[0mfiltered_tb\u001b[0m\u001b[0;34m)\u001b[0m \u001b[0;32mfrom\u001b[0m \u001b[0;32mNone\u001b[0m\u001b[0;34m\u001b[0m\u001b[0;34m\u001b[0m\u001b[0m\n\u001b[0m\u001b[1;32m     71\u001b[0m         \u001b[0;32mfinally\u001b[0m\u001b[0;34m:\u001b[0m\u001b[0;34m\u001b[0m\u001b[0;34m\u001b[0m\u001b[0m\n\u001b[1;32m     72\u001b[0m             \u001b[0;32mdel\u001b[0m \u001b[0mfiltered_tb\u001b[0m\u001b[0;34m\u001b[0m\u001b[0;34m\u001b[0m\u001b[0m\n",
      "\u001b[0;32m~/atomsci/lib/python3.8/site-packages/deepchem/models/graph_models.py\u001b[0m in \u001b[0;36mtf__call\u001b[0;34m(self, inputs, training)\u001b[0m\n\u001b[1;32m     65\u001b[0m                 \u001b[0mgp_in\u001b[0m \u001b[0;34m=\u001b[0m \u001b[0mag__\u001b[0m\u001b[0;34m.\u001b[0m\u001b[0mUndefined\u001b[0m\u001b[0;34m(\u001b[0m\u001b[0;34m'gp_in'\u001b[0m\u001b[0;34m)\u001b[0m\u001b[0;34m\u001b[0m\u001b[0;34m\u001b[0m\u001b[0m\n\u001b[1;32m     66\u001b[0m                 \u001b[0mgc_in\u001b[0m \u001b[0;34m=\u001b[0m \u001b[0mag__\u001b[0m\u001b[0;34m.\u001b[0m\u001b[0mUndefined\u001b[0m\u001b[0;34m(\u001b[0m\u001b[0;34m'gc_in'\u001b[0m\u001b[0;34m)\u001b[0m\u001b[0;34m\u001b[0m\u001b[0;34m\u001b[0m\u001b[0m\n\u001b[0;32m---> 67\u001b[0;31m                 \u001b[0mag__\u001b[0m\u001b[0;34m.\u001b[0m\u001b[0mfor_stmt\u001b[0m\u001b[0;34m(\u001b[0m\u001b[0mag__\u001b[0m\u001b[0;34m.\u001b[0m\u001b[0mconverted_call\u001b[0m\u001b[0;34m(\u001b[0m\u001b[0mag__\u001b[0m\u001b[0;34m.\u001b[0m\u001b[0mld\u001b[0m\u001b[0;34m(\u001b[0m\u001b[0mrange\u001b[0m\u001b[0;34m)\u001b[0m\u001b[0;34m,\u001b[0m \u001b[0;34m(\u001b[0m\u001b[0mag__\u001b[0m\u001b[0;34m.\u001b[0m\u001b[0mconverted_call\u001b[0m\u001b[0;34m(\u001b[0m\u001b[0mag__\u001b[0m\u001b[0;34m.\u001b[0m\u001b[0mld\u001b[0m\u001b[0;34m(\u001b[0m\u001b[0mlen\u001b[0m\u001b[0;34m)\u001b[0m\u001b[0;34m,\u001b[0m \u001b[0;34m(\u001b[0m\u001b[0mag__\u001b[0m\u001b[0;34m.\u001b[0m\u001b[0mld\u001b[0m\u001b[0;34m(\u001b[0m\u001b[0mself\u001b[0m\u001b[0;34m)\u001b[0m\u001b[0;34m.\u001b[0m\u001b[0mgraph_convs\u001b[0m\u001b[0;34m,\u001b[0m\u001b[0;34m)\u001b[0m\u001b[0;34m,\u001b[0m \u001b[0;32mNone\u001b[0m\u001b[0;34m,\u001b[0m \u001b[0mfscope\u001b[0m\u001b[0;34m)\u001b[0m\u001b[0;34m,\u001b[0m\u001b[0;34m)\u001b[0m\u001b[0;34m,\u001b[0m \u001b[0;32mNone\u001b[0m\u001b[0;34m,\u001b[0m \u001b[0mfscope\u001b[0m\u001b[0;34m)\u001b[0m\u001b[0;34m,\u001b[0m \u001b[0;32mNone\u001b[0m\u001b[0;34m,\u001b[0m \u001b[0mloop_body\u001b[0m\u001b[0;34m,\u001b[0m \u001b[0mget_state_2\u001b[0m\u001b[0;34m,\u001b[0m \u001b[0mset_state_2\u001b[0m\u001b[0;34m,\u001b[0m \u001b[0;34m(\u001b[0m\u001b[0;34m'in_layer'\u001b[0m\u001b[0;34m,\u001b[0m\u001b[0;34m)\u001b[0m\u001b[0;34m,\u001b[0m \u001b[0;34m{\u001b[0m\u001b[0;34m'iterate_names'\u001b[0m\u001b[0;34m:\u001b[0m \u001b[0;34m'i'\u001b[0m\u001b[0;34m}\u001b[0m\u001b[0;34m)\u001b[0m\u001b[0;34m\u001b[0m\u001b[0;34m\u001b[0m\u001b[0m\n\u001b[0m\u001b[1;32m     68\u001b[0m                 \u001b[0mdense\u001b[0m \u001b[0;34m=\u001b[0m \u001b[0mag__\u001b[0m\u001b[0;34m.\u001b[0m\u001b[0mconverted_call\u001b[0m\u001b[0;34m(\u001b[0m\u001b[0mag__\u001b[0m\u001b[0;34m.\u001b[0m\u001b[0mld\u001b[0m\u001b[0;34m(\u001b[0m\u001b[0mself\u001b[0m\u001b[0;34m)\u001b[0m\u001b[0;34m.\u001b[0m\u001b[0mdense\u001b[0m\u001b[0;34m,\u001b[0m \u001b[0;34m(\u001b[0m\u001b[0mag__\u001b[0m\u001b[0;34m.\u001b[0m\u001b[0mld\u001b[0m\u001b[0;34m(\u001b[0m\u001b[0min_layer\u001b[0m\u001b[0;34m)\u001b[0m\u001b[0;34m,\u001b[0m\u001b[0;34m)\u001b[0m\u001b[0;34m,\u001b[0m \u001b[0;32mNone\u001b[0m\u001b[0;34m,\u001b[0m \u001b[0mfscope\u001b[0m\u001b[0;34m)\u001b[0m\u001b[0;34m\u001b[0m\u001b[0;34m\u001b[0m\u001b[0m\n\u001b[1;32m     69\u001b[0m \u001b[0;34m\u001b[0m\u001b[0m\n",
      "\u001b[0;32m~/atomsci/lib/python3.8/site-packages/deepchem/models/graph_models.py\u001b[0m in \u001b[0;36mloop_body\u001b[0;34m(itr)\u001b[0m\n\u001b[1;32m     26\u001b[0m                     \u001b[0mi\u001b[0m \u001b[0;34m=\u001b[0m \u001b[0mitr\u001b[0m\u001b[0;34m\u001b[0m\u001b[0;34m\u001b[0m\u001b[0m\n\u001b[1;32m     27\u001b[0m                     \u001b[0mgc_in\u001b[0m \u001b[0;34m=\u001b[0m \u001b[0;34m(\u001b[0m\u001b[0;34m[\u001b[0m\u001b[0mag__\u001b[0m\u001b[0;34m.\u001b[0m\u001b[0mld\u001b[0m\u001b[0;34m(\u001b[0m\u001b[0min_layer\u001b[0m\u001b[0;34m)\u001b[0m\u001b[0;34m,\u001b[0m \u001b[0mag__\u001b[0m\u001b[0;34m.\u001b[0m\u001b[0mld\u001b[0m\u001b[0;34m(\u001b[0m\u001b[0mdegree_slice\u001b[0m\u001b[0;34m)\u001b[0m\u001b[0;34m,\u001b[0m \u001b[0mag__\u001b[0m\u001b[0;34m.\u001b[0m\u001b[0mld\u001b[0m\u001b[0;34m(\u001b[0m\u001b[0mmembership\u001b[0m\u001b[0;34m)\u001b[0m\u001b[0;34m]\u001b[0m \u001b[0;34m+\u001b[0m \u001b[0mag__\u001b[0m\u001b[0;34m.\u001b[0m\u001b[0mld\u001b[0m\u001b[0;34m(\u001b[0m\u001b[0mdeg_adjs\u001b[0m\u001b[0;34m)\u001b[0m\u001b[0;34m)\u001b[0m\u001b[0;34m\u001b[0m\u001b[0;34m\u001b[0m\u001b[0m\n\u001b[0;32m---> 28\u001b[0;31m                     \u001b[0mgc1\u001b[0m \u001b[0;34m=\u001b[0m \u001b[0mag__\u001b[0m\u001b[0;34m.\u001b[0m\u001b[0mconverted_call\u001b[0m\u001b[0;34m(\u001b[0m\u001b[0mag__\u001b[0m\u001b[0;34m.\u001b[0m\u001b[0mld\u001b[0m\u001b[0;34m(\u001b[0m\u001b[0mself\u001b[0m\u001b[0;34m)\u001b[0m\u001b[0;34m.\u001b[0m\u001b[0mgraph_convs\u001b[0m\u001b[0;34m[\u001b[0m\u001b[0mag__\u001b[0m\u001b[0;34m.\u001b[0m\u001b[0mld\u001b[0m\u001b[0;34m(\u001b[0m\u001b[0mi\u001b[0m\u001b[0;34m)\u001b[0m\u001b[0;34m]\u001b[0m\u001b[0;34m,\u001b[0m \u001b[0;34m(\u001b[0m\u001b[0mag__\u001b[0m\u001b[0;34m.\u001b[0m\u001b[0mld\u001b[0m\u001b[0;34m(\u001b[0m\u001b[0mgc_in\u001b[0m\u001b[0;34m)\u001b[0m\u001b[0;34m,\u001b[0m\u001b[0;34m)\u001b[0m\u001b[0;34m,\u001b[0m \u001b[0;32mNone\u001b[0m\u001b[0;34m,\u001b[0m \u001b[0mfscope\u001b[0m\u001b[0;34m)\u001b[0m\u001b[0;34m\u001b[0m\u001b[0;34m\u001b[0m\u001b[0m\n\u001b[0m\u001b[1;32m     29\u001b[0m \u001b[0;34m\u001b[0m\u001b[0m\n\u001b[1;32m     30\u001b[0m                     \u001b[0;32mdef\u001b[0m \u001b[0mget_state\u001b[0m\u001b[0;34m(\u001b[0m\u001b[0;34m)\u001b[0m\u001b[0;34m:\u001b[0m\u001b[0;34m\u001b[0m\u001b[0;34m\u001b[0m\u001b[0m\n",
      "\u001b[0;32m~/atomsci/lib/python3.8/site-packages/deepchem/models/layers.py\u001b[0m in \u001b[0;36mbuild\u001b[0;34m(self, input_shape)\u001b[0m\n\u001b[1;32m    127\u001b[0m     \u001b[0;31m# Generate the nb_affine weights and biases\u001b[0m\u001b[0;34m\u001b[0m\u001b[0;34m\u001b[0m\u001b[0;34m\u001b[0m\u001b[0m\n\u001b[1;32m    128\u001b[0m     \u001b[0mnum_deg\u001b[0m \u001b[0;34m=\u001b[0m \u001b[0;36m2\u001b[0m \u001b[0;34m*\u001b[0m \u001b[0mself\u001b[0m\u001b[0;34m.\u001b[0m\u001b[0mmax_degree\u001b[0m \u001b[0;34m+\u001b[0m \u001b[0;34m(\u001b[0m\u001b[0;36m1\u001b[0m \u001b[0;34m-\u001b[0m \u001b[0mself\u001b[0m\u001b[0;34m.\u001b[0m\u001b[0mmin_degree\u001b[0m\u001b[0;34m)\u001b[0m\u001b[0;34m\u001b[0m\u001b[0;34m\u001b[0m\u001b[0m\n\u001b[0;32m--> 129\u001b[0;31m     self.W_list = [\n\u001b[0m\u001b[1;32m    130\u001b[0m         self.add_weight(name='kernel' + str(k),\n\u001b[1;32m    131\u001b[0m                         \u001b[0mshape\u001b[0m\u001b[0;34m=\u001b[0m\u001b[0;34m(\u001b[0m\u001b[0mint\u001b[0m\u001b[0;34m(\u001b[0m\u001b[0minput_shape\u001b[0m\u001b[0;34m[\u001b[0m\u001b[0;36m0\u001b[0m\u001b[0;34m]\u001b[0m\u001b[0;34m[\u001b[0m\u001b[0;34m-\u001b[0m\u001b[0;36m1\u001b[0m\u001b[0;34m]\u001b[0m\u001b[0;34m)\u001b[0m\u001b[0;34m,\u001b[0m \u001b[0mself\u001b[0m\u001b[0;34m.\u001b[0m\u001b[0mout_channel\u001b[0m\u001b[0;34m)\u001b[0m\u001b[0;34m,\u001b[0m\u001b[0;34m\u001b[0m\u001b[0;34m\u001b[0m\u001b[0m\n",
      "\u001b[0;32m~/atomsci/lib/python3.8/site-packages/deepchem/models/layers.py\u001b[0m in \u001b[0;36m<listcomp>\u001b[0;34m(.0)\u001b[0m\n\u001b[1;32m    128\u001b[0m     \u001b[0mnum_deg\u001b[0m \u001b[0;34m=\u001b[0m \u001b[0;36m2\u001b[0m \u001b[0;34m*\u001b[0m \u001b[0mself\u001b[0m\u001b[0;34m.\u001b[0m\u001b[0mmax_degree\u001b[0m \u001b[0;34m+\u001b[0m \u001b[0;34m(\u001b[0m\u001b[0;36m1\u001b[0m \u001b[0;34m-\u001b[0m \u001b[0mself\u001b[0m\u001b[0;34m.\u001b[0m\u001b[0mmin_degree\u001b[0m\u001b[0;34m)\u001b[0m\u001b[0;34m\u001b[0m\u001b[0;34m\u001b[0m\u001b[0m\n\u001b[1;32m    129\u001b[0m     self.W_list = [\n\u001b[0;32m--> 130\u001b[0;31m         self.add_weight(name='kernel' + str(k),\n\u001b[0m\u001b[1;32m    131\u001b[0m                         \u001b[0mshape\u001b[0m\u001b[0;34m=\u001b[0m\u001b[0;34m(\u001b[0m\u001b[0mint\u001b[0m\u001b[0;34m(\u001b[0m\u001b[0minput_shape\u001b[0m\u001b[0;34m[\u001b[0m\u001b[0;36m0\u001b[0m\u001b[0;34m]\u001b[0m\u001b[0;34m[\u001b[0m\u001b[0;34m-\u001b[0m\u001b[0;36m1\u001b[0m\u001b[0;34m]\u001b[0m\u001b[0;34m)\u001b[0m\u001b[0;34m,\u001b[0m \u001b[0mself\u001b[0m\u001b[0;34m.\u001b[0m\u001b[0mout_channel\u001b[0m\u001b[0;34m)\u001b[0m\u001b[0;34m,\u001b[0m\u001b[0;34m\u001b[0m\u001b[0;34m\u001b[0m\u001b[0m\n\u001b[1;32m    132\u001b[0m                         \u001b[0minitializer\u001b[0m\u001b[0;34m=\u001b[0m\u001b[0;34m'glorot_uniform'\u001b[0m\u001b[0;34m,\u001b[0m\u001b[0;34m\u001b[0m\u001b[0;34m\u001b[0m\u001b[0m\n",
      "\u001b[0;31mValueError\u001b[0m: in user code:\n\n    File \"/home/jupyter/atomsci/lib/python3.8/site-packages/deepchem/models/keras_model.py\", line 698, in _compute_model  *\n        return self.model(inputs, training=False)\n    File \"/home/jupyter/atomsci/lib/python3.8/site-packages/keras/utils/traceback_utils.py\", line 70, in error_handler  **\n        raise e.with_traceback(filtered_tb) from None\n    File \"/var/tmp/__autograph_generated_filegp3xpraw.py\", line 67, in tf__call\n        ag__.for_stmt(ag__.converted_call(ag__.ld(range), (ag__.converted_call(ag__.ld(len), (ag__.ld(self).graph_convs,), None, fscope),), None, fscope), None, loop_body, get_state_2, set_state_2, ('in_layer',), {'iterate_names': 'i'})\n    File \"/var/tmp/__autograph_generated_filegp3xpraw.py\", line 28, in loop_body\n        gc1 = ag__.converted_call(ag__.ld(self).graph_convs[ag__.ld(i)], (ag__.ld(gc_in),), None, fscope)\n    File \"/home/jupyter/atomsci/lib/python3.8/site-packages/deepchem/models/layers.py\", line 129, in build\n        self.W_list = [\n    File \"/home/jupyter/atomsci/lib/python3.8/site-packages/deepchem/models/layers.py\", line 130, in <listcomp>\n        self.add_weight(name='kernel' + str(k),\n\n    ValueError: Exception encountered when calling layer 'private__graph_conv_keras_model_5' (type _GraphConvKerasModel).\n    \n    in user code:\n    \n        File \"/home/jupyter/atomsci/lib/python3.8/site-packages/deepchem/models/graph_models.py\", line 858, in call  *\n            gc1 = self.graph_convs[i](gc_in)\n        File \"/home/jupyter/atomsci/lib/python3.8/site-packages/keras/utils/traceback_utils.py\", line 70, in error_handler  **\n            raise e.with_traceback(filtered_tb) from None\n        File \"/home/jupyter/atomsci/lib/python3.8/site-packages/deepchem/models/layers.py\", line 129, in build\n            self.W_list = [\n        File \"/home/jupyter/atomsci/lib/python3.8/site-packages/deepchem/models/layers.py\", line 130, in <listcomp>\n            self.add_weight(name='kernel' + str(k),\n    \n        ValueError: You are trying to restore a checkpoint from a legacy Keras optimizer into a v2.11+ Optimizer, which can cause errors. Please update the optimizer referenced in your code to be an instance of `tf.keras.optimizers.legacy.Optimizer`, e.g.: `tf.keras.optimizers.legacy.Adam`.\n    \n    \n    Call arguments received by layer 'private__graph_conv_keras_model_5' (type _GraphConvKerasModel):\n      • inputs=['tf.Tensor(shape=(174, 75), dtype=float32)', 'tf.Tensor(shape=(11, 2), dtype=int64)', 'tf.Tensor(shape=(174,), dtype=int32)', 'tf.Tensor(shape=(1,), dtype=int64)', 'tf.Tensor(shape=(86, 1), dtype=int32)', 'tf.Tensor(shape=(75, 2), dtype=int32)', 'tf.Tensor(shape=(10, 3), dtype=int32)', 'tf.Tensor(shape=(0, 4), dtype=int32)', 'tf.Tensor(shape=(0, 5), dtype=int32)', 'tf.Tensor(shape=(0, 6), dtype=int32)', 'tf.Tensor(shape=(0, 7), dtype=int32)', 'tf.Tensor(shape=(0, 8), dtype=int32)', 'tf.Tensor(shape=(0, 9), dtype=int32)', 'tf.Tensor(shape=(0, 10), dtype=int32)']\n      • training=False\n"
     ]
    }
   ],
   "source": [
    "from atomsci.ddm.pipeline import predict_from_model as pfm\n",
    "mfile = \"FMO_energy_graphconv_fingerprint_split_model_d852304e-cd01-43b1-91ca-15125b225fc6.tar.gz\"\n",
    "mpath = '/content'\n",
    "input_df = test_data\n",
    "response_col = \"HOMO_energy,LUMO_energy,HOMO_LUMO_gap\"\n",
    "compound_id = 'compound_id'\n",
    "smiles_col = \"rdkit_smiles\"\n",
    "results_df = pfm.predict_from_model_file(model_path = mfile, \n",
    "                            input_df = input_df, \n",
    "                            smiles_col = smiles_col, \n",
    "                            response_col = response_col)"
   ]
  },
  {
   "cell_type": "code",
   "execution_count": 13,
   "id": "2065d0be",
   "metadata": {},
   "outputs": [
    {
     "ename": "NameError",
     "evalue": "name 'results_df' is not defined",
     "output_type": "error",
     "traceback": [
      "\u001b[0;31m---------------------------------------------------------------------------\u001b[0m",
      "\u001b[0;31mNameError\u001b[0m                                 Traceback (most recent call last)",
      "\u001b[0;32m<ipython-input-13-17bb966b436f>\u001b[0m in \u001b[0;36m<module>\u001b[0;34m\u001b[0m\n\u001b[0;32m----> 1\u001b[0;31m \u001b[0mresults_df\u001b[0m\u001b[0;34m.\u001b[0m\u001b[0mhead\u001b[0m\u001b[0;34m(\u001b[0m\u001b[0;34m)\u001b[0m\u001b[0;34m\u001b[0m\u001b[0;34m\u001b[0m\u001b[0m\n\u001b[0m",
      "\u001b[0;31mNameError\u001b[0m: name 'results_df' is not defined"
     ]
    }
   ],
   "source": [
    "results_df.head()"
   ]
  },
  {
   "cell_type": "code",
   "execution_count": 20,
   "id": "7286e1fc",
   "metadata": {},
   "outputs": [
    {
     "name": "stdout",
     "output_type": "stream",
     "text": [
      "          compound                                         smiles  \\\n",
      "0  file gdb 133885  [C@]123[C@@H]4[C@H]5[C@H]([C@H]5O3)[C@H]1N4C2   \n",
      "\n",
      "                                   rdkit_smiles                    inchi_key  \\\n",
      "0  C1N2[C@H]3[C@H]4[C@@H]5[C@H]4O[C@]13[C@@H]52  AZDPPUQTZXTYOS-GWJPIIGYSA-N   \n",
      "\n",
      "                   compound_id                                   orig_smiles  \\\n",
      "0  AZDPPUQTZXTYOS-GWJPIIGYSA-N  C1N2[C@H]3[C@H]4[C@@H]5[C@H]4O[C@]13[C@@H]52   \n",
      "\n",
      "   VALUE_NUM_mean_pred  \n",
      "0             0.416887  \n"
     ]
    }
   ],
   "source": [
    "print (results_df)"
   ]
  },
  {
   "cell_type": "code",
   "execution_count": null,
   "id": "2d20c225",
   "metadata": {},
   "outputs": [],
   "source": []
  }
 ],
 "metadata": {
  "environment": {
   "kernel": "atomsci",
   "name": "common-cpu.m108",
   "type": "gcloud",
   "uri": "gcr.io/deeplearning-platform-release/base-cpu:m108"
  },
  "kernelspec": {
   "display_name": "atomsci",
   "language": "python",
   "name": "atomsci"
  },
  "language_info": {
   "codemirror_mode": {
    "name": "ipython",
    "version": 3
   },
   "file_extension": ".py",
   "mimetype": "text/x-python",
   "name": "python",
   "nbconvert_exporter": "python",
   "pygments_lexer": "ipython3",
   "version": "3.8.2"
  }
 },
 "nbformat": 4,
 "nbformat_minor": 5
}
