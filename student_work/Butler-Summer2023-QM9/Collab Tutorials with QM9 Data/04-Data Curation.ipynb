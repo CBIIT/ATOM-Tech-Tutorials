{
 "cells": [
  {
   "cell_type": "code",
   "execution_count": 1,
   "id": "090c38df-01e6-4b9d-ba0b-c5d32503c785",
   "metadata": {},
   "outputs": [
    {
     "name": "stderr",
     "output_type": "stream",
     "text": [
      "Skipped loading modules with pytorch-geometric dependency, missing a dependency. No module named 'torch_geometric'\n",
      "Skipped loading modules with pytorch-geometric dependency, missing a dependency. cannot import name 'DMPNN' from 'deepchem.models.torch_models' (/home/jupyter/atomsci/lib/python3.8/site-packages/deepchem/models/torch_models/__init__.py)\n",
      "Skipped loading modules with pytorch-lightning dependency, missing a dependency. No module named 'pytorch_lightning'\n",
      "Skipped loading some Jax models, missing a dependency. jax requires jaxlib to be installed. See https://github.com/google/jax#installation for installation instructions.\n",
      "DEBUG:ATOM:Model tracker client not supported in your environment; will save models in filesystem only.\n"
     ]
    }
   ],
   "source": [
    "import warnings\n",
    "warnings.filterwarnings('ignore')\n",
    "\n",
    "import json\n",
    "import numpy as np\n",
    "import pandas as pd\n",
    "import os\n",
    "import requests\n",
    "import sys\n",
    "\n",
    "import atomsci.ddm.pipeline.model_pipeline as mp\n",
    "import atomsci.ddm.pipeline.parameter_parser as parse\n",
    "import atomsci.ddm.utils.curate_data as curate_data\n",
    "import atomsci.ddm.utils.struct_utils as struct_utils\n",
    "from atomsci.ddm.pipeline import perf_plots as pp\n",
    "import atomsci.ddm.utils.data_curation_functions as dcf\n",
    "import atomsci.ddm.pipeline.diversity_plots as dp\n",
    "import atomsci.ddm.pipeline.chem_diversity as cd"
   ]
  },
  {
   "cell_type": "code",
   "execution_count": 2,
   "id": "2d8ed491-dc9b-41bb-bcb8-955ea0d9f9ce",
   "metadata": {},
   "outputs": [],
   "source": [
    "import deepchem as dc"
   ]
  },
  {
   "cell_type": "code",
   "execution_count": 3,
   "id": "2575bea1-8d7e-4520-9162-e6fd8aca73d5",
   "metadata": {},
   "outputs": [],
   "source": [
    "target_name='gap'"
   ]
  },
  {
   "cell_type": "code",
   "execution_count": 5,
   "id": "1319e6d9-431b-4910-98af-80bffebae9ed",
   "metadata": {},
   "outputs": [],
   "source": [
    "ofile='gap_dtc_smiles.csv'"
   ]
  },
  {
   "cell_type": "code",
   "execution_count": 6,
   "id": "f4e8c84e-cb79-43c4-8d5e-71111b1027d2",
   "metadata": {},
   "outputs": [],
   "source": [
    "import io\n",
    "url = 'https://deepchemdata.s3-us-west-1.amazonaws.com/datasets/qm9.csv'\n",
    "download = requests.get(url).content"
   ]
  },
  {
   "cell_type": "code",
   "execution_count": 7,
   "id": "ed3dbd0a-c5d4-41ff-8aef-cdbf41d17a1f",
   "metadata": {},
   "outputs": [],
   "source": [
    "orig_df = pd.read_csv(io.StringIO(download.decode('utf-8')), sep=',', header=0 )"
   ]
  },
  {
   "cell_type": "code",
   "execution_count": 9,
   "id": "d37254d7-e7b7-4cfe-be97-f98c6cb467b2",
   "metadata": {},
   "outputs": [
    {
     "name": "stdout",
     "output_type": "stream",
     "text": [
      "Bad duplicates removed from dataset\n",
      "Dataframe size (133885, 25)\n",
      "List of 'bad' duplicates removed\n",
      "Empty DataFrame\n",
      "Columns: [mol_id, gap, VALUE_NUM_mean, Perc_Var, VALUE_NUM_std]\n",
      "Index: []\n",
      "\n",
      "Dataset de-duplicated\n",
      "Dataframe size (133802, 25)\n",
      "New column created with averaged values:  VALUE_NUM_mean\n"
     ]
    }
   ],
   "source": [
    "\n",
    "\n",
    "# From our dataframe, we are working with the PIC50 column \n",
    "data=orig_df\n",
    "\n",
    "# Here we are defining our response column, which will be PIC50\n",
    "column = 'gap'\n",
    "\n",
    "# tolerance: Percentage of individual respsonse values allowed to different from \n",
    "# the average to be included in averaging\n",
    "tolerance = 10\n",
    "\n",
    "# list_bad_duplicates: Print structures with bad duplicates\n",
    "list_bad_duplicates = 'Yes'\n",
    "\n",
    "# max_std: Maximum allowed standard deviation for computed average response value\n",
    "# NOTE: In this example, we set this value very high to disable this feature\n",
    "max_std = 1\n",
    "\n",
    "# compound_id: Compound ID column\n",
    "compound_id = 'mol_id'\n",
    "\n",
    "# smiles_col: SMILES column\n",
    "smiles_col = 'smiles'\n",
    "\n",
    "# Here we are creating a new dataframe, called check_df\n",
    "check_df = curate_data.average_and_remove_duplicates(column, tolerance, \n",
    "                                                       list_bad_duplicates, \n",
    "                                                       data, max_std, \n",
    "                                                       compound_id=compound_id, \n",
    "                                                       smiles_col=smiles_col)"
   ]
  },
  {
   "cell_type": "code",
   "execution_count": 10,
   "id": "f44fb2af-9286-4d0a-a17c-bcaf6d79cbd0",
   "metadata": {},
   "outputs": [
    {
     "name": "stderr",
     "output_type": "stream",
     "text": [
      "WARNING:molvs.charge:Aborting reionization to avoid infinite loop due to it being ambiguous where to put a Hydrogen\n",
      "WARNING:molvs.charge:Aborting reionization to avoid infinite loop due to it being ambiguous where to put a Hydrogen\n",
      "WARNING:molvs.charge:Aborting reionization to avoid infinite loop due to it being ambiguous where to put a Hydrogen\n",
      "WARNING:molvs.charge:Aborting reionization to avoid infinite loop due to it being ambiguous where to put a Hydrogen\n",
      "[21:56:06] Can't kekulize mol.  Unkekulized atoms: 2 6\n",
      "[21:56:06] Can't kekulize mol.  Unkekulized atoms: 3 5\n",
      "[21:56:07] Can't kekulize mol.  Unkekulized atoms: 3 7\n",
      "WARNING:molvs.charge:Aborting reionization to avoid infinite loop due to it being ambiguous where to put a Hydrogen\n",
      "WARNING:molvs.charge:Aborting reionization to avoid infinite loop due to it being ambiguous where to put a Hydrogen\n",
      "WARNING:molvs.charge:Aborting reionization to avoid infinite loop due to it being ambiguous where to put a Hydrogen\n",
      "WARNING:molvs.charge:Aborting reionization to avoid infinite loop due to it being ambiguous where to put a Hydrogen\n",
      "WARNING:molvs.charge:Aborting reionization to avoid infinite loop due to it being ambiguous where to put a Hydrogen\n",
      "WARNING:molvs.charge:Aborting reionization to avoid infinite loop due to it being ambiguous where to put a Hydrogen\n",
      "WARNING:molvs.charge:Aborting reionization to avoid infinite loop due to it being ambiguous where to put a Hydrogen\n",
      "WARNING:molvs.charge:Aborting reionization to avoid infinite loop due to it being ambiguous where to put a Hydrogen\n",
      "WARNING:molvs.charge:Aborting reionization to avoid infinite loop due to it being ambiguous where to put a Hydrogen\n",
      "WARNING:molvs.charge:Aborting reionization to avoid infinite loop due to it being ambiguous where to put a Hydrogen\n",
      "WARNING:molvs.charge:Aborting reionization to avoid infinite loop due to it being ambiguous where to put a Hydrogen\n",
      "WARNING:molvs.charge:Aborting reionization to avoid infinite loop due to it being ambiguous where to put a Hydrogen\n",
      "WARNING:molvs.charge:Aborting reionization to avoid infinite loop due to it being ambiguous where to put a Hydrogen\n",
      "WARNING:molvs.charge:Aborting reionization to avoid infinite loop due to it being ambiguous where to put a Hydrogen\n",
      "WARNING:molvs.charge:Aborting reionization to avoid infinite loop due to it being ambiguous where to put a Hydrogen\n",
      "WARNING:molvs.charge:Aborting reionization to avoid infinite loop due to it being ambiguous where to put a Hydrogen\n",
      "WARNING:molvs.charge:Aborting reionization to avoid infinite loop due to it being ambiguous where to put a Hydrogen\n",
      "WARNING:molvs.charge:Aborting reionization to avoid infinite loop due to it being ambiguous where to put a Hydrogen\n",
      "WARNING:molvs.charge:Aborting reionization to avoid infinite loop due to it being ambiguous where to put a Hydrogen\n",
      "WARNING:molvs.charge:Aborting reionization to avoid infinite loop due to it being ambiguous where to put a Hydrogen\n",
      "WARNING:molvs.charge:Aborting reionization to avoid infinite loop due to it being ambiguous where to put a Hydrogen\n",
      "WARNING:molvs.charge:Aborting reionization to avoid infinite loop due to it being ambiguous where to put a Hydrogen\n",
      "WARNING:molvs.charge:Aborting reionization to avoid infinite loop due to it being ambiguous where to put a Hydrogen\n",
      "WARNING:molvs.charge:Aborting reionization to avoid infinite loop due to it being ambiguous where to put a Hydrogen\n",
      "WARNING:molvs.charge:Aborting reionization to avoid infinite loop due to it being ambiguous where to put a Hydrogen\n"
     ]
    },
    {
     "ename": "TypeError",
     "evalue": "iteration over a 0-d array",
     "output_type": "error",
     "traceback": [
      "\u001b[0;31m---------------------------------------------------------------------------\u001b[0m",
      "\u001b[0;31mTypeError\u001b[0m                                 Traceback (most recent call last)",
      "\u001b[0;32m<ipython-input-10-43e5b110a176>\u001b[0m in \u001b[0;36m<module>\u001b[0;34m\u001b[0m\n\u001b[1;32m      5\u001b[0m \u001b[0;31m# Actually compiles all the data with the specifies column and tells what columns to include\u001b[0m\u001b[0;34m\u001b[0m\u001b[0;34m\u001b[0m\u001b[0;34m\u001b[0m\u001b[0m\n\u001b[1;32m      6\u001b[0m \u001b[0;31m# (inchi_key, smiles, and relation)\u001b[0m\u001b[0;34m\u001b[0m\u001b[0;34m\u001b[0m\u001b[0;34m\u001b[0m\u001b[0m\n\u001b[0;32m----> 7\u001b[0;31m temp_df=curate_data.aggregate_assay_data(data, \n\u001b[0m\u001b[1;32m      8\u001b[0m                                          \u001b[0mvalue_col\u001b[0m\u001b[0;34m=\u001b[0m\u001b[0mcolumn\u001b[0m\u001b[0;34m,\u001b[0m\u001b[0;34m\u001b[0m\u001b[0;34m\u001b[0m\u001b[0m\n\u001b[1;32m      9\u001b[0m                                          \u001b[0moutput_value_col\u001b[0m\u001b[0;34m=\u001b[0m\u001b[0;32mNone\u001b[0m\u001b[0;34m,\u001b[0m\u001b[0;34m\u001b[0m\u001b[0;34m\u001b[0m\u001b[0m\n",
      "\u001b[0;32m~/Summer_AMPL/AMPL/atomsci/ddm/utils/curate_data.py\u001b[0m in \u001b[0;36maggregate_assay_data\u001b[0;34m(assay_df, value_col, output_value_col, label_actives, active_thresh, id_col, smiles_col, relation_col, date_col, verbose)\u001b[0m\n\u001b[1;32m    257\u001b[0m         \u001b[0mcmpd_ind\u001b[0m \u001b[0;34m=\u001b[0m \u001b[0mnp\u001b[0m\u001b[0;34m.\u001b[0m\u001b[0mwhere\u001b[0m\u001b[0;34m(\u001b[0m\u001b[0msmiles_indices\u001b[0m \u001b[0;34m==\u001b[0m \u001b[0mi\u001b[0m\u001b[0;34m)\u001b[0m\u001b[0;34m[\u001b[0m\u001b[0;36m0\u001b[0m\u001b[0;34m]\u001b[0m\u001b[0;34m\u001b[0m\u001b[0;34m\u001b[0m\u001b[0m\n\u001b[1;32m    258\u001b[0m         \u001b[0mcmpd_df\u001b[0m \u001b[0;34m=\u001b[0m \u001b[0massay_df\u001b[0m\u001b[0;34m.\u001b[0m\u001b[0miloc\u001b[0m\u001b[0;34m[\u001b[0m\u001b[0mcmpd_ind\u001b[0m\u001b[0;34m]\u001b[0m\u001b[0;34m\u001b[0m\u001b[0;34m\u001b[0m\u001b[0m\n\u001b[0;32m--> 259\u001b[0;31m         reported_assay_val[i], reported_value_flags[i] = mle_censored_mean(cmpd_df, std_est, value_col=value_col,\n\u001b[0m\u001b[1;32m    260\u001b[0m                                                                            relation_col=relation_col)\n\u001b[1;32m    261\u001b[0m         \u001b[0;31m# When multiple compound IDs map to the same base SMILES string, use the lexicographically smallest one.\u001b[0m\u001b[0;34m\u001b[0m\u001b[0;34m\u001b[0m\u001b[0;34m\u001b[0m\u001b[0m\n",
      "\u001b[0;32m~/Summer_AMPL/AMPL/atomsci/ddm/utils/curate_data.py\u001b[0m in \u001b[0;36mmle_censored_mean\u001b[0;34m(cmpd_df, std_est, value_col, relation_col)\u001b[0m\n\u001b[1;32m    139\u001b[0m     \u001b[0mright_censored\u001b[0m \u001b[0;34m=\u001b[0m \u001b[0mnp\u001b[0m\u001b[0;34m.\u001b[0m\u001b[0marray\u001b[0m\u001b[0;34m(\u001b[0m\u001b[0mcmpd_df\u001b[0m\u001b[0;34m[\u001b[0m\u001b[0mrelation_col\u001b[0m\u001b[0;34m]\u001b[0m\u001b[0;34m.\u001b[0m\u001b[0mvalues\u001b[0m \u001b[0;34m==\u001b[0m \u001b[0;34m'>'\u001b[0m \u001b[0;34m,\u001b[0m \u001b[0mdtype\u001b[0m\u001b[0;34m=\u001b[0m\u001b[0mbool\u001b[0m\u001b[0;34m)\u001b[0m\u001b[0;34m\u001b[0m\u001b[0;34m\u001b[0m\u001b[0m\n\u001b[1;32m    140\u001b[0m     \u001b[0mnot_censored\u001b[0m \u001b[0;34m=\u001b[0m \u001b[0;34m~\u001b[0m\u001b[0;34m(\u001b[0m\u001b[0mleft_censored\u001b[0m \u001b[0;34m|\u001b[0m \u001b[0mright_censored\u001b[0m\u001b[0;34m)\u001b[0m\u001b[0;34m\u001b[0m\u001b[0;34m\u001b[0m\u001b[0m\n\u001b[0;32m--> 141\u001b[0;31m     \u001b[0mn_left_cens\u001b[0m \u001b[0;34m=\u001b[0m \u001b[0msum\u001b[0m\u001b[0;34m(\u001b[0m\u001b[0mleft_censored\u001b[0m\u001b[0;34m)\u001b[0m\u001b[0;34m\u001b[0m\u001b[0;34m\u001b[0m\u001b[0m\n\u001b[0m\u001b[1;32m    142\u001b[0m     \u001b[0mn_right_cens\u001b[0m \u001b[0;34m=\u001b[0m \u001b[0msum\u001b[0m\u001b[0;34m(\u001b[0m\u001b[0mright_censored\u001b[0m\u001b[0;34m)\u001b[0m\u001b[0;34m\u001b[0m\u001b[0;34m\u001b[0m\u001b[0m\n\u001b[1;32m    143\u001b[0m     \u001b[0mnreps\u001b[0m \u001b[0;34m=\u001b[0m \u001b[0mcmpd_df\u001b[0m\u001b[0;34m.\u001b[0m\u001b[0mshape\u001b[0m\u001b[0;34m[\u001b[0m\u001b[0;36m0\u001b[0m\u001b[0;34m]\u001b[0m\u001b[0;34m\u001b[0m\u001b[0;34m\u001b[0m\u001b[0m\n",
      "\u001b[0;31mTypeError\u001b[0m: iteration over a 0-d array"
     ]
    }
   ],
   "source": [
    "#specifies the column we want (response value) and also tells it to include the duplicates\n",
    "column='gap'; #'standard_value'\n",
    "list_bad_duplicates='Yes'\n",
    "\n",
    "# Actually compiles all the data with the specifies column and tells what columns to include \n",
    "# (inchi_key, smiles, and relation)\n",
    "temp_df=curate_data.aggregate_assay_data(data, \n",
    "                                         value_col=column, \n",
    "                                         output_value_col=None,\n",
    "                                         label_actives=True,\n",
    "                                         active_thresh=6,\n",
    "                                         id_col='mol_id', \n",
    "                                         smiles_col='smiles',\n",
    "                                         relation_col = 'A')\n",
    "\n",
    "#Removes all duplicates from the data frame and puts it in the final, curated dataframe\n",
    "curated_df = temp_df[~temp_df.isin([np.inf]).any(1)]"
   ]
  },
  {
   "cell_type": "code",
   "execution_count": null,
   "id": "78bb4829-2468-4412-9dc1-0bdc80cb8ce3",
   "metadata": {},
   "outputs": [],
   "source": []
  }
 ],
 "metadata": {
  "environment": {
   "kernel": "atomsci",
   "name": "common-cpu.m108",
   "type": "gcloud",
   "uri": "gcr.io/deeplearning-platform-release/base-cpu:m108"
  },
  "kernelspec": {
   "display_name": "atomsci",
   "language": "python",
   "name": "atomsci"
  },
  "language_info": {
   "codemirror_mode": {
    "name": "ipython",
    "version": 3
   },
   "file_extension": ".py",
   "mimetype": "text/x-python",
   "name": "python",
   "nbconvert_exporter": "python",
   "pygments_lexer": "ipython3",
   "version": "3.8.2"
  }
 },
 "nbformat": 4,
 "nbformat_minor": 5
}
