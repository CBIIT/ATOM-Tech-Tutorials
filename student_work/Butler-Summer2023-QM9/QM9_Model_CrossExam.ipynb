{
 "cells": [
  {
   "cell_type": "code",
   "execution_count": 24,
   "id": "ed0f6a84",
   "metadata": {},
   "outputs": [],
   "source": [
    "import atomsci\n",
    "import deepchem as dc\n",
    "import warnings\n",
    "warnings.filterwarnings('ignore')\n",
    "import json\n",
    "import numpy as np\n",
    "import pandas as pd\n",
    "import os\n",
    "import requests\n",
    "import sys\n",
    "import io"
   ]
  },
  {
   "cell_type": "code",
   "execution_count": 17,
   "id": "05dc1476",
   "metadata": {},
   "outputs": [],
   "source": [
    "from atomsci.ddm.pipeline import parameter_parser as parse\n",
    "from atomsci.ddm.pipeline import perf_data\n",
    "from atomsci.ddm.pipeline import model_pipeline as mp\n",
    "import atomsci.ddm.utils.curate_data as curate_data\n",
    "import atomsci.ddm.utils.struct_utils as struct_utils\n",
    "from atomsci.ddm.pipeline import perf_plots as pp"
   ]
  },
  {
   "cell_type": "code",
   "execution_count": 26,
   "id": "65ca7876",
   "metadata": {},
   "outputs": [
    {
     "data": {
      "text/plain": [
       "'/home/jupyter/Summer_AMPL/Renate/QMUGS/Optimal_Model'"
      ]
     },
     "execution_count": 26,
     "metadata": {},
     "output_type": "execute_result"
    }
   ],
   "source": [
    "os.getcwd()"
   ]
  },
  {
   "cell_type": "code",
   "execution_count": 28,
   "id": "5978532d",
   "metadata": {},
   "outputs": [],
   "source": [
    "working_dir = os.getcwd()"
   ]
  },
  {
   "cell_type": "code",
   "execution_count": 30,
   "id": "01313a3e",
   "metadata": {},
   "outputs": [],
   "source": [
    "raw_df = pd.read_csv('qm9__curated-Copy1.csv')"
   ]
  },
  {
   "cell_type": "code",
   "execution_count": 31,
   "id": "55f76326",
   "metadata": {},
   "outputs": [
    {
     "data": {
      "text/plain": [
       "(129435, 13)"
      ]
     },
     "execution_count": 31,
     "metadata": {},
     "output_type": "execute_result"
    }
   ],
   "source": [
    "raw_df.shape"
   ]
  },
  {
   "cell_type": "code",
   "execution_count": 32,
   "id": "1c858ac9",
   "metadata": {},
   "outputs": [
    {
     "data": {
      "text/plain": [
       "Index(['mol_id', 'smiles', 'homo', 'lumo', 'gap', 'rdkit_smiles', 'inchi_key',\n",
       "       'compound_id', 'mol_wt', 'VALUE_NUM_mean', 'VALUE_NUM_std', 'Perc_Var',\n",
       "       'Remove_BadDuplicate'],\n",
       "      dtype='object')"
      ]
     },
     "execution_count": 32,
     "metadata": {},
     "output_type": "execute_result"
    }
   ],
   "source": [
    "raw_df.columns"
   ]
  },
  {
   "cell_type": "code",
   "execution_count": 10,
   "id": "6551de68",
   "metadata": {},
   "outputs": [
    {
     "data": {
      "text/plain": [
       "(1323962, 8)"
      ]
     },
     "execution_count": 10,
     "metadata": {},
     "output_type": "execute_result"
    }
   ],
   "source": [
    "select_df = raw_df[['chembl_id','smiles','mw','GFN2_HOMO_LUMO_GAP','DFT_HOMO_LUMO_GAP', 'rdkit_smiles', 'inchi_key', 'compound_id']]\n",
    "select_df.shape"
   ]
  },
  {
   "cell_type": "code",
   "execution_count": 11,
   "id": "f7d4f210",
   "metadata": {},
   "outputs": [
    {
     "data": {
      "text/html": [
       "<div>\n",
       "<style scoped>\n",
       "    .dataframe tbody tr th:only-of-type {\n",
       "        vertical-align: middle;\n",
       "    }\n",
       "\n",
       "    .dataframe tbody tr th {\n",
       "        vertical-align: top;\n",
       "    }\n",
       "\n",
       "    .dataframe thead th {\n",
       "        text-align: right;\n",
       "    }\n",
       "</style>\n",
       "<table border=\"1\" class=\"dataframe\">\n",
       "  <thead>\n",
       "    <tr style=\"text-align: right;\">\n",
       "      <th></th>\n",
       "      <th>chembl_id</th>\n",
       "      <th>smiles</th>\n",
       "      <th>mw</th>\n",
       "      <th>GFN2_HOMO_LUMO_GAP</th>\n",
       "      <th>DFT_HOMO_LUMO_GAP</th>\n",
       "      <th>rdkit_smiles</th>\n",
       "      <th>inchi_key</th>\n",
       "      <th>compound_id</th>\n",
       "    </tr>\n",
       "  </thead>\n",
       "  <tbody>\n",
       "    <tr>\n",
       "      <th>0</th>\n",
       "      <td>CHEMBL1</td>\n",
       "      <td>[H]c1c([H])c2c(c([H])c1OC([H])([H])[H])OC([H])...</td>\n",
       "      <td>544.209718</td>\n",
       "      <td>0.044924</td>\n",
       "      <td>0.242930</td>\n",
       "      <td>COc1ccc2c(c1)OC[C@H]1[C@@H]2C2=C(OC1(C)C)C1=C(...</td>\n",
       "      <td>GHBOEFUAGSHXPO-XZOTUCIWSA-N</td>\n",
       "      <td>GHBOEFUAGSHXPO-XZOTUCIWSA-N</td>\n",
       "    </tr>\n",
       "    <tr>\n",
       "      <th>1</th>\n",
       "      <td>CHEMBL1</td>\n",
       "      <td>[H]c1c([H])c2c(c([H])c1OC([H])([H])[H])OC([H])...</td>\n",
       "      <td>544.209718</td>\n",
       "      <td>0.044332</td>\n",
       "      <td>0.242112</td>\n",
       "      <td>COc1ccc2c(c1)OC[C@H]1[C@@H]2C2=C(OC1(C)C)C1=C(...</td>\n",
       "      <td>GHBOEFUAGSHXPO-XZOTUCIWSA-N</td>\n",
       "      <td>GHBOEFUAGSHXPO-XZOTUCIWSA-N</td>\n",
       "    </tr>\n",
       "    <tr>\n",
       "      <th>2</th>\n",
       "      <td>CHEMBL1</td>\n",
       "      <td>[H]c1c([H])c2c(c([H])c1OC([H])([H])[H])OC([H])...</td>\n",
       "      <td>544.209718</td>\n",
       "      <td>0.043292</td>\n",
       "      <td>0.241264</td>\n",
       "      <td>COc1ccc2c(c1)OC[C@H]1[C@@H]2C2=C(OC1(C)C)C1=C(...</td>\n",
       "      <td>GHBOEFUAGSHXPO-XZOTUCIWSA-N</td>\n",
       "      <td>GHBOEFUAGSHXPO-XZOTUCIWSA-N</td>\n",
       "    </tr>\n",
       "    <tr>\n",
       "      <th>3</th>\n",
       "      <td>CHEMBL1000</td>\n",
       "      <td>[H]OC(=O)C([H])([H])OC([H])([H])C([H])([H])N1C...</td>\n",
       "      <td>388.155370</td>\n",
       "      <td>0.115170</td>\n",
       "      <td>0.340824</td>\n",
       "      <td>O=C(O)COCCN1CCN([C@@H](c2ccccc2)c2ccc(Cl)cc2)CC1</td>\n",
       "      <td>ZKLPARSLTMPFCP-NRFANRHFSA-N</td>\n",
       "      <td>ZKLPARSLTMPFCP-NRFANRHFSA-N</td>\n",
       "    </tr>\n",
       "    <tr>\n",
       "      <th>4</th>\n",
       "      <td>CHEMBL1000</td>\n",
       "      <td>[H]OC(=O)C([H])([H])OC([H])([H])C([H])([H])N1C...</td>\n",
       "      <td>388.155370</td>\n",
       "      <td>0.101608</td>\n",
       "      <td>0.330228</td>\n",
       "      <td>O=C(O)COCCN1CCN([C@@H](c2ccccc2)c2ccc(Cl)cc2)CC1</td>\n",
       "      <td>ZKLPARSLTMPFCP-NRFANRHFSA-N</td>\n",
       "      <td>ZKLPARSLTMPFCP-NRFANRHFSA-N</td>\n",
       "    </tr>\n",
       "  </tbody>\n",
       "</table>\n",
       "</div>"
      ],
      "text/plain": [
       "    chembl_id                                             smiles          mw  \\\n",
       "0     CHEMBL1  [H]c1c([H])c2c(c([H])c1OC([H])([H])[H])OC([H])...  544.209718   \n",
       "1     CHEMBL1  [H]c1c([H])c2c(c([H])c1OC([H])([H])[H])OC([H])...  544.209718   \n",
       "2     CHEMBL1  [H]c1c([H])c2c(c([H])c1OC([H])([H])[H])OC([H])...  544.209718   \n",
       "3  CHEMBL1000  [H]OC(=O)C([H])([H])OC([H])([H])C([H])([H])N1C...  388.155370   \n",
       "4  CHEMBL1000  [H]OC(=O)C([H])([H])OC([H])([H])C([H])([H])N1C...  388.155370   \n",
       "\n",
       "   GFN2_HOMO_LUMO_GAP  DFT_HOMO_LUMO_GAP  \\\n",
       "0            0.044924           0.242930   \n",
       "1            0.044332           0.242112   \n",
       "2            0.043292           0.241264   \n",
       "3            0.115170           0.340824   \n",
       "4            0.101608           0.330228   \n",
       "\n",
       "                                        rdkit_smiles  \\\n",
       "0  COc1ccc2c(c1)OC[C@H]1[C@@H]2C2=C(OC1(C)C)C1=C(...   \n",
       "1  COc1ccc2c(c1)OC[C@H]1[C@@H]2C2=C(OC1(C)C)C1=C(...   \n",
       "2  COc1ccc2c(c1)OC[C@H]1[C@@H]2C2=C(OC1(C)C)C1=C(...   \n",
       "3   O=C(O)COCCN1CCN([C@@H](c2ccccc2)c2ccc(Cl)cc2)CC1   \n",
       "4   O=C(O)COCCN1CCN([C@@H](c2ccccc2)c2ccc(Cl)cc2)CC1   \n",
       "\n",
       "                     inchi_key                  compound_id  \n",
       "0  GHBOEFUAGSHXPO-XZOTUCIWSA-N  GHBOEFUAGSHXPO-XZOTUCIWSA-N  \n",
       "1  GHBOEFUAGSHXPO-XZOTUCIWSA-N  GHBOEFUAGSHXPO-XZOTUCIWSA-N  \n",
       "2  GHBOEFUAGSHXPO-XZOTUCIWSA-N  GHBOEFUAGSHXPO-XZOTUCIWSA-N  \n",
       "3  ZKLPARSLTMPFCP-NRFANRHFSA-N  ZKLPARSLTMPFCP-NRFANRHFSA-N  \n",
       "4  ZKLPARSLTMPFCP-NRFANRHFSA-N  ZKLPARSLTMPFCP-NRFANRHFSA-N  "
      ]
     },
     "execution_count": 11,
     "metadata": {},
     "output_type": "execute_result"
    }
   ],
   "source": [
    "select_df.head()"
   ]
  },
  {
   "cell_type": "code",
   "execution_count": 11,
   "id": "b129ee70",
   "metadata": {},
   "outputs": [],
   "source": [
    "## Use this to save your above file as a .csv, so you can skip in future.\n",
    "select_df.to_csv('select_qmugs_data.csv')\n"
   ]
  },
  {
   "cell_type": "code",
   "execution_count": 16,
   "id": "3f85b927-5b8e-490a-9ce6-4c0b35a59cc7",
   "metadata": {},
   "outputs": [
    {
     "data": {
      "text/html": [
       "<div>\n",
       "<style scoped>\n",
       "    .dataframe tbody tr th:only-of-type {\n",
       "        vertical-align: middle;\n",
       "    }\n",
       "\n",
       "    .dataframe tbody tr th {\n",
       "        vertical-align: top;\n",
       "    }\n",
       "\n",
       "    .dataframe thead th {\n",
       "        text-align: right;\n",
       "    }\n",
       "</style>\n",
       "<table border=\"1\" class=\"dataframe\">\n",
       "  <thead>\n",
       "    <tr style=\"text-align: right;\">\n",
       "      <th></th>\n",
       "      <th>chembl_id</th>\n",
       "      <th>smiles</th>\n",
       "      <th>mw</th>\n",
       "      <th>GFN2_HOMO_LUMO_GAP</th>\n",
       "      <th>DFT_HOMO_LUMO_GAP</th>\n",
       "      <th>rdkit_smiles</th>\n",
       "      <th>inchi_key</th>\n",
       "    </tr>\n",
       "  </thead>\n",
       "  <tbody>\n",
       "    <tr>\n",
       "      <th>0</th>\n",
       "      <td>CHEMBL1</td>\n",
       "      <td>[H]c1c([H])c2c(c([H])c1OC([H])([H])[H])OC([H])...</td>\n",
       "      <td>544.209718</td>\n",
       "      <td>0.044924</td>\n",
       "      <td>0.242930</td>\n",
       "      <td>COc1ccc2c(c1)OC[C@H]1[C@@H]2C2=C(OC1(C)C)C1=C(...</td>\n",
       "      <td>GHBOEFUAGSHXPO-XZOTUCIWSA-N</td>\n",
       "    </tr>\n",
       "    <tr>\n",
       "      <th>1</th>\n",
       "      <td>CHEMBL1</td>\n",
       "      <td>[H]c1c([H])c2c(c([H])c1OC([H])([H])[H])OC([H])...</td>\n",
       "      <td>544.209718</td>\n",
       "      <td>0.044332</td>\n",
       "      <td>0.242112</td>\n",
       "      <td>COc1ccc2c(c1)OC[C@H]1[C@@H]2C2=C(OC1(C)C)C1=C(...</td>\n",
       "      <td>GHBOEFUAGSHXPO-XZOTUCIWSA-N</td>\n",
       "    </tr>\n",
       "    <tr>\n",
       "      <th>2</th>\n",
       "      <td>CHEMBL1</td>\n",
       "      <td>[H]c1c([H])c2c(c([H])c1OC([H])([H])[H])OC([H])...</td>\n",
       "      <td>544.209718</td>\n",
       "      <td>0.043292</td>\n",
       "      <td>0.241264</td>\n",
       "      <td>COc1ccc2c(c1)OC[C@H]1[C@@H]2C2=C(OC1(C)C)C1=C(...</td>\n",
       "      <td>GHBOEFUAGSHXPO-XZOTUCIWSA-N</td>\n",
       "    </tr>\n",
       "    <tr>\n",
       "      <th>3</th>\n",
       "      <td>CHEMBL1000</td>\n",
       "      <td>[H]OC(=O)C([H])([H])OC([H])([H])C([H])([H])N1C...</td>\n",
       "      <td>388.155370</td>\n",
       "      <td>0.115170</td>\n",
       "      <td>0.340824</td>\n",
       "      <td>O=C(O)COCCN1CCN([C@@H](c2ccccc2)c2ccc(Cl)cc2)CC1</td>\n",
       "      <td>ZKLPARSLTMPFCP-NRFANRHFSA-N</td>\n",
       "    </tr>\n",
       "    <tr>\n",
       "      <th>4</th>\n",
       "      <td>CHEMBL1000</td>\n",
       "      <td>[H]OC(=O)C([H])([H])OC([H])([H])C([H])([H])N1C...</td>\n",
       "      <td>388.155370</td>\n",
       "      <td>0.101608</td>\n",
       "      <td>0.330228</td>\n",
       "      <td>O=C(O)COCCN1CCN([C@@H](c2ccccc2)c2ccc(Cl)cc2)CC1</td>\n",
       "      <td>ZKLPARSLTMPFCP-NRFANRHFSA-N</td>\n",
       "    </tr>\n",
       "  </tbody>\n",
       "</table>\n",
       "</div>"
      ],
      "text/plain": [
       "    chembl_id                                             smiles          mw  \\\n",
       "0     CHEMBL1  [H]c1c([H])c2c(c([H])c1OC([H])([H])[H])OC([H])...  544.209718   \n",
       "1     CHEMBL1  [H]c1c([H])c2c(c([H])c1OC([H])([H])[H])OC([H])...  544.209718   \n",
       "2     CHEMBL1  [H]c1c([H])c2c(c([H])c1OC([H])([H])[H])OC([H])...  544.209718   \n",
       "3  CHEMBL1000  [H]OC(=O)C([H])([H])OC([H])([H])C([H])([H])N1C...  388.155370   \n",
       "4  CHEMBL1000  [H]OC(=O)C([H])([H])OC([H])([H])C([H])([H])N1C...  388.155370   \n",
       "\n",
       "   GFN2_HOMO_LUMO_GAP  DFT_HOMO_LUMO_GAP  \\\n",
       "0            0.044924           0.242930   \n",
       "1            0.044332           0.242112   \n",
       "2            0.043292           0.241264   \n",
       "3            0.115170           0.340824   \n",
       "4            0.101608           0.330228   \n",
       "\n",
       "                                        rdkit_smiles  \\\n",
       "0  COc1ccc2c(c1)OC[C@H]1[C@@H]2C2=C(OC1(C)C)C1=C(...   \n",
       "1  COc1ccc2c(c1)OC[C@H]1[C@@H]2C2=C(OC1(C)C)C1=C(...   \n",
       "2  COc1ccc2c(c1)OC[C@H]1[C@@H]2C2=C(OC1(C)C)C1=C(...   \n",
       "3   O=C(O)COCCN1CCN([C@@H](c2ccccc2)c2ccc(Cl)cc2)CC1   \n",
       "4   O=C(O)COCCN1CCN([C@@H](c2ccccc2)c2ccc(Cl)cc2)CC1   \n",
       "\n",
       "                     inchi_key  \n",
       "0  GHBOEFUAGSHXPO-XZOTUCIWSA-N  \n",
       "1  GHBOEFUAGSHXPO-XZOTUCIWSA-N  \n",
       "2  GHBOEFUAGSHXPO-XZOTUCIWSA-N  \n",
       "3  ZKLPARSLTMPFCP-NRFANRHFSA-N  \n",
       "4  ZKLPARSLTMPFCP-NRFANRHFSA-N  "
      ]
     },
     "execution_count": 16,
     "metadata": {},
     "output_type": "execute_result"
    }
   ],
   "source": [
    "select_df.head()"
   ]
  },
  {
   "cell_type": "code",
   "execution_count": 12,
   "id": "c8127b80",
   "metadata": {
    "collapsed": true,
    "jupyter": {
     "outputs_hidden": true
    },
    "tags": []
   },
   "outputs": [
    {
     "ename": "KeyboardInterrupt",
     "evalue": "",
     "output_type": "error",
     "traceback": [
      "\u001b[0;31m---------------------------------------------------------------------------\u001b[0m",
      "\u001b[0;31mKeyboardInterrupt\u001b[0m                         Traceback (most recent call last)",
      "\u001b[0;32m<ipython-input-12-587f9d21193e>\u001b[0m in \u001b[0;36m<module>\u001b[0;34m\u001b[0m\n\u001b[0;32m----> 1\u001b[0;31m \u001b[0mselect_df\u001b[0m\u001b[0;34m[\u001b[0m\u001b[0;34m'rdkit_smiles'\u001b[0m\u001b[0;34m]\u001b[0m \u001b[0;34m=\u001b[0m \u001b[0mselect_df\u001b[0m\u001b[0;34m[\u001b[0m\u001b[0;34m'smiles'\u001b[0m\u001b[0;34m]\u001b[0m\u001b[0;34m.\u001b[0m\u001b[0mapply\u001b[0m\u001b[0;34m(\u001b[0m\u001b[0mcurate_data\u001b[0m\u001b[0;34m.\u001b[0m\u001b[0mbase_smiles_from_smiles\u001b[0m\u001b[0;34m)\u001b[0m\u001b[0;34m\u001b[0m\u001b[0;34m\u001b[0m\u001b[0m\n\u001b[0m",
      "\u001b[0;32m~/atomsci/lib/python3.8/site-packages/pandas/core/series.py\u001b[0m in \u001b[0;36mapply\u001b[0;34m(self, func, convert_dtype, args, **kwargs)\u001b[0m\n\u001b[1;32m   4355\u001b[0m         \u001b[0mdtype\u001b[0m\u001b[0;34m:\u001b[0m \u001b[0mfloat64\u001b[0m\u001b[0;34m\u001b[0m\u001b[0;34m\u001b[0m\u001b[0m\n\u001b[1;32m   4356\u001b[0m         \"\"\"\n\u001b[0;32m-> 4357\u001b[0;31m         \u001b[0;32mreturn\u001b[0m \u001b[0mSeriesApply\u001b[0m\u001b[0;34m(\u001b[0m\u001b[0mself\u001b[0m\u001b[0;34m,\u001b[0m \u001b[0mfunc\u001b[0m\u001b[0;34m,\u001b[0m \u001b[0mconvert_dtype\u001b[0m\u001b[0;34m,\u001b[0m \u001b[0margs\u001b[0m\u001b[0;34m,\u001b[0m \u001b[0mkwargs\u001b[0m\u001b[0;34m)\u001b[0m\u001b[0;34m.\u001b[0m\u001b[0mapply\u001b[0m\u001b[0;34m(\u001b[0m\u001b[0;34m)\u001b[0m\u001b[0;34m\u001b[0m\u001b[0;34m\u001b[0m\u001b[0m\n\u001b[0m\u001b[1;32m   4358\u001b[0m \u001b[0;34m\u001b[0m\u001b[0m\n\u001b[1;32m   4359\u001b[0m     def _reduce(\n",
      "\u001b[0;32m~/atomsci/lib/python3.8/site-packages/pandas/core/apply.py\u001b[0m in \u001b[0;36mapply\u001b[0;34m(self)\u001b[0m\n\u001b[1;32m   1041\u001b[0m             \u001b[0;32mreturn\u001b[0m \u001b[0mself\u001b[0m\u001b[0;34m.\u001b[0m\u001b[0mapply_str\u001b[0m\u001b[0;34m(\u001b[0m\u001b[0;34m)\u001b[0m\u001b[0;34m\u001b[0m\u001b[0;34m\u001b[0m\u001b[0m\n\u001b[1;32m   1042\u001b[0m \u001b[0;34m\u001b[0m\u001b[0m\n\u001b[0;32m-> 1043\u001b[0;31m         \u001b[0;32mreturn\u001b[0m \u001b[0mself\u001b[0m\u001b[0;34m.\u001b[0m\u001b[0mapply_standard\u001b[0m\u001b[0;34m(\u001b[0m\u001b[0;34m)\u001b[0m\u001b[0;34m\u001b[0m\u001b[0;34m\u001b[0m\u001b[0m\n\u001b[0m\u001b[1;32m   1044\u001b[0m \u001b[0;34m\u001b[0m\u001b[0m\n\u001b[1;32m   1045\u001b[0m     \u001b[0;32mdef\u001b[0m \u001b[0magg\u001b[0m\u001b[0;34m(\u001b[0m\u001b[0mself\u001b[0m\u001b[0;34m)\u001b[0m\u001b[0;34m:\u001b[0m\u001b[0;34m\u001b[0m\u001b[0;34m\u001b[0m\u001b[0m\n",
      "\u001b[0;32m~/atomsci/lib/python3.8/site-packages/pandas/core/apply.py\u001b[0m in \u001b[0;36mapply_standard\u001b[0;34m(self)\u001b[0m\n\u001b[1;32m   1096\u001b[0m                 \u001b[0;31m# List[Union[Callable[..., Any], str]]]]]\"; expected\u001b[0m\u001b[0;34m\u001b[0m\u001b[0;34m\u001b[0m\u001b[0;34m\u001b[0m\u001b[0m\n\u001b[1;32m   1097\u001b[0m                 \u001b[0;31m# \"Callable[[Any], Any]\"\u001b[0m\u001b[0;34m\u001b[0m\u001b[0;34m\u001b[0m\u001b[0;34m\u001b[0m\u001b[0m\n\u001b[0;32m-> 1098\u001b[0;31m                 mapped = lib.map_infer(\n\u001b[0m\u001b[1;32m   1099\u001b[0m                     \u001b[0mvalues\u001b[0m\u001b[0;34m,\u001b[0m\u001b[0;34m\u001b[0m\u001b[0;34m\u001b[0m\u001b[0m\n\u001b[1;32m   1100\u001b[0m                     \u001b[0mf\u001b[0m\u001b[0;34m,\u001b[0m  \u001b[0;31m# type: ignore[arg-type]\u001b[0m\u001b[0;34m\u001b[0m\u001b[0;34m\u001b[0m\u001b[0m\n",
      "\u001b[0;32m~/atomsci/lib/python3.8/site-packages/pandas/_libs/lib.pyx\u001b[0m in \u001b[0;36mpandas._libs.lib.map_infer\u001b[0;34m()\u001b[0m\n",
      "\u001b[0;32m~/Summer_AMPL/AMPL/atomsci/ddm/utils/struct_utils.py\u001b[0m in \u001b[0;36mbase_smiles_from_smiles\u001b[0;34m(orig_smiles, useIsomericSmiles, removeCharges, workers)\u001b[0m\n\u001b[1;32m    146\u001b[0m     \u001b[0;32melse\u001b[0m\u001b[0;34m:\u001b[0m\u001b[0;34m\u001b[0m\u001b[0;34m\u001b[0m\u001b[0m\n\u001b[1;32m    147\u001b[0m         \u001b[0;31m# Actual standardization code, everything above here is for multiprocessing and list parsing\u001b[0m\u001b[0;34m\u001b[0m\u001b[0;34m\u001b[0m\u001b[0;34m\u001b[0m\u001b[0m\n\u001b[0;32m--> 148\u001b[0;31m         \u001b[0mstd_mol\u001b[0m \u001b[0;34m=\u001b[0m \u001b[0mbase_mol_from_smiles\u001b[0m\u001b[0;34m(\u001b[0m\u001b[0morig_smiles\u001b[0m\u001b[0;34m,\u001b[0m \u001b[0museIsomericSmiles\u001b[0m\u001b[0;34m,\u001b[0m \u001b[0mremoveCharges\u001b[0m\u001b[0;34m)\u001b[0m\u001b[0;34m\u001b[0m\u001b[0;34m\u001b[0m\u001b[0m\n\u001b[0m\u001b[1;32m    149\u001b[0m         \u001b[0;32mif\u001b[0m \u001b[0mstd_mol\u001b[0m \u001b[0;32mis\u001b[0m \u001b[0;32mNone\u001b[0m\u001b[0;34m:\u001b[0m\u001b[0;34m\u001b[0m\u001b[0;34m\u001b[0m\u001b[0m\n\u001b[1;32m    150\u001b[0m             \u001b[0mbase_smiles\u001b[0m \u001b[0;34m=\u001b[0m \u001b[0;34m\"\"\u001b[0m\u001b[0;34m\u001b[0m\u001b[0;34m\u001b[0m\u001b[0m\n",
      "\u001b[0;31mKeyboardInterrupt\u001b[0m: "
     ]
    }
   ],
   "source": [
    "select_df['rdkit_smiles'] = select_df['smiles'].apply(curate_data.base_smiles_from_smiles)"
   ]
  },
  {
   "cell_type": "code",
   "execution_count": null,
   "id": "fc255166",
   "metadata": {},
   "outputs": [],
   "source": [
    "select_df['inchi_key'] = select_df['smiles'].apply(struct_utils.smiles_to_inchi_key)"
   ]
  },
  {
   "cell_type": "code",
   "execution_count": 17,
   "id": "61f5ce33",
   "metadata": {},
   "outputs": [],
   "source": [
    "##Same thing\n",
    "select_df.to_csv('select_qmugs_data_complete.csv ')"
   ]
  },
  {
   "cell_type": "code",
   "execution_count": null,
   "id": "e3d24144-32da-40ac-aa16-bd0f0dca1964",
   "metadata": {},
   "outputs": [],
   "source": [
    "#current start\n",
    "select_df = pd.read_csv('select_qmugs_data_complete.csv')"
   ]
  },
  {
   "cell_type": "code",
   "execution_count": 13,
   "id": "c16e378b",
   "metadata": {},
   "outputs": [],
   "source": [
    "select_df['compound_id'] = select_df['inchi_key']"
   ]
  },
  {
   "cell_type": "code",
   "execution_count": 14,
   "id": "eab3e703-f7ab-442e-bfb7-328144ea4bd8",
   "metadata": {},
   "outputs": [
    {
     "data": {
      "text/html": [
       "<div>\n",
       "<style scoped>\n",
       "    .dataframe tbody tr th:only-of-type {\n",
       "        vertical-align: middle;\n",
       "    }\n",
       "\n",
       "    .dataframe tbody tr th {\n",
       "        vertical-align: top;\n",
       "    }\n",
       "\n",
       "    .dataframe thead th {\n",
       "        text-align: right;\n",
       "    }\n",
       "</style>\n",
       "<table border=\"1\" class=\"dataframe\">\n",
       "  <thead>\n",
       "    <tr style=\"text-align: right;\">\n",
       "      <th></th>\n",
       "      <th>chembl_id</th>\n",
       "      <th>smiles</th>\n",
       "      <th>mw</th>\n",
       "      <th>GFN2_HOMO_LUMO_GAP</th>\n",
       "      <th>DFT_HOMO_LUMO_GAP</th>\n",
       "      <th>rdkit_smiles</th>\n",
       "      <th>inchi_key</th>\n",
       "      <th>compound_id</th>\n",
       "    </tr>\n",
       "  </thead>\n",
       "  <tbody>\n",
       "    <tr>\n",
       "      <th>0</th>\n",
       "      <td>CHEMBL1</td>\n",
       "      <td>[H]c1c([H])c2c(c([H])c1OC([H])([H])[H])OC([H])...</td>\n",
       "      <td>544.209718</td>\n",
       "      <td>0.044924</td>\n",
       "      <td>0.242930</td>\n",
       "      <td>COc1ccc2c(c1)OC[C@H]1[C@@H]2C2=C(OC1(C)C)C1=C(...</td>\n",
       "      <td>GHBOEFUAGSHXPO-XZOTUCIWSA-N</td>\n",
       "      <td>GHBOEFUAGSHXPO-XZOTUCIWSA-N</td>\n",
       "    </tr>\n",
       "    <tr>\n",
       "      <th>1</th>\n",
       "      <td>CHEMBL1</td>\n",
       "      <td>[H]c1c([H])c2c(c([H])c1OC([H])([H])[H])OC([H])...</td>\n",
       "      <td>544.209718</td>\n",
       "      <td>0.044332</td>\n",
       "      <td>0.242112</td>\n",
       "      <td>COc1ccc2c(c1)OC[C@H]1[C@@H]2C2=C(OC1(C)C)C1=C(...</td>\n",
       "      <td>GHBOEFUAGSHXPO-XZOTUCIWSA-N</td>\n",
       "      <td>GHBOEFUAGSHXPO-XZOTUCIWSA-N</td>\n",
       "    </tr>\n",
       "    <tr>\n",
       "      <th>2</th>\n",
       "      <td>CHEMBL1</td>\n",
       "      <td>[H]c1c([H])c2c(c([H])c1OC([H])([H])[H])OC([H])...</td>\n",
       "      <td>544.209718</td>\n",
       "      <td>0.043292</td>\n",
       "      <td>0.241264</td>\n",
       "      <td>COc1ccc2c(c1)OC[C@H]1[C@@H]2C2=C(OC1(C)C)C1=C(...</td>\n",
       "      <td>GHBOEFUAGSHXPO-XZOTUCIWSA-N</td>\n",
       "      <td>GHBOEFUAGSHXPO-XZOTUCIWSA-N</td>\n",
       "    </tr>\n",
       "    <tr>\n",
       "      <th>3</th>\n",
       "      <td>CHEMBL1000</td>\n",
       "      <td>[H]OC(=O)C([H])([H])OC([H])([H])C([H])([H])N1C...</td>\n",
       "      <td>388.155370</td>\n",
       "      <td>0.115170</td>\n",
       "      <td>0.340824</td>\n",
       "      <td>O=C(O)COCCN1CCN([C@@H](c2ccccc2)c2ccc(Cl)cc2)CC1</td>\n",
       "      <td>ZKLPARSLTMPFCP-NRFANRHFSA-N</td>\n",
       "      <td>ZKLPARSLTMPFCP-NRFANRHFSA-N</td>\n",
       "    </tr>\n",
       "    <tr>\n",
       "      <th>4</th>\n",
       "      <td>CHEMBL1000</td>\n",
       "      <td>[H]OC(=O)C([H])([H])OC([H])([H])C([H])([H])N1C...</td>\n",
       "      <td>388.155370</td>\n",
       "      <td>0.101608</td>\n",
       "      <td>0.330228</td>\n",
       "      <td>O=C(O)COCCN1CCN([C@@H](c2ccccc2)c2ccc(Cl)cc2)CC1</td>\n",
       "      <td>ZKLPARSLTMPFCP-NRFANRHFSA-N</td>\n",
       "      <td>ZKLPARSLTMPFCP-NRFANRHFSA-N</td>\n",
       "    </tr>\n",
       "  </tbody>\n",
       "</table>\n",
       "</div>"
      ],
      "text/plain": [
       "    chembl_id                                             smiles          mw  \\\n",
       "0     CHEMBL1  [H]c1c([H])c2c(c([H])c1OC([H])([H])[H])OC([H])...  544.209718   \n",
       "1     CHEMBL1  [H]c1c([H])c2c(c([H])c1OC([H])([H])[H])OC([H])...  544.209718   \n",
       "2     CHEMBL1  [H]c1c([H])c2c(c([H])c1OC([H])([H])[H])OC([H])...  544.209718   \n",
       "3  CHEMBL1000  [H]OC(=O)C([H])([H])OC([H])([H])C([H])([H])N1C...  388.155370   \n",
       "4  CHEMBL1000  [H]OC(=O)C([H])([H])OC([H])([H])C([H])([H])N1C...  388.155370   \n",
       "\n",
       "   GFN2_HOMO_LUMO_GAP  DFT_HOMO_LUMO_GAP  \\\n",
       "0            0.044924           0.242930   \n",
       "1            0.044332           0.242112   \n",
       "2            0.043292           0.241264   \n",
       "3            0.115170           0.340824   \n",
       "4            0.101608           0.330228   \n",
       "\n",
       "                                        rdkit_smiles  \\\n",
       "0  COc1ccc2c(c1)OC[C@H]1[C@@H]2C2=C(OC1(C)C)C1=C(...   \n",
       "1  COc1ccc2c(c1)OC[C@H]1[C@@H]2C2=C(OC1(C)C)C1=C(...   \n",
       "2  COc1ccc2c(c1)OC[C@H]1[C@@H]2C2=C(OC1(C)C)C1=C(...   \n",
       "3   O=C(O)COCCN1CCN([C@@H](c2ccccc2)c2ccc(Cl)cc2)CC1   \n",
       "4   O=C(O)COCCN1CCN([C@@H](c2ccccc2)c2ccc(Cl)cc2)CC1   \n",
       "\n",
       "                     inchi_key                  compound_id  \n",
       "0  GHBOEFUAGSHXPO-XZOTUCIWSA-N  GHBOEFUAGSHXPO-XZOTUCIWSA-N  \n",
       "1  GHBOEFUAGSHXPO-XZOTUCIWSA-N  GHBOEFUAGSHXPO-XZOTUCIWSA-N  \n",
       "2  GHBOEFUAGSHXPO-XZOTUCIWSA-N  GHBOEFUAGSHXPO-XZOTUCIWSA-N  \n",
       "3  ZKLPARSLTMPFCP-NRFANRHFSA-N  ZKLPARSLTMPFCP-NRFANRHFSA-N  \n",
       "4  ZKLPARSLTMPFCP-NRFANRHFSA-N  ZKLPARSLTMPFCP-NRFANRHFSA-N  "
      ]
     },
     "execution_count": 14,
     "metadata": {},
     "output_type": "execute_result"
    }
   ],
   "source": [
    "select_df.head()"
   ]
  },
  {
   "cell_type": "code",
   "execution_count": 15,
   "id": "2885e900",
   "metadata": {},
   "outputs": [
    {
     "name": "stdout",
     "output_type": "stream",
     "text": [
      "NA SMILES: 0\n"
     ]
    }
   ],
   "source": [
    "print(\"NA SMILES:\", (select_df.smiles=='').sum()+select_df.smiles.isna().sum())\n",
    "select_df.drop(select_df[select_df.smiles == \"\"].index, inplace=True)\n",
    "select_df.drop(select_df[select_df.smiles.isna()].index, inplace=True)"
   ]
  },
  {
   "cell_type": "code",
   "execution_count": 16,
   "id": "eb57a3ab",
   "metadata": {},
   "outputs": [
    {
     "name": "stdout",
     "output_type": "stream",
     "text": [
      "NA GAP: 0\n"
     ]
    }
   ],
   "source": [
    "print(\"NA GAP:\", (select_df.GFN2_HOMO_LUMO_GAP=='').sum()+select_df.GFN2_HOMO_LUMO_GAP.isna().sum())\n",
    "select_df.drop(select_df[select_df.GFN2_HOMO_LUMO_GAP == \"\"].index, inplace=True)\n",
    "select_df.drop(select_df[select_df.GFN2_HOMO_LUMO_GAP.isna()].index, inplace=True)"
   ]
  },
  {
   "cell_type": "code",
   "execution_count": 17,
   "id": "a5e1d466",
   "metadata": {},
   "outputs": [
    {
     "data": {
      "text/html": [
       "<div>\n",
       "<style scoped>\n",
       "    .dataframe tbody tr th:only-of-type {\n",
       "        vertical-align: middle;\n",
       "    }\n",
       "\n",
       "    .dataframe tbody tr th {\n",
       "        vertical-align: top;\n",
       "    }\n",
       "\n",
       "    .dataframe thead th {\n",
       "        text-align: right;\n",
       "    }\n",
       "</style>\n",
       "<table border=\"1\" class=\"dataframe\">\n",
       "  <thead>\n",
       "    <tr style=\"text-align: right;\">\n",
       "      <th></th>\n",
       "      <th>chembl_id</th>\n",
       "      <th>smiles</th>\n",
       "      <th>mw</th>\n",
       "      <th>GFN2_HOMO_LUMO_GAP</th>\n",
       "      <th>DFT_HOMO_LUMO_GAP</th>\n",
       "      <th>rdkit_smiles</th>\n",
       "      <th>inchi_key</th>\n",
       "      <th>compound_id</th>\n",
       "    </tr>\n",
       "  </thead>\n",
       "  <tbody>\n",
       "    <tr>\n",
       "      <th>0</th>\n",
       "      <td>CHEMBL1</td>\n",
       "      <td>[H]c1c([H])c2c(c([H])c1OC([H])([H])[H])OC([H])...</td>\n",
       "      <td>544.209718</td>\n",
       "      <td>0.044924</td>\n",
       "      <td>0.242930</td>\n",
       "      <td>COc1ccc2c(c1)OC[C@H]1[C@@H]2C2=C(OC1(C)C)C1=C(...</td>\n",
       "      <td>GHBOEFUAGSHXPO-XZOTUCIWSA-N</td>\n",
       "      <td>GHBOEFUAGSHXPO-XZOTUCIWSA-N</td>\n",
       "    </tr>\n",
       "    <tr>\n",
       "      <th>1</th>\n",
       "      <td>CHEMBL1</td>\n",
       "      <td>[H]c1c([H])c2c(c([H])c1OC([H])([H])[H])OC([H])...</td>\n",
       "      <td>544.209718</td>\n",
       "      <td>0.044332</td>\n",
       "      <td>0.242112</td>\n",
       "      <td>COc1ccc2c(c1)OC[C@H]1[C@@H]2C2=C(OC1(C)C)C1=C(...</td>\n",
       "      <td>GHBOEFUAGSHXPO-XZOTUCIWSA-N</td>\n",
       "      <td>GHBOEFUAGSHXPO-XZOTUCIWSA-N</td>\n",
       "    </tr>\n",
       "    <tr>\n",
       "      <th>2</th>\n",
       "      <td>CHEMBL1</td>\n",
       "      <td>[H]c1c([H])c2c(c([H])c1OC([H])([H])[H])OC([H])...</td>\n",
       "      <td>544.209718</td>\n",
       "      <td>0.043292</td>\n",
       "      <td>0.241264</td>\n",
       "      <td>COc1ccc2c(c1)OC[C@H]1[C@@H]2C2=C(OC1(C)C)C1=C(...</td>\n",
       "      <td>GHBOEFUAGSHXPO-XZOTUCIWSA-N</td>\n",
       "      <td>GHBOEFUAGSHXPO-XZOTUCIWSA-N</td>\n",
       "    </tr>\n",
       "    <tr>\n",
       "      <th>3</th>\n",
       "      <td>CHEMBL1000</td>\n",
       "      <td>[H]OC(=O)C([H])([H])OC([H])([H])C([H])([H])N1C...</td>\n",
       "      <td>388.155370</td>\n",
       "      <td>0.115170</td>\n",
       "      <td>0.340824</td>\n",
       "      <td>O=C(O)COCCN1CCN([C@@H](c2ccccc2)c2ccc(Cl)cc2)CC1</td>\n",
       "      <td>ZKLPARSLTMPFCP-NRFANRHFSA-N</td>\n",
       "      <td>ZKLPARSLTMPFCP-NRFANRHFSA-N</td>\n",
       "    </tr>\n",
       "    <tr>\n",
       "      <th>4</th>\n",
       "      <td>CHEMBL1000</td>\n",
       "      <td>[H]OC(=O)C([H])([H])OC([H])([H])C([H])([H])N1C...</td>\n",
       "      <td>388.155370</td>\n",
       "      <td>0.101608</td>\n",
       "      <td>0.330228</td>\n",
       "      <td>O=C(O)COCCN1CCN([C@@H](c2ccccc2)c2ccc(Cl)cc2)CC1</td>\n",
       "      <td>ZKLPARSLTMPFCP-NRFANRHFSA-N</td>\n",
       "      <td>ZKLPARSLTMPFCP-NRFANRHFSA-N</td>\n",
       "    </tr>\n",
       "  </tbody>\n",
       "</table>\n",
       "</div>"
      ],
      "text/plain": [
       "    chembl_id                                             smiles          mw  \\\n",
       "0     CHEMBL1  [H]c1c([H])c2c(c([H])c1OC([H])([H])[H])OC([H])...  544.209718   \n",
       "1     CHEMBL1  [H]c1c([H])c2c(c([H])c1OC([H])([H])[H])OC([H])...  544.209718   \n",
       "2     CHEMBL1  [H]c1c([H])c2c(c([H])c1OC([H])([H])[H])OC([H])...  544.209718   \n",
       "3  CHEMBL1000  [H]OC(=O)C([H])([H])OC([H])([H])C([H])([H])N1C...  388.155370   \n",
       "4  CHEMBL1000  [H]OC(=O)C([H])([H])OC([H])([H])C([H])([H])N1C...  388.155370   \n",
       "\n",
       "   GFN2_HOMO_LUMO_GAP  DFT_HOMO_LUMO_GAP  \\\n",
       "0            0.044924           0.242930   \n",
       "1            0.044332           0.242112   \n",
       "2            0.043292           0.241264   \n",
       "3            0.115170           0.340824   \n",
       "4            0.101608           0.330228   \n",
       "\n",
       "                                        rdkit_smiles  \\\n",
       "0  COc1ccc2c(c1)OC[C@H]1[C@@H]2C2=C(OC1(C)C)C1=C(...   \n",
       "1  COc1ccc2c(c1)OC[C@H]1[C@@H]2C2=C(OC1(C)C)C1=C(...   \n",
       "2  COc1ccc2c(c1)OC[C@H]1[C@@H]2C2=C(OC1(C)C)C1=C(...   \n",
       "3   O=C(O)COCCN1CCN([C@@H](c2ccccc2)c2ccc(Cl)cc2)CC1   \n",
       "4   O=C(O)COCCN1CCN([C@@H](c2ccccc2)c2ccc(Cl)cc2)CC1   \n",
       "\n",
       "                     inchi_key                  compound_id  \n",
       "0  GHBOEFUAGSHXPO-XZOTUCIWSA-N  GHBOEFUAGSHXPO-XZOTUCIWSA-N  \n",
       "1  GHBOEFUAGSHXPO-XZOTUCIWSA-N  GHBOEFUAGSHXPO-XZOTUCIWSA-N  \n",
       "2  GHBOEFUAGSHXPO-XZOTUCIWSA-N  GHBOEFUAGSHXPO-XZOTUCIWSA-N  \n",
       "3  ZKLPARSLTMPFCP-NRFANRHFSA-N  ZKLPARSLTMPFCP-NRFANRHFSA-N  \n",
       "4  ZKLPARSLTMPFCP-NRFANRHFSA-N  ZKLPARSLTMPFCP-NRFANRHFSA-N  "
      ]
     },
     "execution_count": 17,
     "metadata": {},
     "output_type": "execute_result"
    }
   ],
   "source": [
    "select_df.head()"
   ]
  },
  {
   "cell_type": "code",
   "execution_count": 18,
   "id": "ee0e2f96",
   "metadata": {},
   "outputs": [
    {
     "name": "stdout",
     "output_type": "stream",
     "text": [
      "Bad duplicates removed from dataset\n",
      "Dataframe size (1323344, 12)\n",
      "List of 'bad' duplicates removed\n",
      "                        compound_id  DFT_HOMO_LUMO_GAP  VALUE_NUM_mean  \\\n",
      "15777   AACWENFRCBQJKI-MRXNPFEDSA-N           0.265005        0.307545   \n",
      "446111  AAPVOSBVTLGGOU-VHUAAIQRSA-N           0.214953        0.248401   \n",
      "629553  AAYBCINOWIIZPS-ZSWXBHCYSA-N           0.269089        0.243051   \n",
      "347938  AAZRQCBNNOOVFU-OLZOCXBDSA-N           0.311953        0.267241   \n",
      "973671  ABIHLEYEGKUFDJ-UIRBXLFWSA-N           0.337873        0.300508   \n",
      "...                             ...                ...             ...   \n",
      "244152  ZWGCPICZWQOBLO-UHFFFAOYSA-N           0.317350        0.285093   \n",
      "175441  ZWIHQOQCOUAKNQ-UHFFFAOYSA-N           0.297354        0.330712   \n",
      "14397   ZWWMEDURALZMEV-NSHDSACASA-N           0.278284        0.244577   \n",
      "14396   ZWWMEDURALZMEV-NSHDSACASA-N           0.210871        0.244577   \n",
      "480793  ZZLTYWIQWSLERQ-IYNXWWQISA-N           0.295277        0.258436   \n",
      "\n",
      "         Perc_Var  VALUE_NUM_std  \n",
      "15777   13.832167       0.021082  \n",
      "446111  13.465293       0.029598  \n",
      "629553  10.713110       0.024555  \n",
      "347938  16.730941       0.038739  \n",
      "973671  12.433722       0.033625  \n",
      "...           ...            ...  \n",
      "244152  11.314423       0.028132  \n",
      "175441  10.086768       0.028897  \n",
      "14397   13.781616       0.047668  \n",
      "14396   13.781616       0.047668  \n",
      "480793  14.255706       0.031906  \n",
      "\n",
      "[618 rows x 5 columns]\n",
      "\n",
      "Dataset de-duplicated\n",
      "Dataframe size (439262, 12)\n",
      "New column created with averaged values:  VALUE_NUM_mean\n"
     ]
    }
   ],
   "source": [
    "# column: Response values column\n",
    "column = 'DFT_HOMO_LUMO_GAP'\n",
    "\n",
    "# tolerance: Percentage of individual respsonse values allowed to be different \n",
    "# from the average to be included in averaging\n",
    "tolerance = 10\n",
    "\n",
    "# list_bad_duplicates: Print structures with bad duplicates\n",
    "list_bad_duplicates = 'Yes'\n",
    "\n",
    "# max_std: Maximum allowed standard deviation for computed average response value\n",
    "# NOTE: In this example, we set this value very high to disable this feature\n",
    "max_std = 100000\n",
    "\n",
    "# compound_id: Compound ID column\n",
    "compound_id = 'compound_id'\n",
    "\n",
    "# smiles_col: SMILES column\n",
    "smiles_col = 'rdkit_smiles'\n",
    "\n",
    "# call the method `average_and_remove_duplicates` which changes the data and returns\n",
    "# the new object as curated_df, in this case\n",
    " \n",
    "\n",
    "curated_df = curate_data.average_and_remove_duplicates(column, \n",
    "                                                       tolerance, \n",
    "                                                       list_bad_duplicates, \n",
    "                                                       select_df, \n",
    "                                                       max_std, \n",
    "                                                       compound_id=compound_id, \n",
    "                                                       smiles_col=smiles_col)"
   ]
  },
  {
   "cell_type": "code",
   "execution_count": 19,
   "id": "cd282506",
   "metadata": {},
   "outputs": [
    {
     "data": {
      "text/html": [
       "<div>\n",
       "<style scoped>\n",
       "    .dataframe tbody tr th:only-of-type {\n",
       "        vertical-align: middle;\n",
       "    }\n",
       "\n",
       "    .dataframe tbody tr th {\n",
       "        vertical-align: top;\n",
       "    }\n",
       "\n",
       "    .dataframe thead th {\n",
       "        text-align: right;\n",
       "    }\n",
       "</style>\n",
       "<table border=\"1\" class=\"dataframe\">\n",
       "  <thead>\n",
       "    <tr style=\"text-align: right;\">\n",
       "      <th></th>\n",
       "      <th>inchi_key</th>\n",
       "    </tr>\n",
       "  </thead>\n",
       "  <tbody>\n",
       "    <tr>\n",
       "      <th>ZPYXFXHKINDFBM-QGZVFWFLSA-N</th>\n",
       "      <td>3</td>\n",
       "    </tr>\n",
       "    <tr>\n",
       "      <th>DUNBLEBIUURXSN-UHFFFAOYSA-N</th>\n",
       "      <td>3</td>\n",
       "    </tr>\n",
       "    <tr>\n",
       "      <th>NJRHYECBLPKFAN-CQSZACIVSA-N</th>\n",
       "      <td>3</td>\n",
       "    </tr>\n",
       "    <tr>\n",
       "      <th>WNDQUNBYWXFFGU-KOMQPUFPSA-N</th>\n",
       "      <td>3</td>\n",
       "    </tr>\n",
       "    <tr>\n",
       "      <th>ISVRFRJMIDSUOC-INIZCTEOSA-N</th>\n",
       "      <td>3</td>\n",
       "    </tr>\n",
       "    <tr>\n",
       "      <th>...</th>\n",
       "      <td>...</td>\n",
       "    </tr>\n",
       "    <tr>\n",
       "      <th>ZEGCEDPDHKICAF-GDLZYMKVSA-N</th>\n",
       "      <td>1</td>\n",
       "    </tr>\n",
       "    <tr>\n",
       "      <th>ZFEIFXVZUAQWMP-FXBOJIBUSA-N</th>\n",
       "      <td>1</td>\n",
       "    </tr>\n",
       "    <tr>\n",
       "      <th>INJXYYMXQAALDH-UHFFFAOYSA-N</th>\n",
       "      <td>1</td>\n",
       "    </tr>\n",
       "    <tr>\n",
       "      <th>WRQQBPQQSNVETI-UHFFFAOYSA-N</th>\n",
       "      <td>1</td>\n",
       "    </tr>\n",
       "    <tr>\n",
       "      <th>HRDXPLHLCJFOEY-UHFFFAOYSA-N</th>\n",
       "      <td>1</td>\n",
       "    </tr>\n",
       "  </tbody>\n",
       "</table>\n",
       "<p>438499 rows × 1 columns</p>\n",
       "</div>"
      ],
      "text/plain": [
       "                             inchi_key\n",
       "ZPYXFXHKINDFBM-QGZVFWFLSA-N          3\n",
       "DUNBLEBIUURXSN-UHFFFAOYSA-N          3\n",
       "NJRHYECBLPKFAN-CQSZACIVSA-N          3\n",
       "WNDQUNBYWXFFGU-KOMQPUFPSA-N          3\n",
       "ISVRFRJMIDSUOC-INIZCTEOSA-N          3\n",
       "...                                ...\n",
       "ZEGCEDPDHKICAF-GDLZYMKVSA-N          1\n",
       "ZFEIFXVZUAQWMP-FXBOJIBUSA-N          1\n",
       "INJXYYMXQAALDH-UHFFFAOYSA-N          1\n",
       "WRQQBPQQSNVETI-UHFFFAOYSA-N          1\n",
       "HRDXPLHLCJFOEY-UHFFFAOYSA-N          1\n",
       "\n",
       "[438499 rows x 1 columns]"
      ]
     },
     "execution_count": 19,
     "metadata": {},
     "output_type": "execute_result"
    }
   ],
   "source": [
    "pd.DataFrame(curated_df.inchi_key.value_counts())"
   ]
  },
  {
   "cell_type": "code",
   "execution_count": 20,
   "id": "a88ed92d",
   "metadata": {},
   "outputs": [],
   "source": [
    "curated_df = curated_df.drop_duplicates(subset=['inchi_key'], keep='first')"
   ]
  },
  {
   "cell_type": "code",
   "execution_count": 21,
   "id": "b13257e2",
   "metadata": {},
   "outputs": [
    {
     "data": {
      "text/html": [
       "<div>\n",
       "<style scoped>\n",
       "    .dataframe tbody tr th:only-of-type {\n",
       "        vertical-align: middle;\n",
       "    }\n",
       "\n",
       "    .dataframe tbody tr th {\n",
       "        vertical-align: top;\n",
       "    }\n",
       "\n",
       "    .dataframe thead th {\n",
       "        text-align: right;\n",
       "    }\n",
       "</style>\n",
       "<table border=\"1\" class=\"dataframe\">\n",
       "  <thead>\n",
       "    <tr style=\"text-align: right;\">\n",
       "      <th></th>\n",
       "      <th>rdkit_smiles</th>\n",
       "    </tr>\n",
       "  </thead>\n",
       "  <tbody>\n",
       "    <tr>\n",
       "      <th>COc1ccc2c(c1)OC[C@H]1[C@@H]2C2=C(OC1(C)C)C1=C(C(=O)C2=O)[C@H]2c3ccc(OC)cc3OC[C@H]2C(C)(C)O1</th>\n",
       "      <td>1</td>\n",
       "    </tr>\n",
       "    <tr>\n",
       "      <th>Cc1ccc2c(c1)oc1c(C(=O)N[C@@H]3C[C@H](C)CC[C@H]3C(C)C)nn(-c3ccc(Cl)cc3Cl)c12</th>\n",
       "      <td>1</td>\n",
       "    </tr>\n",
       "    <tr>\n",
       "      <th>Cc1ccc2c(c1)oc1c(C(=O)N[C@H]3[C@@H]4C[C@H]5C[C@@H](C4)C[C@@H]3C5)nn(-c3ccc(Cl)cc3Cl)c12</th>\n",
       "      <td>1</td>\n",
       "    </tr>\n",
       "    <tr>\n",
       "      <th>Cc1ccc2c(c1)oc1c(C(=O)NC3CCCCC3)nn(-c3ccc(Cl)cc3Cl)c12</th>\n",
       "      <td>1</td>\n",
       "    </tr>\n",
       "    <tr>\n",
       "      <th>Cc1ccc2c(c1)oc1c(C(=O)NN3CCOCC3)nn(-c3ccc(Cl)cc3Cl)c12</th>\n",
       "      <td>1</td>\n",
       "    </tr>\n",
       "    <tr>\n",
       "      <th>...</th>\n",
       "      <td>...</td>\n",
       "    </tr>\n",
       "    <tr>\n",
       "      <th>Cn1cc([C@H](CC(=O)c2ccc(C3CCCCC3)cc2)C(=O)O)c2ccccc21</th>\n",
       "      <td>1</td>\n",
       "    </tr>\n",
       "    <tr>\n",
       "      <th>N#Cc1cc(F)cc(-n2ccc(-c3ccccn3)c2)c1</th>\n",
       "      <td>1</td>\n",
       "    </tr>\n",
       "    <tr>\n",
       "      <th>Cn1cc([C@H](CN)c2cncc(/C=C\\c3ccncc3)c2)c2ccccc21</th>\n",
       "      <td>1</td>\n",
       "    </tr>\n",
       "    <tr>\n",
       "      <th>C[C@H](NC(P(=O)(O)O)P(=O)(O)O)c1cccc2ccccc12</th>\n",
       "      <td>1</td>\n",
       "    </tr>\n",
       "    <tr>\n",
       "      <th>CN(C)c1ccc(C#Cc2ncnc(N3CCOCC3)c2-c2ccc(Cl)cc2)cc1</th>\n",
       "      <td>1</td>\n",
       "    </tr>\n",
       "  </tbody>\n",
       "</table>\n",
       "<p>438499 rows × 1 columns</p>\n",
       "</div>"
      ],
      "text/plain": [
       "                                                    rdkit_smiles\n",
       "COc1ccc2c(c1)OC[C@H]1[C@@H]2C2=C(OC1(C)C)C1=C(C...             1\n",
       "Cc1ccc2c(c1)oc1c(C(=O)N[C@@H]3C[C@H](C)CC[C@H]3...             1\n",
       "Cc1ccc2c(c1)oc1c(C(=O)N[C@H]3[C@@H]4C[C@H]5C[C@...             1\n",
       "Cc1ccc2c(c1)oc1c(C(=O)NC3CCCCC3)nn(-c3ccc(Cl)cc...             1\n",
       "Cc1ccc2c(c1)oc1c(C(=O)NN3CCOCC3)nn(-c3ccc(Cl)cc...             1\n",
       "...                                                          ...\n",
       "Cn1cc([C@H](CC(=O)c2ccc(C3CCCCC3)cc2)C(=O)O)c2c...             1\n",
       "N#Cc1cc(F)cc(-n2ccc(-c3ccccn3)c2)c1                            1\n",
       "Cn1cc([C@H](CN)c2cncc(/C=C\\c3ccncc3)c2)c2ccccc21               1\n",
       "C[C@H](NC(P(=O)(O)O)P(=O)(O)O)c1cccc2ccccc12                   1\n",
       "CN(C)c1ccc(C#Cc2ncnc(N3CCOCC3)c2-c2ccc(Cl)cc2)cc1              1\n",
       "\n",
       "[438499 rows x 1 columns]"
      ]
     },
     "execution_count": 21,
     "metadata": {},
     "output_type": "execute_result"
    }
   ],
   "source": [
    "pd.DataFrame(curated_df.rdkit_smiles.value_counts())"
   ]
  },
  {
   "cell_type": "code",
   "execution_count": 22,
   "id": "49da38cf",
   "metadata": {},
   "outputs": [
    {
     "data": {
      "text/html": [
       "<div>\n",
       "<style scoped>\n",
       "    .dataframe tbody tr th:only-of-type {\n",
       "        vertical-align: middle;\n",
       "    }\n",
       "\n",
       "    .dataframe tbody tr th {\n",
       "        vertical-align: top;\n",
       "    }\n",
       "\n",
       "    .dataframe thead th {\n",
       "        text-align: right;\n",
       "    }\n",
       "</style>\n",
       "<table border=\"1\" class=\"dataframe\">\n",
       "  <thead>\n",
       "    <tr style=\"text-align: right;\">\n",
       "      <th></th>\n",
       "      <th>chembl_id</th>\n",
       "    </tr>\n",
       "  </thead>\n",
       "  <tbody>\n",
       "    <tr>\n",
       "      <th>CHEMBL210448</th>\n",
       "      <td>3</td>\n",
       "    </tr>\n",
       "    <tr>\n",
       "      <th>CHEMBL2029689</th>\n",
       "      <td>2</td>\n",
       "    </tr>\n",
       "    <tr>\n",
       "      <th>CHEMBL3195155</th>\n",
       "      <td>2</td>\n",
       "    </tr>\n",
       "    <tr>\n",
       "      <th>CHEMBL1993627</th>\n",
       "      <td>2</td>\n",
       "    </tr>\n",
       "    <tr>\n",
       "      <th>CHEMBL1866897</th>\n",
       "      <td>2</td>\n",
       "    </tr>\n",
       "    <tr>\n",
       "      <th>...</th>\n",
       "      <td>...</td>\n",
       "    </tr>\n",
       "    <tr>\n",
       "      <th>CHEMBL1980609</th>\n",
       "      <td>1</td>\n",
       "    </tr>\n",
       "    <tr>\n",
       "      <th>CHEMBL1980604</th>\n",
       "      <td>1</td>\n",
       "    </tr>\n",
       "    <tr>\n",
       "      <th>CHEMBL198060</th>\n",
       "      <td>1</td>\n",
       "    </tr>\n",
       "    <tr>\n",
       "      <th>CHEMBL19806</th>\n",
       "      <td>1</td>\n",
       "    </tr>\n",
       "    <tr>\n",
       "      <th>CHEMBL387630</th>\n",
       "      <td>1</td>\n",
       "    </tr>\n",
       "  </tbody>\n",
       "</table>\n",
       "<p>437714 rows × 1 columns</p>\n",
       "</div>"
      ],
      "text/plain": [
       "               chembl_id\n",
       "CHEMBL210448           3\n",
       "CHEMBL2029689          2\n",
       "CHEMBL3195155          2\n",
       "CHEMBL1993627          2\n",
       "CHEMBL1866897          2\n",
       "...                  ...\n",
       "CHEMBL1980609          1\n",
       "CHEMBL1980604          1\n",
       "CHEMBL198060           1\n",
       "CHEMBL19806            1\n",
       "CHEMBL387630           1\n",
       "\n",
       "[437714 rows x 1 columns]"
      ]
     },
     "execution_count": 22,
     "metadata": {},
     "output_type": "execute_result"
    }
   ],
   "source": [
    "pd.DataFrame(curated_df.chembl_id.value_counts())"
   ]
  },
  {
   "cell_type": "code",
   "execution_count": 23,
   "id": "f6ffce0d",
   "metadata": {},
   "outputs": [],
   "source": [
    "curated_df = curated_df.drop_duplicates(subset=['chembl_id'], keep='first')"
   ]
  },
  {
   "cell_type": "code",
   "execution_count": 24,
   "id": "c4a19b0e",
   "metadata": {},
   "outputs": [],
   "source": [
    "#curated dataset for qmugs\n",
    "curated_df.to_csv('final_QMUGS_curated.csv')"
   ]
  },
  {
   "cell_type": "code",
   "execution_count": 25,
   "id": "bcb4a131-6bc4-496f-8f61-ea9338e5b7db",
   "metadata": {},
   "outputs": [
    {
     "name": "stdout",
     "output_type": "stream",
     "text": [
      "/home/jupyter/Summer_AMPL/Renate/QMUGS\n"
     ]
    }
   ],
   "source": [
    "cd /home/jupyter/Summer_AMPL/Renate/QMUGS"
   ]
  },
  {
   "cell_type": "code",
   "execution_count": 36,
   "id": "47749138-dc6f-4bec-a50e-2e65034f65d0",
   "metadata": {},
   "outputs": [],
   "source": [
    "curated_df = pd.read_csv('qm9__curated-Copy1.csv')"
   ]
  },
  {
   "cell_type": "code",
   "execution_count": 37,
   "id": "91efd5dd",
   "metadata": {},
   "outputs": [],
   "source": [
    "curated_file = os.path.join('qm9__curated-Copy1.csv')\n",
    "curated_df.to_csv(curated_file, index=False)"
   ]
  },
  {
   "cell_type": "code",
   "execution_count": 28,
   "id": "f6ca003e-ee87-4ac5-a686-7b63a7d55068",
   "metadata": {},
   "outputs": [
    {
     "data": {
      "text/plain": [
       "(437714, 13)"
      ]
     },
     "execution_count": 28,
     "metadata": {},
     "output_type": "execute_result"
    }
   ],
   "source": [
    "curated_df.shape"
   ]
  },
  {
   "cell_type": "code",
   "execution_count": 29,
   "id": "101fcf51",
   "metadata": {},
   "outputs": [
    {
     "data": {
      "text/html": [
       "<div>\n",
       "<style scoped>\n",
       "    .dataframe tbody tr th:only-of-type {\n",
       "        vertical-align: middle;\n",
       "    }\n",
       "\n",
       "    .dataframe tbody tr th {\n",
       "        vertical-align: top;\n",
       "    }\n",
       "\n",
       "    .dataframe thead th {\n",
       "        text-align: right;\n",
       "    }\n",
       "</style>\n",
       "<table border=\"1\" class=\"dataframe\">\n",
       "  <thead>\n",
       "    <tr style=\"text-align: right;\">\n",
       "      <th></th>\n",
       "      <th>Unnamed: 0</th>\n",
       "      <th>chembl_id</th>\n",
       "      <th>smiles</th>\n",
       "      <th>mw</th>\n",
       "      <th>GFN2_HOMO_LUMO_GAP</th>\n",
       "      <th>DFT_HOMO_LUMO_GAP</th>\n",
       "      <th>rdkit_smiles</th>\n",
       "      <th>inchi_key</th>\n",
       "      <th>compound_id</th>\n",
       "      <th>VALUE_NUM_mean</th>\n",
       "      <th>VALUE_NUM_std</th>\n",
       "      <th>Perc_Var</th>\n",
       "      <th>Remove_BadDuplicate</th>\n",
       "    </tr>\n",
       "  </thead>\n",
       "  <tbody>\n",
       "    <tr>\n",
       "      <th>0</th>\n",
       "      <td>0</td>\n",
       "      <td>CHEMBL1</td>\n",
       "      <td>[H]c1c([H])c2c(c([H])c1OC([H])([H])[H])OC([H])...</td>\n",
       "      <td>544.209718</td>\n",
       "      <td>0.044924</td>\n",
       "      <td>0.242930</td>\n",
       "      <td>COc1ccc2c(c1)OC[C@H]1[C@@H]2C2=C(OC1(C)C)C1=C(...</td>\n",
       "      <td>GHBOEFUAGSHXPO-XZOTUCIWSA-N</td>\n",
       "      <td>GHBOEFUAGSHXPO-XZOTUCIWSA-N</td>\n",
       "      <td>0.242102</td>\n",
       "      <td>0.000833</td>\n",
       "      <td>0.341925</td>\n",
       "      <td>0</td>\n",
       "    </tr>\n",
       "    <tr>\n",
       "      <th>1</th>\n",
       "      <td>3</td>\n",
       "      <td>CHEMBL1000</td>\n",
       "      <td>[H]OC(=O)C([H])([H])OC([H])([H])C([H])([H])N1C...</td>\n",
       "      <td>388.155370</td>\n",
       "      <td>0.115170</td>\n",
       "      <td>0.340824</td>\n",
       "      <td>O=C(O)COCCN1CCN([C@@H](c2ccccc2)c2ccc(Cl)cc2)CC1</td>\n",
       "      <td>ZKLPARSLTMPFCP-NRFANRHFSA-N</td>\n",
       "      <td>ZKLPARSLTMPFCP-NRFANRHFSA-N</td>\n",
       "      <td>0.333456</td>\n",
       "      <td>0.006397</td>\n",
       "      <td>2.209649</td>\n",
       "      <td>0</td>\n",
       "    </tr>\n",
       "    <tr>\n",
       "      <th>2</th>\n",
       "      <td>6</td>\n",
       "      <td>CHEMBL10000</td>\n",
       "      <td>[H]c1c([H])c(N([H])c2nc3c([H])c([H])c([H])c([H...</td>\n",
       "      <td>363.970876</td>\n",
       "      <td>0.106596</td>\n",
       "      <td>0.293095</td>\n",
       "      <td>O=c1oc(Nc2ccc(I)cc2)nc2ccccc12</td>\n",
       "      <td>KXLZEFPIBPQEAU-UHFFFAOYSA-N</td>\n",
       "      <td>KXLZEFPIBPQEAU-UHFFFAOYSA-N</td>\n",
       "      <td>0.289124</td>\n",
       "      <td>0.003439</td>\n",
       "      <td>1.373521</td>\n",
       "      <td>0</td>\n",
       "    </tr>\n",
       "    <tr>\n",
       "      <th>3</th>\n",
       "      <td>9</td>\n",
       "      <td>CHEMBL100003</td>\n",
       "      <td>[H]O/C(OC([H])([H])[H])=C1\\C(C([H])([H])[H])=N...</td>\n",
       "      <td>281.162708</td>\n",
       "      <td>0.080096</td>\n",
       "      <td>0.275410</td>\n",
       "      <td>CCC[C@@H]1C(C(=O)OCC)=C(C)N=C(C)/C1=C(\\O)OC</td>\n",
       "      <td>FCFUFMMLEUYHMD-CDZMIXDFSA-N</td>\n",
       "      <td>FCFUFMMLEUYHMD-CDZMIXDFSA-N</td>\n",
       "      <td>0.282891</td>\n",
       "      <td>0.007237</td>\n",
       "      <td>2.644696</td>\n",
       "      <td>0</td>\n",
       "    </tr>\n",
       "    <tr>\n",
       "      <th>4</th>\n",
       "      <td>12</td>\n",
       "      <td>CHEMBL100004</td>\n",
       "      <td>[H]O/C(OC([H])([H])C([H])([H])[H])=C1\\C(C([H])...</td>\n",
       "      <td>375.150429</td>\n",
       "      <td>0.069851</td>\n",
       "      <td>0.272307</td>\n",
       "      <td>CCO/C(O)=C1/C(C)=NC(C)=C(C(=O)OCCSc2ccccc2)[C@...</td>\n",
       "      <td>CUHAMGYOMBKPLA-BQOWYSNXSA-N</td>\n",
       "      <td>CUHAMGYOMBKPLA-BQOWYSNXSA-N</td>\n",
       "      <td>0.272592</td>\n",
       "      <td>0.003115</td>\n",
       "      <td>0.104604</td>\n",
       "      <td>0</td>\n",
       "    </tr>\n",
       "  </tbody>\n",
       "</table>\n",
       "</div>"
      ],
      "text/plain": [
       "   Unnamed: 0     chembl_id  \\\n",
       "0           0       CHEMBL1   \n",
       "1           3    CHEMBL1000   \n",
       "2           6   CHEMBL10000   \n",
       "3           9  CHEMBL100003   \n",
       "4          12  CHEMBL100004   \n",
       "\n",
       "                                              smiles          mw  \\\n",
       "0  [H]c1c([H])c2c(c([H])c1OC([H])([H])[H])OC([H])...  544.209718   \n",
       "1  [H]OC(=O)C([H])([H])OC([H])([H])C([H])([H])N1C...  388.155370   \n",
       "2  [H]c1c([H])c(N([H])c2nc3c([H])c([H])c([H])c([H...  363.970876   \n",
       "3  [H]O/C(OC([H])([H])[H])=C1\\C(C([H])([H])[H])=N...  281.162708   \n",
       "4  [H]O/C(OC([H])([H])C([H])([H])[H])=C1\\C(C([H])...  375.150429   \n",
       "\n",
       "   GFN2_HOMO_LUMO_GAP  DFT_HOMO_LUMO_GAP  \\\n",
       "0            0.044924           0.242930   \n",
       "1            0.115170           0.340824   \n",
       "2            0.106596           0.293095   \n",
       "3            0.080096           0.275410   \n",
       "4            0.069851           0.272307   \n",
       "\n",
       "                                        rdkit_smiles  \\\n",
       "0  COc1ccc2c(c1)OC[C@H]1[C@@H]2C2=C(OC1(C)C)C1=C(...   \n",
       "1   O=C(O)COCCN1CCN([C@@H](c2ccccc2)c2ccc(Cl)cc2)CC1   \n",
       "2                     O=c1oc(Nc2ccc(I)cc2)nc2ccccc12   \n",
       "3        CCC[C@@H]1C(C(=O)OCC)=C(C)N=C(C)/C1=C(\\O)OC   \n",
       "4  CCO/C(O)=C1/C(C)=NC(C)=C(C(=O)OCCSc2ccccc2)[C@...   \n",
       "\n",
       "                     inchi_key                  compound_id  VALUE_NUM_mean  \\\n",
       "0  GHBOEFUAGSHXPO-XZOTUCIWSA-N  GHBOEFUAGSHXPO-XZOTUCIWSA-N        0.242102   \n",
       "1  ZKLPARSLTMPFCP-NRFANRHFSA-N  ZKLPARSLTMPFCP-NRFANRHFSA-N        0.333456   \n",
       "2  KXLZEFPIBPQEAU-UHFFFAOYSA-N  KXLZEFPIBPQEAU-UHFFFAOYSA-N        0.289124   \n",
       "3  FCFUFMMLEUYHMD-CDZMIXDFSA-N  FCFUFMMLEUYHMD-CDZMIXDFSA-N        0.282891   \n",
       "4  CUHAMGYOMBKPLA-BQOWYSNXSA-N  CUHAMGYOMBKPLA-BQOWYSNXSA-N        0.272592   \n",
       "\n",
       "   VALUE_NUM_std  Perc_Var  Remove_BadDuplicate  \n",
       "0       0.000833  0.341925                    0  \n",
       "1       0.006397  2.209649                    0  \n",
       "2       0.003439  1.373521                    0  \n",
       "3       0.007237  2.644696                    0  \n",
       "4       0.003115  0.104604                    0  "
      ]
     },
     "execution_count": 29,
     "metadata": {},
     "output_type": "execute_result"
    }
   ],
   "source": [
    "curated_df.head()"
   ]
  },
  {
   "cell_type": "code",
   "execution_count": 30,
   "id": "4aa1e0ba",
   "metadata": {},
   "outputs": [
    {
     "data": {
      "image/png": "[encoded data removed]",
      "text/plain": [
       "<Figure size 1080x360 with 4 Axes>"
      ]
     },
     "metadata": {
      "needs_background": "light"
     },
     "output_type": "display_data"
    }
   ],
   "source": [
    "numeric_cols=['mw','GFN2_HOMO_LUMO_GAP','DFT_HOMO_LUMO_GAP']\n",
    "curated_df[numeric_cols].hist(figsize=(15,5), bins=25);"
   ]
  },
  {
   "cell_type": "code",
   "execution_count": 31,
   "id": "5e57b23c",
   "metadata": {},
   "outputs": [
    {
     "data": {
      "text/html": [
       "<div>\n",
       "<style scoped>\n",
       "    .dataframe tbody tr th:only-of-type {\n",
       "        vertical-align: middle;\n",
       "    }\n",
       "\n",
       "    .dataframe tbody tr th {\n",
       "        vertical-align: top;\n",
       "    }\n",
       "\n",
       "    .dataframe thead th {\n",
       "        text-align: right;\n",
       "    }\n",
       "</style>\n",
       "<table border=\"1\" class=\"dataframe\">\n",
       "  <thead>\n",
       "    <tr style=\"text-align: right;\">\n",
       "      <th></th>\n",
       "      <th>mw</th>\n",
       "      <th>GFN2_HOMO_LUMO_GAP</th>\n",
       "      <th>DFT_HOMO_LUMO_GAP</th>\n",
       "    </tr>\n",
       "  </thead>\n",
       "  <tbody>\n",
       "    <tr>\n",
       "      <th>count</th>\n",
       "      <td>437714.000000</td>\n",
       "      <td>437714.000000</td>\n",
       "      <td>437714.000000</td>\n",
       "    </tr>\n",
       "    <tr>\n",
       "      <th>mean</th>\n",
       "      <td>427.250932</td>\n",
       "      <td>0.094931</td>\n",
       "      <td>0.302927</td>\n",
       "    </tr>\n",
       "    <tr>\n",
       "      <th>std</th>\n",
       "      <td>133.820222</td>\n",
       "      <td>0.026682</td>\n",
       "      <td>0.030213</td>\n",
       "    </tr>\n",
       "    <tr>\n",
       "      <th>min</th>\n",
       "      <td>43.005814</td>\n",
       "      <td>0.003062</td>\n",
       "      <td>0.094158</td>\n",
       "    </tr>\n",
       "    <tr>\n",
       "      <th>25%</th>\n",
       "      <td>344.939814</td>\n",
       "      <td>0.079324</td>\n",
       "      <td>0.282935</td>\n",
       "    </tr>\n",
       "    <tr>\n",
       "      <th>50%</th>\n",
       "      <td>412.247441</td>\n",
       "      <td>0.094406</td>\n",
       "      <td>0.300713</td>\n",
       "    </tr>\n",
       "    <tr>\n",
       "      <th>75%</th>\n",
       "      <td>485.192566</td>\n",
       "      <td>0.110035</td>\n",
       "      <td>0.321532</td>\n",
       "    </tr>\n",
       "    <tr>\n",
       "      <th>max</th>\n",
       "      <td>1645.862692</td>\n",
       "      <td>0.454126</td>\n",
       "      <td>0.512243</td>\n",
       "    </tr>\n",
       "  </tbody>\n",
       "</table>\n",
       "</div>"
      ],
      "text/plain": [
       "                  mw  GFN2_HOMO_LUMO_GAP  DFT_HOMO_LUMO_GAP\n",
       "count  437714.000000       437714.000000      437714.000000\n",
       "mean      427.250932            0.094931           0.302927\n",
       "std       133.820222            0.026682           0.030213\n",
       "min        43.005814            0.003062           0.094158\n",
       "25%       344.939814            0.079324           0.282935\n",
       "50%       412.247441            0.094406           0.300713\n",
       "75%       485.192566            0.110035           0.321532\n",
       "max      1645.862692            0.454126           0.512243"
      ]
     },
     "execution_count": 31,
     "metadata": {},
     "output_type": "execute_result"
    }
   ],
   "source": [
    "curated_df[numeric_cols].describe()"
   ]
  },
  {
   "cell_type": "code",
   "execution_count": 33,
   "id": "dcb18a4b",
   "metadata": {},
   "outputs": [],
   "source": [
    "featurizer = 'ecfp'\n",
    "model_type ='RF'\n",
    "response_cols = ['VALUE_NUM_mean']"
   ]
  },
  {
   "cell_type": "code",
   "execution_count": 38,
   "id": "550af87c",
   "metadata": {},
   "outputs": [],
   "source": [
    "## Several of these parameters you can modify.  Make sure the columns you call, are actually in your dataset.  model_type has three different options, we can look at RF and NN, chloe used NN in QMUGs training.  \n",
    "## \"splitter\" is also a location  to change, several options, but Kevin used scaffold and fingerprint.  \n",
    "## max_epochs you can start low, and see how that changes the r^2 value.\n",
    "\n",
    "response_col = ['VALUE_NUM_mean']\n",
    "compound_id = \"compound_id\"\n",
    "smiles_col = \"rdkit_smiles\"\n",
    "\n",
    "params = {\n",
    "        \"verbose\": \"True\",\n",
    "        \"datastore\": \"False\",\n",
    "        \"save_results\": \"False\",\n",
    "        \"prediction_type\": \"regression\",\n",
    "        \"dataset_key\": curated_file,\n",
    "        \"id_col\": compound_id,\n",
    "        \"smiles_col\": smiles_col,\n",
    "        \"response_cols\": response_col,\n",
    "        \"previously_split\": \"False\",\n",
    "        \"split_only\": \"False\",\n",
    "        \"split_strategy\": \"train_valid_test\",\n",
    "        \"splitter\": \"scaffold\",\n",
    "        \"split_valid_frac\": \"0.10\",\n",
    "        \"split_test_frac\": \"0.10\",\n",
    "        \"featurizer\": \"ecfp\",\n",
    "        \"model_type\": \"NN\",\n",
    "        \"verbose\": \"True\",\n",
    "        \"transformers\": \"True\",\n",
    "        'max_epochs': '10',\n",
    "        \"rerun\": \"False\",\n",
    "        \"result_dir\": \"\"\n",
    "        # \"ampl_version\": \" \"\n",
    "    }"
   ]
  },
  {
   "cell_type": "code",
   "execution_count": 39,
   "id": "106ca9d8",
   "metadata": {},
   "outputs": [],
   "source": [
    "ampl_param = parse.wrapper(params)"
   ]
  },
  {
   "cell_type": "code",
   "execution_count": 40,
   "id": "ef5c48cb",
   "metadata": {},
   "outputs": [],
   "source": [
    "pl = mp.ModelPipeline(ampl_param)\n"
   ]
  },
  {
   "cell_type": "code",
   "execution_count": 41,
   "id": "f58230af",
   "metadata": {
    "scrolled": true
   },
   "outputs": [
    {
     "name": "stdout",
     "output_type": "stream",
     "text": [
      "['qm9__curated-Copy1/NN_ecfp_scaffold_regression/c1264b81-2340-435a-a5ba-c1fcbda9b7a4/model/checkpoint1.pt', 'qm9__curated-Copy1/NN_ecfp_scaffold_regression/c1264b81-2340-435a-a5ba-c1fcbda9b7a4/model/checkpoint2.pt', 'qm9__curated-Copy1/NN_ecfp_scaffold_regression/c1264b81-2340-435a-a5ba-c1fcbda9b7a4/model/checkpoint3.pt', 'qm9__curated-Copy1/NN_ecfp_scaffold_regression/c1264b81-2340-435a-a5ba-c1fcbda9b7a4/model/checkpoint4.pt', 'qm9__curated-Copy1/NN_ecfp_scaffold_regression/c1264b81-2340-435a-a5ba-c1fcbda9b7a4/model/checkpoint5.pt']\n",
      "qm9__curated-Copy1/NN_ecfp_scaffold_regression/c1264b81-2340-435a-a5ba-c1fcbda9b7a4/model/checkpoint1.pt\n"
     ]
    }
   ],
   "source": [
    "pl.train_model()"
   ]
  },
  {
   "cell_type": "code",
   "execution_count": 61,
   "id": "1876e59f",
   "metadata": {},
   "outputs": [
    {
     "data": {
      "image/png": "[encoded data removed]",
      "text/plain": [
       "<Figure size 864x864 with 1 Axes>"
      ]
     },
     "metadata": {
      "needs_background": "light"
     },
     "output_type": "display_data"
    },
    {
     "data": {
      "image/png": "[encoded data removed]",
      "text/plain": [
       "<Figure size 864x864 with 1 Axes>"
      ]
     },
     "metadata": {
      "needs_background": "light"
     },
     "output_type": "display_data"
    },
    {
     "data": {
      "image/png": "[encoded data removed]",
      "text/plain": [
       "<Figure size 864x864 with 1 Axes>"
      ]
     },
     "metadata": {
      "needs_background": "light"
     },
     "output_type": "display_data"
    }
   ],
   "source": [
    "pp.plot_pred_vs_actual(pl)"
   ]
  },
  {
   "cell_type": "code",
   "execution_count": null,
   "id": "9940580a",
   "metadata": {},
   "outputs": [],
   "source": [
    "pp.plot_perf_vs_epoch(pl)"
   ]
  },
  {
   "cell_type": "code",
   "execution_count": null,
   "id": "e0a2ab8d-6e4b-4921-831e-0bbb73fd61bb",
   "metadata": {},
   "outputs": [],
   "source": [
    "from atomsci.ddm.pipeline import chem_diversity as cd"
   ]
  },
  {
   "cell_type": "code",
   "execution_count": null,
   "id": "69a301cd-0644-49ee-9556-4220bc16b331",
   "metadata": {},
   "outputs": [],
   "source": [
    "#htr3a=h1\n",
    "calc_type='nearest'\n",
    "dist_metric='tanimoto'\n",
    "smiles_lst2=curated_df.base_rdkit_smiles.tolist()\n",
    "#htr3a=htr3a.merge(split_df, left_on='compound_id', right_on='cmpd_id')\n",
    "#smiles_lst1=htr3a[htr3a.subset=='train'].base_rdkit_smiles.tolist()\n",
    "#dists=cd.calc_dist_smiles('ECFP',dist_metric,smiles_lst2,smiles_lst1,calc_type)\n",
    "distsdf=pd.DataFrame([smiles_lst2,list(dists)], columns=range(len(smiles_lst2)), index=['smiles','dists']).T\n",
    "df=curated_df\n",
    "df=df.merge(distsdf, left_on='base_rdkit_smiles', right_on='smiles')\n",
    "print(len(set(smiles_lst2)-set(smiles_lst1)))\n",
    "print(list(df.loc[df.dists==0, 'compound_id']))"
   ]
  },
  {
   "cell_type": "code",
   "execution_count": null,
   "id": "ae174ae8-f9fb-481e-8412-fe9edda80e2b",
   "metadata": {},
   "outputs": [],
   "source": []
  },
  {
   "cell_type": "code",
   "execution_count": null,
   "id": "25015053-0504-4fbb-a071-09ff3de0a749",
   "metadata": {},
   "outputs": [],
   "source": []
  },
  {
   "cell_type": "code",
   "execution_count": null,
   "id": "d69241ed-75a2-4a9c-98a7-c2f8994cc2ed",
   "metadata": {},
   "outputs": [],
   "source": []
  },
  {
   "cell_type": "code",
   "execution_count": 4,
   "id": "b2fa191e-1569-41b4-b17e-e7395aa05f40",
   "metadata": {},
   "outputs": [
    {
     "name": "stdout",
     "output_type": "stream",
     "text": [
      "/home/jupyter/Summer_AMPL/Renate/QMUGS/Optimal_Model\n"
     ]
    }
   ],
   "source": [
    "cd /home/jupyter/Summer_AMPL/Renate/QMUGS/Optimal_Model"
   ]
  },
  {
   "cell_type": "code",
   "execution_count": 5,
   "id": "07ab0954-5a8b-426c-9dbd-302434c6ae12",
   "metadata": {},
   "outputs": [
    {
     "name": "stdout",
     "output_type": "stream",
     "text": [
      "./best_model/\n",
      "./best_model/checkpoint1.pt\n",
      "./model_metadata.json\n",
      "./model_metrics.json\n",
      "./transformers.pkl\n"
     ]
    }
   ],
   "source": [
    "!tar -tf *.tar.gz"
   ]
  },
  {
   "cell_type": "code",
   "execution_count": 6,
   "id": "5ca75b9f-ccd7-44f9-ba6c-4f042054ce4d",
   "metadata": {},
   "outputs": [
    {
     "name": "stdout",
     "output_type": "stream",
     "text": [
      "./best_model/\n",
      "./best_model/checkpoint1.pt\n",
      "./model_metadata.json\n",
      "./model_metrics.json\n",
      "./transformers.pkl\n"
     ]
    }
   ],
   "source": [
    "!tar -xvzf *.tar.gz"
   ]
  },
  {
   "cell_type": "code",
   "execution_count": 7,
   "id": "b51eb999-cdd4-47ec-b249-877794768071",
   "metadata": {},
   "outputs": [],
   "source": [
    "import matplotlib.pyplot as plt\n",
    "import seaborn as sns\n",
    "import numpy as np\n",
    "sns.set_context(\"poster\")\n",
    "sns.set_style(\"whitegrid\")\n",
    "sns.set_palette(\"Set2\")\n",
    "\n",
    "import pandas as pd\n",
    "import os, json, sys, glob, pickle"
   ]
  },
  {
   "cell_type": "code",
   "execution_count": 8,
   "id": "0e93bc19-c46c-46d8-87aa-976d86595674",
   "metadata": {},
   "outputs": [],
   "source": [
    "from atomsci.ddm.pipeline import parameter_parser as parse\n",
    "from atomsci.ddm.pipeline import perf_data\n",
    "from atomsci.ddm.pipeline import model_pipeline as mp\n",
    "import atomsci.ddm.utils.curate_data as curate_data\n",
    "import atomsci.ddm.utils.struct_utils as struct_utils\n",
    "from atomsci.ddm.pipeline import perf_plots as pp"
   ]
  },
  {
   "cell_type": "code",
   "execution_count": 9,
   "id": "b4125e3e-fa33-4995-a87d-d4aef3abb323",
   "metadata": {},
   "outputs": [
    {
     "name": "stdout",
     "output_type": "stream",
     "text": [
      "/home/jupyter/Summer_AMPL/Renate/QMUGS/Kevin-retrain-scaffold\n"
     ]
    }
   ],
   "source": [
    "cd /home/jupyter/Summer_AMPL/Renate/QMUGS/Kevin-retrain-scaffold"
   ]
  },
  {
   "cell_type": "code",
   "execution_count": 8,
   "id": "e0840776-7756-4738-825f-09f9931e840b",
   "metadata": {},
   "outputs": [
    {
     "ename": "FileNotFoundError",
     "evalue": "[Errno 2] No such file or directory: 'select_qm9_data_curated-Copy1.csv'",
     "output_type": "error",
     "traceback": [
      "\u001b[0;31m---------------------------------------------------------------------------\u001b[0m",
      "\u001b[0;31mFileNotFoundError\u001b[0m                         Traceback (most recent call last)",
      "\u001b[0;32m<ipython-input-8-4d91a2206aa4>\u001b[0m in \u001b[0;36m<module>\u001b[0;34m\u001b[0m\n\u001b[1;32m      1\u001b[0m \u001b[0;31m#test_data = pd.read_csv('select_Kevin_data_curated.csv')\u001b[0m\u001b[0;34m\u001b[0m\u001b[0;34m\u001b[0m\u001b[0;34m\u001b[0m\u001b[0m\n\u001b[0;32m----> 2\u001b[0;31m \u001b[0mtest_data\u001b[0m \u001b[0;34m=\u001b[0m \u001b[0mpd\u001b[0m\u001b[0;34m.\u001b[0m\u001b[0mread_csv\u001b[0m\u001b[0;34m(\u001b[0m\u001b[0;34m'select_qm9_data_curated-Copy1.csv'\u001b[0m\u001b[0;34m)\u001b[0m\u001b[0;34m\u001b[0m\u001b[0;34m\u001b[0m\u001b[0m\n\u001b[0m",
      "\u001b[0;32m~/atomsci/lib/python3.8/site-packages/pandas/util/_decorators.py\u001b[0m in \u001b[0;36mwrapper\u001b[0;34m(*args, **kwargs)\u001b[0m\n\u001b[1;32m    309\u001b[0m                     \u001b[0mstacklevel\u001b[0m\u001b[0;34m=\u001b[0m\u001b[0mstacklevel\u001b[0m\u001b[0;34m,\u001b[0m\u001b[0;34m\u001b[0m\u001b[0;34m\u001b[0m\u001b[0m\n\u001b[1;32m    310\u001b[0m                 )\n\u001b[0;32m--> 311\u001b[0;31m             \u001b[0;32mreturn\u001b[0m \u001b[0mfunc\u001b[0m\u001b[0;34m(\u001b[0m\u001b[0;34m*\u001b[0m\u001b[0margs\u001b[0m\u001b[0;34m,\u001b[0m \u001b[0;34m**\u001b[0m\u001b[0mkwargs\u001b[0m\u001b[0;34m)\u001b[0m\u001b[0;34m\u001b[0m\u001b[0;34m\u001b[0m\u001b[0m\n\u001b[0m\u001b[1;32m    312\u001b[0m \u001b[0;34m\u001b[0m\u001b[0m\n\u001b[1;32m    313\u001b[0m         \u001b[0;32mreturn\u001b[0m \u001b[0mwrapper\u001b[0m\u001b[0;34m\u001b[0m\u001b[0;34m\u001b[0m\u001b[0m\n",
      "\u001b[0;32m~/atomsci/lib/python3.8/site-packages/pandas/io/parsers/readers.py\u001b[0m in \u001b[0;36mread_csv\u001b[0;34m(filepath_or_buffer, sep, delimiter, header, names, index_col, usecols, squeeze, prefix, mangle_dupe_cols, dtype, engine, converters, true_values, false_values, skipinitialspace, skiprows, skipfooter, nrows, na_values, keep_default_na, na_filter, verbose, skip_blank_lines, parse_dates, infer_datetime_format, keep_date_col, date_parser, dayfirst, cache_dates, iterator, chunksize, compression, thousands, decimal, lineterminator, quotechar, quoting, doublequote, escapechar, comment, encoding, encoding_errors, dialect, error_bad_lines, warn_bad_lines, on_bad_lines, delim_whitespace, low_memory, memory_map, float_precision, storage_options)\u001b[0m\n\u001b[1;32m    584\u001b[0m     \u001b[0mkwds\u001b[0m\u001b[0;34m.\u001b[0m\u001b[0mupdate\u001b[0m\u001b[0;34m(\u001b[0m\u001b[0mkwds_defaults\u001b[0m\u001b[0;34m)\u001b[0m\u001b[0;34m\u001b[0m\u001b[0;34m\u001b[0m\u001b[0m\n\u001b[1;32m    585\u001b[0m \u001b[0;34m\u001b[0m\u001b[0m\n\u001b[0;32m--> 586\u001b[0;31m     \u001b[0;32mreturn\u001b[0m \u001b[0m_read\u001b[0m\u001b[0;34m(\u001b[0m\u001b[0mfilepath_or_buffer\u001b[0m\u001b[0;34m,\u001b[0m \u001b[0mkwds\u001b[0m\u001b[0;34m)\u001b[0m\u001b[0;34m\u001b[0m\u001b[0;34m\u001b[0m\u001b[0m\n\u001b[0m\u001b[1;32m    587\u001b[0m \u001b[0;34m\u001b[0m\u001b[0m\n\u001b[1;32m    588\u001b[0m \u001b[0;34m\u001b[0m\u001b[0m\n",
      "\u001b[0;32m~/atomsci/lib/python3.8/site-packages/pandas/io/parsers/readers.py\u001b[0m in \u001b[0;36m_read\u001b[0;34m(filepath_or_buffer, kwds)\u001b[0m\n\u001b[1;32m    480\u001b[0m \u001b[0;34m\u001b[0m\u001b[0m\n\u001b[1;32m    481\u001b[0m     \u001b[0;31m# Create the parser.\u001b[0m\u001b[0;34m\u001b[0m\u001b[0;34m\u001b[0m\u001b[0;34m\u001b[0m\u001b[0m\n\u001b[0;32m--> 482\u001b[0;31m     \u001b[0mparser\u001b[0m \u001b[0;34m=\u001b[0m \u001b[0mTextFileReader\u001b[0m\u001b[0;34m(\u001b[0m\u001b[0mfilepath_or_buffer\u001b[0m\u001b[0;34m,\u001b[0m \u001b[0;34m**\u001b[0m\u001b[0mkwds\u001b[0m\u001b[0;34m)\u001b[0m\u001b[0;34m\u001b[0m\u001b[0;34m\u001b[0m\u001b[0m\n\u001b[0m\u001b[1;32m    483\u001b[0m \u001b[0;34m\u001b[0m\u001b[0m\n\u001b[1;32m    484\u001b[0m     \u001b[0;32mif\u001b[0m \u001b[0mchunksize\u001b[0m \u001b[0;32mor\u001b[0m \u001b[0miterator\u001b[0m\u001b[0;34m:\u001b[0m\u001b[0;34m\u001b[0m\u001b[0;34m\u001b[0m\u001b[0m\n",
      "\u001b[0;32m~/atomsci/lib/python3.8/site-packages/pandas/io/parsers/readers.py\u001b[0m in \u001b[0;36m__init__\u001b[0;34m(self, f, engine, **kwds)\u001b[0m\n\u001b[1;32m    809\u001b[0m             \u001b[0mself\u001b[0m\u001b[0;34m.\u001b[0m\u001b[0moptions\u001b[0m\u001b[0;34m[\u001b[0m\u001b[0;34m\"has_index_names\"\u001b[0m\u001b[0;34m]\u001b[0m \u001b[0;34m=\u001b[0m \u001b[0mkwds\u001b[0m\u001b[0;34m[\u001b[0m\u001b[0;34m\"has_index_names\"\u001b[0m\u001b[0;34m]\u001b[0m\u001b[0;34m\u001b[0m\u001b[0;34m\u001b[0m\u001b[0m\n\u001b[1;32m    810\u001b[0m \u001b[0;34m\u001b[0m\u001b[0m\n\u001b[0;32m--> 811\u001b[0;31m         \u001b[0mself\u001b[0m\u001b[0;34m.\u001b[0m\u001b[0m_engine\u001b[0m \u001b[0;34m=\u001b[0m \u001b[0mself\u001b[0m\u001b[0;34m.\u001b[0m\u001b[0m_make_engine\u001b[0m\u001b[0;34m(\u001b[0m\u001b[0mself\u001b[0m\u001b[0;34m.\u001b[0m\u001b[0mengine\u001b[0m\u001b[0;34m)\u001b[0m\u001b[0;34m\u001b[0m\u001b[0;34m\u001b[0m\u001b[0m\n\u001b[0m\u001b[1;32m    812\u001b[0m \u001b[0;34m\u001b[0m\u001b[0m\n\u001b[1;32m    813\u001b[0m     \u001b[0;32mdef\u001b[0m \u001b[0mclose\u001b[0m\u001b[0;34m(\u001b[0m\u001b[0mself\u001b[0m\u001b[0;34m)\u001b[0m\u001b[0;34m:\u001b[0m\u001b[0;34m\u001b[0m\u001b[0;34m\u001b[0m\u001b[0m\n",
      "\u001b[0;32m~/atomsci/lib/python3.8/site-packages/pandas/io/parsers/readers.py\u001b[0m in \u001b[0;36m_make_engine\u001b[0;34m(self, engine)\u001b[0m\n\u001b[1;32m   1038\u001b[0m             )\n\u001b[1;32m   1039\u001b[0m         \u001b[0;31m# error: Too many arguments for \"ParserBase\"\u001b[0m\u001b[0;34m\u001b[0m\u001b[0;34m\u001b[0m\u001b[0;34m\u001b[0m\u001b[0m\n\u001b[0;32m-> 1040\u001b[0;31m         \u001b[0;32mreturn\u001b[0m \u001b[0mmapping\u001b[0m\u001b[0;34m[\u001b[0m\u001b[0mengine\u001b[0m\u001b[0;34m]\u001b[0m\u001b[0;34m(\u001b[0m\u001b[0mself\u001b[0m\u001b[0;34m.\u001b[0m\u001b[0mf\u001b[0m\u001b[0;34m,\u001b[0m \u001b[0;34m**\u001b[0m\u001b[0mself\u001b[0m\u001b[0;34m.\u001b[0m\u001b[0moptions\u001b[0m\u001b[0;34m)\u001b[0m  \u001b[0;31m# type: ignore[call-arg]\u001b[0m\u001b[0;34m\u001b[0m\u001b[0;34m\u001b[0m\u001b[0m\n\u001b[0m\u001b[1;32m   1041\u001b[0m \u001b[0;34m\u001b[0m\u001b[0m\n\u001b[1;32m   1042\u001b[0m     \u001b[0;32mdef\u001b[0m \u001b[0m_failover_to_python\u001b[0m\u001b[0;34m(\u001b[0m\u001b[0mself\u001b[0m\u001b[0;34m)\u001b[0m\u001b[0;34m:\u001b[0m\u001b[0;34m\u001b[0m\u001b[0;34m\u001b[0m\u001b[0m\n",
      "\u001b[0;32m~/atomsci/lib/python3.8/site-packages/pandas/io/parsers/c_parser_wrapper.py\u001b[0m in \u001b[0;36m__init__\u001b[0;34m(self, src, **kwds)\u001b[0m\n\u001b[1;32m     49\u001b[0m \u001b[0;34m\u001b[0m\u001b[0m\n\u001b[1;32m     50\u001b[0m         \u001b[0;31m# open handles\u001b[0m\u001b[0;34m\u001b[0m\u001b[0;34m\u001b[0m\u001b[0;34m\u001b[0m\u001b[0m\n\u001b[0;32m---> 51\u001b[0;31m         \u001b[0mself\u001b[0m\u001b[0;34m.\u001b[0m\u001b[0m_open_handles\u001b[0m\u001b[0;34m(\u001b[0m\u001b[0msrc\u001b[0m\u001b[0;34m,\u001b[0m \u001b[0mkwds\u001b[0m\u001b[0;34m)\u001b[0m\u001b[0;34m\u001b[0m\u001b[0;34m\u001b[0m\u001b[0m\n\u001b[0m\u001b[1;32m     52\u001b[0m         \u001b[0;32massert\u001b[0m \u001b[0mself\u001b[0m\u001b[0;34m.\u001b[0m\u001b[0mhandles\u001b[0m \u001b[0;32mis\u001b[0m \u001b[0;32mnot\u001b[0m \u001b[0;32mNone\u001b[0m\u001b[0;34m\u001b[0m\u001b[0;34m\u001b[0m\u001b[0m\n\u001b[1;32m     53\u001b[0m \u001b[0;34m\u001b[0m\u001b[0m\n",
      "\u001b[0;32m~/atomsci/lib/python3.8/site-packages/pandas/io/parsers/base_parser.py\u001b[0m in \u001b[0;36m_open_handles\u001b[0;34m(self, src, kwds)\u001b[0m\n\u001b[1;32m    220\u001b[0m         \u001b[0mLet\u001b[0m \u001b[0mthe\u001b[0m \u001b[0mreaders\u001b[0m \u001b[0mopen\u001b[0m \u001b[0mIOHandles\u001b[0m \u001b[0mafter\u001b[0m \u001b[0mthey\u001b[0m \u001b[0mare\u001b[0m \u001b[0mdone\u001b[0m \u001b[0;32mwith\u001b[0m \u001b[0mtheir\u001b[0m \u001b[0mpotential\u001b[0m \u001b[0mraises\u001b[0m\u001b[0;34m.\u001b[0m\u001b[0;34m\u001b[0m\u001b[0;34m\u001b[0m\u001b[0m\n\u001b[1;32m    221\u001b[0m         \"\"\"\n\u001b[0;32m--> 222\u001b[0;31m         self.handles = get_handle(\n\u001b[0m\u001b[1;32m    223\u001b[0m             \u001b[0msrc\u001b[0m\u001b[0;34m,\u001b[0m\u001b[0;34m\u001b[0m\u001b[0;34m\u001b[0m\u001b[0m\n\u001b[1;32m    224\u001b[0m             \u001b[0;34m\"r\"\u001b[0m\u001b[0;34m,\u001b[0m\u001b[0;34m\u001b[0m\u001b[0;34m\u001b[0m\u001b[0m\n",
      "\u001b[0;32m~/atomsci/lib/python3.8/site-packages/pandas/io/common.py\u001b[0m in \u001b[0;36mget_handle\u001b[0;34m(path_or_buf, mode, encoding, compression, memory_map, is_text, errors, storage_options)\u001b[0m\n\u001b[1;32m    700\u001b[0m         \u001b[0;32mif\u001b[0m \u001b[0mioargs\u001b[0m\u001b[0;34m.\u001b[0m\u001b[0mencoding\u001b[0m \u001b[0;32mand\u001b[0m \u001b[0;34m\"b\"\u001b[0m \u001b[0;32mnot\u001b[0m \u001b[0;32min\u001b[0m \u001b[0mioargs\u001b[0m\u001b[0;34m.\u001b[0m\u001b[0mmode\u001b[0m\u001b[0;34m:\u001b[0m\u001b[0;34m\u001b[0m\u001b[0;34m\u001b[0m\u001b[0m\n\u001b[1;32m    701\u001b[0m             \u001b[0;31m# Encoding\u001b[0m\u001b[0;34m\u001b[0m\u001b[0;34m\u001b[0m\u001b[0;34m\u001b[0m\u001b[0m\n\u001b[0;32m--> 702\u001b[0;31m             handle = open(\n\u001b[0m\u001b[1;32m    703\u001b[0m                 \u001b[0mhandle\u001b[0m\u001b[0;34m,\u001b[0m\u001b[0;34m\u001b[0m\u001b[0;34m\u001b[0m\u001b[0m\n\u001b[1;32m    704\u001b[0m                 \u001b[0mioargs\u001b[0m\u001b[0;34m.\u001b[0m\u001b[0mmode\u001b[0m\u001b[0;34m,\u001b[0m\u001b[0;34m\u001b[0m\u001b[0;34m\u001b[0m\u001b[0m\n",
      "\u001b[0;31mFileNotFoundError\u001b[0m: [Errno 2] No such file or directory: 'select_qm9_data_curated-Copy1.csv'"
     ]
    }
   ],
   "source": [
    "#test_data = pd.read_csv('select_Kevin_data_curated.csv')\n",
    "test_data = pd.read_csv('select_qm9_data_curated-Copy1.csv')"
   ]
  },
  {
   "cell_type": "code",
   "execution_count": 43,
   "id": "49f55419-50c3-46e5-a39b-002d2a0ee3e5",
   "metadata": {},
   "outputs": [
    {
     "data": {
      "text/plain": [
       "(129435, 13)"
      ]
     },
     "execution_count": 43,
     "metadata": {},
     "output_type": "execute_result"
    }
   ],
   "source": [
    "test_data.shape"
   ]
  },
  {
   "cell_type": "code",
   "execution_count": 44,
   "id": "d6015cea-1d38-4e2b-8b4b-090cd410721d",
   "metadata": {},
   "outputs": [
    {
     "data": {
      "text/html": [
       "<div>\n",
       "<style scoped>\n",
       "    .dataframe tbody tr th:only-of-type {\n",
       "        vertical-align: middle;\n",
       "    }\n",
       "\n",
       "    .dataframe tbody tr th {\n",
       "        vertical-align: top;\n",
       "    }\n",
       "\n",
       "    .dataframe thead th {\n",
       "        text-align: right;\n",
       "    }\n",
       "</style>\n",
       "<table border=\"1\" class=\"dataframe\">\n",
       "  <thead>\n",
       "    <tr style=\"text-align: right;\">\n",
       "      <th></th>\n",
       "      <th>mol_id</th>\n",
       "      <th>smiles</th>\n",
       "      <th>homo</th>\n",
       "      <th>lumo</th>\n",
       "      <th>gap</th>\n",
       "      <th>rdkit_smiles</th>\n",
       "      <th>inchi_key</th>\n",
       "      <th>compound_id</th>\n",
       "      <th>mol_wt</th>\n",
       "      <th>VALUE_NUM_mean</th>\n",
       "      <th>VALUE_NUM_std</th>\n",
       "      <th>Perc_Var</th>\n",
       "      <th>Remove_BadDuplicate</th>\n",
       "    </tr>\n",
       "  </thead>\n",
       "  <tbody>\n",
       "    <tr>\n",
       "      <th>0</th>\n",
       "      <td>gdb_1</td>\n",
       "      <td>C</td>\n",
       "      <td>-0.3877</td>\n",
       "      <td>0.1171</td>\n",
       "      <td>0.5048</td>\n",
       "      <td>C</td>\n",
       "      <td>VNWKTOKETHGBQD-UHFFFAOYSA-N</td>\n",
       "      <td>VNWKTOKETHGBQD-UHFFFAOYSA-N</td>\n",
       "      <td>16.031300</td>\n",
       "      <td>0.5048</td>\n",
       "      <td>NaN</td>\n",
       "      <td>0.0</td>\n",
       "      <td>0</td>\n",
       "    </tr>\n",
       "    <tr>\n",
       "      <th>1</th>\n",
       "      <td>gdb_2</td>\n",
       "      <td>N</td>\n",
       "      <td>-0.2570</td>\n",
       "      <td>0.0829</td>\n",
       "      <td>0.3399</td>\n",
       "      <td>N</td>\n",
       "      <td>QGZKDVFQNNGYKY-UHFFFAOYSA-N</td>\n",
       "      <td>QGZKDVFQNNGYKY-UHFFFAOYSA-N</td>\n",
       "      <td>17.026549</td>\n",
       "      <td>0.3399</td>\n",
       "      <td>NaN</td>\n",
       "      <td>0.0</td>\n",
       "      <td>0</td>\n",
       "    </tr>\n",
       "    <tr>\n",
       "      <th>2</th>\n",
       "      <td>gdb_3</td>\n",
       "      <td>O</td>\n",
       "      <td>-0.2928</td>\n",
       "      <td>0.0687</td>\n",
       "      <td>0.3615</td>\n",
       "      <td>O</td>\n",
       "      <td>XLYOFNOQVPJJNP-UHFFFAOYSA-N</td>\n",
       "      <td>XLYOFNOQVPJJNP-UHFFFAOYSA-N</td>\n",
       "      <td>18.010565</td>\n",
       "      <td>0.3615</td>\n",
       "      <td>NaN</td>\n",
       "      <td>0.0</td>\n",
       "      <td>0</td>\n",
       "    </tr>\n",
       "    <tr>\n",
       "      <th>3</th>\n",
       "      <td>gdb_4</td>\n",
       "      <td>C#C</td>\n",
       "      <td>-0.2845</td>\n",
       "      <td>0.0506</td>\n",
       "      <td>0.3351</td>\n",
       "      <td>C#C</td>\n",
       "      <td>HSFWRNGVRCDJHI-UHFFFAOYSA-N</td>\n",
       "      <td>HSFWRNGVRCDJHI-UHFFFAOYSA-N</td>\n",
       "      <td>26.015650</td>\n",
       "      <td>0.3351</td>\n",
       "      <td>NaN</td>\n",
       "      <td>0.0</td>\n",
       "      <td>0</td>\n",
       "    </tr>\n",
       "    <tr>\n",
       "      <th>4</th>\n",
       "      <td>gdb_5</td>\n",
       "      <td>C#N</td>\n",
       "      <td>-0.3604</td>\n",
       "      <td>0.0191</td>\n",
       "      <td>0.3796</td>\n",
       "      <td>C#N</td>\n",
       "      <td>LELOWRISYMNNSU-UHFFFAOYSA-N</td>\n",
       "      <td>LELOWRISYMNNSU-UHFFFAOYSA-N</td>\n",
       "      <td>27.010899</td>\n",
       "      <td>0.3796</td>\n",
       "      <td>NaN</td>\n",
       "      <td>0.0</td>\n",
       "      <td>0</td>\n",
       "    </tr>\n",
       "  </tbody>\n",
       "</table>\n",
       "</div>"
      ],
      "text/plain": [
       "  mol_id smiles    homo    lumo     gap rdkit_smiles  \\\n",
       "0  gdb_1      C -0.3877  0.1171  0.5048            C   \n",
       "1  gdb_2      N -0.2570  0.0829  0.3399            N   \n",
       "2  gdb_3      O -0.2928  0.0687  0.3615            O   \n",
       "3  gdb_4    C#C -0.2845  0.0506  0.3351          C#C   \n",
       "4  gdb_5    C#N -0.3604  0.0191  0.3796          C#N   \n",
       "\n",
       "                     inchi_key                  compound_id     mol_wt  \\\n",
       "0  VNWKTOKETHGBQD-UHFFFAOYSA-N  VNWKTOKETHGBQD-UHFFFAOYSA-N  16.031300   \n",
       "1  QGZKDVFQNNGYKY-UHFFFAOYSA-N  QGZKDVFQNNGYKY-UHFFFAOYSA-N  17.026549   \n",
       "2  XLYOFNOQVPJJNP-UHFFFAOYSA-N  XLYOFNOQVPJJNP-UHFFFAOYSA-N  18.010565   \n",
       "3  HSFWRNGVRCDJHI-UHFFFAOYSA-N  HSFWRNGVRCDJHI-UHFFFAOYSA-N  26.015650   \n",
       "4  LELOWRISYMNNSU-UHFFFAOYSA-N  LELOWRISYMNNSU-UHFFFAOYSA-N  27.010899   \n",
       "\n",
       "   VALUE_NUM_mean  VALUE_NUM_std  Perc_Var  Remove_BadDuplicate  \n",
       "0          0.5048            NaN       0.0                    0  \n",
       "1          0.3399            NaN       0.0                    0  \n",
       "2          0.3615            NaN       0.0                    0  \n",
       "3          0.3351            NaN       0.0                    0  \n",
       "4          0.3796            NaN       0.0                    0  "
      ]
     },
     "execution_count": 44,
     "metadata": {},
     "output_type": "execute_result"
    }
   ],
   "source": [
    "test_data.head()"
   ]
  },
  {
   "cell_type": "code",
   "execution_count": 45,
   "id": "51609f35-9842-4099-a8d7-c5ea47804da4",
   "metadata": {},
   "outputs": [
    {
     "name": "stdout",
     "output_type": "stream",
     "text": [
      "select_qmugs_data_curated_model_4308b232-9cd2-4422-8339-e97d70a56e91.tar.gz\n"
     ]
    }
   ],
   "source": [
    "import os\n",
    "files = os.listdir()\n",
    "for f in files: \n",
    "  if (f.endswith(\".tar.gz\")):\n",
    "    mfile = f \n",
    "\n",
    "print(mfile)"
   ]
  },
  {
   "cell_type": "code",
   "execution_count": 46,
   "id": "e560874b-404e-4fa4-bd33-76f4eb2142e7",
   "metadata": {},
   "outputs": [
    {
     "name": "stdout",
     "output_type": "stream",
     "text": [
      "Standardizing SMILES strings for 129435 compounds.\n"
     ]
    },
    {
     "name": "stderr",
     "output_type": "stream",
     "text": [
      "2023-07-18 20:56:21,563 Aborting reionization to avoid infinite loop due to it being ambiguous where to put a Hydrogen\n",
      "2023-07-18 20:56:23,459 Aborting reionization to avoid infinite loop due to it being ambiguous where to put a Hydrogen\n",
      "2023-07-18 20:56:28,772 Aborting reionization to avoid infinite loop due to it being ambiguous where to put a Hydrogen\n",
      "2023-07-18 20:56:43,074 Aborting reionization to avoid infinite loop due to it being ambiguous where to put a Hydrogen\n",
      "2023-07-18 20:56:48,322 Aborting reionization to avoid infinite loop due to it being ambiguous where to put a Hydrogen\n",
      "2023-07-18 20:56:49,560 Aborting reionization to avoid infinite loop due to it being ambiguous where to put a Hydrogen\n",
      "2023-07-18 20:56:52,258 Aborting reionization to avoid infinite loop due to it being ambiguous where to put a Hydrogen\n",
      "2023-07-18 20:56:52,283 Aborting reionization to avoid infinite loop due to it being ambiguous where to put a Hydrogen\n",
      "2023-07-18 20:57:00,498 Aborting reionization to avoid infinite loop due to it being ambiguous where to put a Hydrogen\n",
      "2023-07-18 20:57:03,913 Aborting reionization to avoid infinite loop due to it being ambiguous where to put a Hydrogen\n",
      "2023-07-18 20:57:03,988 Aborting reionization to avoid infinite loop due to it being ambiguous where to put a Hydrogen\n",
      "2023-07-18 20:57:04,280 Aborting reionization to avoid infinite loop due to it being ambiguous where to put a Hydrogen\n",
      "2023-07-18 20:57:06,136 Aborting reionization to avoid infinite loop due to it being ambiguous where to put a Hydrogen\n",
      "2023-07-18 20:57:06,194 Aborting reionization to avoid infinite loop due to it being ambiguous where to put a Hydrogen\n",
      "2023-07-18 20:57:08,203 Aborting reionization to avoid infinite loop due to it being ambiguous where to put a Hydrogen\n",
      "2023-07-18 20:57:09,789 Aborting reionization to avoid infinite loop due to it being ambiguous where to put a Hydrogen\n",
      "2023-07-18 20:57:11,624 Aborting reionization to avoid infinite loop due to it being ambiguous where to put a Hydrogen\n",
      "2023-07-18 20:57:15,657 Aborting reionization to avoid infinite loop due to it being ambiguous where to put a Hydrogen\n",
      "2023-07-18 20:57:20,582 Aborting reionization to avoid infinite loop due to it being ambiguous where to put a Hydrogen\n",
      "2023-07-18 20:57:21,108 Aborting reionization to avoid infinite loop due to it being ambiguous where to put a Hydrogen\n",
      "2023-07-18 20:57:23,026 Aborting reionization to avoid infinite loop due to it being ambiguous where to put a Hydrogen\n",
      "2023-07-18 20:57:24,497 Aborting reionization to avoid infinite loop due to it being ambiguous where to put a Hydrogen\n",
      "2023-07-18 20:57:26,321 Aborting reionization to avoid infinite loop due to it being ambiguous where to put a Hydrogen\n",
      "2023-07-18 20:57:32,726 Aborting reionization to avoid infinite loop due to it being ambiguous where to put a Hydrogen\n",
      "2023-07-18 20:57:34,372 Aborting reionization to avoid infinite loop due to it being ambiguous where to put a Hydrogen\n",
      "2023-07-18 20:57:34,398 Aborting reionization to avoid infinite loop due to it being ambiguous where to put a Hydrogen\n",
      "2023-07-18 20:57:47,636 Aborting reionization to avoid infinite loop due to it being ambiguous where to put a Hydrogen\n",
      "2023-07-18 20:57:48,464 Aborting reionization to avoid infinite loop due to it being ambiguous where to put a Hydrogen\n",
      "2023-07-18 20:58:04,085 Aborting reionization to avoid infinite loop due to it being ambiguous where to put a Hydrogen\n",
      "2023-07-18 20:58:05,763 select_qmugs_data_curated_model_4308b232-9cd2-4422-8339-e97d70a56e91.tar.gz, 1.5.1\n",
      "2023-07-18 20:58:05,779 Version compatible check: select_qmugs_data_curated_model_4308b232-9cd2-4422-8339-e97d70a56e91.tar.gz version = \"1.5\", AMPL version = \"1.5\"\n",
      "2023-07-18 20:58:06,137 ['ampl_version', 'time_generated', 'best_epoch', 'time_built', 'dataset_hash', 'dataset_metadata', 'training_metrics'] are not part of the accepted list of parameters and will be ignored\n",
      "2023-07-18 20:58:06,175 Featurization = DynamicFeaturization with ecfp features\n"
     ]
    },
    {
     "name": "stdout",
     "output_type": "stream",
     "text": [
      "num_model_tasks is deprecated and its value is ignored.\n",
      "['/var/tmp/tmpn8pf9gzd/best_model/checkpoint1.pt']\n",
      "/var/tmp/tmpn8pf9gzd/best_model/checkpoint1.pt\n"
     ]
    }
   ],
   "source": [
    "from atomsci.ddm.pipeline import predict_from_model as pfm\n",
    "mfile = \"select_qmugs_data_curated_model_4308b232-9cd2-4422-8339-e97d70a56e91.tar.gz\"\n",
    "#mfile = \"Summer_AMPL/Renate/Kevin_Model_2/Kevin_Moel/FMO_energy_graphconv_fingerprint_split_model_d852304e-cd01-43b1-91ca-15125b225fc6.tar.gz\"\n",
    "mpath = '/content'\n",
    "input_df = test_data\n",
    "response_col = \"DFT_HOMO_LUMO_GAP\"\n",
    "compound_id = 'compound_id'\n",
    "smiles_col = \"rdkit_smiles\"\n",
    "results_df = pfm.predict_from_model_file(model_path = mfile, \n",
    "                            input_df = input_df, \n",
    "                            smiles_col = smiles_col, \n",
    "                            response_col = response_col)"
   ]
  },
  {
   "cell_type": "code",
   "execution_count": 19,
   "id": "5ce324b6-0e93-4817-b5f2-9b2dd03181a1",
   "metadata": {},
   "outputs": [
    {
     "data": {
      "text/html": [
       "<div>\n",
       "<style scoped>\n",
       "    .dataframe tbody tr th:only-of-type {\n",
       "        vertical-align: middle;\n",
       "    }\n",
       "\n",
       "    .dataframe tbody tr th {\n",
       "        vertical-align: top;\n",
       "    }\n",
       "\n",
       "    .dataframe thead th {\n",
       "        text-align: right;\n",
       "    }\n",
       "</style>\n",
       "<table border=\"1\" class=\"dataframe\">\n",
       "  <thead>\n",
       "    <tr style=\"text-align: right;\">\n",
       "      <th></th>\n",
       "      <th>Unnamed: 0</th>\n",
       "      <th>Unnamed: 0.1</th>\n",
       "      <th>compound_id</th>\n",
       "      <th>SMILES</th>\n",
       "      <th>HOMO_energy</th>\n",
       "      <th>LUMO_energy</th>\n",
       "      <th>HOMO_LUMO_gap</th>\n",
       "      <th>rdkit_smiles</th>\n",
       "      <th>inchi_key</th>\n",
       "      <th>VALUE_NUM_mean</th>\n",
       "      <th>VALUE_NUM_std</th>\n",
       "      <th>Perc_Var</th>\n",
       "      <th>Remove_BadDuplicate</th>\n",
       "      <th>adj_gap</th>\n",
       "      <th>orig_smiles</th>\n",
       "      <th>VALUE_NUM_mean_pred</th>\n",
       "      <th>VALUE_NUM_mean_std</th>\n",
       "    </tr>\n",
       "  </thead>\n",
       "  <tbody>\n",
       "    <tr>\n",
       "      <th>0</th>\n",
       "      <td>0</td>\n",
       "      <td>0</td>\n",
       "      <td>MCKUTUAYYLJECU-UHFFFAOYSA-N</td>\n",
       "      <td>C#Cc1ccc(C#C)c2nsnc12</td>\n",
       "      <td>-6.062700</td>\n",
       "      <td>-2.745630</td>\n",
       "      <td>3.317070</td>\n",
       "      <td>C#Cc1ccc(C#C)c2nsnc12</td>\n",
       "      <td>MCKUTUAYYLJECU-UHFFFAOYSA-N</td>\n",
       "      <td>3.317070</td>\n",
       "      <td>NaN</td>\n",
       "      <td>0.0</td>\n",
       "      <td>0</td>\n",
       "      <td>0.1219</td>\n",
       "      <td>C#Cc1ccc(C#C)c2nsnc12</td>\n",
       "      <td>0.205055</td>\n",
       "      <td>7.298977</td>\n",
       "    </tr>\n",
       "    <tr>\n",
       "      <th>1</th>\n",
       "      <td>1</td>\n",
       "      <td>1</td>\n",
       "      <td>MFGYUXHEJZRDAU-UHFFFAOYSA-N</td>\n",
       "      <td>O=C1c2ccsc2-c2scc(-c3cnc4cnccc4c3)c21</td>\n",
       "      <td>-5.760653</td>\n",
       "      <td>-2.704813</td>\n",
       "      <td>3.055840</td>\n",
       "      <td>O=C1c2ccsc2-c2scc(-c3cnc4cnccc4c3)c21</td>\n",
       "      <td>MFGYUXHEJZRDAU-UHFFFAOYSA-N</td>\n",
       "      <td>3.055840</td>\n",
       "      <td>NaN</td>\n",
       "      <td>0.0</td>\n",
       "      <td>0</td>\n",
       "      <td>0.1123</td>\n",
       "      <td>O=C1c2ccsc2-c2scc(-c3cnc4cnccc4c3)c21</td>\n",
       "      <td>0.178658</td>\n",
       "      <td>5.404352</td>\n",
       "    </tr>\n",
       "    <tr>\n",
       "      <th>2</th>\n",
       "      <td>2</td>\n",
       "      <td>2</td>\n",
       "      <td>GQZQCROBCYNTMU-UHFFFAOYSA-N</td>\n",
       "      <td>O=C(NNCS(=O)(=O)O)c1ccncc1</td>\n",
       "      <td>-6.974282</td>\n",
       "      <td>-1.039475</td>\n",
       "      <td>5.934807</td>\n",
       "      <td>O=C(NNCS(=O)(=O)O)c1ccncc1</td>\n",
       "      <td>GQZQCROBCYNTMU-UHFFFAOYSA-N</td>\n",
       "      <td>5.934807</td>\n",
       "      <td>NaN</td>\n",
       "      <td>0.0</td>\n",
       "      <td>0</td>\n",
       "      <td>0.2181</td>\n",
       "      <td>O=C(NNCS(=O)(=O)O)c1ccncc1</td>\n",
       "      <td>0.197064</td>\n",
       "      <td>5.781908</td>\n",
       "    </tr>\n",
       "    <tr>\n",
       "      <th>3</th>\n",
       "      <td>3</td>\n",
       "      <td>3</td>\n",
       "      <td>VXSOJAGKKDPBDJ-UHFFFAOYSA-N</td>\n",
       "      <td>CNc1c(-c2ccc3c(c2)-c2cc(SC)ccc2C3)ccc2c1Cc1ccc...</td>\n",
       "      <td>-5.164724</td>\n",
       "      <td>-0.897976</td>\n",
       "      <td>4.266748</td>\n",
       "      <td>CNc1c(-c2ccc3c(c2)-c2cc(SC)ccc2C3)ccc2c1Cc1ccc...</td>\n",
       "      <td>VXSOJAGKKDPBDJ-UHFFFAOYSA-N</td>\n",
       "      <td>4.266748</td>\n",
       "      <td>NaN</td>\n",
       "      <td>0.0</td>\n",
       "      <td>0</td>\n",
       "      <td>0.1568</td>\n",
       "      <td>CNc1c(-c2ccc3c(c2)-c2cc(SC)ccc2C3)ccc2c1Cc1ccc...</td>\n",
       "      <td>0.200182</td>\n",
       "      <td>4.738865</td>\n",
       "    </tr>\n",
       "    <tr>\n",
       "      <th>4</th>\n",
       "      <td>4</td>\n",
       "      <td>4</td>\n",
       "      <td>UXSNZYGTQTXRAD-UHFFFAOYSA-N</td>\n",
       "      <td>CC(=O)c1ccc(Cl)nc1</td>\n",
       "      <td>-7.031426</td>\n",
       "      <td>-1.948336</td>\n",
       "      <td>5.083090</td>\n",
       "      <td>CC(=O)c1ccc(Cl)nc1</td>\n",
       "      <td>UXSNZYGTQTXRAD-UHFFFAOYSA-N</td>\n",
       "      <td>5.083090</td>\n",
       "      <td>NaN</td>\n",
       "      <td>0.0</td>\n",
       "      <td>0</td>\n",
       "      <td>0.1868</td>\n",
       "      <td>CC(=O)c1ccc(Cl)nc1</td>\n",
       "      <td>0.181916</td>\n",
       "      <td>6.444023</td>\n",
       "    </tr>\n",
       "  </tbody>\n",
       "</table>\n",
       "</div>"
      ],
      "text/plain": [
       "   Unnamed: 0  Unnamed: 0.1                  compound_id  \\\n",
       "0           0             0  MCKUTUAYYLJECU-UHFFFAOYSA-N   \n",
       "1           1             1  MFGYUXHEJZRDAU-UHFFFAOYSA-N   \n",
       "2           2             2  GQZQCROBCYNTMU-UHFFFAOYSA-N   \n",
       "3           3             3  VXSOJAGKKDPBDJ-UHFFFAOYSA-N   \n",
       "4           4             4  UXSNZYGTQTXRAD-UHFFFAOYSA-N   \n",
       "\n",
       "                                              SMILES  HOMO_energy  \\\n",
       "0                              C#Cc1ccc(C#C)c2nsnc12    -6.062700   \n",
       "1              O=C1c2ccsc2-c2scc(-c3cnc4cnccc4c3)c21    -5.760653   \n",
       "2                         O=C(NNCS(=O)(=O)O)c1ccncc1    -6.974282   \n",
       "3  CNc1c(-c2ccc3c(c2)-c2cc(SC)ccc2C3)ccc2c1Cc1ccc...    -5.164724   \n",
       "4                                 CC(=O)c1ccc(Cl)nc1    -7.031426   \n",
       "\n",
       "   LUMO_energy  HOMO_LUMO_gap  \\\n",
       "0    -2.745630       3.317070   \n",
       "1    -2.704813       3.055840   \n",
       "2    -1.039475       5.934807   \n",
       "3    -0.897976       4.266748   \n",
       "4    -1.948336       5.083090   \n",
       "\n",
       "                                        rdkit_smiles  \\\n",
       "0                              C#Cc1ccc(C#C)c2nsnc12   \n",
       "1              O=C1c2ccsc2-c2scc(-c3cnc4cnccc4c3)c21   \n",
       "2                         O=C(NNCS(=O)(=O)O)c1ccncc1   \n",
       "3  CNc1c(-c2ccc3c(c2)-c2cc(SC)ccc2C3)ccc2c1Cc1ccc...   \n",
       "4                                 CC(=O)c1ccc(Cl)nc1   \n",
       "\n",
       "                     inchi_key  VALUE_NUM_mean  VALUE_NUM_std  Perc_Var  \\\n",
       "0  MCKUTUAYYLJECU-UHFFFAOYSA-N        3.317070            NaN       0.0   \n",
       "1  MFGYUXHEJZRDAU-UHFFFAOYSA-N        3.055840            NaN       0.0   \n",
       "2  GQZQCROBCYNTMU-UHFFFAOYSA-N        5.934807            NaN       0.0   \n",
       "3  VXSOJAGKKDPBDJ-UHFFFAOYSA-N        4.266748            NaN       0.0   \n",
       "4  UXSNZYGTQTXRAD-UHFFFAOYSA-N        5.083090            NaN       0.0   \n",
       "\n",
       "   Remove_BadDuplicate  adj_gap  \\\n",
       "0                    0   0.1219   \n",
       "1                    0   0.1123   \n",
       "2                    0   0.2181   \n",
       "3                    0   0.1568   \n",
       "4                    0   0.1868   \n",
       "\n",
       "                                         orig_smiles  VALUE_NUM_mean_pred  \\\n",
       "0                              C#Cc1ccc(C#C)c2nsnc12             0.205055   \n",
       "1              O=C1c2ccsc2-c2scc(-c3cnc4cnccc4c3)c21             0.178658   \n",
       "2                         O=C(NNCS(=O)(=O)O)c1ccncc1             0.197064   \n",
       "3  CNc1c(-c2ccc3c(c2)-c2cc(SC)ccc2C3)ccc2c1Cc1ccc...             0.200182   \n",
       "4                                 CC(=O)c1ccc(Cl)nc1             0.181916   \n",
       "\n",
       "   VALUE_NUM_mean_std  \n",
       "0            7.298977  \n",
       "1            5.404352  \n",
       "2            5.781908  \n",
       "3            4.738865  \n",
       "4            6.444023  "
      ]
     },
     "execution_count": 19,
     "metadata": {},
     "output_type": "execute_result"
    }
   ],
   "source": [
    "#results_df = pl.predict_on_dataframe(test_data, contains_responses=True)\n",
    "results_df.head()"
   ]
  },
  {
   "cell_type": "code",
   "execution_count": 20,
   "id": "21e83760-613e-4fd4-b71b-56741bbe16bd",
   "metadata": {},
   "outputs": [],
   "source": [
    "from sklearn.metrics import balanced_accuracy_score\n",
    "y_true = results_df['adj_gap'].values\n",
    "y_pred = results_df['VALUE_NUM_mean_pred'].values\n",
    "#balanced_accuracy_score(y_true, y_pred)"
   ]
  },
  {
   "cell_type": "code",
   "execution_count": 21,
   "id": "5fb4ac0d-c777-43ce-9b97-1f893d0358a3",
   "metadata": {},
   "outputs": [
    {
     "name": "stdout",
     "output_type": "stream",
     "text": [
      "0.1903534406397871\n"
     ]
    }
   ],
   "source": [
    "import numpy\n",
    "actual = results_df['adj_gap'].values\n",
    "predict = results_df['VALUE_NUM_mean_pred'].values\n",
    "\n",
    "corr_matrix = numpy.corrcoef(actual, predict)\n",
    "corr = corr_matrix[0,1]\n",
    "R_sq = corr**2\n",
    "\n",
    "print(R_sq)\n"
   ]
  },
  {
   "cell_type": "code",
   "execution_count": null,
   "id": "f8b3fd42-6fda-4d5c-b254-885310998241",
   "metadata": {},
   "outputs": [],
   "source": [
    "#Compare Kevins Data to OMUGS model"
   ]
  },
  {
   "cell_type": "code",
   "execution_count": 10,
   "id": "cad33c8c-8285-4ffb-aab5-f2f1d9418f30",
   "metadata": {},
   "outputs": [
    {
     "data": {
      "text/plain": [
       "'/home/jupyter/Summer_AMPL/Renate/QMUGS/Kevin-retrain-scaffold'"
      ]
     },
     "execution_count": 10,
     "metadata": {},
     "output_type": "execute_result"
    }
   ],
   "source": [
    "pwd"
   ]
  },
  {
   "cell_type": "code",
   "execution_count": 11,
   "id": "56baaf41-7794-424e-9eb7-4b7f8211670d",
   "metadata": {},
   "outputs": [],
   "source": [
    "test_data = pd.read_csv('select_Kevin_data_curated-Copy1.csv')"
   ]
  },
  {
   "cell_type": "code",
   "execution_count": 14,
   "id": "87ce5207-8965-4116-b121-c630e88a7ea3",
   "metadata": {},
   "outputs": [
    {
     "data": {
      "text/html": [
       "<div>\n",
       "<style scoped>\n",
       "    .dataframe tbody tr th:only-of-type {\n",
       "        vertical-align: middle;\n",
       "    }\n",
       "\n",
       "    .dataframe tbody tr th {\n",
       "        vertical-align: top;\n",
       "    }\n",
       "\n",
       "    .dataframe thead th {\n",
       "        text-align: right;\n",
       "    }\n",
       "</style>\n",
       "<table border=\"1\" class=\"dataframe\">\n",
       "  <thead>\n",
       "    <tr style=\"text-align: right;\">\n",
       "      <th></th>\n",
       "      <th>Unnamed: 0</th>\n",
       "      <th>Unnamed: 0.1</th>\n",
       "      <th>compound_id</th>\n",
       "      <th>SMILES</th>\n",
       "      <th>HOMO_energy</th>\n",
       "      <th>LUMO_energy</th>\n",
       "      <th>HOMO_LUMO_gap</th>\n",
       "      <th>rdkit_smiles</th>\n",
       "      <th>inchi_key</th>\n",
       "      <th>VALUE_NUM_mean</th>\n",
       "      <th>VALUE_NUM_std</th>\n",
       "      <th>Perc_Var</th>\n",
       "      <th>Remove_BadDuplicate</th>\n",
       "      <th>adj_gap</th>\n",
       "    </tr>\n",
       "  </thead>\n",
       "  <tbody>\n",
       "    <tr>\n",
       "      <th>0</th>\n",
       "      <td>0</td>\n",
       "      <td>0</td>\n",
       "      <td>MCKUTUAYYLJECU-UHFFFAOYSA-N</td>\n",
       "      <td>C#Cc1ccc(C#C)c2nsnc12</td>\n",
       "      <td>-6.062700</td>\n",
       "      <td>-2.745630</td>\n",
       "      <td>3.317070</td>\n",
       "      <td>C#Cc1ccc(C#C)c2nsnc12</td>\n",
       "      <td>MCKUTUAYYLJECU-UHFFFAOYSA-N</td>\n",
       "      <td>3.317070</td>\n",
       "      <td>NaN</td>\n",
       "      <td>0.0</td>\n",
       "      <td>0</td>\n",
       "      <td>0.1219</td>\n",
       "    </tr>\n",
       "    <tr>\n",
       "      <th>1</th>\n",
       "      <td>1</td>\n",
       "      <td>1</td>\n",
       "      <td>MFGYUXHEJZRDAU-UHFFFAOYSA-N</td>\n",
       "      <td>O=C1c2ccsc2-c2scc(-c3cnc4cnccc4c3)c21</td>\n",
       "      <td>-5.760653</td>\n",
       "      <td>-2.704813</td>\n",
       "      <td>3.055840</td>\n",
       "      <td>O=C1c2ccsc2-c2scc(-c3cnc4cnccc4c3)c21</td>\n",
       "      <td>MFGYUXHEJZRDAU-UHFFFAOYSA-N</td>\n",
       "      <td>3.055840</td>\n",
       "      <td>NaN</td>\n",
       "      <td>0.0</td>\n",
       "      <td>0</td>\n",
       "      <td>0.1123</td>\n",
       "    </tr>\n",
       "    <tr>\n",
       "      <th>2</th>\n",
       "      <td>2</td>\n",
       "      <td>2</td>\n",
       "      <td>GQZQCROBCYNTMU-UHFFFAOYSA-N</td>\n",
       "      <td>O=C(NNCS(=O)(=O)O)c1ccncc1</td>\n",
       "      <td>-6.974282</td>\n",
       "      <td>-1.039475</td>\n",
       "      <td>5.934807</td>\n",
       "      <td>O=C(NNCS(=O)(=O)O)c1ccncc1</td>\n",
       "      <td>GQZQCROBCYNTMU-UHFFFAOYSA-N</td>\n",
       "      <td>5.934807</td>\n",
       "      <td>NaN</td>\n",
       "      <td>0.0</td>\n",
       "      <td>0</td>\n",
       "      <td>0.2181</td>\n",
       "    </tr>\n",
       "    <tr>\n",
       "      <th>3</th>\n",
       "      <td>3</td>\n",
       "      <td>3</td>\n",
       "      <td>VXSOJAGKKDPBDJ-UHFFFAOYSA-N</td>\n",
       "      <td>CNc1c(-c2ccc3c(c2)-c2cc(SC)ccc2C3)ccc2c1Cc1ccc...</td>\n",
       "      <td>-5.164724</td>\n",
       "      <td>-0.897976</td>\n",
       "      <td>4.266748</td>\n",
       "      <td>CNc1c(-c2ccc3c(c2)-c2cc(SC)ccc2C3)ccc2c1Cc1ccc...</td>\n",
       "      <td>VXSOJAGKKDPBDJ-UHFFFAOYSA-N</td>\n",
       "      <td>4.266748</td>\n",
       "      <td>NaN</td>\n",
       "      <td>0.0</td>\n",
       "      <td>0</td>\n",
       "      <td>0.1568</td>\n",
       "    </tr>\n",
       "    <tr>\n",
       "      <th>4</th>\n",
       "      <td>4</td>\n",
       "      <td>4</td>\n",
       "      <td>UXSNZYGTQTXRAD-UHFFFAOYSA-N</td>\n",
       "      <td>CC(=O)c1ccc(Cl)nc1</td>\n",
       "      <td>-7.031426</td>\n",
       "      <td>-1.948336</td>\n",
       "      <td>5.083090</td>\n",
       "      <td>CC(=O)c1ccc(Cl)nc1</td>\n",
       "      <td>UXSNZYGTQTXRAD-UHFFFAOYSA-N</td>\n",
       "      <td>5.083090</td>\n",
       "      <td>NaN</td>\n",
       "      <td>0.0</td>\n",
       "      <td>0</td>\n",
       "      <td>0.1868</td>\n",
       "    </tr>\n",
       "  </tbody>\n",
       "</table>\n",
       "</div>"
      ],
      "text/plain": [
       "   Unnamed: 0  Unnamed: 0.1                  compound_id  \\\n",
       "0           0             0  MCKUTUAYYLJECU-UHFFFAOYSA-N   \n",
       "1           1             1  MFGYUXHEJZRDAU-UHFFFAOYSA-N   \n",
       "2           2             2  GQZQCROBCYNTMU-UHFFFAOYSA-N   \n",
       "3           3             3  VXSOJAGKKDPBDJ-UHFFFAOYSA-N   \n",
       "4           4             4  UXSNZYGTQTXRAD-UHFFFAOYSA-N   \n",
       "\n",
       "                                              SMILES  HOMO_energy  \\\n",
       "0                              C#Cc1ccc(C#C)c2nsnc12    -6.062700   \n",
       "1              O=C1c2ccsc2-c2scc(-c3cnc4cnccc4c3)c21    -5.760653   \n",
       "2                         O=C(NNCS(=O)(=O)O)c1ccncc1    -6.974282   \n",
       "3  CNc1c(-c2ccc3c(c2)-c2cc(SC)ccc2C3)ccc2c1Cc1ccc...    -5.164724   \n",
       "4                                 CC(=O)c1ccc(Cl)nc1    -7.031426   \n",
       "\n",
       "   LUMO_energy  HOMO_LUMO_gap  \\\n",
       "0    -2.745630       3.317070   \n",
       "1    -2.704813       3.055840   \n",
       "2    -1.039475       5.934807   \n",
       "3    -0.897976       4.266748   \n",
       "4    -1.948336       5.083090   \n",
       "\n",
       "                                        rdkit_smiles  \\\n",
       "0                              C#Cc1ccc(C#C)c2nsnc12   \n",
       "1              O=C1c2ccsc2-c2scc(-c3cnc4cnccc4c3)c21   \n",
       "2                         O=C(NNCS(=O)(=O)O)c1ccncc1   \n",
       "3  CNc1c(-c2ccc3c(c2)-c2cc(SC)ccc2C3)ccc2c1Cc1ccc...   \n",
       "4                                 CC(=O)c1ccc(Cl)nc1   \n",
       "\n",
       "                     inchi_key  VALUE_NUM_mean  VALUE_NUM_std  Perc_Var  \\\n",
       "0  MCKUTUAYYLJECU-UHFFFAOYSA-N        3.317070            NaN       0.0   \n",
       "1  MFGYUXHEJZRDAU-UHFFFAOYSA-N        3.055840            NaN       0.0   \n",
       "2  GQZQCROBCYNTMU-UHFFFAOYSA-N        5.934807            NaN       0.0   \n",
       "3  VXSOJAGKKDPBDJ-UHFFFAOYSA-N        4.266748            NaN       0.0   \n",
       "4  UXSNZYGTQTXRAD-UHFFFAOYSA-N        5.083090            NaN       0.0   \n",
       "\n",
       "   Remove_BadDuplicate  adj_gap  \n",
       "0                    0   0.1219  \n",
       "1                    0   0.1123  \n",
       "2                    0   0.2181  \n",
       "3                    0   0.1568  \n",
       "4                    0   0.1868  "
      ]
     },
     "execution_count": 14,
     "metadata": {},
     "output_type": "execute_result"
    }
   ],
   "source": [
    "test_data.head()"
   ]
  },
  {
   "cell_type": "code",
   "execution_count": 13,
   "id": "633aed61-ab05-4db6-ae46-c3f8ae6f5dbf",
   "metadata": {},
   "outputs": [],
   "source": [
    "test_data['adj_gap']=test_data['HOMO_LUMO_gap']/27.2114079527"
   ]
  },
  {
   "cell_type": "code",
   "execution_count": 16,
   "id": "d4a805eb-5f99-4205-8613-15af329d74af",
   "metadata": {},
   "outputs": [
    {
     "name": "stdout",
     "output_type": "stream",
     "text": [
      "/home/jupyter/Summer_AMPL/Renate/QMUGS/Optimal_Model\n"
     ]
    }
   ],
   "source": [
    "cd /home/jupyter/Summer_AMPL/Renate/QMUGS/Optimal_Model"
   ]
  },
  {
   "cell_type": "code",
   "execution_count": 17,
   "id": "d5974c92-53ab-42bc-abd4-0a2a7c735d83",
   "metadata": {},
   "outputs": [
    {
     "name": "stdout",
     "output_type": "stream",
     "text": [
      "select_qm9_data_curated_model_fb039716-e37e-411f-b3c8-c680713dee30.tar.gz\n"
     ]
    }
   ],
   "source": [
    "import os\n",
    "files = os.listdir()\n",
    "for f in files: \n",
    "  if (f.endswith(\".tar.gz\")):\n",
    "    mfile = f \n",
    "\n",
    "print(mfile)"
   ]
  },
  {
   "cell_type": "code",
   "execution_count": 18,
   "id": "901c0385-e43c-4007-adb9-504ff2c739e6",
   "metadata": {},
   "outputs": [
    {
     "name": "stdout",
     "output_type": "stream",
     "text": [
      "Standardizing SMILES strings for 37486 compounds.\n"
     ]
    },
    {
     "name": "stderr",
     "output_type": "stream",
     "text": [
      "[19:34:33] Can't kekulize mol.  Unkekulized atoms: 3 10\n",
      "[19:35:00] Can't kekulize mol.  Unkekulized atoms: 3 10\n",
      "2023-07-23 19:35:11,862 select_qm9_data_curated_model_fb039716-e37e-411f-b3c8-c680713dee30.tar.gz, 1.5.1\n",
      "2023-07-23 19:35:11,866 Version compatible check: select_qm9_data_curated_model_fb039716-e37e-411f-b3c8-c680713dee30.tar.gz version = \"1.5\", AMPL version = \"1.5\"\n",
      "2023-07-23 19:35:12,205 ['ampl_version', 'time_generated', 'best_epoch', 'time_built', 'dataset_hash', 'dataset_metadata', 'training_metrics'] are not part of the accepted list of parameters and will be ignored\n",
      "2023-07-23 19:35:12,479 Created a dataset hash 'ae754ed88fc106c31c9fea2b886ab532' from dataset_key '/home/jupyter/Summer_AMPL/Renate/QM9_Curation/Param_optimization/select_qm9_data_curated.csv'\n"
     ]
    },
    {
     "name": "stdout",
     "output_type": "stream",
     "text": [
      "num_model_tasks is deprecated and its value is ignored.\n"
     ]
    },
    {
     "name": "stderr",
     "output_type": "stream",
     "text": [
      "2023-07-23 19:35:13,420 Featurization = DynamicFeaturization with ecfp features\n"
     ]
    },
    {
     "name": "stdout",
     "output_type": "stream",
     "text": [
      "['/var/tmp/tmpndezp2ro/best_model/checkpoint1.pt']\n",
      "/var/tmp/tmpndezp2ro/best_model/checkpoint1.pt\n"
     ]
    }
   ],
   "source": [
    "from atomsci.ddm.pipeline import predict_from_model as pfm\n",
    "mfile = \"select_qm9_data_curated_model_fb039716-e37e-411f-b3c8-c680713dee30.tar.gz\"\n",
    "#mfile = \"Summer_AMPL/Renate/Kevin_Model_2/Kevin_Moel/FMO_energy_graphconv_fingerprint_split_model_d852304e-cd01-43b1-91ca-15125b225fc6.tar.gz\"\n",
    "mpath = '/content'\n",
    "input_df = test_data\n",
    "response_col = \"gap\"\n",
    "compound_id = 'compound_id'\n",
    "smiles_col = \"rdkit_smiles\"\n",
    "results_df = pfm.predict_from_model_file(model_path = mfile, \n",
    "                            input_df = input_df, \n",
    "                            smiles_col = smiles_col, \n",
    "                            response_col = response_col)"
   ]
  },
  {
   "cell_type": "code",
   "execution_count": 22,
   "id": "0a5d44c9-07dc-44d7-adf8-5c670cff36e3",
   "metadata": {},
   "outputs": [
    {
     "data": {
      "text/html": [
       "<div>\n",
       "<style scoped>\n",
       "    .dataframe tbody tr th:only-of-type {\n",
       "        vertical-align: middle;\n",
       "    }\n",
       "\n",
       "    .dataframe tbody tr th {\n",
       "        vertical-align: top;\n",
       "    }\n",
       "\n",
       "    .dataframe thead th {\n",
       "        text-align: right;\n",
       "    }\n",
       "</style>\n",
       "<table border=\"1\" class=\"dataframe\">\n",
       "  <thead>\n",
       "    <tr style=\"text-align: right;\">\n",
       "      <th></th>\n",
       "      <th>Unnamed: 0</th>\n",
       "      <th>Unnamed: 0.1</th>\n",
       "      <th>compound_id</th>\n",
       "      <th>SMILES</th>\n",
       "      <th>HOMO_energy</th>\n",
       "      <th>LUMO_energy</th>\n",
       "      <th>HOMO_LUMO_gap</th>\n",
       "      <th>rdkit_smiles</th>\n",
       "      <th>inchi_key</th>\n",
       "      <th>VALUE_NUM_mean</th>\n",
       "      <th>VALUE_NUM_std</th>\n",
       "      <th>Perc_Var</th>\n",
       "      <th>Remove_BadDuplicate</th>\n",
       "      <th>adj_gap</th>\n",
       "      <th>orig_smiles</th>\n",
       "      <th>VALUE_NUM_mean_pred</th>\n",
       "      <th>VALUE_NUM_mean_std</th>\n",
       "    </tr>\n",
       "  </thead>\n",
       "  <tbody>\n",
       "    <tr>\n",
       "      <th>0</th>\n",
       "      <td>0</td>\n",
       "      <td>0</td>\n",
       "      <td>MCKUTUAYYLJECU-UHFFFAOYSA-N</td>\n",
       "      <td>C#Cc1ccc(C#C)c2nsnc12</td>\n",
       "      <td>-6.062700</td>\n",
       "      <td>-2.745630</td>\n",
       "      <td>3.317070</td>\n",
       "      <td>C#Cc1ccc(C#C)c2nsnc12</td>\n",
       "      <td>MCKUTUAYYLJECU-UHFFFAOYSA-N</td>\n",
       "      <td>3.317070</td>\n",
       "      <td>NaN</td>\n",
       "      <td>0.0</td>\n",
       "      <td>0</td>\n",
       "      <td>0.1219</td>\n",
       "      <td>C#Cc1ccc(C#C)c2nsnc12</td>\n",
       "      <td>0.205055</td>\n",
       "      <td>7.298977</td>\n",
       "    </tr>\n",
       "    <tr>\n",
       "      <th>1</th>\n",
       "      <td>1</td>\n",
       "      <td>1</td>\n",
       "      <td>MFGYUXHEJZRDAU-UHFFFAOYSA-N</td>\n",
       "      <td>O=C1c2ccsc2-c2scc(-c3cnc4cnccc4c3)c21</td>\n",
       "      <td>-5.760653</td>\n",
       "      <td>-2.704813</td>\n",
       "      <td>3.055840</td>\n",
       "      <td>O=C1c2ccsc2-c2scc(-c3cnc4cnccc4c3)c21</td>\n",
       "      <td>MFGYUXHEJZRDAU-UHFFFAOYSA-N</td>\n",
       "      <td>3.055840</td>\n",
       "      <td>NaN</td>\n",
       "      <td>0.0</td>\n",
       "      <td>0</td>\n",
       "      <td>0.1123</td>\n",
       "      <td>O=C1c2ccsc2-c2scc(-c3cnc4cnccc4c3)c21</td>\n",
       "      <td>0.178658</td>\n",
       "      <td>5.404352</td>\n",
       "    </tr>\n",
       "    <tr>\n",
       "      <th>2</th>\n",
       "      <td>2</td>\n",
       "      <td>2</td>\n",
       "      <td>GQZQCROBCYNTMU-UHFFFAOYSA-N</td>\n",
       "      <td>O=C(NNCS(=O)(=O)O)c1ccncc1</td>\n",
       "      <td>-6.974282</td>\n",
       "      <td>-1.039475</td>\n",
       "      <td>5.934807</td>\n",
       "      <td>O=C(NNCS(=O)(=O)O)c1ccncc1</td>\n",
       "      <td>GQZQCROBCYNTMU-UHFFFAOYSA-N</td>\n",
       "      <td>5.934807</td>\n",
       "      <td>NaN</td>\n",
       "      <td>0.0</td>\n",
       "      <td>0</td>\n",
       "      <td>0.2181</td>\n",
       "      <td>O=C(NNCS(=O)(=O)O)c1ccncc1</td>\n",
       "      <td>0.197064</td>\n",
       "      <td>5.781908</td>\n",
       "    </tr>\n",
       "    <tr>\n",
       "      <th>3</th>\n",
       "      <td>3</td>\n",
       "      <td>3</td>\n",
       "      <td>VXSOJAGKKDPBDJ-UHFFFAOYSA-N</td>\n",
       "      <td>CNc1c(-c2ccc3c(c2)-c2cc(SC)ccc2C3)ccc2c1Cc1ccc...</td>\n",
       "      <td>-5.164724</td>\n",
       "      <td>-0.897976</td>\n",
       "      <td>4.266748</td>\n",
       "      <td>CNc1c(-c2ccc3c(c2)-c2cc(SC)ccc2C3)ccc2c1Cc1ccc...</td>\n",
       "      <td>VXSOJAGKKDPBDJ-UHFFFAOYSA-N</td>\n",
       "      <td>4.266748</td>\n",
       "      <td>NaN</td>\n",
       "      <td>0.0</td>\n",
       "      <td>0</td>\n",
       "      <td>0.1568</td>\n",
       "      <td>CNc1c(-c2ccc3c(c2)-c2cc(SC)ccc2C3)ccc2c1Cc1ccc...</td>\n",
       "      <td>0.200182</td>\n",
       "      <td>4.738865</td>\n",
       "    </tr>\n",
       "    <tr>\n",
       "      <th>4</th>\n",
       "      <td>4</td>\n",
       "      <td>4</td>\n",
       "      <td>UXSNZYGTQTXRAD-UHFFFAOYSA-N</td>\n",
       "      <td>CC(=O)c1ccc(Cl)nc1</td>\n",
       "      <td>-7.031426</td>\n",
       "      <td>-1.948336</td>\n",
       "      <td>5.083090</td>\n",
       "      <td>CC(=O)c1ccc(Cl)nc1</td>\n",
       "      <td>UXSNZYGTQTXRAD-UHFFFAOYSA-N</td>\n",
       "      <td>5.083090</td>\n",
       "      <td>NaN</td>\n",
       "      <td>0.0</td>\n",
       "      <td>0</td>\n",
       "      <td>0.1868</td>\n",
       "      <td>CC(=O)c1ccc(Cl)nc1</td>\n",
       "      <td>0.181916</td>\n",
       "      <td>6.444023</td>\n",
       "    </tr>\n",
       "  </tbody>\n",
       "</table>\n",
       "</div>"
      ],
      "text/plain": [
       "   Unnamed: 0  Unnamed: 0.1                  compound_id  \\\n",
       "0           0             0  MCKUTUAYYLJECU-UHFFFAOYSA-N   \n",
       "1           1             1  MFGYUXHEJZRDAU-UHFFFAOYSA-N   \n",
       "2           2             2  GQZQCROBCYNTMU-UHFFFAOYSA-N   \n",
       "3           3             3  VXSOJAGKKDPBDJ-UHFFFAOYSA-N   \n",
       "4           4             4  UXSNZYGTQTXRAD-UHFFFAOYSA-N   \n",
       "\n",
       "                                              SMILES  HOMO_energy  \\\n",
       "0                              C#Cc1ccc(C#C)c2nsnc12    -6.062700   \n",
       "1              O=C1c2ccsc2-c2scc(-c3cnc4cnccc4c3)c21    -5.760653   \n",
       "2                         O=C(NNCS(=O)(=O)O)c1ccncc1    -6.974282   \n",
       "3  CNc1c(-c2ccc3c(c2)-c2cc(SC)ccc2C3)ccc2c1Cc1ccc...    -5.164724   \n",
       "4                                 CC(=O)c1ccc(Cl)nc1    -7.031426   \n",
       "\n",
       "   LUMO_energy  HOMO_LUMO_gap  \\\n",
       "0    -2.745630       3.317070   \n",
       "1    -2.704813       3.055840   \n",
       "2    -1.039475       5.934807   \n",
       "3    -0.897976       4.266748   \n",
       "4    -1.948336       5.083090   \n",
       "\n",
       "                                        rdkit_smiles  \\\n",
       "0                              C#Cc1ccc(C#C)c2nsnc12   \n",
       "1              O=C1c2ccsc2-c2scc(-c3cnc4cnccc4c3)c21   \n",
       "2                         O=C(NNCS(=O)(=O)O)c1ccncc1   \n",
       "3  CNc1c(-c2ccc3c(c2)-c2cc(SC)ccc2C3)ccc2c1Cc1ccc...   \n",
       "4                                 CC(=O)c1ccc(Cl)nc1   \n",
       "\n",
       "                     inchi_key  VALUE_NUM_mean  VALUE_NUM_std  Perc_Var  \\\n",
       "0  MCKUTUAYYLJECU-UHFFFAOYSA-N        3.317070            NaN       0.0   \n",
       "1  MFGYUXHEJZRDAU-UHFFFAOYSA-N        3.055840            NaN       0.0   \n",
       "2  GQZQCROBCYNTMU-UHFFFAOYSA-N        5.934807            NaN       0.0   \n",
       "3  VXSOJAGKKDPBDJ-UHFFFAOYSA-N        4.266748            NaN       0.0   \n",
       "4  UXSNZYGTQTXRAD-UHFFFAOYSA-N        5.083090            NaN       0.0   \n",
       "\n",
       "   Remove_BadDuplicate  adj_gap  \\\n",
       "0                    0   0.1219   \n",
       "1                    0   0.1123   \n",
       "2                    0   0.2181   \n",
       "3                    0   0.1568   \n",
       "4                    0   0.1868   \n",
       "\n",
       "                                         orig_smiles  VALUE_NUM_mean_pred  \\\n",
       "0                              C#Cc1ccc(C#C)c2nsnc12             0.205055   \n",
       "1              O=C1c2ccsc2-c2scc(-c3cnc4cnccc4c3)c21             0.178658   \n",
       "2                         O=C(NNCS(=O)(=O)O)c1ccncc1             0.197064   \n",
       "3  CNc1c(-c2ccc3c(c2)-c2cc(SC)ccc2C3)ccc2c1Cc1ccc...             0.200182   \n",
       "4                                 CC(=O)c1ccc(Cl)nc1             0.181916   \n",
       "\n",
       "   VALUE_NUM_mean_std  \n",
       "0            7.298977  \n",
       "1            5.404352  \n",
       "2            5.781908  \n",
       "3            4.738865  \n",
       "4            6.444023  "
      ]
     },
     "execution_count": 22,
     "metadata": {},
     "output_type": "execute_result"
    }
   ],
   "source": [
    "results_df.head() #Kevins"
   ]
  },
  {
   "cell_type": "code",
   "execution_count": 24,
   "id": "e244b51c-4264-46a4-8a5f-212cdabef920",
   "metadata": {},
   "outputs": [
    {
     "name": "stdout",
     "output_type": "stream",
     "text": [
      "0.1903534406397871\n"
     ]
    }
   ],
   "source": [
    "import numpy #Kevins\n",
    "actual = results_df['adj_gap'].values\n",
    "predict = results_df['VALUE_NUM_mean_pred'].values\n",
    "\n",
    "corr_matrix = numpy.corrcoef(actual, predict)\n",
    "corr = corr_matrix[0,1]\n",
    "R_sq = corr**2\n",
    "\n",
    "print(R_sq)\n"
   ]
  },
  {
   "cell_type": "code",
   "execution_count": null,
   "id": "f24008a0-560a-4d16-a441-3e6698580d54",
   "metadata": {},
   "outputs": [],
   "source": [
    "#QMUGS"
   ]
  },
  {
   "cell_type": "code",
   "execution_count": 9,
   "id": "4e97a3bf-8fe3-461a-aa36-d91f51ee59ef",
   "metadata": {},
   "outputs": [
    {
     "name": "stdout",
     "output_type": "stream",
     "text": [
      "/home/jupyter/Summer_AMPL/Renate/QMUGS/Kevin-retrain-scaffold\n"
     ]
    }
   ],
   "source": [
    "cd /home/jupyter/Summer_AMPL/Renate/QMUGS/Kevin-retrain-scaffold"
   ]
  },
  {
   "cell_type": "code",
   "execution_count": 10,
   "id": "c457a561-9d19-4330-8c59-bef67c936afa",
   "metadata": {},
   "outputs": [],
   "source": [
    "test_data = pd.read_csv('curated_QMugs_0.7_adj.csv')"
   ]
  },
  {
   "cell_type": "code",
   "execution_count": 18,
   "id": "e0571c50-3b20-4faf-898c-dc4ca8107767",
   "metadata": {},
   "outputs": [],
   "source": [
    "#df_sample = test_data.sample(frac=0.7)"
   ]
  },
  {
   "cell_type": "code",
   "execution_count": 19,
   "id": "39627194-a698-41e2-a542-911be2f12944",
   "metadata": {},
   "outputs": [
    {
     "data": {
      "text/html": [
       "<div>\n",
       "<style scoped>\n",
       "    .dataframe tbody tr th:only-of-type {\n",
       "        vertical-align: middle;\n",
       "    }\n",
       "\n",
       "    .dataframe tbody tr th {\n",
       "        vertical-align: top;\n",
       "    }\n",
       "\n",
       "    .dataframe thead th {\n",
       "        text-align: right;\n",
       "    }\n",
       "</style>\n",
       "<table border=\"1\" class=\"dataframe\">\n",
       "  <thead>\n",
       "    <tr style=\"text-align: right;\">\n",
       "      <th></th>\n",
       "      <th>Unnamed: 0</th>\n",
       "      <th>Unnamed: 0.1</th>\n",
       "      <th>chembl_id</th>\n",
       "      <th>smiles</th>\n",
       "      <th>mw</th>\n",
       "      <th>GFN2_HOMO_LUMO_GAP</th>\n",
       "      <th>DFT_HOMO_LUMO_GAP</th>\n",
       "      <th>rdkit_smiles</th>\n",
       "      <th>inchi_key</th>\n",
       "      <th>compound_id</th>\n",
       "      <th>VALUE_NUM_mean</th>\n",
       "      <th>VALUE_NUM_std</th>\n",
       "      <th>Perc_Var</th>\n",
       "      <th>Remove_BadDuplicate</th>\n",
       "      <th>orig_smiles</th>\n",
       "    </tr>\n",
       "  </thead>\n",
       "  <tbody>\n",
       "    <tr>\n",
       "      <th>0</th>\n",
       "      <td>97904</td>\n",
       "      <td>294835</td>\n",
       "      <td>CHEMBL169083</td>\n",
       "      <td>[H]c1c(C([H])([H])[H])c([H])c(C([H])([H])[H])c...</td>\n",
       "      <td>410.268176</td>\n",
       "      <td>0.117009</td>\n",
       "      <td>0.313565</td>\n",
       "      <td>COCCN(CCOC)c1nc(C)nc2c1c(C)c(C)n2-c1c(C)cc(C)cc1C</td>\n",
       "      <td>DUOINMAEZBCFIG-UHFFFAOYSA-N</td>\n",
       "      <td>DUOINMAEZBCFIG-UHFFFAOYSA-N</td>\n",
       "      <td>0.312912</td>\n",
       "      <td>0.000578</td>\n",
       "      <td>0.208585</td>\n",
       "      <td>0</td>\n",
       "      <td>COCCN(CCOC)c1nc(C)nc2c1c(C)c(C)n2-c1c(C)cc(C)cc1C</td>\n",
       "    </tr>\n",
       "    <tr>\n",
       "      <th>1</th>\n",
       "      <td>72269</td>\n",
       "      <td>217448</td>\n",
       "      <td>CHEMBL1511086</td>\n",
       "      <td>[H]c1nc(C([H])([H])[H])c(N2C([H])([H])C([H])([...</td>\n",
       "      <td>399.187067</td>\n",
       "      <td>0.052332</td>\n",
       "      <td>0.277269</td>\n",
       "      <td>Cc1cnc(C)c(N2CCN(Cc3nc(-c4cccc(F)c4F)oc3C)CC2)n1</td>\n",
       "      <td>VEJMHPWUJLAZHK-UHFFFAOYSA-N</td>\n",
       "      <td>VEJMHPWUJLAZHK-UHFFFAOYSA-N</td>\n",
       "      <td>0.282953</td>\n",
       "      <td>0.007160</td>\n",
       "      <td>2.008692</td>\n",
       "      <td>0</td>\n",
       "      <td>Cc1cnc(C)c(N2CCN(Cc3nc(-c4cccc(F)c4F)oc3C)CC2)n1</td>\n",
       "    </tr>\n",
       "    <tr>\n",
       "      <th>2</th>\n",
       "      <td>243335</td>\n",
       "      <td>734247</td>\n",
       "      <td>CHEMBL271247</td>\n",
       "      <td>[H]c1c([H])c([H])c(N(C([H])([H])c2c([H])c(Cl)c...</td>\n",
       "      <td>325.134575</td>\n",
       "      <td>0.064064</td>\n",
       "      <td>0.273808</td>\n",
       "      <td>N#Cc1ccc(Cl)cc1CN(c1ccccc1)C1CCNCC1</td>\n",
       "      <td>RWCCKHBTGXKDKL-UHFFFAOYSA-N</td>\n",
       "      <td>RWCCKHBTGXKDKL-UHFFFAOYSA-N</td>\n",
       "      <td>0.275212</td>\n",
       "      <td>0.002066</td>\n",
       "      <td>0.510303</td>\n",
       "      <td>0</td>\n",
       "      <td>N#Cc1ccc(Cl)cc1CN(c1ccccc1)C1CCNCC1</td>\n",
       "    </tr>\n",
       "    <tr>\n",
       "      <th>3</th>\n",
       "      <td>191238</td>\n",
       "      <td>576862</td>\n",
       "      <td>CHEMBL222107</td>\n",
       "      <td>[H]OC(=O)[C@]([H])(C([H])([H])c1c([H])nc(OC([H...</td>\n",
       "      <td>408.204907</td>\n",
       "      <td>0.110230</td>\n",
       "      <td>0.306831</td>\n",
       "      <td>Cc1oc(-c2ccccc2)nc1CCOc1ccc(C[C@H](CC(C)C)C(=O...</td>\n",
       "      <td>PZBKYICTVQFMDF-FQEVSTJZSA-N</td>\n",
       "      <td>PZBKYICTVQFMDF-FQEVSTJZSA-N</td>\n",
       "      <td>0.304123</td>\n",
       "      <td>0.004618</td>\n",
       "      <td>0.890283</td>\n",
       "      <td>0</td>\n",
       "      <td>Cc1oc(-c2ccccc2)nc1CCOc1ccc(C[C@H](CC(C)C)C(=O...</td>\n",
       "    </tr>\n",
       "    <tr>\n",
       "      <th>4</th>\n",
       "      <td>411224</td>\n",
       "      <td>1243109</td>\n",
       "      <td>CHEMBL3729230</td>\n",
       "      <td>[H]Oc1c([H])c([H])c(C(=O)N(c2c([H])c([H])c(-c3...</td>\n",
       "      <td>580.178041</td>\n",
       "      <td>0.099695</td>\n",
       "      <td>0.291448</td>\n",
       "      <td>Cc1cc(S(=O)(=O)NCc2cccnc2)cnc1-c1ccc(N(Cc2cccc...</td>\n",
       "      <td>BGNSNJNOWXVGOS-UHFFFAOYSA-N</td>\n",
       "      <td>BGNSNJNOWXVGOS-UHFFFAOYSA-N</td>\n",
       "      <td>0.294735</td>\n",
       "      <td>0.006346</td>\n",
       "      <td>1.115123</td>\n",
       "      <td>0</td>\n",
       "      <td>Cc1cc(S(=O)(=O)NCc2cccnc2)cnc1-c1ccc(N(Cc2cccc...</td>\n",
       "    </tr>\n",
       "  </tbody>\n",
       "</table>\n",
       "</div>"
      ],
      "text/plain": [
       "   Unnamed: 0  Unnamed: 0.1      chembl_id  \\\n",
       "0       97904        294835   CHEMBL169083   \n",
       "1       72269        217448  CHEMBL1511086   \n",
       "2      243335        734247   CHEMBL271247   \n",
       "3      191238        576862   CHEMBL222107   \n",
       "4      411224       1243109  CHEMBL3729230   \n",
       "\n",
       "                                              smiles          mw  \\\n",
       "0  [H]c1c(C([H])([H])[H])c([H])c(C([H])([H])[H])c...  410.268176   \n",
       "1  [H]c1nc(C([H])([H])[H])c(N2C([H])([H])C([H])([...  399.187067   \n",
       "2  [H]c1c([H])c([H])c(N(C([H])([H])c2c([H])c(Cl)c...  325.134575   \n",
       "3  [H]OC(=O)[C@]([H])(C([H])([H])c1c([H])nc(OC([H...  408.204907   \n",
       "4  [H]Oc1c([H])c([H])c(C(=O)N(c2c([H])c([H])c(-c3...  580.178041   \n",
       "\n",
       "   GFN2_HOMO_LUMO_GAP  DFT_HOMO_LUMO_GAP  \\\n",
       "0            0.117009           0.313565   \n",
       "1            0.052332           0.277269   \n",
       "2            0.064064           0.273808   \n",
       "3            0.110230           0.306831   \n",
       "4            0.099695           0.291448   \n",
       "\n",
       "                                        rdkit_smiles  \\\n",
       "0  COCCN(CCOC)c1nc(C)nc2c1c(C)c(C)n2-c1c(C)cc(C)cc1C   \n",
       "1   Cc1cnc(C)c(N2CCN(Cc3nc(-c4cccc(F)c4F)oc3C)CC2)n1   \n",
       "2                N#Cc1ccc(Cl)cc1CN(c1ccccc1)C1CCNCC1   \n",
       "3  Cc1oc(-c2ccccc2)nc1CCOc1ccc(C[C@H](CC(C)C)C(=O...   \n",
       "4  Cc1cc(S(=O)(=O)NCc2cccnc2)cnc1-c1ccc(N(Cc2cccc...   \n",
       "\n",
       "                     inchi_key                  compound_id  VALUE_NUM_mean  \\\n",
       "0  DUOINMAEZBCFIG-UHFFFAOYSA-N  DUOINMAEZBCFIG-UHFFFAOYSA-N        0.312912   \n",
       "1  VEJMHPWUJLAZHK-UHFFFAOYSA-N  VEJMHPWUJLAZHK-UHFFFAOYSA-N        0.282953   \n",
       "2  RWCCKHBTGXKDKL-UHFFFAOYSA-N  RWCCKHBTGXKDKL-UHFFFAOYSA-N        0.275212   \n",
       "3  PZBKYICTVQFMDF-FQEVSTJZSA-N  PZBKYICTVQFMDF-FQEVSTJZSA-N        0.304123   \n",
       "4  BGNSNJNOWXVGOS-UHFFFAOYSA-N  BGNSNJNOWXVGOS-UHFFFAOYSA-N        0.294735   \n",
       "\n",
       "   VALUE_NUM_std  Perc_Var  Remove_BadDuplicate  \\\n",
       "0       0.000578  0.208585                    0   \n",
       "1       0.007160  2.008692                    0   \n",
       "2       0.002066  0.510303                    0   \n",
       "3       0.004618  0.890283                    0   \n",
       "4       0.006346  1.115123                    0   \n",
       "\n",
       "                                         orig_smiles  \n",
       "0  COCCN(CCOC)c1nc(C)nc2c1c(C)c(C)n2-c1c(C)cc(C)cc1C  \n",
       "1   Cc1cnc(C)c(N2CCN(Cc3nc(-c4cccc(F)c4F)oc3C)CC2)n1  \n",
       "2                N#Cc1ccc(Cl)cc1CN(c1ccccc1)C1CCNCC1  \n",
       "3  Cc1oc(-c2ccccc2)nc1CCOc1ccc(C[C@H](CC(C)C)C(=O...  \n",
       "4  Cc1cc(S(=O)(=O)NCc2cccnc2)cnc1-c1ccc(N(Cc2cccc...  "
      ]
     },
     "execution_count": 19,
     "metadata": {},
     "output_type": "execute_result"
    }
   ],
   "source": [
    "test_data.head()"
   ]
  },
  {
   "cell_type": "code",
   "execution_count": null,
   "id": "6ac12396-c994-421f-9326-35df14353a72",
   "metadata": {},
   "outputs": [],
   "source": []
  },
  {
   "cell_type": "code",
   "execution_count": 12,
   "id": "e2c30122-1b5e-48ca-a68b-8d8973a0476b",
   "metadata": {},
   "outputs": [
    {
     "ename": "NameError",
     "evalue": "name 'df_sample' is not defined",
     "output_type": "error",
     "traceback": [
      "\u001b[0;31m---------------------------------------------------------------------------\u001b[0m",
      "\u001b[0;31mNameError\u001b[0m                                 Traceback (most recent call last)",
      "\u001b[0;32m<ipython-input-12-81e446faf770>\u001b[0m in \u001b[0;36m<module>\u001b[0;34m\u001b[0m\n\u001b[0;32m----> 1\u001b[0;31m \u001b[0mdf_sample\u001b[0m\u001b[0;34m.\u001b[0m\u001b[0mshape\u001b[0m\u001b[0;34m\u001b[0m\u001b[0;34m\u001b[0m\u001b[0m\n\u001b[0m",
      "\u001b[0;31mNameError\u001b[0m: name 'df_sample' is not defined"
     ]
    }
   ],
   "source": [
    "df_sample.shape"
   ]
  },
  {
   "cell_type": "code",
   "execution_count": 18,
   "id": "19ebdb85-81bf-4d40-9e9c-2b35b946f91b",
   "metadata": {},
   "outputs": [
    {
     "name": "stdout",
     "output_type": "stream",
     "text": [
      "/home/jupyter/Summer_AMPL/Renate/QMUGS/Optimal_Model\n"
     ]
    }
   ],
   "source": [
    "cd /home/jupyter/Summer_AMPL/Renate/QMUGS/Optimal_Model"
   ]
  },
  {
   "cell_type": "code",
   "execution_count": 20,
   "id": "a9975e0b-c06e-4a67-8037-48a9e23c68f6",
   "metadata": {},
   "outputs": [
    {
     "name": "stdout",
     "output_type": "stream",
     "text": [
      "select_qm9_data_curated_model_fb039716-e37e-411f-b3c8-c680713dee30.tar.gz\n"
     ]
    }
   ],
   "source": [
    "import os\n",
    "files = os.listdir()\n",
    "for f in files: \n",
    "  if (f.endswith(\".tar.gz\")):\n",
    "    mfile = f \n",
    "\n",
    "print(mfile)"
   ]
  },
  {
   "cell_type": "code",
   "execution_count": 21,
   "id": "1a3ec54a-9a5c-486e-94d6-debe06b56083",
   "metadata": {},
   "outputs": [
    {
     "name": "stdout",
     "output_type": "stream",
     "text": [
      "Standardizing SMILES strings for 306400 compounds.\n"
     ]
    },
    {
     "name": "stderr",
     "output_type": "stream",
     "text": [
      "[21:28:43] Can't kekulize mol.  Unkekulized atoms: 3 5 26 27 28 29\n",
      "[21:30:29] Can't kekulize mol.  Unkekulized atoms: 3 9 10 13 14 17\n",
      "[21:31:32] Can't kekulize mol.  Unkekulized atoms: 3 5 27 28 29 31\n",
      "[21:33:37] Can't kekulize mol.  Unkekulized atoms: 3 9 10 11 12 13\n",
      "[21:33:37] Can't kekulize mol.  Unkekulized atoms: 3 11 12 15 16 19\n",
      "[21:33:37] Can't kekulize mol.  Unkekulized atoms: 3 9 10 13 14 17\n",
      "[21:35:38] Can't kekulize mol.  Unkekulized atoms: 3 5 25 26 27 28\n",
      "2023-07-24 21:35:53,823 select_qm9_data_curated_model_fb039716-e37e-411f-b3c8-c680713dee30.tar.gz, 1.5.1\n",
      "2023-07-24 21:35:53,828 Version compatible check: select_qm9_data_curated_model_fb039716-e37e-411f-b3c8-c680713dee30.tar.gz version = \"1.5\", AMPL version = \"1.5\"\n"
     ]
    },
    {
     "name": "stdout",
     "output_type": "stream",
     "text": [
      "num_model_tasks is deprecated and its value is ignored.\n",
      "['/var/tmp/tmp95p1hljk/best_model/checkpoint1.pt']\n",
      "/var/tmp/tmp95p1hljk/best_model/checkpoint1.pt\n"
     ]
    }
   ],
   "source": [
    "from atomsci.ddm.pipeline import predict_from_model as pfm\n",
    "mfile = \"select_qm9_data_curated_model_fb039716-e37e-411f-b3c8-c680713dee30.tar.gz\"\n",
    "#mfile = \"Summer_AMPL/Renate/Kevin_Model_2/Kevin_Moel/FMO_energy_graphconv_fingerprint_split_model_d852304e-cd01-43b1-91ca-15125b225fc6.tar.gz\"\n",
    "mpath = '/content'\n",
    "input_df = test_data\n",
    "response_col = \"gap\"\n",
    "compound_id = 'compound_id'\n",
    "smiles_col = \"rdkit_smiles\"\n",
    "results_df = pfm.predict_from_model_file(model_path = mfile, \n",
    "                            input_df = input_df, \n",
    "                            smiles_col = smiles_col, \n",
    "                            response_col = response_col)"
   ]
  },
  {
   "cell_type": "code",
   "execution_count": 22,
   "id": "fc182290-6ed4-4927-8861-b756f151819f",
   "metadata": {},
   "outputs": [
    {
     "data": {
      "text/html": [
       "<div>\n",
       "<style scoped>\n",
       "    .dataframe tbody tr th:only-of-type {\n",
       "        vertical-align: middle;\n",
       "    }\n",
       "\n",
       "    .dataframe tbody tr th {\n",
       "        vertical-align: top;\n",
       "    }\n",
       "\n",
       "    .dataframe thead th {\n",
       "        text-align: right;\n",
       "    }\n",
       "</style>\n",
       "<table border=\"1\" class=\"dataframe\">\n",
       "  <thead>\n",
       "    <tr style=\"text-align: right;\">\n",
       "      <th></th>\n",
       "      <th>Unnamed: 0</th>\n",
       "      <th>Unnamed: 0.1</th>\n",
       "      <th>chembl_id</th>\n",
       "      <th>smiles</th>\n",
       "      <th>mw</th>\n",
       "      <th>GFN2_HOMO_LUMO_GAP</th>\n",
       "      <th>DFT_HOMO_LUMO_GAP</th>\n",
       "      <th>rdkit_smiles</th>\n",
       "      <th>inchi_key</th>\n",
       "      <th>compound_id</th>\n",
       "      <th>VALUE_NUM_mean</th>\n",
       "      <th>VALUE_NUM_std</th>\n",
       "      <th>Perc_Var</th>\n",
       "      <th>Remove_BadDuplicate</th>\n",
       "      <th>orig_smiles</th>\n",
       "      <th>VALUE_NUM_mean_pred</th>\n",
       "      <th>VALUE_NUM_mean_std</th>\n",
       "    </tr>\n",
       "  </thead>\n",
       "  <tbody>\n",
       "    <tr>\n",
       "      <th>0</th>\n",
       "      <td>97904</td>\n",
       "      <td>294835</td>\n",
       "      <td>CHEMBL169083</td>\n",
       "      <td>[H]c1c(C([H])([H])[H])c([H])c(C([H])([H])[H])c...</td>\n",
       "      <td>410.268176</td>\n",
       "      <td>0.117009</td>\n",
       "      <td>0.313565</td>\n",
       "      <td>COCCN(CCOC)c1nc(C)nc2c1c(C)c(C)n2-c1c(C)cc(C)cc1C</td>\n",
       "      <td>DUOINMAEZBCFIG-UHFFFAOYSA-N</td>\n",
       "      <td>DUOINMAEZBCFIG-UHFFFAOYSA-N</td>\n",
       "      <td>0.312912</td>\n",
       "      <td>0.000578</td>\n",
       "      <td>0.208585</td>\n",
       "      <td>0</td>\n",
       "      <td>COCCN(CCOC)c1nc(C)nc2c1c(C)c(C)n2-c1c(C)cc(C)cc1C</td>\n",
       "      <td>0.201014</td>\n",
       "      <td>4.448341</td>\n",
       "    </tr>\n",
       "    <tr>\n",
       "      <th>1</th>\n",
       "      <td>72269</td>\n",
       "      <td>217448</td>\n",
       "      <td>CHEMBL1511086</td>\n",
       "      <td>[H]c1nc(C([H])([H])[H])c(N2C([H])([H])C([H])([...</td>\n",
       "      <td>399.187067</td>\n",
       "      <td>0.052332</td>\n",
       "      <td>0.277269</td>\n",
       "      <td>Cc1cnc(C)c(N2CCN(Cc3nc(-c4cccc(F)c4F)oc3C)CC2)n1</td>\n",
       "      <td>VEJMHPWUJLAZHK-UHFFFAOYSA-N</td>\n",
       "      <td>VEJMHPWUJLAZHK-UHFFFAOYSA-N</td>\n",
       "      <td>0.282953</td>\n",
       "      <td>0.007160</td>\n",
       "      <td>2.008692</td>\n",
       "      <td>0</td>\n",
       "      <td>Cc1cnc(C)c(N2CCN(Cc3nc(-c4cccc(F)c4F)oc3C)CC2)n1</td>\n",
       "      <td>0.198234</td>\n",
       "      <td>5.630110</td>\n",
       "    </tr>\n",
       "    <tr>\n",
       "      <th>2</th>\n",
       "      <td>243335</td>\n",
       "      <td>734247</td>\n",
       "      <td>CHEMBL271247</td>\n",
       "      <td>[H]c1c([H])c([H])c(N(C([H])([H])c2c([H])c(Cl)c...</td>\n",
       "      <td>325.134575</td>\n",
       "      <td>0.064064</td>\n",
       "      <td>0.273808</td>\n",
       "      <td>N#Cc1ccc(Cl)cc1CN(c1ccccc1)C1CCNCC1</td>\n",
       "      <td>RWCCKHBTGXKDKL-UHFFFAOYSA-N</td>\n",
       "      <td>RWCCKHBTGXKDKL-UHFFFAOYSA-N</td>\n",
       "      <td>0.275212</td>\n",
       "      <td>0.002066</td>\n",
       "      <td>0.510303</td>\n",
       "      <td>0</td>\n",
       "      <td>N#Cc1ccc(Cl)cc1CN(c1ccccc1)C1CCNCC1</td>\n",
       "      <td>0.192413</td>\n",
       "      <td>5.961844</td>\n",
       "    </tr>\n",
       "    <tr>\n",
       "      <th>3</th>\n",
       "      <td>191238</td>\n",
       "      <td>576862</td>\n",
       "      <td>CHEMBL222107</td>\n",
       "      <td>[H]OC(=O)[C@]([H])(C([H])([H])c1c([H])nc(OC([H...</td>\n",
       "      <td>408.204907</td>\n",
       "      <td>0.110230</td>\n",
       "      <td>0.306831</td>\n",
       "      <td>Cc1oc(-c2ccccc2)nc1CCOc1ccc(C[C@H](CC(C)C)C(=O...</td>\n",
       "      <td>PZBKYICTVQFMDF-FQEVSTJZSA-N</td>\n",
       "      <td>PZBKYICTVQFMDF-FQEVSTJZSA-N</td>\n",
       "      <td>0.304123</td>\n",
       "      <td>0.004618</td>\n",
       "      <td>0.890283</td>\n",
       "      <td>0</td>\n",
       "      <td>Cc1oc(-c2ccccc2)nc1CCOc1ccc(C[C@H](CC(C)C)C(=O...</td>\n",
       "      <td>0.202091</td>\n",
       "      <td>6.111714</td>\n",
       "    </tr>\n",
       "    <tr>\n",
       "      <th>4</th>\n",
       "      <td>411224</td>\n",
       "      <td>1243109</td>\n",
       "      <td>CHEMBL3729230</td>\n",
       "      <td>[H]Oc1c([H])c([H])c(C(=O)N(c2c([H])c([H])c(-c3...</td>\n",
       "      <td>580.178041</td>\n",
       "      <td>0.099695</td>\n",
       "      <td>0.291448</td>\n",
       "      <td>Cc1cc(S(=O)(=O)NCc2cccnc2)cnc1-c1ccc(N(Cc2cccc...</td>\n",
       "      <td>BGNSNJNOWXVGOS-UHFFFAOYSA-N</td>\n",
       "      <td>BGNSNJNOWXVGOS-UHFFFAOYSA-N</td>\n",
       "      <td>0.294735</td>\n",
       "      <td>0.006346</td>\n",
       "      <td>1.115123</td>\n",
       "      <td>0</td>\n",
       "      <td>Cc1cc(S(=O)(=O)NCc2cccnc2)cnc1-c1ccc(N(Cc2cccc...</td>\n",
       "      <td>0.199025</td>\n",
       "      <td>5.942921</td>\n",
       "    </tr>\n",
       "  </tbody>\n",
       "</table>\n",
       "</div>"
      ],
      "text/plain": [
       "   Unnamed: 0  Unnamed: 0.1      chembl_id  \\\n",
       "0       97904        294835   CHEMBL169083   \n",
       "1       72269        217448  CHEMBL1511086   \n",
       "2      243335        734247   CHEMBL271247   \n",
       "3      191238        576862   CHEMBL222107   \n",
       "4      411224       1243109  CHEMBL3729230   \n",
       "\n",
       "                                              smiles          mw  \\\n",
       "0  [H]c1c(C([H])([H])[H])c([H])c(C([H])([H])[H])c...  410.268176   \n",
       "1  [H]c1nc(C([H])([H])[H])c(N2C([H])([H])C([H])([...  399.187067   \n",
       "2  [H]c1c([H])c([H])c(N(C([H])([H])c2c([H])c(Cl)c...  325.134575   \n",
       "3  [H]OC(=O)[C@]([H])(C([H])([H])c1c([H])nc(OC([H...  408.204907   \n",
       "4  [H]Oc1c([H])c([H])c(C(=O)N(c2c([H])c([H])c(-c3...  580.178041   \n",
       "\n",
       "   GFN2_HOMO_LUMO_GAP  DFT_HOMO_LUMO_GAP  \\\n",
       "0            0.117009           0.313565   \n",
       "1            0.052332           0.277269   \n",
       "2            0.064064           0.273808   \n",
       "3            0.110230           0.306831   \n",
       "4            0.099695           0.291448   \n",
       "\n",
       "                                        rdkit_smiles  \\\n",
       "0  COCCN(CCOC)c1nc(C)nc2c1c(C)c(C)n2-c1c(C)cc(C)cc1C   \n",
       "1   Cc1cnc(C)c(N2CCN(Cc3nc(-c4cccc(F)c4F)oc3C)CC2)n1   \n",
       "2                N#Cc1ccc(Cl)cc1CN(c1ccccc1)C1CCNCC1   \n",
       "3  Cc1oc(-c2ccccc2)nc1CCOc1ccc(C[C@H](CC(C)C)C(=O...   \n",
       "4  Cc1cc(S(=O)(=O)NCc2cccnc2)cnc1-c1ccc(N(Cc2cccc...   \n",
       "\n",
       "                     inchi_key                  compound_id  VALUE_NUM_mean  \\\n",
       "0  DUOINMAEZBCFIG-UHFFFAOYSA-N  DUOINMAEZBCFIG-UHFFFAOYSA-N        0.312912   \n",
       "1  VEJMHPWUJLAZHK-UHFFFAOYSA-N  VEJMHPWUJLAZHK-UHFFFAOYSA-N        0.282953   \n",
       "2  RWCCKHBTGXKDKL-UHFFFAOYSA-N  RWCCKHBTGXKDKL-UHFFFAOYSA-N        0.275212   \n",
       "3  PZBKYICTVQFMDF-FQEVSTJZSA-N  PZBKYICTVQFMDF-FQEVSTJZSA-N        0.304123   \n",
       "4  BGNSNJNOWXVGOS-UHFFFAOYSA-N  BGNSNJNOWXVGOS-UHFFFAOYSA-N        0.294735   \n",
       "\n",
       "   VALUE_NUM_std  Perc_Var  Remove_BadDuplicate  \\\n",
       "0       0.000578  0.208585                    0   \n",
       "1       0.007160  2.008692                    0   \n",
       "2       0.002066  0.510303                    0   \n",
       "3       0.004618  0.890283                    0   \n",
       "4       0.006346  1.115123                    0   \n",
       "\n",
       "                                         orig_smiles  VALUE_NUM_mean_pred  \\\n",
       "0  COCCN(CCOC)c1nc(C)nc2c1c(C)c(C)n2-c1c(C)cc(C)cc1C             0.201014   \n",
       "1   Cc1cnc(C)c(N2CCN(Cc3nc(-c4cccc(F)c4F)oc3C)CC2)n1             0.198234   \n",
       "2                N#Cc1ccc(Cl)cc1CN(c1ccccc1)C1CCNCC1             0.192413   \n",
       "3  Cc1oc(-c2ccccc2)nc1CCOc1ccc(C[C@H](CC(C)C)C(=O...             0.202091   \n",
       "4  Cc1cc(S(=O)(=O)NCc2cccnc2)cnc1-c1ccc(N(Cc2cccc...             0.199025   \n",
       "\n",
       "   VALUE_NUM_mean_std  \n",
       "0            4.448341  \n",
       "1            5.630110  \n",
       "2            5.961844  \n",
       "3            6.111714  \n",
       "4            5.942921  "
      ]
     },
     "execution_count": 22,
     "metadata": {},
     "output_type": "execute_result"
    }
   ],
   "source": [
    "results_df.head() #QMUGS"
   ]
  },
  {
   "cell_type": "code",
   "execution_count": 23,
   "id": "a028172a-f18f-4b27-bcce-e10ee00575d0",
   "metadata": {},
   "outputs": [
    {
     "name": "stdout",
     "output_type": "stream",
     "text": [
      "0.1610517380022998\n"
     ]
    }
   ],
   "source": [
    "import numpy #QMUGS\n",
    "actual = results_df['DFT_HOMO_LUMO_GAP'].values\n",
    "predict = results_df['VALUE_NUM_mean_pred'].values\n",
    "\n",
    "corr_matrix = numpy.corrcoef(actual, predict)\n",
    "corr = corr_matrix[0,1]\n",
    "R_sq = corr**2\n",
    "\n",
    "print(R_sq)\n"
   ]
  },
  {
   "cell_type": "code",
   "execution_count": null,
   "id": "5490f4f9-9877-474f-a14f-e953ce242874",
   "metadata": {},
   "outputs": [],
   "source": [
    "import numpy #QMUGS\n",
    "actual = results_df['VALUE_NUM_mean'].values\n",
    "predict = results_df['VALUE_NUM_mean_pred'].values\n",
    "\n",
    "corr_matrix = numpy.corrcoef(actual, predict)\n",
    "corr = corr_matrix[0,1]\n",
    "R_sq = corr**2\n",
    "\n",
    "print(R_sq)\n"
   ]
  }
 ],
 "metadata": {
  "celltoolbar": "Raw Cell Format",
  "environment": {
   "kernel": "atomsci",
   "name": "common-cpu.m108",
   "type": "gcloud",
   "uri": "gcr.io/deeplearning-platform-release/base-cpu:m108"
  },
  "kernelspec": {
   "display_name": "atomsci",
   "language": "python",
   "name": "atomsci"
  },
  "language_info": {
   "codemirror_mode": {
    "name": "ipython",
    "version": 3
   },
   "file_extension": ".py",
   "mimetype": "text/x-python",
   "name": "python",
   "nbconvert_exporter": "python",
   "pygments_lexer": "ipython3",
   "version": "3.8.2"
  }
 },
 "nbformat": 4,
 "nbformat_minor": 5
}
