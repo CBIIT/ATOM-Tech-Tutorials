{
 "cells": [
  {
   "cell_type": "markdown",
   "id": "cc8d7cf2-d2d3-4615-8c68-98c5d86e455f",
   "metadata": {},
   "source": [
    "# Create a basic working model (no hyperparameterization) "
   ]
  },
  {
   "cell_type": "markdown",
   "id": "8de6dcef-eca0-463d-8ca0-bc5dd1c113e3",
   "metadata": {},
   "source": [
    "### Split Locations for reference \n",
    "#### SCAFFOLD: \n",
    "Dataset split table saved to /home/jupyter/hERG_Analysis/herg_chembl_curated_train_valid_test_scaffold_5f834022-46ac-4c7b-bca1-9573f6eb940f.csv\n",
    "\n",
    "#### RANDOM:\n",
    "Dataset split table saved to /home/jupyter/hERG_Analysis/herg_chembl_curated_train_valid_test_random_ac01fe91-0793-4566-9340-2ff90e6a58c5.csv\n",
    "\n",
    "#### FINGERPRINT:\n",
    "Dataset split table saved to /home/jupyter/hERG_Analysis/herg_chembl_curated_train_valid_test_fingerprint_64ffab14-47a7-44e8-bfa1-8576f640e241.csv"
   ]
  },
  {
   "cell_type": "code",
   "execution_count": 6,
   "id": "3ef8d9f9-f9f2-45b0-b2e3-b41d76572a24",
   "metadata": {
    "tags": []
   },
   "outputs": [],
   "source": [
    "# import packages needed \n",
    "\n",
    "import matplotlib.pyplot as plt\n",
    "import seaborn as sns\n",
    "import numpy as np\n",
    "sns.set_context(\"poster\")\n",
    "sns.set_style(\"whitegrid\")\n",
    "sns.set_palette(\"Set2\")\n",
    "\n",
    "import pandas as pd\n",
    "import os, json, sys, glob, pickle\n",
    "\n",
    "from atomsci.ddm.pipeline import perf_data\n",
    "\n",
    "# We temporarily disable warnings for demonstration.\n",
    "# FutureWarnings and DeprecationWarnings are present from some of the AMPL \n",
    "# dependency modules.\n",
    "import warnings\n",
    "warnings.filterwarnings('ignore')\n",
    "\n",
    "\n",
    "\n",
    "import pandas as pd\n",
    "import os, json, sys, glob, pickle\n",
    "import requests\n",
    "\n",
    "\n",
    "from atomsci.ddm.pipeline import model_pipeline as mp\n",
    "from atomsci.ddm.pipeline import parameter_parser as parse\n",
    "import atomsci.ddm.utils.curate_data as curate_data\n",
    "import atomsci.ddm.utils.struct_utils as struct_utils\n",
    "from atomsci.ddm.pipeline import perf_plots as pp\n",
    "import atomsci.ddm.pipeline.diversity_plots as dp"
   ]
  },
  {
   "cell_type": "markdown",
   "id": "d89544d3-f53f-4ee4-a10d-0765d36dc34b",
   "metadata": {
    "tags": []
   },
   "source": [
    "# Random Forest"
   ]
  },
  {
   "cell_type": "markdown",
   "id": "1c5364b3-a269-4917-92cf-1816cc87f175",
   "metadata": {
    "jp-MarkdownHeadingCollapsed": true,
    "tags": []
   },
   "source": [
    "## Random Forest with Scaffold Split"
   ]
  },
  {
   "cell_type": "code",
   "execution_count": 16,
   "id": "5aed9cdd-6649-4bc8-a30a-a018d1dbc447",
   "metadata": {},
   "outputs": [
    {
     "name": "stderr",
     "output_type": "stream",
     "text": [
      "2024-04-19 12:19:04,379 Previous dataset split restored\n"
     ]
    }
   ],
   "source": [
    "response_col = \"class\"\n",
    "compound_id = \"compound_id\"\n",
    "smiles_col = \"rdkit_smiles\"\n",
    "split_uuid = \"5f834022-46ac-4c7b-bca1-9573f6eb940f\" # scaffold\n",
    "# Set up file locations \n",
    "dataset_file = '/home/jupyter/hERG_Analysis/herg_chembl_curated.csv' \n",
    "odir = '/home/jupyter/hERG_Analysis/Models' \n",
    "\n",
    "params = {\n",
    "        \"verbose\": \"True\",\n",
    "        \"datastore\": \"False\",\n",
    "        \"save_results\": \"False\",\n",
    "        \"prediction_type\": \"classification\",\n",
    "        \"dataset_key\": dataset_file,\n",
    "        \"id_col\": compound_id,\n",
    "        \"smiles_col\": smiles_col,\n",
    "        \"response_cols\": response_col,\n",
    "        # using previously split data\n",
    "        \"previously_split\": \"True\",\n",
    "        \"split_uuid\" : split_uuid,\n",
    "        \"split_only\": \"False\",\n",
    "        # not needed becuase already using splits established previously\n",
    "        # \"split_strategy\": \"train_valid_test\",\n",
    "        # \"splitter\": \"fingerprint\",\n",
    "        # \"split_valid_frac\": \"0.10\",\n",
    "        # \"split_test_frac\": \"0.10\",\n",
    "        \"featurizer\": \"ecfp\",\n",
    "        \"model_type\": \"RF\",\n",
    "        \"verbose\": \"True\",\n",
    "        \"transformers\": \"True\",\n",
    "        'max_epochs': '70',\n",
    "        \"rerun\": \"False\",\n",
    "        \"result_dir\": odir,\n",
    "    #    \"rf_estimators\": 64,\n",
    "     #   \"rf_max_depth\": 24,\n",
    "      #  \"rf_max_features\": 16,\n",
    "       # \"model_choice_score_type\": \"recall\"\n",
    "        # \"ampl_version\": \" \"\n",
    "    }\n",
    "\n",
    "ampl_param = parse.wrapper(params)\n",
    "pl = mp.ModelPipeline(ampl_param)\n",
    "pl.train_model()"
   ]
  },
  {
   "cell_type": "code",
   "execution_count": 20,
   "id": "eae6f460-44e2-47ec-bd8d-fd9a67381f35",
   "metadata": {
    "tags": []
   },
   "outputs": [
    {
     "data": {
      "text/plain": [
       "{'roc_auc_score': 0.7807881631346585,\n",
       " 'prc_auc_score': 0.7454353527415902,\n",
       " 'cross_entropy': 0.5668310706801162,\n",
       " 'model_choice_score': 0.7807881631346585,\n",
       " 'precision': 0.7054108216432866,\n",
       " 'recall_score': 0.6506469500924215,\n",
       " 'npv': 0.7232796486090776,\n",
       " 'accuracy_score': 0.7157360406091371,\n",
       " 'bal_accuracy': 0.7106588884627474,\n",
       " 'kappa': 0.42388469338315715,\n",
       " 'matthews_cc': 0.4249881362060252,\n",
       " 'confusion_matrix': [[[494, 147], [189, 352]]],\n",
       " 'num_compounds': 1182}"
      ]
     },
     "execution_count": 20,
     "metadata": {},
     "output_type": "execute_result"
    }
   ],
   "source": [
    "pred_data_valid = pl.model_wrapper.get_perf_data(subset=\"valid\", epoch_label=\"best\")\n",
    "pred_results_valid = pred_data_valid.get_prediction_results()\n",
    "pred_results_valid\n",
    "#print(f\"AUC score of validation set: {pred_results['prc_auc_score']:.3f}\")"
   ]
  },
  {
   "cell_type": "code",
   "execution_count": 23,
   "id": "922804ff-96c8-4c88-88e8-c99bcab136d2",
   "metadata": {
    "tags": []
   },
   "outputs": [
    {
     "data": {
      "text/plain": [
       "{'roc_auc_score': 0.7682053685334166,\n",
       " 'prc_auc_score': 0.7348075363847076,\n",
       " 'cross_entropy': 0.5694910353659588,\n",
       " 'precision': 0.6948051948051948,\n",
       " 'recall_score': 0.6045197740112994,\n",
       " 'npv': 0.7083333333333334,\n",
       " 'accuracy_score': 0.7030456852791879,\n",
       " 'bal_accuracy': 0.6939649561300737,\n",
       " 'kappa': 0.3926322169227121,\n",
       " 'matthews_cc': 0.39546111547086926,\n",
       " 'confusion_matrix': [[[510, 141], [210, 321]]],\n",
       " 'num_compounds': 1182}"
      ]
     },
     "execution_count": 23,
     "metadata": {},
     "output_type": "execute_result"
    }
   ],
   "source": [
    "pred_data_test = pl.model_wrapper.get_perf_data(subset=\"test\", epoch_label=\"best\")\n",
    "pred_results_test = pred_data_test.get_prediction_results()\n",
    "pred_results_test"
   ]
  },
  {
   "cell_type": "code",
   "execution_count": 8,
   "id": "447defe3-522f-4d17-9ff9-89beb9408633",
   "metadata": {
    "tags": []
   },
   "outputs": [
    {
     "name": "stderr",
     "output_type": "stream",
     "text": [
      "2024-04-18 16:28:05,085 Warning: column names have been changed to align with get_multitask_perf_from_tracker(): featurizer is now features and <subset>_<metric> has been changed to best_<subset>_<metric>.\n"
     ]
    },
    {
     "name": "stdout",
     "output_type": "stream",
     "text": [
      "Found data for 1 models under /home/jupyter/hERG_Analysis/Models\n"
     ]
    }
   ],
   "source": [
    "# Model Performance\n",
    "from atomsci.ddm.pipeline import compare_models as cm\n",
    "rf_s_pred_df = cm.get_filesystem_perf_results(odir, pred_type='classification')"
   ]
  },
  {
   "cell_type": "code",
   "execution_count": 12,
   "id": "85f7644b-c9cc-4e21-b93e-b0a91b4406a7",
   "metadata": {
    "tags": []
   },
   "outputs": [
    {
     "data": {
      "text/plain": [
       "Index(['model_uuid', 'model_path', 'ampl_version', 'model_type', 'dataset_key',\n",
       "       'features', 'splitter', 'split_strategy', 'model_score_type',\n",
       "       'feature_transform_type', 'model_choice_score',\n",
       "       'best_train_roc_auc_score', 'best_train_prc_auc_score',\n",
       "       'best_train_precision', 'best_train_recall_score',\n",
       "       'best_train_num_compounds', 'best_train_accuracy_score',\n",
       "       'best_train_bal_accuracy', 'best_train_npv', 'best_train_matthews_cc',\n",
       "       'best_train_kappa', 'best_train_cross_entropy',\n",
       "       'best_train_confusion_matrix', 'best_valid_roc_auc_score',\n",
       "       'best_valid_prc_auc_score', 'best_valid_precision',\n",
       "       'best_valid_recall_score', 'best_valid_num_compounds',\n",
       "       'best_valid_accuracy_score', 'best_valid_bal_accuracy',\n",
       "       'best_valid_npv', 'best_valid_matthews_cc', 'best_valid_kappa',\n",
       "       'best_valid_cross_entropy', 'best_valid_confusion_matrix',\n",
       "       'best_test_roc_auc_score', 'best_test_prc_auc_score',\n",
       "       'best_test_precision', 'best_test_recall_score',\n",
       "       'best_test_num_compounds', 'best_test_accuracy_score',\n",
       "       'best_test_bal_accuracy', 'best_test_npv', 'best_test_matthews_cc',\n",
       "       'best_test_kappa', 'best_test_cross_entropy',\n",
       "       'best_test_confusion_matrix', 'rf_estimators', 'rf_max_features',\n",
       "       'rf_max_depth', 'max_epochs', 'best_epoch', 'learning_rate',\n",
       "       'layer_sizes', 'dropouts', 'xgb_gamma', 'xgb_learning_rate',\n",
       "       'xgb_max_depth', 'xgb_colsample_bytree', 'xgb_subsample',\n",
       "       'xgb_n_estimators', 'xgb_min_child_weight', 'model_parameters_dict',\n",
       "       'feat_parameters_dict'],\n",
       "      dtype='object')"
      ]
     },
     "execution_count": 12,
     "metadata": {},
     "output_type": "execute_result"
    }
   ],
   "source": [
    "# View the pred_df dataframe\n",
    "rf_s_pred_df.columns"
   ]
  },
  {
   "cell_type": "code",
   "execution_count": 14,
   "id": "2be92f31-75d7-462b-8df1-34cc1ad538d5",
   "metadata": {
    "tags": []
   },
   "outputs": [
    {
     "data": {
      "text/plain": [
       "model_uuid                            804a2c09-754c-4dc4-986f-273eea98a9be\n",
       "model_path               /home/jupyter/hERG_Analysis/Models/herg_chembl...\n",
       "ampl_version                                                         1.6.0\n",
       "model_type                                                              RF\n",
       "dataset_key              /home/jupyter/hERG_Analysis/herg_chembl_curate...\n",
       "                                               ...                        \n",
       "xgb_subsample                                                          NaN\n",
       "xgb_n_estimators                                                       NaN\n",
       "xgb_min_child_weight                                                   NaN\n",
       "model_parameters_dict    {\"rf_estimators\": 500, \"rf_max_depth\": null, \"...\n",
       "feat_parameters_dict                 {\"ecfp_radius\": 2, \"ecfp_size\": 1024}\n",
       "Name: 0, Length: 64, dtype: object"
      ]
     },
     "execution_count": 14,
     "metadata": {},
     "output_type": "execute_result"
    }
   ],
   "source": [
    "# Top performing model\n",
    "top_model=rf_s_pred_df.sort_values(by=\"best_valid_roc_auc_score\", ascending=False).iloc[0]\n",
    "top_model"
   ]
  },
  {
   "cell_type": "markdown",
   "id": "599b793a-0a30-4ad8-b41c-756e3f95aa93",
   "metadata": {
    "jp-MarkdownHeadingCollapsed": true,
    "tags": []
   },
   "source": [
    "## Random Forest with Fingerprint Split"
   ]
  },
  {
   "cell_type": "code",
   "execution_count": 25,
   "id": "7d7dbd73-d88d-46e9-9027-b91e35ea35c7",
   "metadata": {},
   "outputs": [
    {
     "name": "stderr",
     "output_type": "stream",
     "text": [
      "2024-04-19 12:23:09,790 Previous dataset split restored\n"
     ]
    }
   ],
   "source": [
    "response_col = \"class\"\n",
    "compound_id = \"compound_id\"\n",
    "smiles_col = \"rdkit_smiles\"\n",
    "split_uuid = \"64ffab14-47a7-44e8-bfa1-8576f640e241\" # fingerprint\n",
    "dataset_file = '/home/jupyter/hERG_Analysis/herg_chembl_curated.csv' \n",
    "odir = '/home/jupyter/hERG_Analysis/Models' \n",
    "\n",
    "params = {\n",
    "        \"verbose\": \"True\",\n",
    "        \"datastore\": \"False\",\n",
    "        \"save_results\": \"False\",\n",
    "        \"prediction_type\": \"classification\",\n",
    "        \"dataset_key\": dataset_file,\n",
    "        \"id_col\": compound_id,\n",
    "        \"smiles_col\": smiles_col,\n",
    "        \"response_cols\": response_col,\n",
    "        # using previously split data\n",
    "        \"previously_split\": \"True\",\n",
    "        \"split_uuid\" : split_uuid,\n",
    "        \"split_only\": \"False\",\n",
    "        # not needed becuase already using splits established previously\n",
    "        # \"split_strategy\": \"train_valid_test\",\n",
    "        \"splitter\": \"fingerprint\",\n",
    "        # \"split_valid_frac\": \"0.10\",\n",
    "        # \"split_test_frac\": \"0.10\",\n",
    "        \"featurizer\": \"ecfp\",\n",
    "        \"model_type\": \"RF\",\n",
    "        \"verbose\": \"True\",\n",
    "        \"transformers\": \"True\",\n",
    "        'max_epochs': '70',\n",
    "        \"rerun\": \"False\",\n",
    "        \"result_dir\": odir,\n",
    "    #    \"rf_estimators\": 64,\n",
    "     #   \"rf_max_depth\": 24,\n",
    "      #  \"rf_max_features\": 16,\n",
    "       # \"model_choice_score_type\": \"recall\"\n",
    "        # \"ampl_version\": \" \"\n",
    "    }\n",
    "\n",
    "ampl_param = parse.wrapper(params)\n",
    "pl = mp.ModelPipeline(ampl_param)\n",
    "pl.train_model()"
   ]
  },
  {
   "cell_type": "code",
   "execution_count": 26,
   "id": "de2f0338-323b-4da5-b5b3-625228e789a1",
   "metadata": {},
   "outputs": [
    {
     "data": {
      "text/plain": [
       "{'roc_auc_score': 0.7477041331372041,\n",
       " 'prc_auc_score': 0.7691853095599701,\n",
       " 'cross_entropy': 0.6219622822459739,\n",
       " 'model_choice_score': 0.7477041331372041,\n",
       " 'precision': 0.7223168654173765,\n",
       " 'recall_score': 0.6677165354330709,\n",
       " 'npv': 0.6447811447811448,\n",
       " 'accuracy_score': 0.6833192209991532,\n",
       " 'bal_accuracy': 0.6845908684491362,\n",
       " 'kappa': 0.3669212202519163,\n",
       " 'matthews_cc': 0.36813839926988023,\n",
       " 'confusion_matrix': [[[383, 163], [211, 424]]],\n",
       " 'num_compounds': 1181}"
      ]
     },
     "execution_count": 26,
     "metadata": {},
     "output_type": "execute_result"
    }
   ],
   "source": [
    "pred_data_valid = pl.model_wrapper.get_perf_data(subset=\"valid\", epoch_label=\"best\")\n",
    "pred_results_valid = pred_data_valid.get_prediction_results()\n",
    "pred_results_valid"
   ]
  },
  {
   "cell_type": "code",
   "execution_count": 27,
   "id": "30ad9afc-96f0-4ac2-87e9-3a40e41494d5",
   "metadata": {
    "tags": []
   },
   "outputs": [
    {
     "data": {
      "text/plain": [
       "{'roc_auc_score': 0.6463883841104291,\n",
       " 'prc_auc_score': 0.5094390513763931,\n",
       " 'cross_entropy': 0.6550118843469932,\n",
       " 'precision': 0.5413333333333333,\n",
       " 'recall_score': 0.4211618257261411,\n",
       " 'npv': 0.6547029702970297,\n",
       " 'accuracy_score': 0.6187658495350803,\n",
       " 'bal_accuracy': 0.5878990298388195,\n",
       " 'kappa': 0.1821130683655997,\n",
       " 'matthews_cc': 0.18564159502814637,\n",
       " 'confusion_matrix': [[[529, 172], [279, 203]]],\n",
       " 'num_compounds': 1183}"
      ]
     },
     "execution_count": 27,
     "metadata": {},
     "output_type": "execute_result"
    }
   ],
   "source": [
    "pred_data_test = pl.model_wrapper.get_perf_data(subset=\"test\", epoch_label=\"best\")\n",
    "pred_results_test = pred_data_test.get_prediction_results()\n",
    "pred_results_test"
   ]
  },
  {
   "cell_type": "markdown",
   "id": "ebae99e4-e18e-439e-8286-ad7f7b03d85d",
   "metadata": {
    "jp-MarkdownHeadingCollapsed": true,
    "tags": []
   },
   "source": [
    "## Random Forest with Random Split"
   ]
  },
  {
   "cell_type": "code",
   "execution_count": 28,
   "id": "4f3ceba0-77e0-4aec-9f3c-dcb914425376",
   "metadata": {
    "tags": []
   },
   "outputs": [
    {
     "name": "stderr",
     "output_type": "stream",
     "text": [
      "2024-04-19 12:24:18,675 Previous dataset split restored\n"
     ]
    }
   ],
   "source": [
    "response_col = \"class\"\n",
    "compound_id = \"compound_id\"\n",
    "smiles_col = \"rdkit_smiles\"\n",
    "split_uuid = \"ac01fe91-0793-4566-9340-2ff90e6a58c5\" # random\n",
    "# Set up file locations \n",
    "dataset_file = '/home/jupyter/hERG_Analysis/herg_chembl_curated.csv' \n",
    "odir = '/home/jupyter/hERG_Analysis/Models' \n",
    "\n",
    "params = {\n",
    "        \"verbose\": \"True\",\n",
    "        \"datastore\": \"False\",\n",
    "        \"save_results\": \"False\",\n",
    "        \"prediction_type\": \"classification\",\n",
    "        \"dataset_key\": dataset_file,\n",
    "        \"id_col\": compound_id,\n",
    "        \"smiles_col\": smiles_col,\n",
    "        \"response_cols\": response_col,\n",
    "        # using previously split data\n",
    "        \"previously_split\": \"True\",\n",
    "        \"split_uuid\" : split_uuid,\n",
    "        \"split_only\": \"False\",\n",
    "        # not needed becuase already using splits established previously\n",
    "        # \"split_strategy\": \"train_valid_test\",\n",
    "        \"splitter\": \"random\",\n",
    "        # \"split_valid_frac\": \"0.10\",\n",
    "        # \"split_test_frac\": \"0.10\",\n",
    "        \"featurizer\": \"ecfp\",\n",
    "        \"model_type\": \"RF\",\n",
    "        \"verbose\": \"True\",\n",
    "        \"transformers\": \"True\",\n",
    "        'max_epochs': '70',\n",
    "        \"rerun\": \"False\",\n",
    "        \"result_dir\": odir,\n",
    "        \"rf_estimators\": 64,\n",
    "        \"rf_max_depth\": 24,\n",
    "        \"rf_max_features\": 16,\n",
    "        #\"model_choice_score_type\": \"recall\"\n",
    "        #\"ampl_version\": \"1.6\"\n",
    "    }\n",
    "\n",
    "ampl_param = parse.wrapper(params)\n",
    "pl = mp.ModelPipeline(ampl_param)\n",
    "pl.train_model()"
   ]
  },
  {
   "cell_type": "code",
   "execution_count": 29,
   "id": "a8b09601-447b-4b96-8ff5-1775e1ddf2aa",
   "metadata": {
    "tags": []
   },
   "outputs": [
    {
     "data": {
      "text/plain": [
       "{'roc_auc_score': 0.8457492498339326,\n",
       " 'prc_auc_score': 0.8462134226121827,\n",
       " 'cross_entropy': 0.522644335806418,\n",
       " 'model_choice_score': 0.8457492498339326,\n",
       " 'precision': 0.783068783068783,\n",
       " 'recall_score': 0.7449664429530202,\n",
       " 'npv': 0.7528455284552845,\n",
       " 'accuracy_score': 0.7673434856175972,\n",
       " 'bal_accuracy': 0.7675344160157592,\n",
       " 'kappa': 0.5348467806331407,\n",
       " 'matthews_cc': 0.5354914049134292,\n",
       " 'confusion_matrix': [[[463, 123], [152, 444]]],\n",
       " 'num_compounds': 1182}"
      ]
     },
     "execution_count": 29,
     "metadata": {},
     "output_type": "execute_result"
    }
   ],
   "source": [
    "pred_data_valid = pl.model_wrapper.get_perf_data(subset=\"valid\", epoch_label=\"best\")\n",
    "pred_results_valid = pred_data_valid.get_prediction_results()\n",
    "pred_results_valid"
   ]
  },
  {
   "cell_type": "code",
   "execution_count": 30,
   "id": "1dd9b17a-d435-4a51-8cf6-82c67e1ba8bc",
   "metadata": {
    "tags": []
   },
   "outputs": [
    {
     "data": {
      "text/plain": [
       "{'roc_auc_score': 0.8217382198352039,\n",
       " 'prc_auc_score': 0.8022574301469595,\n",
       " 'cross_entropy': 0.5417538685590604,\n",
       " 'precision': 0.7308377896613191,\n",
       " 'recall_score': 0.7269503546099291,\n",
       " 'npv': 0.7520128824476651,\n",
       " 'accuracy_score': 0.7419627749576988,\n",
       " 'bal_accuracy': 0.7413068925153206,\n",
       " 'kappa': 0.48272596571881154,\n",
       " 'matthews_cc': 0.48273221403911487,\n",
       " 'confusion_matrix': [[[467, 151], [154, 410]]],\n",
       " 'num_compounds': 1182}"
      ]
     },
     "execution_count": 30,
     "metadata": {},
     "output_type": "execute_result"
    }
   ],
   "source": [
    "pred_data_test = pl.model_wrapper.get_perf_data(subset=\"test\", epoch_label=\"best\")\n",
    "pred_results_test = pred_data_test.get_prediction_results()\n",
    "pred_results_test"
   ]
  },
  {
   "cell_type": "markdown",
   "id": "c43b1c63-14f0-4d24-8234-0796e3fc09b5",
   "metadata": {},
   "source": [
    "# Neural Network"
   ]
  },
  {
   "cell_type": "markdown",
   "id": "decf44b8-9d2c-440c-8bd0-aec7bb6c0c88",
   "metadata": {
    "jp-MarkdownHeadingCollapsed": true,
    "tags": []
   },
   "source": [
    "## Neural Network with Scaffold Split"
   ]
  },
  {
   "cell_type": "code",
   "execution_count": 31,
   "id": "853b7141-65ee-47a9-9009-6a008a6879ed",
   "metadata": {
    "tags": []
   },
   "outputs": [
    {
     "name": "stderr",
     "output_type": "stream",
     "text": [
      "2024-04-19 12:27:39,981 Previous dataset split restored\n"
     ]
    },
    {
     "name": "stdout",
     "output_type": "stream",
     "text": [
      "['/home/jupyter/hERG_Analysis/Models/herg_chembl_curated/NN_ecfp_scaffold_classification/5de4bfcc-33c9-490b-b02e-9745fe59d0d4/model/checkpoint1.pt', '/home/jupyter/hERG_Analysis/Models/herg_chembl_curated/NN_ecfp_scaffold_classification/5de4bfcc-33c9-490b-b02e-9745fe59d0d4/model/checkpoint2.pt', '/home/jupyter/hERG_Analysis/Models/herg_chembl_curated/NN_ecfp_scaffold_classification/5de4bfcc-33c9-490b-b02e-9745fe59d0d4/model/checkpoint3.pt', '/home/jupyter/hERG_Analysis/Models/herg_chembl_curated/NN_ecfp_scaffold_classification/5de4bfcc-33c9-490b-b02e-9745fe59d0d4/model/checkpoint4.pt', '/home/jupyter/hERG_Analysis/Models/herg_chembl_curated/NN_ecfp_scaffold_classification/5de4bfcc-33c9-490b-b02e-9745fe59d0d4/model/checkpoint5.pt']\n",
      "/home/jupyter/hERG_Analysis/Models/herg_chembl_curated/NN_ecfp_scaffold_classification/5de4bfcc-33c9-490b-b02e-9745fe59d0d4/model/checkpoint1.pt\n"
     ]
    }
   ],
   "source": [
    "response_col = \"class\"\n",
    "compound_id = \"compound_id\"\n",
    "smiles_col = \"rdkit_smiles\"\n",
    "split_uuid = \"5f834022-46ac-4c7b-bca1-9573f6eb940f\" # scaffold\n",
    "# Set up file locations \n",
    "dataset_file = '/home/jupyter/hERG_Analysis/herg_chembl_curated.csv' \n",
    "odir = '/home/jupyter/hERG_Analysis/Models' \n",
    "\n",
    "params = {\n",
    "        \"verbose\": \"True\",\n",
    "        \"datastore\": \"False\",\n",
    "        \"save_results\": \"False\",\n",
    "        \"prediction_type\": \"classification\",\n",
    "        \"dataset_key\": dataset_file,\n",
    "        \"id_col\": compound_id,\n",
    "        \"smiles_col\": smiles_col,\n",
    "        \"response_cols\": response_col,\n",
    "        # using previously split data\n",
    "        \"previously_split\": \"True\",\n",
    "        \"split_uuid\" : split_uuid,\n",
    "        \"split_only\": \"False\",\n",
    "        # not needed becuase already using splits established previously\n",
    "        # \"split_strategy\": \"train_valid_test\",\n",
    "        # \"splitter\": \"fingerprint\",\n",
    "        # \"split_valid_frac\": \"0.10\",\n",
    "        # \"split_test_frac\": \"0.10\",\n",
    "        \"featurizer\": \"ecfp\",\n",
    "        \"model_type\": \"NN\",\n",
    "        \"verbose\": \"True\",\n",
    "        \"transformers\": \"True\",\n",
    "        'max_epochs': '70',\n",
    "        \"rerun\": \"False\",\n",
    "        \"result_dir\": odir,\n",
    "    #    \"rf_estimators\": 64,\n",
    "     #   \"rf_max_depth\": 24,\n",
    "      #  \"rf_max_features\": 16,\n",
    "       # \"model_choice_score_type\": \"recall\"\n",
    "        # \"ampl_version\": \" \"\n",
    "    }\n",
    "\n",
    "ampl_param = parse.wrapper(params)\n",
    "pl = mp.ModelPipeline(ampl_param)\n",
    "pl.train_model()"
   ]
  },
  {
   "cell_type": "code",
   "execution_count": 32,
   "id": "42ac0f86-e9f5-4921-8132-91a7b262f7f5",
   "metadata": {
    "tags": []
   },
   "outputs": [
    {
     "data": {
      "text/plain": [
       "{'roc_auc_score': 0.7529939644905574,\n",
       " 'prc_auc_score': 0.7007429624578451,\n",
       " 'cross_entropy': 1.7854981222721624,\n",
       " 'model_choice_score': 0.7529939644905574,\n",
       " 'precision': 0.6451612903225806,\n",
       " 'recall_score': 0.7024029574861368,\n",
       " 'npv': 0.7284991568296796,\n",
       " 'accuracy_score': 0.6869712351945855,\n",
       " 'bal_accuracy': 0.688174957682226,\n",
       " 'kappa': 0.3737631772633677,\n",
       " 'matthews_cc': 0.37500277020416317,\n",
       " 'confusion_matrix': [[[432, 209], [161, 380]]],\n",
       " 'num_compounds': 1182}"
      ]
     },
     "execution_count": 32,
     "metadata": {},
     "output_type": "execute_result"
    }
   ],
   "source": [
    "pred_data_valid = pl.model_wrapper.get_perf_data(subset=\"valid\", epoch_label=\"best\")\n",
    "pred_results_valid = pred_data_valid.get_prediction_results()\n",
    "pred_results_valid"
   ]
  },
  {
   "cell_type": "code",
   "execution_count": 33,
   "id": "9144a81a-2f61-4816-ab5d-367498de49a2",
   "metadata": {
    "tags": []
   },
   "outputs": [
    {
     "data": {
      "text/plain": [
       "{'roc_auc_score': 0.7532855436081243,\n",
       " 'prc_auc_score': 0.6991676934000786,\n",
       " 'cross_entropy': 1.6936392539673484,\n",
       " 'precision': 0.6481149012567325,\n",
       " 'recall_score': 0.67984934086629,\n",
       " 'npv': 0.728,\n",
       " 'accuracy_score': 0.6903553299492385,\n",
       " 'bal_accuracy': 0.6893870360245429,\n",
       " 'kappa': 0.3770724079241795,\n",
       " 'matthews_cc': 0.37744214484785926,\n",
       " 'confusion_matrix': [[[455, 196], [170, 361]]],\n",
       " 'num_compounds': 1182}"
      ]
     },
     "execution_count": 33,
     "metadata": {},
     "output_type": "execute_result"
    }
   ],
   "source": [
    "pred_data_test = pl.model_wrapper.get_perf_data(subset=\"test\", epoch_label=\"best\")\n",
    "pred_results_test = pred_data_test.get_prediction_results()\n",
    "pred_results_test"
   ]
  },
  {
   "cell_type": "markdown",
   "id": "b5474b6d-3e9c-4190-a607-223032255e90",
   "metadata": {
    "jp-MarkdownHeadingCollapsed": true,
    "tags": []
   },
   "source": [
    "## Neural Network with Fingerprint Split"
   ]
  },
  {
   "cell_type": "code",
   "execution_count": 34,
   "id": "fdfd6321-0e7d-42ba-96ec-4c6286fee9a3",
   "metadata": {
    "tags": []
   },
   "outputs": [
    {
     "name": "stderr",
     "output_type": "stream",
     "text": [
      "2024-04-19 12:31:19,351 Previous dataset split restored\n"
     ]
    },
    {
     "name": "stdout",
     "output_type": "stream",
     "text": [
      "['/home/jupyter/hERG_Analysis/Models/herg_chembl_curated/NN_ecfp_fingerprint_classification/c763a0d5-6615-4365-98d1-959e0593c97b/model/checkpoint1.pt', '/home/jupyter/hERG_Analysis/Models/herg_chembl_curated/NN_ecfp_fingerprint_classification/c763a0d5-6615-4365-98d1-959e0593c97b/model/checkpoint2.pt', '/home/jupyter/hERG_Analysis/Models/herg_chembl_curated/NN_ecfp_fingerprint_classification/c763a0d5-6615-4365-98d1-959e0593c97b/model/checkpoint3.pt', '/home/jupyter/hERG_Analysis/Models/herg_chembl_curated/NN_ecfp_fingerprint_classification/c763a0d5-6615-4365-98d1-959e0593c97b/model/checkpoint4.pt']\n",
      "/home/jupyter/hERG_Analysis/Models/herg_chembl_curated/NN_ecfp_fingerprint_classification/c763a0d5-6615-4365-98d1-959e0593c97b/model/checkpoint1.pt\n"
     ]
    }
   ],
   "source": [
    "response_col = \"class\"\n",
    "compound_id = \"compound_id\"\n",
    "smiles_col = \"rdkit_smiles\"\n",
    "split_uuid = \"64ffab14-47a7-44e8-bfa1-8576f640e241\" # fingerprint\n",
    "# Set up file locations \n",
    "dataset_file = '/home/jupyter/hERG_Analysis/herg_chembl_curated.csv' \n",
    "odir = '/home/jupyter/hERG_Analysis/Models' \n",
    "\n",
    "params = {\n",
    "        \"verbose\": \"True\",\n",
    "        \"datastore\": \"False\",\n",
    "        \"save_results\": \"False\",\n",
    "        \"prediction_type\": \"classification\",\n",
    "        \"dataset_key\": dataset_file,\n",
    "        \"id_col\": compound_id,\n",
    "        \"smiles_col\": smiles_col,\n",
    "        \"response_cols\": response_col,\n",
    "        # using previously split data\n",
    "        \"previously_split\": \"True\",\n",
    "        \"split_uuid\" : split_uuid,\n",
    "        \"split_only\": \"False\",\n",
    "        # not needed becuase already using splits established previously\n",
    "        # \"split_strategy\": \"train_valid_test\",\n",
    "        \"splitter\": \"fingerprint\",\n",
    "        # \"split_valid_frac\": \"0.10\",\n",
    "        # \"split_test_frac\": \"0.10\",\n",
    "        \"featurizer\": \"ecfp\",\n",
    "        \"model_type\": \"NN\",\n",
    "        \"verbose\": \"True\",\n",
    "        \"transformers\": \"True\",\n",
    "        'max_epochs': '70',\n",
    "        \"rerun\": \"False\",\n",
    "        \"result_dir\": odir,\n",
    "    #    \"rf_estimators\": 64,\n",
    "     #   \"rf_max_depth\": 24,\n",
    "      #  \"rf_max_features\": 16,\n",
    "       # \"model_choice_score_type\": \"recall\"\n",
    "        # \"ampl_version\": \" \"\n",
    "    }\n",
    "\n",
    "ampl_param = parse.wrapper(params)\n",
    "pl = mp.ModelPipeline(ampl_param)\n",
    "pl.train_model()"
   ]
  },
  {
   "cell_type": "code",
   "execution_count": 35,
   "id": "f127f703-658f-4f00-a85f-cacbeaa2e034",
   "metadata": {
    "tags": []
   },
   "outputs": [
    {
     "data": {
      "text/plain": [
       "{'roc_auc_score': 0.695210694816994,\n",
       " 'prc_auc_score': 0.7040109225382963,\n",
       " 'cross_entropy': 0.6810761178413036,\n",
       " 'model_choice_score': 0.695210694816994,\n",
       " 'precision': 0.6350067842605156,\n",
       " 'recall_score': 0.7370078740157481,\n",
       " 'npv': 0.6238738738738738,\n",
       " 'accuracy_score': 0.6308213378492803,\n",
       " 'bal_accuracy': 0.6221669406708776,\n",
       " 'kappa': 0.24757504288791277,\n",
       " 'matthews_cc': 0.25150211928785704,\n",
       " 'confusion_matrix': [[[277, 269], [167, 468]]],\n",
       " 'num_compounds': 1181}"
      ]
     },
     "execution_count": 35,
     "metadata": {},
     "output_type": "execute_result"
    }
   ],
   "source": [
    "pred_data_valid = pl.model_wrapper.get_perf_data(subset=\"valid\", epoch_label=\"best\")\n",
    "pred_results_valid = pred_data_valid.get_prediction_results()\n",
    "pred_results_valid"
   ]
  },
  {
   "cell_type": "code",
   "execution_count": 36,
   "id": "5021c98c-d6b3-4036-bea8-01d9b1453bd7",
   "metadata": {
    "tags": []
   },
   "outputs": [
    {
     "data": {
      "text/plain": [
       "{'roc_auc_score': 0.5531028583943507,\n",
       " 'prc_auc_score': 0.4590376185859878,\n",
       " 'cross_entropy': 0.8434987584748118,\n",
       " 'precision': 0.44212218649517687,\n",
       " 'recall_score': 0.5705394190871369,\n",
       " 'npv': 0.6310160427807486,\n",
       " 'accuracy_score': 0.5316990701606086,\n",
       " 'bal_accuracy': 0.5377661432097596,\n",
       " 'kappa': 0.07225405705355425,\n",
       " 'matthews_cc': 0.0743256192835665,\n",
       " 'confusion_matrix': [[[354, 347], [207, 275]]],\n",
       " 'num_compounds': 1183}"
      ]
     },
     "execution_count": 36,
     "metadata": {},
     "output_type": "execute_result"
    }
   ],
   "source": [
    "pred_data_test = pl.model_wrapper.get_perf_data(subset=\"test\", epoch_label=\"best\")\n",
    "pred_results_test = pred_data_test.get_prediction_results()\n",
    "pred_results_test"
   ]
  },
  {
   "cell_type": "markdown",
   "id": "52950565-daf5-4ee5-8be8-a30060220aa5",
   "metadata": {
    "jp-MarkdownHeadingCollapsed": true,
    "tags": []
   },
   "source": [
    "## NN with Random Split"
   ]
  },
  {
   "cell_type": "code",
   "execution_count": 37,
   "id": "60626026-0a2d-4c1b-9aec-e6cf50797e3f",
   "metadata": {
    "tags": []
   },
   "outputs": [
    {
     "name": "stderr",
     "output_type": "stream",
     "text": [
      "2024-04-19 12:32:52,858 Previous dataset split restored\n"
     ]
    },
    {
     "name": "stdout",
     "output_type": "stream",
     "text": [
      "['herg_chembl_curated/NN_ecfp_random_classification/d2a56cc1-895d-4062-9f7b-8e7a9ff053f1/model/checkpoint1.pt', 'herg_chembl_curated/NN_ecfp_random_classification/d2a56cc1-895d-4062-9f7b-8e7a9ff053f1/model/checkpoint2.pt', 'herg_chembl_curated/NN_ecfp_random_classification/d2a56cc1-895d-4062-9f7b-8e7a9ff053f1/model/checkpoint3.pt', 'herg_chembl_curated/NN_ecfp_random_classification/d2a56cc1-895d-4062-9f7b-8e7a9ff053f1/model/checkpoint4.pt', 'herg_chembl_curated/NN_ecfp_random_classification/d2a56cc1-895d-4062-9f7b-8e7a9ff053f1/model/checkpoint5.pt']\n",
      "herg_chembl_curated/NN_ecfp_random_classification/d2a56cc1-895d-4062-9f7b-8e7a9ff053f1/model/checkpoint1.pt\n"
     ]
    }
   ],
   "source": [
    "response_col = \"class\"\n",
    "compound_id = \"compound_id\"\n",
    "smiles_col = \"rdkit_smiles\"\n",
    "split_uuid = \"ac01fe91-0793-4566-9340-2ff90e6a58c5\" # random\n",
    "# Set up file locations \n",
    "dataset_file = '/home/jupyter/hERG_Analysis/herg_chembl_curated.csv' \n",
    "odir = '/home/jupyter/hERG_Analysis/Models' \n",
    "\n",
    "params = {\n",
    "        \"verbose\": \"True\",\n",
    "        \"datastore\": \"False\",\n",
    "        \"save_results\": \"False\",\n",
    "        \"prediction_type\": \"classification\",\n",
    "        \"dataset_key\": dataset_file,\n",
    "        \"id_col\": compound_id,\n",
    "        \"smiles_col\": smiles_col,\n",
    "        \"response_cols\": response_col,\n",
    "        # using previously split data\n",
    "        \"previously_split\": \"True\",\n",
    "        \"split_uuid\" : split_uuid,\n",
    "        \"split_only\": \"False\",\n",
    "        # not needed becuase already using splits established previously\n",
    "        # \"split_strategy\": \"train_valid_test\",\n",
    "        \"splitter\": \"random\",\n",
    "        # \"split_valid_frac\": \"0.10\",\n",
    "        # \"split_test_frac\": \"0.10\",\n",
    "        \"featurizer\": \"ecfp\",\n",
    "        \"model_type\": \"NN\",\n",
    "        \"verbose\": \"True\",\n",
    "        \"transformers\": \"True\",\n",
    "        'max_epochs': '70',\n",
    "        \"rerun\": \"False\",\n",
    "        \"result_dir\": \"\",\n",
    "    #    \"rf_estimators\": 64,\n",
    "     #   \"rf_max_depth\": 24,\n",
    "      #  \"rf_max_features\": 16,\n",
    "       # \"model_choice_score_type\": \"recall\"\n",
    "        # \"ampl_version\": \" \"\n",
    "    }\n",
    "\n",
    "ampl_param = parse.wrapper(params)\n",
    "pl = mp.ModelPipeline(ampl_param)\n",
    "pl.train_model()"
   ]
  },
  {
   "cell_type": "code",
   "execution_count": 38,
   "id": "61e66854-a669-4cf3-8592-939f542f0d0f",
   "metadata": {
    "tags": []
   },
   "outputs": [
    {
     "data": {
      "text/plain": [
       "{'roc_auc_score': 0.8344208832489636,\n",
       " 'prc_auc_score': 0.8348802769749981,\n",
       " 'cross_entropy': 1.2015749747192919,\n",
       " 'model_choice_score': 0.8344208832489636,\n",
       " 'precision': 0.7572156196943973,\n",
       " 'recall_score': 0.7483221476510067,\n",
       " 'npv': 0.7470489038785835,\n",
       " 'accuracy_score': 0.7521150592216582,\n",
       " 'bal_accuracy': 0.7521474219483703,\n",
       " 'kappa': 0.5042443120492655,\n",
       " 'matthews_cc': 0.5042796835069806,\n",
       " 'confusion_matrix': [[[443, 143], [150, 446]]],\n",
       " 'num_compounds': 1182}"
      ]
     },
     "execution_count": 38,
     "metadata": {},
     "output_type": "execute_result"
    }
   ],
   "source": [
    "pred_data_valid = pl.model_wrapper.get_perf_data(subset=\"valid\", epoch_label=\"best\")\n",
    "pred_results_valid = pred_data_valid.get_prediction_results()\n",
    "pred_results_valid"
   ]
  },
  {
   "cell_type": "code",
   "execution_count": 39,
   "id": "28aacde7-b29a-413c-8b4a-23c326b785d5",
   "metadata": {
    "tags": []
   },
   "outputs": [
    {
     "data": {
      "text/plain": [
       "{'roc_auc_score': 0.8131598728453717,\n",
       " 'prc_auc_score': 0.8095288401381207,\n",
       " 'cross_entropy': 1.368360832898366,\n",
       " 'precision': 0.7243816254416962,\n",
       " 'recall_score': 0.7269503546099291,\n",
       " 'npv': 0.75,\n",
       " 'accuracy_score': 0.7377326565143824,\n",
       " 'bal_accuracy': 0.7372615850719548,\n",
       " 'kappa': 0.4744496652381198,\n",
       " 'matthews_cc': 0.4744523925143748,\n",
       " 'confusion_matrix': [[[462, 156], [154, 410]]],\n",
       " 'num_compounds': 1182}"
      ]
     },
     "execution_count": 39,
     "metadata": {},
     "output_type": "execute_result"
    }
   ],
   "source": [
    "pred_data_test = pl.model_wrapper.get_perf_data(subset=\"test\", epoch_label=\"best\")\n",
    "pred_results_test = pred_data_test.get_prediction_results()\n",
    "pred_results_test"
   ]
  },
  {
   "cell_type": "code",
   "execution_count": 40,
   "id": "76deec35-9e2a-43c2-91c9-b546a305cbc9",
   "metadata": {
    "tags": []
   },
   "outputs": [
    {
     "ename": "SyntaxError",
     "evalue": "invalid syntax (1522650669.py, line 5)",
     "output_type": "error",
     "traceback": [
      "\u001b[0;36m  Cell \u001b[0;32mIn[40], line 5\u001b[0;36m\u001b[0m\n\u001b[0;31m    dataset_file = '/home/jupyter/hERG/final_herg_chembl.csv' -- CHANGE THIS\u001b[0m\n\u001b[0m                                                                        ^\u001b[0m\n\u001b[0;31mSyntaxError\u001b[0m\u001b[0;31m:\u001b[0m invalid syntax\n"
     ]
    }
   ],
   "source": [
    "response_col = \"class\"\n",
    "compound_id = \"compound_id\"\n",
    "smiles_col = \"rdkit_smiles\"\n",
    "split_uuid = \"b66b295b-92ba-47c5-8fc5-5cdb53849fee\" # random\n",
    "dataset_file = '/home/jupyter/hERG/final_herg_chembl.csv' -- CHANGE THIS\n",
    "odir = '/home/jupyter/hERG/Models' -- CHANGE THIS\n",
    "\n",
    "params = {\n",
    "        \"verbose\": \"True\",\n",
    "        \"datastore\": \"False\",\n",
    "        \"save_results\": \"False\",\n",
    "        \"prediction_type\": \"classification\",\n",
    "        \"dataset_key\": dataset_file,\n",
    "        \"id_col\": compound_id,\n",
    "        \"smiles_col\": smiles_col,\n",
    "        \"response_cols\": response_col,\n",
    "        # using previously split data\n",
    "        \"previously_split\": \"True\",\n",
    "        \"split_uuid\" : split_uuid,\n",
    "        \"split_only\": \"False\",\n",
    "        # not needed becuase already using splits established previously\n",
    "        # \"split_strategy\": \"train_valid_test\",\n",
    "        \"splitter\": \"random\",\n",
    "        # \"split_valid_frac\": \"0.10\",\n",
    "        # \"split_test_frac\": \"0.10\",\n",
    "        \"featurizer\": \"ecfp\",\n",
    "        \"model_type\": \"NN\",\n",
    "        \"verbose\": \"True\",\n",
    "        \"transformers\": \"True\",\n",
    "        'max_epochs': '70',\n",
    "        \"rerun\": \"False\",\n",
    "        \"result_dir\": odir,\n",
    "    #    \"rf_estimators\": 64,\n",
    "     #   \"rf_max_depth\": 24,\n",
    "      #  \"rf_max_features\": 16,\n",
    "       # \"model_choice_score_type\": \"recall\"\n",
    "        # \"ampl_version\": \" \"\n",
    "    }\n",
    "\n",
    "ampl_param = parse.wrapper(params)\n",
    "pl = mp.ModelPipeline(ampl_param)\n",
    "pl.train_model()"
   ]
  },
  {
   "cell_type": "code",
   "execution_count": null,
   "id": "c3df7742-58ff-4e3f-bcd5-3d9d48fd95cf",
   "metadata": {
    "tags": []
   },
   "outputs": [],
   "source": [
    "!tar -tf *.tar.gz"
   ]
  },
  {
   "cell_type": "code",
   "execution_count": null,
   "id": "9d15a2e6-e5d2-4101-a744-d96cc818787b",
   "metadata": {
    "tags": []
   },
   "outputs": [],
   "source": [
    "!tar xzf *.tar.gz -C /tmp"
   ]
  },
  {
   "cell_type": "code",
   "execution_count": null,
   "id": "b7944b16-5397-4581-bc36-71fde0a03196",
   "metadata": {
    "tags": []
   },
   "outputs": [],
   "source": [
    "!cat /tmp/model_metadata.json | head"
   ]
  },
  {
   "cell_type": "code",
   "execution_count": null,
   "id": "2e8143d9-da2a-41a0-9131-4b1c05b20ce9",
   "metadata": {
    "tags": []
   },
   "outputs": [],
   "source": [
    "import joblib\n",
    "# load the model from disk\n",
    "loaded_model = joblib.load(\"/tmp/best_model/model.joblib\")\n",
    "loaded_model"
   ]
  },
  {
   "cell_type": "code",
   "execution_count": null,
   "id": "e5a0017f-9a5d-4b37-a7a6-8dc4f02435e2",
   "metadata": {
    "tags": []
   },
   "outputs": [],
   "source": [
    "import json\n",
    "import pandas as pd\n",
    "data = json.load(open('/tmp/model_metadata.json'))\n",
    "# pd.DataFrame(data[\"model_parameters\"])\n",
    "data['model_parameters']"
   ]
  },
  {
   "cell_type": "code",
   "execution_count": null,
   "id": "9dc73971-628e-420f-8c5b-ac7b1c3c73d8",
   "metadata": {
    "tags": []
   },
   "outputs": [],
   "source": [
    "pred_data_valid = pl.model_wrapper.get_perf_data(subset=\"valid\", epoch_label=\"best\")\n",
    "pred_results_valid = pred_data_valid.get_prediction_results()\n",
    "pred_results_valid"
   ]
  },
  {
   "cell_type": "code",
   "execution_count": null,
   "id": "293b1f5c-15c1-4f7c-8908-5b9db2cde902",
   "metadata": {
    "tags": []
   },
   "outputs": [],
   "source": [
    "pred_data_test = pl.model_wrapper.get_perf_data(subset=\"test\", epoch_label=\"best\")\n",
    "pred_results_test = pred_data_test.get_prediction_results()\n",
    "pred_results_test"
   ]
  },
  {
   "cell_type": "markdown",
   "id": "b6d8748b-7a1c-4f77-b68e-1b1336b347e5",
   "metadata": {},
   "source": [
    "# XGBOOST"
   ]
  },
  {
   "cell_type": "markdown",
   "id": "9d4ddcdd-ab45-4103-bfda-1f2afe05b674",
   "metadata": {
    "jp-MarkdownHeadingCollapsed": true,
    "tags": []
   },
   "source": [
    "## XGBOOST with Scaffold Split"
   ]
  },
  {
   "cell_type": "code",
   "execution_count": 41,
   "id": "b70819e2-a3e8-46b4-bb4f-ee9f67dcae02",
   "metadata": {
    "tags": []
   },
   "outputs": [
    {
     "name": "stderr",
     "output_type": "stream",
     "text": [
      "2024-04-19 12:37:11,137 Previous dataset split restored\n"
     ]
    }
   ],
   "source": [
    "response_col = \"class\"\n",
    "compound_id = \"compound_id\"\n",
    "smiles_col = \"rdkit_smiles\"\n",
    "split_uuid = \"5f834022-46ac-4c7b-bca1-9573f6eb940f\" # scaffold\n",
    "# Set up file locations \n",
    "dataset_file = '/home/jupyter/hERG_Analysis/herg_chembl_curated.csv' \n",
    "odir = '/home/jupyter/hERG_Analysis/Models'\n",
    "\n",
    "params = {\n",
    "        \"verbose\": \"True\",\n",
    "        \"datastore\": \"False\",\n",
    "        \"save_results\": \"False\",\n",
    "        \"prediction_type\": \"classification\",\n",
    "        \"dataset_key\": dataset_file,\n",
    "        \"id_col\": compound_id,\n",
    "        \"smiles_col\": smiles_col,\n",
    "        \"response_cols\": response_col,\n",
    "        # using previously split data\n",
    "        \"previously_split\": \"True\",\n",
    "        \"split_uuid\" : split_uuid,\n",
    "        \"split_only\": \"False\",\n",
    "        # not needed becuase already using splits established previously\n",
    "        # \"split_strategy\": \"train_valid_test\",\n",
    "        \"splitter\": \"scaffold\",\n",
    "        # \"split_valid_frac\": \"0.10\",\n",
    "        # \"split_test_frac\": \"0.10\",\n",
    "        \"featurizer\": \"ecfp\",\n",
    "        \"model_type\": \"xgboost\",\n",
    "        \"verbose\": \"True\",\n",
    "        \"transformers\": \"True\",\n",
    "        'max_epochs': '70',\n",
    "        \"rerun\": \"False\",\n",
    "        \"result_dir\": odir,\n",
    "    #    \"rf_estimators\": 64,\n",
    "     #   \"rf_max_depth\": 24,\n",
    "      #  \"rf_max_features\": 16,\n",
    "       # \"model_choice_score_type\": \"recall\"\n",
    "        # \"ampl_version\": \" \"\n",
    "    }\n",
    "\n",
    "ampl_param = parse.wrapper(params)\n",
    "pl = mp.ModelPipeline(ampl_param)\n",
    "pl.train_model()"
   ]
  },
  {
   "cell_type": "code",
   "execution_count": 42,
   "id": "1c685012-16a9-4b5a-9382-fb0e0a869fcb",
   "metadata": {
    "tags": []
   },
   "outputs": [
    {
     "data": {
      "text/plain": [
       "{'roc_auc_score': 0.7428823955176321,\n",
       " 'prc_auc_score': 0.7074451263959952,\n",
       " 'cross_entropy': 0.5930257916789979,\n",
       " 'model_choice_score': 0.7428823955176321,\n",
       " 'precision': 0.672514619883041,\n",
       " 'recall_score': 0.6377079482439926,\n",
       " 'npv': 0.7070254110612855,\n",
       " 'accuracy_score': 0.6920473773265652,\n",
       " 'bal_accuracy': 0.6878087323123239,\n",
       " 'kappa': 0.3771400279691124,\n",
       " 'matthews_cc': 0.3775736539363787,\n",
       " 'confusion_matrix': [[[473, 168], [196, 345]]],\n",
       " 'num_compounds': 1182}"
      ]
     },
     "execution_count": 42,
     "metadata": {},
     "output_type": "execute_result"
    }
   ],
   "source": [
    "pred_data_valid = pl.model_wrapper.get_perf_data(subset=\"valid\", epoch_label=\"best\")\n",
    "pred_results_valid = pred_data_valid.get_prediction_results()\n",
    "pred_results_valid"
   ]
  },
  {
   "cell_type": "code",
   "execution_count": 43,
   "id": "e5136857-b5bc-45ef-a9c5-626a234d96a3",
   "metadata": {
    "tags": []
   },
   "outputs": [
    {
     "data": {
      "text/plain": [
       "{'roc_auc_score': 0.7525319586555234,\n",
       " 'prc_auc_score': 0.7045571867652014,\n",
       " 'cross_entropy': 0.5865911441214937,\n",
       " 'precision': 0.6686746987951807,\n",
       " 'recall_score': 0.6271186440677966,\n",
       " 'npv': 0.7105263157894737,\n",
       " 'accuracy_score': 0.6928934010152284,\n",
       " 'bal_accuracy': 0.68683121143482,\n",
       " 'kappa': 0.3758150252690565,\n",
       " 'matthews_cc': 0.37642153214757473,\n",
       " 'confusion_matrix': [[[486, 165], [198, 333]]],\n",
       " 'num_compounds': 1182}"
      ]
     },
     "execution_count": 43,
     "metadata": {},
     "output_type": "execute_result"
    }
   ],
   "source": [
    "pred_data_test = pl.model_wrapper.get_perf_data(subset=\"test\", epoch_label=\"best\")\n",
    "pred_results_test = pred_data_test.get_prediction_results()\n",
    "pred_results_test"
   ]
  },
  {
   "cell_type": "markdown",
   "id": "2844807f-8ea5-494c-bf45-f9e3517555e8",
   "metadata": {
    "jp-MarkdownHeadingCollapsed": true,
    "tags": []
   },
   "source": [
    "## XGBOOST with Fingerprint Split"
   ]
  },
  {
   "cell_type": "code",
   "execution_count": 44,
   "id": "6e745504-c644-44f8-8a85-7ae506881ea1",
   "metadata": {
    "tags": []
   },
   "outputs": [
    {
     "name": "stderr",
     "output_type": "stream",
     "text": [
      "2024-04-19 12:37:29,908 Previous dataset split restored\n"
     ]
    }
   ],
   "source": [
    "response_col = \"class\"\n",
    "compound_id = \"compound_id\"\n",
    "smiles_col = \"rdkit_smiles\"\n",
    "split_uuid = \"64ffab14-47a7-44e8-bfa1-8576f640e241\" # fingerprint\n",
    "# Set up file locations \n",
    "dataset_file = '/home/jupyter/hERG_Analysis/herg_chembl_curated.csv' \n",
    "odir = '/home/jupyter/hERG_Analysis/Models' \n",
    "\n",
    "params = {\n",
    "        \"verbose\": \"True\",\n",
    "        \"datastore\": \"False\",\n",
    "        \"save_results\": \"False\",\n",
    "        \"prediction_type\": \"classification\",\n",
    "        \"dataset_key\": dataset_file,\n",
    "        \"id_col\": compound_id,\n",
    "        \"smiles_col\": smiles_col,\n",
    "        \"response_cols\": response_col,\n",
    "        # using previously split data\n",
    "        \"previously_split\": \"True\",\n",
    "        \"split_uuid\" : split_uuid,\n",
    "        \"split_only\": \"False\",\n",
    "        # not needed becuase already using splits established previously\n",
    "        # \"split_strategy\": \"train_valid_test\",\n",
    "        \"splitter\": \"fingerprint\",\n",
    "        # \"split_valid_frac\": \"0.10\",\n",
    "        # \"split_test_frac\": \"0.10\",\n",
    "        \"featurizer\": \"ecfp\",\n",
    "        \"model_type\": \"xgboost\",\n",
    "        \"verbose\": \"True\",\n",
    "        \"transformers\": \"True\",\n",
    "        'max_epochs': '70',\n",
    "        \"rerun\": \"False\",\n",
    "        \"result_dir\": odir,\n",
    "    #    \"rf_estimators\": 64,\n",
    "     #   \"rf_max_depth\": 24,\n",
    "      #  \"rf_max_features\": 16,\n",
    "       # \"model_choice_score_type\": \"recall\"\n",
    "        # \"ampl_version\": \" \"\n",
    "    }\n",
    "\n",
    "ampl_param = parse.wrapper(params)\n",
    "pl = mp.ModelPipeline(ampl_param)\n",
    "pl.train_model()"
   ]
  },
  {
   "cell_type": "code",
   "execution_count": 45,
   "id": "b45f552d-f0e9-4e5a-8f3e-7f09c4c1c7b9",
   "metadata": {
    "tags": []
   },
   "outputs": [
    {
     "data": {
      "text/plain": [
       "{'roc_auc_score': 0.6853869227884976,\n",
       " 'prc_auc_score': 0.6917148998899232,\n",
       " 'cross_entropy': 0.6456904332565345,\n",
       " 'model_choice_score': 0.6853869227884976,\n",
       " 'precision': 0.6650246305418719,\n",
       " 'recall_score': 0.6377952755905512,\n",
       " 'npv': 0.5979020979020979,\n",
       " 'accuracy_score': 0.632514817950889,\n",
       " 'bal_accuracy': 0.6320844509820888,\n",
       " 'kappa': 0.2632902804807584,\n",
       " 'matthews_cc': 0.26354708336476995,\n",
       " 'confusion_matrix': [[[342, 204], [230, 405]]],\n",
       " 'num_compounds': 1181}"
      ]
     },
     "execution_count": 45,
     "metadata": {},
     "output_type": "execute_result"
    }
   ],
   "source": [
    "pred_data_valid = pl.model_wrapper.get_perf_data(subset=\"valid\", epoch_label=\"best\")\n",
    "pred_results_valid = pred_data_valid.get_prediction_results()\n",
    "pred_results_valid"
   ]
  },
  {
   "cell_type": "code",
   "execution_count": 46,
   "id": "41a215c8-32cc-43cf-bf14-7109b093bb64",
   "metadata": {
    "tags": []
   },
   "outputs": [
    {
     "data": {
      "text/plain": [
       "{'roc_auc_score': 0.6135692342297016,\n",
       " 'prc_auc_score': 0.4887840333977358,\n",
       " 'cross_entropy': 0.6836502486273109,\n",
       " 'precision': 0.48884381338742394,\n",
       " 'recall_score': 0.5,\n",
       " 'npv': 0.6507246376811594,\n",
       " 'accuracy_score': 0.5832628909551987,\n",
       " 'bal_accuracy': 0.5702567760342367,\n",
       " 'kappa': 0.14001442109904105,\n",
       " 'matthews_cc': 0.1400402042855608,\n",
       " 'confusion_matrix': [[[449, 252], [241, 241]]],\n",
       " 'num_compounds': 1183}"
      ]
     },
     "execution_count": 46,
     "metadata": {},
     "output_type": "execute_result"
    }
   ],
   "source": [
    "pred_data_test = pl.model_wrapper.get_perf_data(subset=\"test\", epoch_label=\"best\")\n",
    "pred_results_test = pred_data_test.get_prediction_results()\n",
    "pred_results_test"
   ]
  },
  {
   "cell_type": "markdown",
   "id": "cbdf5866-af6e-49b2-8dd3-2fb07305414d",
   "metadata": {
    "jp-MarkdownHeadingCollapsed": true,
    "tags": []
   },
   "source": [
    "## XGBOOST with Random Split"
   ]
  },
  {
   "cell_type": "code",
   "execution_count": 3,
   "id": "4e97528d-7ad5-48b3-a478-2d5f98d65fc2",
   "metadata": {
    "tags": []
   },
   "outputs": [
    {
     "name": "stderr",
     "output_type": "stream",
     "text": [
      "2024-05-01 13:35:43,465 Previous dataset split restored\n"
     ]
    }
   ],
   "source": [
    "response_col = \"class\"\n",
    "compound_id = \"compound_id\"\n",
    "smiles_col = \"rdkit_smiles\"\n",
    "split_uuid = \"ac01fe91-0793-4566-9340-2ff90e6a58c5\" # random\n",
    "# Set up file locations \n",
    "dataset_file = '/home/jupyter/hERG_Analysis/herg_chembl_curated.csv' \n",
    "odir = '/home/jupyter/hERG_Analysis/Models' \n",
    "\n",
    "params = {\n",
    "        \"verbose\": \"True\",\n",
    "        \"datastore\": \"False\",\n",
    "        \"save_results\": \"False\",\n",
    "        \"prediction_type\": \"classification\",\n",
    "        \"dataset_key\": dataset_file,\n",
    "        \"id_col\": compound_id,\n",
    "        \"smiles_col\": smiles_col,\n",
    "        \"response_cols\": response_col,\n",
    "        # using previously split data\n",
    "        \"previously_split\": \"True\",\n",
    "        \"split_uuid\" : split_uuid,\n",
    "        \"split_only\": \"False\",\n",
    "        # not needed becuase already using splits established previously\n",
    "        # \"split_strategy\": \"train_valid_test\",\n",
    "        \"splitter\": \"random\",\n",
    "        # \"split_valid_frac\": \"0.10\",\n",
    "        # \"split_test_frac\": \"0.10\",\n",
    "        \"featurizer\": \"ecfp\",\n",
    "        \"model_type\": \"xgboost\",\n",
    "        \"verbose\": \"True\",\n",
    "        \"transformers\": \"True\",\n",
    "        'max_epochs': '70',\n",
    "        \"rerun\": \"False\",\n",
    "        \"result_dir\": odir,\n",
    "    #    \"rf_estimators\": 64,\n",
    "     #   \"rf_max_depth\": 24,\n",
    "      #  \"rf_max_features\": 16,\n",
    "       # \"model_choice_score_type\": \"recall\"\n",
    "        # \"ampl_version\": \" \"\n",
    "    }\n",
    "\n",
    "ampl_param = parse.wrapper(params)\n",
    "pl = mp.ModelPipeline(ampl_param)\n",
    "pl.train_model()"
   ]
  },
  {
   "cell_type": "code",
   "execution_count": 4,
   "id": "5d58fb4a-8371-418e-b4ea-7353c374a673",
   "metadata": {
    "tags": []
   },
   "outputs": [
    {
     "data": {
      "text/plain": [
       "{'roc_auc_score': 0.8393356162814669,\n",
       " 'prc_auc_score': 0.8398840075899756,\n",
       " 'cross_entropy': 0.5066378439919058,\n",
       " 'model_choice_score': 0.8393356162814669,\n",
       " 'precision': 0.7590987868284229,\n",
       " 'recall_score': 0.7348993288590604,\n",
       " 'npv': 0.7388429752066116,\n",
       " 'accuracy_score': 0.748730964467005,\n",
       " 'bal_accuracy': 0.7488489818356736,\n",
       " 'kappa': 0.49756262326428147,\n",
       " 'matthews_cc': 0.49781984792870515,\n",
       " 'confusion_matrix': [[[447, 139], [158, 438]]],\n",
       " 'num_compounds': 1182}"
      ]
     },
     "execution_count": 4,
     "metadata": {},
     "output_type": "execute_result"
    }
   ],
   "source": [
    "pred_data_valid = pl.model_wrapper.get_perf_data(subset=\"valid\", epoch_label=\"best\")\n",
    "pred_results_valid = pred_data_valid.get_prediction_results()\n",
    "pred_results_valid"
   ]
  },
  {
   "cell_type": "code",
   "execution_count": 5,
   "id": "032c239d-b33e-4ffc-9f45-7a8f00ebad51",
   "metadata": {
    "tags": []
   },
   "outputs": [
    {
     "data": {
      "text/plain": [
       "{'roc_auc_score': 0.8143763340907525,\n",
       " 'prc_auc_score': 0.8066943583053293,\n",
       " 'cross_entropy': 0.5295807253638842,\n",
       " 'precision': 0.7127659574468085,\n",
       " 'recall_score': 0.7127659574468085,\n",
       " 'npv': 0.7378640776699029,\n",
       " 'accuracy_score': 0.7258883248730964,\n",
       " 'bal_accuracy': 0.7253150175583557,\n",
       " 'kappa': 0.4506300351167114,\n",
       " 'matthews_cc': 0.4506300351167114,\n",
       " 'confusion_matrix': [[[456, 162], [162, 402]]],\n",
       " 'num_compounds': 1182}"
      ]
     },
     "execution_count": 5,
     "metadata": {},
     "output_type": "execute_result"
    }
   ],
   "source": [
    "pred_data_test = pl.model_wrapper.get_perf_data(subset=\"test\", epoch_label=\"best\")\n",
    "pred_results_test = pred_data_test.get_prediction_results()\n",
    "pred_results_test"
   ]
  },
  {
   "cell_type": "markdown",
   "id": "260e42c5-9744-4044-8af1-f8adafc087e5",
   "metadata": {},
   "source": [
    "# Performance of the Models\n",
    "We evaluate model performance by measuring how a accurate models are on validation and test sets. The validation set is used while optimizing the model and choosing the best parameter settings. Then the performance on the test set is the final judge of model performance."
   ]
  },
  {
   "cell_type": "code",
   "execution_count": 50,
   "id": "ce89a2fc-8dab-4f55-9464-89cc9fb43732",
   "metadata": {},
   "outputs": [
    {
     "name": "stderr",
     "output_type": "stream",
     "text": [
      "2024-04-19 12:38:24,654 Warning: column names have been changed to align with get_multitask_perf_from_tracker(): featurizer is now features and <subset>_<metric> has been changed to best_<subset>_<metric>.\n"
     ]
    },
    {
     "name": "stdout",
     "output_type": "stream",
     "text": [
      "Found data for 9 models under /home/jupyter/hERG_Analysis/Models\n"
     ]
    }
   ],
   "source": [
    "# Model Performance\n",
    "# Before hyperparameterization optimization\n",
    "from atomsci.ddm.pipeline import compare_models as cm\n",
    "basic_pred_df = cm.get_filesystem_perf_results(odir, pred_type='classification')"
   ]
  },
  {
   "cell_type": "markdown",
   "id": "6b513a8b-1537-447f-b66d-b4af4c6ab99d",
   "metadata": {},
   "source": [
    "The pred_df dataframe has details about the model_uuid, model_path, ampl_version, model_type, features, splitter and the results for popular metrics that help evaluate the performance. Let us view the contents of the pred_df dataframe."
   ]
  },
  {
   "cell_type": "code",
   "execution_count": 51,
   "id": "8a6db25f-14a3-4e4a-a2f0-012ae9cbb95c",
   "metadata": {},
   "outputs": [],
   "source": [
    "# save pred_df\n",
    "import os\n",
    "basic_pred_df.to_csv(os.path.join(odir, 'basic_pred_df.csv'))"
   ]
  },
  {
   "cell_type": "code",
   "execution_count": 52,
   "id": "234ababd-64b9-4dd7-ad46-d12f1d20953e",
   "metadata": {},
   "outputs": [
    {
     "data": {
      "text/html": [
       "<div>\n",
       "<style scoped>\n",
       "    .dataframe tbody tr th:only-of-type {\n",
       "        vertical-align: middle;\n",
       "    }\n",
       "\n",
       "    .dataframe tbody tr th {\n",
       "        vertical-align: top;\n",
       "    }\n",
       "\n",
       "    .dataframe thead th {\n",
       "        text-align: right;\n",
       "    }\n",
       "</style>\n",
       "<table border=\"1\" class=\"dataframe\">\n",
       "  <thead>\n",
       "    <tr style=\"text-align: right;\">\n",
       "      <th></th>\n",
       "      <th>model_uuid</th>\n",
       "      <th>model_path</th>\n",
       "      <th>ampl_version</th>\n",
       "      <th>model_type</th>\n",
       "      <th>dataset_key</th>\n",
       "      <th>features</th>\n",
       "      <th>splitter</th>\n",
       "      <th>split_strategy</th>\n",
       "      <th>model_score_type</th>\n",
       "      <th>feature_transform_type</th>\n",
       "      <th>...</th>\n",
       "      <th>rf_max_depth</th>\n",
       "      <th>xgb_gamma</th>\n",
       "      <th>xgb_learning_rate</th>\n",
       "      <th>xgb_max_depth</th>\n",
       "      <th>xgb_colsample_bytree</th>\n",
       "      <th>xgb_subsample</th>\n",
       "      <th>xgb_n_estimators</th>\n",
       "      <th>xgb_min_child_weight</th>\n",
       "      <th>model_parameters_dict</th>\n",
       "      <th>feat_parameters_dict</th>\n",
       "    </tr>\n",
       "  </thead>\n",
       "  <tbody>\n",
       "    <tr>\n",
       "      <th>3</th>\n",
       "      <td>e79bddbf-6ca1-4756-b81e-e9135481fa9c</td>\n",
       "      <td>/home/jupyter/hERG_Analysis/Models/herg_chembl...</td>\n",
       "      <td>1.6.0</td>\n",
       "      <td>RF</td>\n",
       "      <td>/home/jupyter/hERG_Analysis/herg_chembl_curate...</td>\n",
       "      <td>ecfp</td>\n",
       "      <td>random</td>\n",
       "      <td>train_valid_test</td>\n",
       "      <td>roc_auc</td>\n",
       "      <td>normalization</td>\n",
       "      <td>...</td>\n",
       "      <td>24.0</td>\n",
       "      <td>NaN</td>\n",
       "      <td>NaN</td>\n",
       "      <td>NaN</td>\n",
       "      <td>NaN</td>\n",
       "      <td>NaN</td>\n",
       "      <td>NaN</td>\n",
       "      <td>NaN</td>\n",
       "      <td>{\"rf_estimators\": 64, \"rf_max_depth\": 24, \"rf_...</td>\n",
       "      <td>{\"ecfp_radius\": 2, \"ecfp_size\": 1024}</td>\n",
       "    </tr>\n",
       "    <tr>\n",
       "      <th>2</th>\n",
       "      <td>ba8a6514-e5cc-4b5a-b271-658d589050c1</td>\n",
       "      <td>/home/jupyter/hERG_Analysis/Models/herg_chembl...</td>\n",
       "      <td>1.6.0</td>\n",
       "      <td>xgboost</td>\n",
       "      <td>/home/jupyter/hERG_Analysis/herg_chembl_curate...</td>\n",
       "      <td>ecfp</td>\n",
       "      <td>random</td>\n",
       "      <td>train_valid_test</td>\n",
       "      <td>roc_auc</td>\n",
       "      <td>normalization</td>\n",
       "      <td>...</td>\n",
       "      <td>NaN</td>\n",
       "      <td>0.0</td>\n",
       "      <td>0.1</td>\n",
       "      <td>6.0</td>\n",
       "      <td>1.0</td>\n",
       "      <td>1.0</td>\n",
       "      <td>100.0</td>\n",
       "      <td>1.0</td>\n",
       "      <td>{\"xgb_colsample_bytree\": 1.0, \"xgb_gamma\": 0.0...</td>\n",
       "      <td>{\"ecfp_radius\": 2, \"ecfp_size\": 1024}</td>\n",
       "    </tr>\n",
       "    <tr>\n",
       "      <th>6</th>\n",
       "      <td>08f8417a-642c-4ee1-8e57-72ad410518cc</td>\n",
       "      <td>/home/jupyter/hERG_Analysis/Models/herg_chembl...</td>\n",
       "      <td>1.6.0</td>\n",
       "      <td>RF</td>\n",
       "      <td>/home/jupyter/hERG_Analysis/herg_chembl_curate...</td>\n",
       "      <td>ecfp</td>\n",
       "      <td>scaffold</td>\n",
       "      <td>train_valid_test</td>\n",
       "      <td>roc_auc</td>\n",
       "      <td>normalization</td>\n",
       "      <td>...</td>\n",
       "      <td>NaN</td>\n",
       "      <td>NaN</td>\n",
       "      <td>NaN</td>\n",
       "      <td>NaN</td>\n",
       "      <td>NaN</td>\n",
       "      <td>NaN</td>\n",
       "      <td>NaN</td>\n",
       "      <td>NaN</td>\n",
       "      <td>{\"rf_estimators\": 500, \"rf_max_depth\": null, \"...</td>\n",
       "      <td>{\"ecfp_radius\": 2, \"ecfp_size\": 1024}</td>\n",
       "    </tr>\n",
       "    <tr>\n",
       "      <th>5</th>\n",
       "      <td>804a2c09-754c-4dc4-986f-273eea98a9be</td>\n",
       "      <td>/home/jupyter/hERG_Analysis/Models/herg_chembl...</td>\n",
       "      <td>1.6.0</td>\n",
       "      <td>RF</td>\n",
       "      <td>/home/jupyter/hERG_Analysis/herg_chembl_curate...</td>\n",
       "      <td>ecfp</td>\n",
       "      <td>scaffold</td>\n",
       "      <td>train_valid_test</td>\n",
       "      <td>roc_auc</td>\n",
       "      <td>normalization</td>\n",
       "      <td>...</td>\n",
       "      <td>NaN</td>\n",
       "      <td>NaN</td>\n",
       "      <td>NaN</td>\n",
       "      <td>NaN</td>\n",
       "      <td>NaN</td>\n",
       "      <td>NaN</td>\n",
       "      <td>NaN</td>\n",
       "      <td>NaN</td>\n",
       "      <td>{\"rf_estimators\": 500, \"rf_max_depth\": null, \"...</td>\n",
       "      <td>{\"ecfp_radius\": 2, \"ecfp_size\": 1024}</td>\n",
       "    </tr>\n",
       "    <tr>\n",
       "      <th>1</th>\n",
       "      <td>5de4bfcc-33c9-490b-b02e-9745fe59d0d4</td>\n",
       "      <td>/home/jupyter/hERG_Analysis/Models/herg_chembl...</td>\n",
       "      <td>1.6.0</td>\n",
       "      <td>NN</td>\n",
       "      <td>/home/jupyter/hERG_Analysis/herg_chembl_curate...</td>\n",
       "      <td>ecfp</td>\n",
       "      <td>scaffold</td>\n",
       "      <td>train_valid_test</td>\n",
       "      <td>roc_auc</td>\n",
       "      <td>normalization</td>\n",
       "      <td>...</td>\n",
       "      <td>NaN</td>\n",
       "      <td>NaN</td>\n",
       "      <td>NaN</td>\n",
       "      <td>NaN</td>\n",
       "      <td>NaN</td>\n",
       "      <td>NaN</td>\n",
       "      <td>NaN</td>\n",
       "      <td>NaN</td>\n",
       "      <td>{\"best_epoch\": 67, \"dropouts\": [0.4, 0.4], \"la...</td>\n",
       "      <td>{\"ecfp_radius\": 2, \"ecfp_size\": 1024}</td>\n",
       "    </tr>\n",
       "    <tr>\n",
       "      <th>4</th>\n",
       "      <td>87273377-c53f-4210-a1a0-5ae7dda4fbaf</td>\n",
       "      <td>/home/jupyter/hERG_Analysis/Models/herg_chembl...</td>\n",
       "      <td>1.6.0</td>\n",
       "      <td>RF</td>\n",
       "      <td>/home/jupyter/hERG_Analysis/herg_chembl_curate...</td>\n",
       "      <td>ecfp</td>\n",
       "      <td>fingerprint</td>\n",
       "      <td>train_valid_test</td>\n",
       "      <td>roc_auc</td>\n",
       "      <td>normalization</td>\n",
       "      <td>...</td>\n",
       "      <td>NaN</td>\n",
       "      <td>NaN</td>\n",
       "      <td>NaN</td>\n",
       "      <td>NaN</td>\n",
       "      <td>NaN</td>\n",
       "      <td>NaN</td>\n",
       "      <td>NaN</td>\n",
       "      <td>NaN</td>\n",
       "      <td>{\"rf_estimators\": 500, \"rf_max_depth\": null, \"...</td>\n",
       "      <td>{\"ecfp_radius\": 2, \"ecfp_size\": 1024}</td>\n",
       "    </tr>\n",
       "    <tr>\n",
       "      <th>7</th>\n",
       "      <td>d45bae4e-5d99-4080-8bca-a3fb35a51d3f</td>\n",
       "      <td>/home/jupyter/hERG_Analysis/Models/herg_chembl...</td>\n",
       "      <td>1.6.0</td>\n",
       "      <td>xgboost</td>\n",
       "      <td>/home/jupyter/hERG_Analysis/herg_chembl_curate...</td>\n",
       "      <td>ecfp</td>\n",
       "      <td>scaffold</td>\n",
       "      <td>train_valid_test</td>\n",
       "      <td>roc_auc</td>\n",
       "      <td>normalization</td>\n",
       "      <td>...</td>\n",
       "      <td>NaN</td>\n",
       "      <td>0.0</td>\n",
       "      <td>0.1</td>\n",
       "      <td>6.0</td>\n",
       "      <td>1.0</td>\n",
       "      <td>1.0</td>\n",
       "      <td>100.0</td>\n",
       "      <td>1.0</td>\n",
       "      <td>{\"xgb_colsample_bytree\": 1.0, \"xgb_gamma\": 0.0...</td>\n",
       "      <td>{\"ecfp_radius\": 2, \"ecfp_size\": 1024}</td>\n",
       "    </tr>\n",
       "    <tr>\n",
       "      <th>0</th>\n",
       "      <td>c763a0d5-6615-4365-98d1-959e0593c97b</td>\n",
       "      <td>/home/jupyter/hERG_Analysis/Models/herg_chembl...</td>\n",
       "      <td>1.6.0</td>\n",
       "      <td>NN</td>\n",
       "      <td>/home/jupyter/hERG_Analysis/herg_chembl_curate...</td>\n",
       "      <td>ecfp</td>\n",
       "      <td>fingerprint</td>\n",
       "      <td>train_valid_test</td>\n",
       "      <td>roc_auc</td>\n",
       "      <td>normalization</td>\n",
       "      <td>...</td>\n",
       "      <td>NaN</td>\n",
       "      <td>NaN</td>\n",
       "      <td>NaN</td>\n",
       "      <td>NaN</td>\n",
       "      <td>NaN</td>\n",
       "      <td>NaN</td>\n",
       "      <td>NaN</td>\n",
       "      <td>NaN</td>\n",
       "      <td>{\"best_epoch\": 9, \"dropouts\": [0.4, 0.4], \"lay...</td>\n",
       "      <td>{\"ecfp_radius\": 2, \"ecfp_size\": 1024}</td>\n",
       "    </tr>\n",
       "    <tr>\n",
       "      <th>8</th>\n",
       "      <td>4bbdcd2c-7f75-47d7-a670-cb4e14ede471</td>\n",
       "      <td>/home/jupyter/hERG_Analysis/Models/herg_chembl...</td>\n",
       "      <td>1.6.0</td>\n",
       "      <td>xgboost</td>\n",
       "      <td>/home/jupyter/hERG_Analysis/herg_chembl_curate...</td>\n",
       "      <td>ecfp</td>\n",
       "      <td>fingerprint</td>\n",
       "      <td>train_valid_test</td>\n",
       "      <td>roc_auc</td>\n",
       "      <td>normalization</td>\n",
       "      <td>...</td>\n",
       "      <td>NaN</td>\n",
       "      <td>0.0</td>\n",
       "      <td>0.1</td>\n",
       "      <td>6.0</td>\n",
       "      <td>1.0</td>\n",
       "      <td>1.0</td>\n",
       "      <td>100.0</td>\n",
       "      <td>1.0</td>\n",
       "      <td>{\"xgb_colsample_bytree\": 1.0, \"xgb_gamma\": 0.0...</td>\n",
       "      <td>{\"ecfp_radius\": 2, \"ecfp_size\": 1024}</td>\n",
       "    </tr>\n",
       "  </tbody>\n",
       "</table>\n",
       "<p>9 rows × 64 columns</p>\n",
       "</div>"
      ],
      "text/plain": [
       "                             model_uuid  \\\n",
       "3  e79bddbf-6ca1-4756-b81e-e9135481fa9c   \n",
       "2  ba8a6514-e5cc-4b5a-b271-658d589050c1   \n",
       "6  08f8417a-642c-4ee1-8e57-72ad410518cc   \n",
       "5  804a2c09-754c-4dc4-986f-273eea98a9be   \n",
       "1  5de4bfcc-33c9-490b-b02e-9745fe59d0d4   \n",
       "4  87273377-c53f-4210-a1a0-5ae7dda4fbaf   \n",
       "7  d45bae4e-5d99-4080-8bca-a3fb35a51d3f   \n",
       "0  c763a0d5-6615-4365-98d1-959e0593c97b   \n",
       "8  4bbdcd2c-7f75-47d7-a670-cb4e14ede471   \n",
       "\n",
       "                                          model_path ampl_version model_type  \\\n",
       "3  /home/jupyter/hERG_Analysis/Models/herg_chembl...        1.6.0         RF   \n",
       "2  /home/jupyter/hERG_Analysis/Models/herg_chembl...        1.6.0    xgboost   \n",
       "6  /home/jupyter/hERG_Analysis/Models/herg_chembl...        1.6.0         RF   \n",
       "5  /home/jupyter/hERG_Analysis/Models/herg_chembl...        1.6.0         RF   \n",
       "1  /home/jupyter/hERG_Analysis/Models/herg_chembl...        1.6.0         NN   \n",
       "4  /home/jupyter/hERG_Analysis/Models/herg_chembl...        1.6.0         RF   \n",
       "7  /home/jupyter/hERG_Analysis/Models/herg_chembl...        1.6.0    xgboost   \n",
       "0  /home/jupyter/hERG_Analysis/Models/herg_chembl...        1.6.0         NN   \n",
       "8  /home/jupyter/hERG_Analysis/Models/herg_chembl...        1.6.0    xgboost   \n",
       "\n",
       "                                         dataset_key features     splitter  \\\n",
       "3  /home/jupyter/hERG_Analysis/herg_chembl_curate...     ecfp       random   \n",
       "2  /home/jupyter/hERG_Analysis/herg_chembl_curate...     ecfp       random   \n",
       "6  /home/jupyter/hERG_Analysis/herg_chembl_curate...     ecfp     scaffold   \n",
       "5  /home/jupyter/hERG_Analysis/herg_chembl_curate...     ecfp     scaffold   \n",
       "1  /home/jupyter/hERG_Analysis/herg_chembl_curate...     ecfp     scaffold   \n",
       "4  /home/jupyter/hERG_Analysis/herg_chembl_curate...     ecfp  fingerprint   \n",
       "7  /home/jupyter/hERG_Analysis/herg_chembl_curate...     ecfp     scaffold   \n",
       "0  /home/jupyter/hERG_Analysis/herg_chembl_curate...     ecfp  fingerprint   \n",
       "8  /home/jupyter/hERG_Analysis/herg_chembl_curate...     ecfp  fingerprint   \n",
       "\n",
       "     split_strategy model_score_type feature_transform_type  ...  \\\n",
       "3  train_valid_test          roc_auc          normalization  ...   \n",
       "2  train_valid_test          roc_auc          normalization  ...   \n",
       "6  train_valid_test          roc_auc          normalization  ...   \n",
       "5  train_valid_test          roc_auc          normalization  ...   \n",
       "1  train_valid_test          roc_auc          normalization  ...   \n",
       "4  train_valid_test          roc_auc          normalization  ...   \n",
       "7  train_valid_test          roc_auc          normalization  ...   \n",
       "0  train_valid_test          roc_auc          normalization  ...   \n",
       "8  train_valid_test          roc_auc          normalization  ...   \n",
       "\n",
       "   rf_max_depth  xgb_gamma  xgb_learning_rate  xgb_max_depth  \\\n",
       "3          24.0        NaN                NaN            NaN   \n",
       "2           NaN        0.0                0.1            6.0   \n",
       "6           NaN        NaN                NaN            NaN   \n",
       "5           NaN        NaN                NaN            NaN   \n",
       "1           NaN        NaN                NaN            NaN   \n",
       "4           NaN        NaN                NaN            NaN   \n",
       "7           NaN        0.0                0.1            6.0   \n",
       "0           NaN        NaN                NaN            NaN   \n",
       "8           NaN        0.0                0.1            6.0   \n",
       "\n",
       "   xgb_colsample_bytree  xgb_subsample  xgb_n_estimators  \\\n",
       "3                   NaN            NaN               NaN   \n",
       "2                   1.0            1.0             100.0   \n",
       "6                   NaN            NaN               NaN   \n",
       "5                   NaN            NaN               NaN   \n",
       "1                   NaN            NaN               NaN   \n",
       "4                   NaN            NaN               NaN   \n",
       "7                   1.0            1.0             100.0   \n",
       "0                   NaN            NaN               NaN   \n",
       "8                   1.0            1.0             100.0   \n",
       "\n",
       "   xgb_min_child_weight                              model_parameters_dict  \\\n",
       "3                   NaN  {\"rf_estimators\": 64, \"rf_max_depth\": 24, \"rf_...   \n",
       "2                   1.0  {\"xgb_colsample_bytree\": 1.0, \"xgb_gamma\": 0.0...   \n",
       "6                   NaN  {\"rf_estimators\": 500, \"rf_max_depth\": null, \"...   \n",
       "5                   NaN  {\"rf_estimators\": 500, \"rf_max_depth\": null, \"...   \n",
       "1                   NaN  {\"best_epoch\": 67, \"dropouts\": [0.4, 0.4], \"la...   \n",
       "4                   NaN  {\"rf_estimators\": 500, \"rf_max_depth\": null, \"...   \n",
       "7                   1.0  {\"xgb_colsample_bytree\": 1.0, \"xgb_gamma\": 0.0...   \n",
       "0                   NaN  {\"best_epoch\": 9, \"dropouts\": [0.4, 0.4], \"lay...   \n",
       "8                   1.0  {\"xgb_colsample_bytree\": 1.0, \"xgb_gamma\": 0.0...   \n",
       "\n",
       "                    feat_parameters_dict  \n",
       "3  {\"ecfp_radius\": 2, \"ecfp_size\": 1024}  \n",
       "2  {\"ecfp_radius\": 2, \"ecfp_size\": 1024}  \n",
       "6  {\"ecfp_radius\": 2, \"ecfp_size\": 1024}  \n",
       "5  {\"ecfp_radius\": 2, \"ecfp_size\": 1024}  \n",
       "1  {\"ecfp_radius\": 2, \"ecfp_size\": 1024}  \n",
       "4  {\"ecfp_radius\": 2, \"ecfp_size\": 1024}  \n",
       "7  {\"ecfp_radius\": 2, \"ecfp_size\": 1024}  \n",
       "0  {\"ecfp_radius\": 2, \"ecfp_size\": 1024}  \n",
       "8  {\"ecfp_radius\": 2, \"ecfp_size\": 1024}  \n",
       "\n",
       "[9 rows x 64 columns]"
      ]
     },
     "execution_count": 52,
     "metadata": {},
     "output_type": "execute_result"
    }
   ],
   "source": [
    "# View the pred_df dataframe\n",
    "basic_pred_df"
   ]
  },
  {
   "cell_type": "code",
   "execution_count": 55,
   "id": "934c2181-c57e-4ef3-bfbe-f1553b781606",
   "metadata": {
    "tags": []
   },
   "outputs": [
    {
     "data": {
      "text/plain": [
       "Index(['model_uuid', 'model_path', 'ampl_version', 'model_type', 'dataset_key',\n",
       "       'features', 'splitter', 'split_strategy', 'model_score_type',\n",
       "       'feature_transform_type', 'model_choice_score',\n",
       "       'best_train_roc_auc_score', 'best_train_prc_auc_score',\n",
       "       'best_train_precision', 'best_train_recall_score',\n",
       "       'best_train_num_compounds', 'best_train_accuracy_score',\n",
       "       'best_train_bal_accuracy', 'best_train_npv', 'best_train_matthews_cc',\n",
       "       'best_train_kappa', 'best_train_cross_entropy',\n",
       "       'best_train_confusion_matrix', 'best_valid_roc_auc_score',\n",
       "       'best_valid_prc_auc_score', 'best_valid_precision',\n",
       "       'best_valid_recall_score', 'best_valid_num_compounds',\n",
       "       'best_valid_accuracy_score', 'best_valid_bal_accuracy',\n",
       "       'best_valid_npv', 'best_valid_matthews_cc', 'best_valid_kappa',\n",
       "       'best_valid_cross_entropy', 'best_valid_confusion_matrix',\n",
       "       'best_test_roc_auc_score', 'best_test_prc_auc_score',\n",
       "       'best_test_precision', 'best_test_recall_score',\n",
       "       'best_test_num_compounds', 'best_test_accuracy_score',\n",
       "       'best_test_bal_accuracy', 'best_test_npv', 'best_test_matthews_cc',\n",
       "       'best_test_kappa', 'best_test_cross_entropy',\n",
       "       'best_test_confusion_matrix', 'max_epochs', 'best_epoch',\n",
       "       'learning_rate', 'layer_sizes', 'dropouts', 'rf_estimators',\n",
       "       'rf_max_features', 'rf_max_depth', 'xgb_gamma', 'xgb_learning_rate',\n",
       "       'xgb_max_depth', 'xgb_colsample_bytree', 'xgb_subsample',\n",
       "       'xgb_n_estimators', 'xgb_min_child_weight', 'model_parameters_dict',\n",
       "       'feat_parameters_dict'],\n",
       "      dtype='object')"
      ]
     },
     "execution_count": 55,
     "metadata": {},
     "output_type": "execute_result"
    }
   ],
   "source": [
    "# get columns of the file\n",
    "basic_pred_df.columns"
   ]
  },
  {
   "cell_type": "markdown",
   "id": "c286d97b-ab2d-41fd-9e7b-cfd3d4833b27",
   "metadata": {},
   "source": [
    "# Top Performing Model\n",
    "To pick the top performing model, we sort the best_valid_auc_score column in descending order and pick the one that is maximum."
   ]
  },
  {
   "cell_type": "code",
   "execution_count": 59,
   "id": "126ede1c-9bf0-43da-83e6-f91482161dfa",
   "metadata": {},
   "outputs": [
    {
     "data": {
      "text/plain": [
       "model_uuid                            e79bddbf-6ca1-4756-b81e-e9135481fa9c\n",
       "model_path               /home/jupyter/hERG_Analysis/Models/herg_chembl...\n",
       "ampl_version                                                         1.6.0\n",
       "model_type                                                              RF\n",
       "dataset_key              /home/jupyter/hERG_Analysis/herg_chembl_curate...\n",
       "                                               ...                        \n",
       "xgb_subsample                                                          NaN\n",
       "xgb_n_estimators                                                       NaN\n",
       "xgb_min_child_weight                                                   NaN\n",
       "model_parameters_dict    {\"rf_estimators\": 64, \"rf_max_depth\": 24, \"rf_...\n",
       "feat_parameters_dict                 {\"ecfp_radius\": 2, \"ecfp_size\": 1024}\n",
       "Name: 3, Length: 64, dtype: object"
      ]
     },
     "execution_count": 59,
     "metadata": {},
     "output_type": "execute_result"
    }
   ],
   "source": [
    "# Top performing model\n",
    "top_basic_model=basic_pred_df.sort_values(by=\"best_valid_roc_auc_score\", ascending=False).iloc[0]\n",
    "top_basic_model"
   ]
  },
  {
   "cell_type": "markdown",
   "id": "8c19910c-5263-4128-b130-aebe121afe07",
   "metadata": {},
   "source": [
    "# Model Tarball\n",
    "The model_path or the location of the tarball where the top performing model is saved is in top_model.model_path."
   ]
  },
  {
   "cell_type": "code",
   "execution_count": 60,
   "id": "fb685c13-2c6b-44b9-889e-da6fa8b42bab",
   "metadata": {},
   "outputs": [
    {
     "data": {
      "text/plain": [
       "'/home/jupyter/hERG_Analysis/Models/herg_chembl_curated_model_e79bddbf-6ca1-4756-b81e-e9135481fa9c.tar.gz'"
      ]
     },
     "execution_count": 60,
     "metadata": {},
     "output_type": "execute_result"
    }
   ],
   "source": [
    "# Top performing model path\n",
    "top_basic_model.model_path"
   ]
  }
 ],
 "metadata": {
  "environment": {
   "kernel": "atomsci",
   "name": "common-cpu.m116",
   "type": "gcloud",
   "uri": "gcr.io/deeplearning-platform-release/base-cpu:m116"
  },
  "kernelspec": {
   "display_name": "atomsci (Local)",
   "language": "python",
   "name": "atomsci"
  },
  "language_info": {
   "codemirror_mode": {
    "name": "ipython",
    "version": 3
   },
   "file_extension": ".py",
   "mimetype": "text/x-python",
   "name": "python",
   "nbconvert_exporter": "python",
   "pygments_lexer": "ipython3",
   "version": "3.9.18"
  }
 },
 "nbformat": 4,
 "nbformat_minor": 5
}
