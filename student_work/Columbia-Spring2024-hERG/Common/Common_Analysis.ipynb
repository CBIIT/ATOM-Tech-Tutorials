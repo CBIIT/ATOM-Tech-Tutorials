{
 "cells": [
  {
   "cell_type": "code",
   "execution_count": 3,
   "id": "4e63e7de-e5b2-416f-bba0-aec1395760e0",
   "metadata": {
    "tags": []
   },
   "outputs": [
    {
     "name": "stdout",
     "output_type": "stream",
     "text": [
      "Number of values that are the same across all three datasets: 2\n"
     ]
    }
   ],
   "source": [
    "import pandas as pd\n",
    "\n",
    "# Load your datasets into pandas DataFrames (replace 'dataset1.csv', 'dataset2.csv', 'dataset3.csv' with your actual file paths)\n",
    "logs = pd.read_csv('/home/jupyter/Common/AqSolClean.csv')\n",
    "logp = pd.read_csv('/home/jupyter/Common/logp.csv')\n",
    "herg = pd.read_csv('/home/jupyter/Common/final_herg_chembl.csv')\n",
    "\n",
    "# Rename the column\n",
    "herg = herg.rename(columns={'rdkit_smiles': 'base_rdkit_smiles'})\n",
    "\n",
    "# Extract the \"rdkit_smiles\" columns from each DataFrame\n",
    "rdkit_smiles_1 = logs['base_rdkit_smiles']\n",
    "rdkit_smiles_2 = logp['base_rdkit_smiles']\n",
    "rdkit_smiles_3 = herg['base_rdkit_smiles']\n",
    "\n",
    "# Merge the DataFrames on the \"rdkit_smiles\" column\n",
    "merged_df = pd.merge(pd.merge(logs, logp, on='base_rdkit_smiles', how='inner'), herg, on='base_rdkit_smiles', how='inner')\n",
    "\n",
    "# Count the number of rows in the merged DataFrame\n",
    "num_same_values = merged_df.shape[0]\n",
    "\n",
    "print(f'Number of values that are the same across all three datasets: {num_same_values}')\n"
   ]
  },
  {
   "cell_type": "code",
   "execution_count": 5,
   "id": "d2eab484-86e3-4a03-aec7-348b9ecffd7b",
   "metadata": {
    "tags": []
   },
   "outputs": [
    {
     "name": "stdout",
     "output_type": "stream",
     "text": [
      "Index(['Unnamed: 0', 'InChIKey', 'Solubility', 'SD', 'Ocurrences', 'Group',\n",
      "       'MolWt', 'MolLogP', 'MolMR', 'HeavyAtomCount', 'NumHAcceptors',\n",
      "       'NumHDonors', 'NumHeteroatoms', 'NumRotatableBonds',\n",
      "       'NumValenceElectrons', 'NumAromaticRings', 'NumSaturatedRings',\n",
      "       'NumAliphaticRings', 'RingCount', 'TPSA', 'LabuteASA', 'BalabanJ',\n",
      "       'BertzCT', 'base_rdkit_smiles'],\n",
      "      dtype='object')\n"
     ]
    }
   ],
   "source": [
    "print(logs.columns)"
   ]
  },
  {
   "cell_type": "code",
   "execution_count": 6,
   "id": "0030ad85-91de-4a9f-863a-cad7faf76bad",
   "metadata": {
    "tags": []
   },
   "outputs": [
    {
     "name": "stdout",
     "output_type": "stream",
     "text": [
      "Number of values that are the same across all three datasets: 0\n"
     ]
    }
   ],
   "source": [
    "# Rename the column\n",
    "logs = herg.rename(columns={'InChIKey': 'compound_id'})\n",
    "\n",
    "# Extract the \"rdkit_smiles\" columns from each DataFrame\n",
    "rdkit_smiles_1 = logs['compound_id']\n",
    "rdkit_smiles_2 = logp['compound_id']\n",
    "rdkit_smiles_3 = herg['compound_id']\n",
    "\n",
    "# Merge the DataFrames on the \"rdkit_smiles\" column\n",
    "compound_merged_df = pd.merge(pd.merge(logs, logp, on='compound_id', how='inner'), herg, on='compound_id', how='inner')\n",
    "\n",
    "# Count the number of rows in the merged DataFrame\n",
    "num_same_values = compound_merged_df.shape[0]\n",
    "\n",
    "print(f'Number of values that are the same across all three datasets: {num_same_values}')\n"
   ]
  },
  {
   "cell_type": "code",
   "execution_count": null,
   "id": "0e5e8e50-b3e9-4f9f-89c8-3eba5d95b4c2",
   "metadata": {},
   "outputs": [],
   "source": []
  }
 ],
 "metadata": {
  "environment": {
   "kernel": "atomsci",
   "name": "common-cpu.m116",
   "type": "gcloud",
   "uri": "gcr.io/deeplearning-platform-release/base-cpu:m116"
  },
  "kernelspec": {
   "display_name": "atomsci (Local)",
   "language": "python",
   "name": "atomsci"
  },
  "language_info": {
   "codemirror_mode": {
    "name": "ipython",
    "version": 3
   },
   "file_extension": ".py",
   "mimetype": "text/x-python",
   "name": "python",
   "nbconvert_exporter": "python",
   "pygments_lexer": "ipython3",
   "version": "3.9.18"
  }
 },
 "nbformat": 4,
 "nbformat_minor": 5
}
