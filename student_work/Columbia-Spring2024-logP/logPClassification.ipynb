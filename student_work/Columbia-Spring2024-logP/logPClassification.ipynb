{
 "cells": [
  {
   "cell_type": "code",
   "execution_count": 1,
   "id": "63295700-d28d-4364-a695-60f53de05285",
   "metadata": {
    "tags": []
   },
   "outputs": [
    {
     "name": "stderr",
     "output_type": "stream",
     "text": [
      "2024-04-16 20:31:04.328923: I tensorflow/tsl/cuda/cudart_stub.cc:28] Could not find cuda drivers on your machine, GPU will not be used.\n",
      "2024-04-16 20:31:04.422085: E tensorflow/compiler/xla/stream_executor/cuda/cuda_dnn.cc:9342] Unable to register cuDNN factory: Attempting to register factory for plugin cuDNN when one has already been registered\n",
      "2024-04-16 20:31:04.422139: E tensorflow/compiler/xla/stream_executor/cuda/cuda_fft.cc:609] Unable to register cuFFT factory: Attempting to register factory for plugin cuFFT when one has already been registered\n",
      "2024-04-16 20:31:04.422200: E tensorflow/compiler/xla/stream_executor/cuda/cuda_blas.cc:1518] Unable to register cuBLAS factory: Attempting to register factory for plugin cuBLAS when one has already been registered\n",
      "2024-04-16 20:31:04.443911: I tensorflow/tsl/cuda/cudart_stub.cc:28] Could not find cuda drivers on your machine, GPU will not be used.\n",
      "2024-04-16 20:31:04.444466: I tensorflow/core/platform/cpu_feature_guard.cc:182] This TensorFlow binary is optimized to use available CPU instructions in performance-critical operations.\n",
      "To enable the following instructions: AVX2 FMA, in other operations, rebuild TensorFlow with the appropriate compiler flags.\n",
      "2024-04-16 20:31:10.083262: W tensorflow/compiler/tf2tensorrt/utils/py_utils.cc:38] TF-TRT Warning: Could not find TensorRT\n",
      "Skipped loading some Jax models, missing a dependency. No module named 'haiku'\n",
      "/opt/conda/envs/python39a/lib/python3.9/site-packages/tqdm/auto.py:21: TqdmWarning: IProgress not found. Please update jupyter and ipywidgets. See https://ipywidgets.readthedocs.io/en/stable/user_install.html\n",
      "  from .autonotebook import tqdm as notebook_tqdm\n"
     ]
    }
   ],
   "source": [
    "import os\n",
    "import pandas as pd\n",
    "import numpy as np\n",
    "import matplotlib.pyplot as plt\n",
    "import seaborn as sns\n",
    "import glob\n",
    "# Set for less chatty log messages\n",
    "import logging\n",
    "\n",
    "logger = logging.getLogger('ATOM')\n",
    "logger.setLevel(logging.INFO)\n",
    "# ignore sklearn future warnings\n",
    "import warnings\n",
    "warnings.filterwarnings('ignore',category=FutureWarning)\n",
    "\n",
    "from atomsci.ddm.pipeline import predict_from_model as pfm\n",
    "from sklearn.metrics import r2_score"
   ]
  },
  {
   "cell_type": "code",
   "execution_count": 2,
   "id": "61c89d4f-b18c-44f6-a5bd-7cf7276b9dd3",
   "metadata": {
    "tags": []
   },
   "outputs": [],
   "source": [
    "import matplotlib.pyplot as plt\n",
    "import seaborn as sns\n",
    "import numpy as np\n",
    "sns.set_context(\"poster\")\n",
    "sns.set_style(\"whitegrid\")\n",
    "sns.set_palette(\"Set2\")\n",
    "\n",
    "import pandas as pd\n",
    "import os, json, sys, glob, pickle\n",
    "\n",
    "from atomsci.ddm.pipeline import perf_data\n",
    "\n",
    "# We temporarily disable warnings for demonstration.\n",
    "# FutureWarnings and DeprecationWarnings are present from some of the AMPL \n",
    "# dependency modules.\n",
    "import warnings\n",
    "warnings.filterwarnings('ignore')\n",
    "\n",
    "\n",
    "\n",
    "import pandas as pd\n",
    "import os, json, sys, glob, pickle\n",
    "import requests\n",
    "\n",
    "\n",
    "from atomsci.ddm.pipeline import model_pipeline as mp\n",
    "from atomsci.ddm.pipeline import parameter_parser as parse\n",
    "import atomsci.ddm.utils.curate_data as curate_data\n",
    "import atomsci.ddm.utils.struct_utils as struct_utils\n",
    "from atomsci.ddm.pipeline import perf_plots as pp\n",
    "import atomsci.ddm.pipeline.diversity_plots as dp"
   ]
  },
  {
   "cell_type": "code",
   "execution_count": 2,
   "id": "cbd3b223-3c65-43ff-9d7d-1641b2ff518b",
   "metadata": {
    "tags": []
   },
   "outputs": [
    {
     "data": {
      "text/html": [
       "<div>\n",
       "<style scoped>\n",
       "    .dataframe tbody tr th:only-of-type {\n",
       "        vertical-align: middle;\n",
       "    }\n",
       "\n",
       "    .dataframe tbody tr th {\n",
       "        vertical-align: top;\n",
       "    }\n",
       "\n",
       "    .dataframe thead th {\n",
       "        text-align: right;\n",
       "    }\n",
       "</style>\n",
       "<table border=\"1\" class=\"dataframe\">\n",
       "  <thead>\n",
       "    <tr style=\"text-align: right;\">\n",
       "      <th></th>\n",
       "      <th>SMILES</th>\n",
       "      <th>CAS</th>\n",
       "      <th>ChemID</th>\n",
       "      <th>logP\\nexperimental\\n(corrected)</th>\n",
       "      <th>logP\\npredicted</th>\n",
       "      <th>DNNtaut</th>\n",
       "      <th>DNNmono</th>\n",
       "      <th>KOWWIN</th>\n",
       "      <th>OCHEM</th>\n",
       "      <th>ALOGPS</th>\n",
       "      <th>...</th>\n",
       "      <th>assignments</th>\n",
       "      <th>original SMILES</th>\n",
       "      <th>original SMILES\\nwithout ions\\n</th>\n",
       "      <th>original SMILES randomly selected (including tautomers)</th>\n",
       "      <th>original SMILES most likely tautomer</th>\n",
       "      <th>SMILES randomly selected</th>\n",
       "      <th>SMILES randomly selected without ions</th>\n",
       "      <th>canonical SMILES</th>\n",
       "      <th>SMILES including explicit H atoms</th>\n",
       "      <th>classified as ion?</th>\n",
       "    </tr>\n",
       "  </thead>\n",
       "  <tbody>\n",
       "    <tr>\n",
       "      <th>0</th>\n",
       "      <td>CCC1(NC(=O)N(C)C1=O)c1ccccc1</td>\n",
       "      <td>50-12-4</td>\n",
       "      <td>100008</td>\n",
       "      <td>1.69</td>\n",
       "      <td>NaN</td>\n",
       "      <td>2.04</td>\n",
       "      <td>2.08</td>\n",
       "      <td>1.65</td>\n",
       "      <td>1.61</td>\n",
       "      <td>1.64</td>\n",
       "      <td>...</td>\n",
       "      <td>NaN</td>\n",
       "      <td>test</td>\n",
       "      <td>test</td>\n",
       "      <td>test</td>\n",
       "      <td>none</td>\n",
       "      <td>none</td>\n",
       "      <td>none</td>\n",
       "      <td>test</td>\n",
       "      <td>none</td>\n",
       "      <td>no</td>\n",
       "    </tr>\n",
       "    <tr>\n",
       "      <th>1</th>\n",
       "      <td>[H]N1C(=O)N(C(=O)C1(C1=C([H])C([H])=C([H])C([H...</td>\n",
       "      <td>50-12-4</td>\n",
       "      <td>100008</td>\n",
       "      <td>1.69</td>\n",
       "      <td>NaN</td>\n",
       "      <td>1.97</td>\n",
       "      <td>1.16</td>\n",
       "      <td>1.65</td>\n",
       "      <td>1.61</td>\n",
       "      <td>1.64</td>\n",
       "      <td>...</td>\n",
       "      <td>NaN</td>\n",
       "      <td>none</td>\n",
       "      <td>none</td>\n",
       "      <td>none</td>\n",
       "      <td>none</td>\n",
       "      <td>none</td>\n",
       "      <td>none</td>\n",
       "      <td>none</td>\n",
       "      <td>test</td>\n",
       "      <td>no</td>\n",
       "    </tr>\n",
       "    <tr>\n",
       "      <th>2</th>\n",
       "      <td>CCC1(NC(=O)N(C)C1=O)C1=CC=CC=C1</td>\n",
       "      <td>50-12-4</td>\n",
       "      <td>100008</td>\n",
       "      <td>1.69</td>\n",
       "      <td>NaN</td>\n",
       "      <td>2.04</td>\n",
       "      <td>2.08</td>\n",
       "      <td>1.65</td>\n",
       "      <td>1.61</td>\n",
       "      <td>1.64</td>\n",
       "      <td>...</td>\n",
       "      <td>NaN</td>\n",
       "      <td>none</td>\n",
       "      <td>none</td>\n",
       "      <td>none</td>\n",
       "      <td>test</td>\n",
       "      <td>none</td>\n",
       "      <td>none</td>\n",
       "      <td>none</td>\n",
       "      <td>none</td>\n",
       "      <td>no</td>\n",
       "    </tr>\n",
       "    <tr>\n",
       "      <th>3</th>\n",
       "      <td>[H]OC1=NC(C(=O)N1C([H])([H])[H])(C1=C([H])C([H...</td>\n",
       "      <td>50-12-4</td>\n",
       "      <td>100008</td>\n",
       "      <td>1.69</td>\n",
       "      <td>NaN</td>\n",
       "      <td>1.71</td>\n",
       "      <td>1.26</td>\n",
       "      <td>1.05</td>\n",
       "      <td>1.25</td>\n",
       "      <td>1.43</td>\n",
       "      <td>...</td>\n",
       "      <td>NaN</td>\n",
       "      <td>none</td>\n",
       "      <td>none</td>\n",
       "      <td>none</td>\n",
       "      <td>none</td>\n",
       "      <td>test</td>\n",
       "      <td>test</td>\n",
       "      <td>none</td>\n",
       "      <td>none</td>\n",
       "      <td>no</td>\n",
       "    </tr>\n",
       "    <tr>\n",
       "      <th>4</th>\n",
       "      <td>CCC1(N=C(O)N(C)C1=O)C1=CC=CC=C1</td>\n",
       "      <td>50-12-4</td>\n",
       "      <td>100008</td>\n",
       "      <td>1.69</td>\n",
       "      <td>NaN</td>\n",
       "      <td>1.71</td>\n",
       "      <td>1.94</td>\n",
       "      <td>1.05</td>\n",
       "      <td>1.25</td>\n",
       "      <td>1.43</td>\n",
       "      <td>...</td>\n",
       "      <td>NaN</td>\n",
       "      <td>none</td>\n",
       "      <td>none</td>\n",
       "      <td>none</td>\n",
       "      <td>none</td>\n",
       "      <td>none</td>\n",
       "      <td>none</td>\n",
       "      <td>none</td>\n",
       "      <td>none</td>\n",
       "      <td>no</td>\n",
       "    </tr>\n",
       "    <tr>\n",
       "      <th>...</th>\n",
       "      <td>...</td>\n",
       "      <td>...</td>\n",
       "      <td>...</td>\n",
       "      <td>...</td>\n",
       "      <td>...</td>\n",
       "      <td>...</td>\n",
       "      <td>...</td>\n",
       "      <td>...</td>\n",
       "      <td>...</td>\n",
       "      <td>...</td>\n",
       "      <td>...</td>\n",
       "      <td>...</td>\n",
       "      <td>...</td>\n",
       "      <td>...</td>\n",
       "      <td>...</td>\n",
       "      <td>...</td>\n",
       "      <td>...</td>\n",
       "      <td>...</td>\n",
       "      <td>...</td>\n",
       "      <td>...</td>\n",
       "      <td>...</td>\n",
       "    </tr>\n",
       "    <tr>\n",
       "      <th>12704</th>\n",
       "      <td>S=C(NN=C(c1ccccn1)c1ccccn1)Nc1ccccc1</td>\n",
       "      <td>67629-66-7</td>\n",
       "      <td>115633</td>\n",
       "      <td>1.96</td>\n",
       "      <td>NaN</td>\n",
       "      <td>2.82</td>\n",
       "      <td>3.13</td>\n",
       "      <td>4.24</td>\n",
       "      <td>2.76</td>\n",
       "      <td>3.42</td>\n",
       "      <td>...</td>\n",
       "      <td>NaN</td>\n",
       "      <td>test</td>\n",
       "      <td>test</td>\n",
       "      <td>none</td>\n",
       "      <td>none</td>\n",
       "      <td>none</td>\n",
       "      <td>none</td>\n",
       "      <td>none</td>\n",
       "      <td>none</td>\n",
       "      <td>no</td>\n",
       "    </tr>\n",
       "    <tr>\n",
       "      <th>12705</th>\n",
       "      <td>S=C(NN=C(c1ccccn1)c2ccccn2)Nc3ccccc3</td>\n",
       "      <td>67629-66-7</td>\n",
       "      <td>115633</td>\n",
       "      <td>1.96</td>\n",
       "      <td>NaN</td>\n",
       "      <td>2.82</td>\n",
       "      <td>3.13</td>\n",
       "      <td>4.24</td>\n",
       "      <td>2.76</td>\n",
       "      <td>3.42</td>\n",
       "      <td>...</td>\n",
       "      <td>NaN</td>\n",
       "      <td>none</td>\n",
       "      <td>none</td>\n",
       "      <td>none</td>\n",
       "      <td>none</td>\n",
       "      <td>none</td>\n",
       "      <td>none</td>\n",
       "      <td>none</td>\n",
       "      <td>none</td>\n",
       "      <td>no</td>\n",
       "    </tr>\n",
       "    <tr>\n",
       "      <th>12706</th>\n",
       "      <td>[H]SC(N=NC([H])(C1=C([H])C([H])=C([H])C([H])=N...</td>\n",
       "      <td>67629-66-7</td>\n",
       "      <td>115633</td>\n",
       "      <td>1.96</td>\n",
       "      <td>NaN</td>\n",
       "      <td>2.69</td>\n",
       "      <td>2.34</td>\n",
       "      <td>4.91</td>\n",
       "      <td>3.22</td>\n",
       "      <td>4.24</td>\n",
       "      <td>...</td>\n",
       "      <td>NaN</td>\n",
       "      <td>none</td>\n",
       "      <td>none</td>\n",
       "      <td>none</td>\n",
       "      <td>none</td>\n",
       "      <td>none</td>\n",
       "      <td>none</td>\n",
       "      <td>none</td>\n",
       "      <td>none</td>\n",
       "      <td>no</td>\n",
       "    </tr>\n",
       "    <tr>\n",
       "      <th>12707</th>\n",
       "      <td>[H]N(C(=S)N=NC([H])(C1=C([H])C([H])=C([H])C([H...</td>\n",
       "      <td>67629-66-7</td>\n",
       "      <td>115633</td>\n",
       "      <td>1.96</td>\n",
       "      <td>NaN</td>\n",
       "      <td>2.63</td>\n",
       "      <td>2.22</td>\n",
       "      <td>5.48</td>\n",
       "      <td>3.43</td>\n",
       "      <td>4.39</td>\n",
       "      <td>...</td>\n",
       "      <td>NaN</td>\n",
       "      <td>none</td>\n",
       "      <td>none</td>\n",
       "      <td>none</td>\n",
       "      <td>none</td>\n",
       "      <td>none</td>\n",
       "      <td>none</td>\n",
       "      <td>none</td>\n",
       "      <td>none</td>\n",
       "      <td>no</td>\n",
       "    </tr>\n",
       "    <tr>\n",
       "      <th>12708</th>\n",
       "      <td>S=C(NC1=CC=CC=C1)N=NC(C1=CC=CC=N1)C1=CC=CC=N1</td>\n",
       "      <td>67629-66-7</td>\n",
       "      <td>115633</td>\n",
       "      <td>1.96</td>\n",
       "      <td>NaN</td>\n",
       "      <td>2.83</td>\n",
       "      <td>2.95</td>\n",
       "      <td>5.48</td>\n",
       "      <td>3.43</td>\n",
       "      <td>4.39</td>\n",
       "      <td>...</td>\n",
       "      <td>NaN</td>\n",
       "      <td>none</td>\n",
       "      <td>none</td>\n",
       "      <td>none</td>\n",
       "      <td>test</td>\n",
       "      <td>none</td>\n",
       "      <td>none</td>\n",
       "      <td>none</td>\n",
       "      <td>none</td>\n",
       "      <td>no</td>\n",
       "    </tr>\n",
       "  </tbody>\n",
       "</table>\n",
       "<p>12709 rows × 24 columns</p>\n",
       "</div>"
      ],
      "text/plain": [
       "                                                  SMILES         CAS  ChemID  \\\n",
       "0                           CCC1(NC(=O)N(C)C1=O)c1ccccc1     50-12-4  100008   \n",
       "1      [H]N1C(=O)N(C(=O)C1(C1=C([H])C([H])=C([H])C([H...     50-12-4  100008   \n",
       "2                        CCC1(NC(=O)N(C)C1=O)C1=CC=CC=C1     50-12-4  100008   \n",
       "3      [H]OC1=NC(C(=O)N1C([H])([H])[H])(C1=C([H])C([H...     50-12-4  100008   \n",
       "4                        CCC1(N=C(O)N(C)C1=O)C1=CC=CC=C1     50-12-4  100008   \n",
       "...                                                  ...         ...     ...   \n",
       "12704               S=C(NN=C(c1ccccn1)c1ccccn1)Nc1ccccc1  67629-66-7  115633   \n",
       "12705               S=C(NN=C(c1ccccn1)c2ccccn2)Nc3ccccc3  67629-66-7  115633   \n",
       "12706  [H]SC(N=NC([H])(C1=C([H])C([H])=C([H])C([H])=N...  67629-66-7  115633   \n",
       "12707  [H]N(C(=S)N=NC([H])(C1=C([H])C([H])=C([H])C([H...  67629-66-7  115633   \n",
       "12708      S=C(NC1=CC=CC=C1)N=NC(C1=CC=CC=N1)C1=CC=CC=N1  67629-66-7  115633   \n",
       "\n",
       "       logP\\nexperimental\\n(corrected)  logP\\npredicted  DNNtaut  DNNmono  \\\n",
       "0                                 1.69              NaN     2.04     2.08   \n",
       "1                                 1.69              NaN     1.97     1.16   \n",
       "2                                 1.69              NaN     2.04     2.08   \n",
       "3                                 1.69              NaN     1.71     1.26   \n",
       "4                                 1.69              NaN     1.71     1.94   \n",
       "...                                ...              ...      ...      ...   \n",
       "12704                             1.96              NaN     2.82     3.13   \n",
       "12705                             1.96              NaN     2.82     3.13   \n",
       "12706                             1.96              NaN     2.69     2.34   \n",
       "12707                             1.96              NaN     2.63     2.22   \n",
       "12708                             1.96              NaN     2.83     2.95   \n",
       "\n",
       "      KOWWIN OCHEM ALOGPS  ... assignments  original SMILES  \\\n",
       "0       1.65  1.61   1.64  ...         NaN             test   \n",
       "1       1.65  1.61   1.64  ...         NaN             none   \n",
       "2       1.65  1.61   1.64  ...         NaN             none   \n",
       "3       1.05  1.25   1.43  ...         NaN             none   \n",
       "4       1.05  1.25   1.43  ...         NaN             none   \n",
       "...      ...   ...    ...  ...         ...              ...   \n",
       "12704   4.24  2.76   3.42  ...         NaN             test   \n",
       "12705   4.24  2.76   3.42  ...         NaN             none   \n",
       "12706   4.91  3.22   4.24  ...         NaN             none   \n",
       "12707   5.48  3.43   4.39  ...         NaN             none   \n",
       "12708   5.48  3.43   4.39  ...         NaN             none   \n",
       "\n",
       "      original SMILES\\nwithout ions\\n  \\\n",
       "0                                test   \n",
       "1                                none   \n",
       "2                                none   \n",
       "3                                none   \n",
       "4                                none   \n",
       "...                               ...   \n",
       "12704                            test   \n",
       "12705                            none   \n",
       "12706                            none   \n",
       "12707                            none   \n",
       "12708                            none   \n",
       "\n",
       "       original SMILES randomly selected (including tautomers)  \\\n",
       "0                                                   test         \n",
       "1                                                   none         \n",
       "2                                                   none         \n",
       "3                                                   none         \n",
       "4                                                   none         \n",
       "...                                                  ...         \n",
       "12704                                               none         \n",
       "12705                                               none         \n",
       "12706                                               none         \n",
       "12707                                               none         \n",
       "12708                                               none         \n",
       "\n",
       "       original SMILES most likely tautomer SMILES randomly selected  \\\n",
       "0                                      none                     none   \n",
       "1                                      none                     none   \n",
       "2                                      test                     none   \n",
       "3                                      none                     test   \n",
       "4                                      none                     none   \n",
       "...                                     ...                      ...   \n",
       "12704                                  none                     none   \n",
       "12705                                  none                     none   \n",
       "12706                                  none                     none   \n",
       "12707                                  none                     none   \n",
       "12708                                  test                     none   \n",
       "\n",
       "      SMILES randomly selected without ions canonical SMILES  \\\n",
       "0                                      none             test   \n",
       "1                                      none             none   \n",
       "2                                      none             none   \n",
       "3                                      test             none   \n",
       "4                                      none             none   \n",
       "...                                     ...              ...   \n",
       "12704                                  none             none   \n",
       "12705                                  none             none   \n",
       "12706                                  none             none   \n",
       "12707                                  none             none   \n",
       "12708                                  none             none   \n",
       "\n",
       "      SMILES including explicit H atoms classified as ion?  \n",
       "0                                  none                 no  \n",
       "1                                  test                 no  \n",
       "2                                  none                 no  \n",
       "3                                  none                 no  \n",
       "4                                  none                 no  \n",
       "...                                 ...                ...  \n",
       "12704                              none                 no  \n",
       "12705                              none                 no  \n",
       "12706                              none                 no  \n",
       "12707                              none                 no  \n",
       "12708                              none                 no  \n",
       "\n",
       "[12709 rows x 24 columns]"
      ]
     },
     "execution_count": 2,
     "metadata": {},
     "output_type": "execute_result"
    }
   ],
   "source": [
    "# excel file with the logP dataset\n",
    "#logP = pd.DataFrame(pd.read_excel('dataset/Dataset_and_Predictions.xlsx')) \n",
    "logP = pd.read_csv('dataset/Dataset_and_Predictions.csv')\n",
    "logP"
   ]
  },
  {
   "cell_type": "code",
   "execution_count": 15,
   "id": "5bd29f28-4066-4638-b140-8a170350b67d",
   "metadata": {
    "tags": []
   },
   "outputs": [],
   "source": [
    "curated_logPclass = pd.read_csv(\"dataset/curated_logP.csv\")\n",
    "# high vs not high\n",
    "curated_logPclass['logP_level'] = pd.cut(curated_logPclass['average_logP'], bins=[-float('inf'), 4, float('inf')],\n",
    "                              labels=[0,1], right=False)"
   ]
  },
  {
   "cell_type": "code",
   "execution_count": null,
   "id": "af7ab128-70ad-4063-829b-60ecab161a1e",
   "metadata": {},
   "outputs": [],
   "source": []
  },
  {
   "cell_type": "code",
   "execution_count": 5,
   "id": "c09bb837-9bb3-40ce-a3ad-428c381bbaac",
   "metadata": {
    "tags": []
   },
   "outputs": [],
   "source": [
    "curated_logPclass.to_csv('dataset/curated_logPclass.csv', index=False)"
   ]
  },
  {
   "cell_type": "code",
   "execution_count": 4,
   "id": "1c857a54-02bc-4927-9bab-4fee7f72c41d",
   "metadata": {
    "tags": []
   },
   "outputs": [
    {
     "data": {
      "text/html": [
       "<div>\n",
       "<style scoped>\n",
       "    .dataframe tbody tr th:only-of-type {\n",
       "        vertical-align: middle;\n",
       "    }\n",
       "\n",
       "    .dataframe tbody tr th {\n",
       "        vertical-align: top;\n",
       "    }\n",
       "\n",
       "    .dataframe thead th {\n",
       "        text-align: right;\n",
       "    }\n",
       "</style>\n",
       "<table border=\"1\" class=\"dataframe\">\n",
       "  <thead>\n",
       "    <tr style=\"text-align: right;\">\n",
       "      <th></th>\n",
       "      <th>compound_id</th>\n",
       "      <th>base_rdkit_smiles</th>\n",
       "      <th>relation</th>\n",
       "      <th>average_logP</th>\n",
       "      <th>logP_level</th>\n",
       "    </tr>\n",
       "  </thead>\n",
       "  <tbody>\n",
       "    <tr>\n",
       "      <th>0</th>\n",
       "      <td>CHEMBL102422</td>\n",
       "      <td>BrC=C(Br)Br</td>\n",
       "      <td>NaN</td>\n",
       "      <td>3.20</td>\n",
       "      <td>0</td>\n",
       "    </tr>\n",
       "    <tr>\n",
       "      <th>1</th>\n",
       "      <td>CHEMBL101049</td>\n",
       "      <td>Brc1ccc(Br)cc1</td>\n",
       "      <td>NaN</td>\n",
       "      <td>3.79</td>\n",
       "      <td>0</td>\n",
       "    </tr>\n",
       "    <tr>\n",
       "      <th>2</th>\n",
       "      <td>CHEMBL107341</td>\n",
       "      <td>Brc1cccc(Oc2ccc(Br)c(Br)c2Br)c1</td>\n",
       "      <td>NaN</td>\n",
       "      <td>6.05</td>\n",
       "      <td>1</td>\n",
       "    </tr>\n",
       "    <tr>\n",
       "      <th>3</th>\n",
       "      <td>CHEMBL103677</td>\n",
       "      <td>Brc1ccccc1-c1ccccc1</td>\n",
       "      <td>NaN</td>\n",
       "      <td>4.59</td>\n",
       "      <td>1</td>\n",
       "    </tr>\n",
       "    <tr>\n",
       "      <th>4</th>\n",
       "      <td>CHEMBL100362</td>\n",
       "      <td>C#CC</td>\n",
       "      <td>NaN</td>\n",
       "      <td>0.94</td>\n",
       "      <td>0</td>\n",
       "    </tr>\n",
       "    <tr>\n",
       "      <th>...</th>\n",
       "      <td>...</td>\n",
       "      <td>...</td>\n",
       "      <td>...</td>\n",
       "      <td>...</td>\n",
       "      <td>...</td>\n",
       "    </tr>\n",
       "    <tr>\n",
       "      <th>1384</th>\n",
       "      <td>CHEMBL101649</td>\n",
       "      <td>c1ccc2cc3c(cc2c1)-c1cccc2cccc-3c12</td>\n",
       "      <td>NaN</td>\n",
       "      <td>6.11</td>\n",
       "      <td>1</td>\n",
       "    </tr>\n",
       "    <tr>\n",
       "      <th>1385</th>\n",
       "      <td>CHEMBL101775</td>\n",
       "      <td>c1cnc2nccnc2c1</td>\n",
       "      <td>NaN</td>\n",
       "      <td>-0.04</td>\n",
       "      <td>0</td>\n",
       "    </tr>\n",
       "    <tr>\n",
       "      <th>1386</th>\n",
       "      <td>CHEMBL102028</td>\n",
       "      <td>c1cncc([C@@H]2CCCCN2)c1</td>\n",
       "      <td>NaN</td>\n",
       "      <td>0.97</td>\n",
       "      <td>0</td>\n",
       "    </tr>\n",
       "    <tr>\n",
       "      <th>1387</th>\n",
       "      <td>CHEMBL104361</td>\n",
       "      <td>c1coc(C2=Nc3ccccc3[N]2)c1</td>\n",
       "      <td>NaN</td>\n",
       "      <td>2.67</td>\n",
       "      <td>0</td>\n",
       "    </tr>\n",
       "    <tr>\n",
       "      <th>1388</th>\n",
       "      <td>CHEMBL101716</td>\n",
       "      <td>c1nnc[nH]1</td>\n",
       "      <td>NaN</td>\n",
       "      <td>-0.58</td>\n",
       "      <td>0</td>\n",
       "    </tr>\n",
       "  </tbody>\n",
       "</table>\n",
       "<p>1389 rows × 5 columns</p>\n",
       "</div>"
      ],
      "text/plain": [
       "       compound_id                   base_rdkit_smiles  relation  \\\n",
       "0     CHEMBL102422                         BrC=C(Br)Br       NaN   \n",
       "1     CHEMBL101049                      Brc1ccc(Br)cc1       NaN   \n",
       "2     CHEMBL107341     Brc1cccc(Oc2ccc(Br)c(Br)c2Br)c1       NaN   \n",
       "3     CHEMBL103677                 Brc1ccccc1-c1ccccc1       NaN   \n",
       "4     CHEMBL100362                                C#CC       NaN   \n",
       "...            ...                                 ...       ...   \n",
       "1384  CHEMBL101649  c1ccc2cc3c(cc2c1)-c1cccc2cccc-3c12       NaN   \n",
       "1385  CHEMBL101775                      c1cnc2nccnc2c1       NaN   \n",
       "1386  CHEMBL102028             c1cncc([C@@H]2CCCCN2)c1       NaN   \n",
       "1387  CHEMBL104361           c1coc(C2=Nc3ccccc3[N]2)c1       NaN   \n",
       "1388  CHEMBL101716                          c1nnc[nH]1       NaN   \n",
       "\n",
       "      average_logP logP_level  \n",
       "0             3.20          0  \n",
       "1             3.79          0  \n",
       "2             6.05          1  \n",
       "3             4.59          1  \n",
       "4             0.94          0  \n",
       "...            ...        ...  \n",
       "1384          6.11          1  \n",
       "1385         -0.04          0  \n",
       "1386          0.97          0  \n",
       "1387          2.67          0  \n",
       "1388         -0.58          0  \n",
       "\n",
       "[1389 rows x 5 columns]"
      ]
     },
     "execution_count": 4,
     "metadata": {},
     "output_type": "execute_result"
    }
   ],
   "source": [
    "curated_logPclass"
   ]
  },
  {
   "cell_type": "code",
   "execution_count": 18,
   "id": "18878a66-804f-4eb6-86cc-0c3889401871",
   "metadata": {
    "tags": []
   },
   "outputs": [
    {
     "data": {
      "text/plain": [
       "logP_level\n",
       "0    1218\n",
       "1     171\n",
       "Name: count, dtype: int64"
      ]
     },
     "execution_count": 18,
     "metadata": {},
     "output_type": "execute_result"
    }
   ],
   "source": [
    "curated_logPclass.logP_level.value_counts()"
   ]
  },
  {
   "cell_type": "code",
   "execution_count": null,
   "id": "9ce86429-9888-4572-b4d5-6c1f0c4a1030",
   "metadata": {},
   "outputs": [],
   "source": [
    "\n",
    "#dataset_key='dataset/curated_logP.csv'\n",
    "dataset_key='dataset/curated_logPclass.csv'\n",
    "model_dir='dataset'\n",
    "descriptor_type = 'rdkit_raw'\n",
    "best_model_dir = 'dataset/logP_models/best_models'\n",
    "split_uuid = MP.split_dataset()\n",
    "\n",
    "\n",
    "if not os.path.exists(f'./{best_model_dir}'):\n",
    "    os.mkdir(f'./{best_model_dir}')\n",
    "    \n",
    "if not os.path.exists(f'./{model_dir}'):\n",
    "    os.mkdir(f'./{model_dir}')"
   ]
  },
  {
   "cell_type": "markdown",
   "id": "ebb47c18-1a0f-4f7d-ada3-cc11de520472",
   "metadata": {},
   "source": [
    "import pandas as pd\n",
    "from atomsci.ddm.pipeline import model_pipeline as mp\n",
    "from atomsci.ddm.pipeline import parameter_parser as parse\n",
    "\n",
    "dataset_file = 'dataset/curated_logPclass.csv'\n",
    "odir='dataset'\n",
    "\n",
    "response_col = \"logP_level\"\n",
    "compound_id = \"compound_id\"\n",
    "smiles_col = \"base_rdkit_smiles\"\n",
    "#split_uuid = \"c35aeaab-910c-4dcf-8f9f-04b55179aa1a\"\n",
    "\n",
    "params = {\n",
    "        \"verbose\": \"True\",\n",
    "        \"datastore\": \"False\",\n",
    "        \"save_results\": \"False\",\n",
    "        \"prediction_type\": \"classification\",\n",
    "        \"dataset_key\": dataset_file,\n",
    "        \"id_col\": compound_id,\n",
    "        \"smiles_col\": smiles_col,\n",
    "        \"response_cols\": response_col,\n",
    "        \"previously_split\": \"False\",\n",
    "        \"split_uuid\" : split_uuid,\n",
    "        \"split_only\": \"False\",\n",
    "        \"featurizer\": \"computed_descriptors\",\n",
    "        \"descriptor_type\" : \"rdkit_raw\",\n",
    "        \"model_type\": \"RF\",\n",
    "        \"verbose\": \"True\",\n",
    "        \"transformers\": \"True\",\n",
    "        \"rerun\": \"False\",\n",
    "        \"result_dir\": odir\n",
    "    }\n",
    "\n",
    "ampl_param = parse.wrapper(params)\n",
    "pl = mp.ModelPipeline(ampl_param)\n",
    "pl.train_model()"
   ]
  },
  {
   "cell_type": "code",
   "execution_count": 7,
   "id": "d746f409-b03a-4a79-aa5e-fc6d599a3cef",
   "metadata": {
    "tags": []
   },
   "outputs": [],
   "source": [
    "import pandas as pd\n",
    "from atomsci.ddm.pipeline import model_pipeline as mp\n",
    "from atomsci.ddm.pipeline import parameter_parser as parse\n",
    "\n",
    "dataset_file = 'dataset/curated_logPclass.csv'\n",
    "odir='dataset'\n",
    "\n",
    "response_col = \"logP_level\"\n",
    "compound_id = \"compound_id\"\n",
    "smiles_col = \"base_rdkit_smiles\"\n",
    "#split_uuid = \"c35aeaab-910c-4dcf-8f9f-04b55179aa1a\"\n",
    "\n",
    "params = {\n",
    "        \"verbose\": \"True\",\n",
    "        \"datastore\": \"False\",\n",
    "        \"save_results\": \"False\",\n",
    "        \"prediction_type\": \"classification\",\n",
    "        \"dataset_key\": dataset_file,\n",
    "        \"id_col\": compound_id,\n",
    "        \"smiles_col\": smiles_col,\n",
    "        \"response_cols\": response_col,\n",
    "        \"previously_split\": \"False\",\n",
    "        \"split_strategy\": \"train_valid_test\",\n",
    "        \"split_only\": \"False\",\n",
    "        \"splitter\": \"fingerprint\",\n",
    "        \"split_valid_frac\": \"0.10\",\n",
    "        \"split_test_frac\": \"0.10\",\n",
    "        \"featurizer\": \"ecfp\",\n",
    "        \"model_type\": \"RF\",\n",
    "        \"verbose\": \"True\",\n",
    "        \"transformers\": \"True\",\n",
    "        'max_epochs': '70',\n",
    "        \"rerun\": \"False\",\n",
    "        \"result_dir\": \"\"\n",
    "    }\n",
    "\n",
    "ampl_param = parse.wrapper(params)\n",
    "pl = mp.ModelPipeline(ampl_param)\n",
    "pl.train_model()"
   ]
  },
  {
   "cell_type": "code",
   "execution_count": 8,
   "id": "097d9f5e-2318-4810-ad47-d1ee40b837d4",
   "metadata": {
    "tags": []
   },
   "outputs": [
    {
     "name": "stdout",
     "output_type": "stream",
     "text": [
      "./best_model/\n",
      "./best_model/model.joblib\n",
      "./model_metadata.json\n",
      "./model_metrics.json\n"
     ]
    }
   ],
   "source": [
    "!tar -tf *.tar.gz"
   ]
  },
  {
   "cell_type": "code",
   "execution_count": 9,
   "id": "ec21a50b-7ebd-42e1-9400-bf166d06ee55",
   "metadata": {
    "tags": []
   },
   "outputs": [],
   "source": [
    "!tar xzf *.tar.gz -C /tmp"
   ]
  },
  {
   "cell_type": "code",
   "execution_count": 10,
   "id": "4e49fe19-76da-49e1-aa58-2a974db5da45",
   "metadata": {
    "tags": []
   },
   "outputs": [
    {
     "name": "stdout",
     "output_type": "stream",
     "text": [
      "{\n",
      "    \"ecfp_specific\": {\n",
      "        \"ecfp_radius\": 2,\n",
      "        \"ecfp_size\": 1024\n",
      "    },\n",
      "    \"model_parameters\": {\n",
      "        \"ampl_version\": \"1.6.0\",\n",
      "        \"class_number\": 2,\n",
      "        \"featurizer\": \"ecfp\",\n",
      "        \"hyperparam_uuid\": null,\n"
     ]
    }
   ],
   "source": [
    "!cat /tmp/model_metadata.json | head"
   ]
  },
  {
   "cell_type": "code",
   "execution_count": 12,
   "id": "9ace8889-827e-489c-8cd9-4d039627b470",
   "metadata": {
    "tags": []
   },
   "outputs": [
    {
     "data": {
      "text/html": [
       "<style>#sk-container-id-2 {color: black;background-color: white;}#sk-container-id-2 pre{padding: 0;}#sk-container-id-2 div.sk-toggleable {background-color: white;}#sk-container-id-2 label.sk-toggleable__label {cursor: pointer;display: block;width: 100%;margin-bottom: 0;padding: 0.3em;box-sizing: border-box;text-align: center;}#sk-container-id-2 label.sk-toggleable__label-arrow:before {content: \"▸\";float: left;margin-right: 0.25em;color: #696969;}#sk-container-id-2 label.sk-toggleable__label-arrow:hover:before {color: black;}#sk-container-id-2 div.sk-estimator:hover label.sk-toggleable__label-arrow:before {color: black;}#sk-container-id-2 div.sk-toggleable__content {max-height: 0;max-width: 0;overflow: hidden;text-align: left;background-color: #f0f8ff;}#sk-container-id-2 div.sk-toggleable__content pre {margin: 0.2em;color: black;border-radius: 0.25em;background-color: #f0f8ff;}#sk-container-id-2 input.sk-toggleable__control:checked~div.sk-toggleable__content {max-height: 200px;max-width: 100%;overflow: auto;}#sk-container-id-2 input.sk-toggleable__control:checked~label.sk-toggleable__label-arrow:before {content: \"▾\";}#sk-container-id-2 div.sk-estimator input.sk-toggleable__control:checked~label.sk-toggleable__label {background-color: #d4ebff;}#sk-container-id-2 div.sk-label input.sk-toggleable__control:checked~label.sk-toggleable__label {background-color: #d4ebff;}#sk-container-id-2 input.sk-hidden--visually {border: 0;clip: rect(1px 1px 1px 1px);clip: rect(1px, 1px, 1px, 1px);height: 1px;margin: -1px;overflow: hidden;padding: 0;position: absolute;width: 1px;}#sk-container-id-2 div.sk-estimator {font-family: monospace;background-color: #f0f8ff;border: 1px dotted black;border-radius: 0.25em;box-sizing: border-box;margin-bottom: 0.5em;}#sk-container-id-2 div.sk-estimator:hover {background-color: #d4ebff;}#sk-container-id-2 div.sk-parallel-item::after {content: \"\";width: 100%;border-bottom: 1px solid gray;flex-grow: 1;}#sk-container-id-2 div.sk-label:hover label.sk-toggleable__label {background-color: #d4ebff;}#sk-container-id-2 div.sk-serial::before {content: \"\";position: absolute;border-left: 1px solid gray;box-sizing: border-box;top: 0;bottom: 0;left: 50%;z-index: 0;}#sk-container-id-2 div.sk-serial {display: flex;flex-direction: column;align-items: center;background-color: white;padding-right: 0.2em;padding-left: 0.2em;position: relative;}#sk-container-id-2 div.sk-item {position: relative;z-index: 1;}#sk-container-id-2 div.sk-parallel {display: flex;align-items: stretch;justify-content: center;background-color: white;position: relative;}#sk-container-id-2 div.sk-item::before, #sk-container-id-2 div.sk-parallel-item::before {content: \"\";position: absolute;border-left: 1px solid gray;box-sizing: border-box;top: 0;bottom: 0;left: 50%;z-index: -1;}#sk-container-id-2 div.sk-parallel-item {display: flex;flex-direction: column;z-index: 1;position: relative;background-color: white;}#sk-container-id-2 div.sk-parallel-item:first-child::after {align-self: flex-end;width: 50%;}#sk-container-id-2 div.sk-parallel-item:last-child::after {align-self: flex-start;width: 50%;}#sk-container-id-2 div.sk-parallel-item:only-child::after {width: 0;}#sk-container-id-2 div.sk-dashed-wrapped {border: 1px dashed gray;margin: 0 0.4em 0.5em 0.4em;box-sizing: border-box;padding-bottom: 0.4em;background-color: white;}#sk-container-id-2 div.sk-label label {font-family: monospace;font-weight: bold;display: inline-block;line-height: 1.2em;}#sk-container-id-2 div.sk-label-container {text-align: center;}#sk-container-id-2 div.sk-container {/* jupyter's `normalize.less` sets `[hidden] { display: none; }` but bootstrap.min.css set `[hidden] { display: none !important; }` so we also need the `!important` here to be able to override the default hidden behavior on the sphinx rendered scikit-learn.org. See: https://github.com/scikit-learn/scikit-learn/issues/21755 */display: inline-block !important;position: relative;}#sk-container-id-2 div.sk-text-repr-fallback {display: none;}</style><div id=\"sk-container-id-2\" class=\"sk-top-container\"><div class=\"sk-text-repr-fallback\"><pre>RandomForestClassifier(max_features=32, n_estimators=500, n_jobs=-1)</pre><b>In a Jupyter environment, please rerun this cell to show the HTML representation or trust the notebook. <br />On GitHub, the HTML representation is unable to render, please try loading this page with nbviewer.org.</b></div><div class=\"sk-container\" hidden><div class=\"sk-item\"><div class=\"sk-estimator sk-toggleable\"><input class=\"sk-toggleable__control sk-hidden--visually\" id=\"sk-estimator-id-2\" type=\"checkbox\" checked><label for=\"sk-estimator-id-2\" class=\"sk-toggleable__label sk-toggleable__label-arrow\">RandomForestClassifier</label><div class=\"sk-toggleable__content\"><pre>RandomForestClassifier(max_features=32, n_estimators=500, n_jobs=-1)</pre></div></div></div></div></div>"
      ],
      "text/plain": [
       "RandomForestClassifier(max_features=32, n_estimators=500, n_jobs=-1)"
      ]
     },
     "execution_count": 12,
     "metadata": {},
     "output_type": "execute_result"
    }
   ],
   "source": [
    "import joblib\n",
    "# load the model from disk\n",
    "loaded_model = joblib.load(\"/tmp/best_model/model.joblib\")\n",
    "loaded_model"
   ]
  },
  {
   "cell_type": "code",
   "execution_count": 13,
   "id": "6ef69539-746d-4c49-b521-49614eccf6b8",
   "metadata": {},
   "outputs": [
    {
     "data": {
      "text/plain": [
       "{'ampl_version': '1.6.0',\n",
       " 'class_number': 2,\n",
       " 'featurizer': 'ecfp',\n",
       " 'hyperparam_uuid': None,\n",
       " 'model_bucket': 'public',\n",
       " 'model_choice_score_type': 'roc_auc',\n",
       " 'model_type': 'RF',\n",
       " 'num_model_tasks': 1,\n",
       " 'prediction_type': 'classification',\n",
       " 'save_results': False,\n",
       " 'system': 'twintron-blue',\n",
       " 'time_generated': 1713290080.0563927,\n",
       " 'transformer_bucket': 'public',\n",
       " 'transformer_key': None,\n",
       " 'transformer_oid': None,\n",
       " 'transformers': True,\n",
       " 'uncertainty': True}"
      ]
     },
     "execution_count": 13,
     "metadata": {},
     "output_type": "execute_result"
    }
   ],
   "source": [
    "import json\n",
    "import pandas as pd\n",
    "data = json.load(open('/tmp/model_metadata.json'))\n",
    "# pd.DataFrame(data[\"model_parameters\"])\n",
    "data['model_parameters']"
   ]
  },
  {
   "cell_type": "code",
   "execution_count": 14,
   "id": "34e16d5a-557a-4a3a-a9f0-c32b48335169",
   "metadata": {
    "tags": []
   },
   "outputs": [
    {
     "data": {
      "text/plain": [
       "{'roc_auc_score': 0.7569230769230768,\n",
       " 'prc_auc_score': 0.19608126224323408,\n",
       " 'cross_entropy': 0.23520962410485496,\n",
       " 'precision': 0.0,\n",
       " 'recall_score': 0.0,\n",
       " 'npv': 0.9285714285714286,\n",
       " 'accuracy_score': 0.9285714285714286,\n",
       " 'bal_accuracy': 0.5,\n",
       " 'kappa': 0.0,\n",
       " 'matthews_cc': 0.0,\n",
       " 'confusion_matrix': [[[130, 0], [10, 0]]],\n",
       " 'num_compounds': 140}"
      ]
     },
     "execution_count": 14,
     "metadata": {},
     "output_type": "execute_result"
    }
   ],
   "source": [
    "pred_data_test = pl.model_wrapper.get_perf_data(subset=\"test\", epoch_label=\"best\")\n",
    "pred_results_test = pred_data_test.get_prediction_results()\n",
    "pred_results_test"
   ]
  },
  {
   "cell_type": "markdown",
   "id": "e88d3ab1-3b55-4d1f-a86d-0df04e0688db",
   "metadata": {},
   "source": [
    "# LogP low classification"
   ]
  },
  {
   "cell_type": "code",
   "execution_count": 5,
   "id": "0d377a6e-895c-4e1e-a0f5-6a0cd457bfcd",
   "metadata": {
    "tags": []
   },
   "outputs": [],
   "source": [
    "curated_logPclasslow = pd.read_csv(\"dataset/curated_logP.csv\")\n",
    "# high vs not high\n",
    "curated_logPclasslow['logP_level'] = pd.cut(curated_logPclasslow['average_logP'], bins=[-float('inf'), 2, float('inf')],\n",
    "                              labels=[1,0], right=False)"
   ]
  },
  {
   "cell_type": "code",
   "execution_count": 6,
   "id": "01664618-7d4c-43d8-bc64-0234468e2193",
   "metadata": {
    "tags": []
   },
   "outputs": [],
   "source": [
    "curated_logPclasslow.to_csv('dataset/curated_logPclasslow.csv', index=False)"
   ]
  },
  {
   "cell_type": "code",
   "execution_count": 8,
   "id": "6957728d-b7fc-4fca-9e90-32e5d9fac3c6",
   "metadata": {
    "tags": []
   },
   "outputs": [
    {
     "name": "stderr",
     "output_type": "stream",
     "text": [
      "INFO:ATOM:Featurized dataset not previously saved for dataset curated_logPclasslow, creating new\n",
      "INFO:ATOM:Featurizing sample 0\n",
      "INFO:ATOM:Featurizing sample 1000\n",
      "INFO:ATOM:Splitting data by fingerprint\n",
      "INFO:ATOM:Dataset split table saved to /home/jupyter/AMPL/atomsci/logP/dataset/curated_logPclasslow_train_valid_test_fingerprint_42837689-e52c-4405-a0e1-2e8e5deaaa6b.csv\n",
      "INFO:ATOM:Fitting random forest model\n",
      "INFO:ATOM:Fold 0: training roc_auc_score = 1.000, validation roc_auc_score = 0.779, test roc_auc_score = 0.829\n",
      "INFO:ATOM:Wrote model tarball to curated_logPclasslow_model_8dc2b45e-b762-4705-b412-8982c8d6311c.tar.gz\n"
     ]
    }
   ],
   "source": [
    "import pandas as pd\n",
    "from atomsci.ddm.pipeline import model_pipeline as mp\n",
    "from atomsci.ddm.pipeline import parameter_parser as parse\n",
    "\n",
    "dataset_file = 'dataset/curated_logPclasslow.csv'\n",
    "odir='dataset'\n",
    "\n",
    "response_col = \"logP_level\"\n",
    "compound_id = \"compound_id\"\n",
    "smiles_col = \"base_rdkit_smiles\"\n",
    "#split_uuid = \"c35aeaab-910c-4dcf-8f9f-04b55179aa1a\"\n",
    "\n",
    "params = {\n",
    "        \"verbose\": \"True\",\n",
    "        \"datastore\": \"False\",\n",
    "        \"save_results\": \"False\",\n",
    "        \"prediction_type\": \"classification\",\n",
    "        \"dataset_key\": dataset_file,\n",
    "        \"id_col\": compound_id,\n",
    "        \"smiles_col\": smiles_col,\n",
    "        \"response_cols\": response_col,\n",
    "        \"previously_split\": \"False\",\n",
    "        \"split_strategy\": \"train_valid_test\",\n",
    "        \"split_only\": \"False\",\n",
    "        \"splitter\": \"fingerprint\",\n",
    "        \"split_valid_frac\": \"0.10\",\n",
    "        \"split_test_frac\": \"0.10\",\n",
    "        \"featurizer\": \"ecfp\",\n",
    "        \"model_type\": \"RF\",\n",
    "        \"verbose\": \"True\",\n",
    "        \"transformers\": \"True\",\n",
    "        'max_epochs': '70',\n",
    "        \"rerun\": \"False\",\n",
    "        \"result_dir\": \"\"\n",
    "    }\n",
    "\n",
    "ampl_param = parse.wrapper(params)\n",
    "pl = mp.ModelPipeline(ampl_param)\n",
    "pl.train_model()"
   ]
  },
  {
   "cell_type": "code",
   "execution_count": 9,
   "id": "7eb2fce0-df48-4940-ab14-58b7bbf8580e",
   "metadata": {
    "tags": []
   },
   "outputs": [
    {
     "name": "stdout",
     "output_type": "stream",
     "text": [
      "tar: curated_logPclasslow_model_8dc2b45e-b762-4705-b412-8982c8d6311c.tar.gz: Not found in archive\n",
      "tar: Exiting with failure status due to previous errors\n"
     ]
    }
   ],
   "source": [
    "!tar -tf *.tar.gz"
   ]
  },
  {
   "cell_type": "code",
   "execution_count": 10,
   "id": "b452af20-482c-420a-8715-d45b1898cd5c",
   "metadata": {
    "tags": []
   },
   "outputs": [
    {
     "name": "stdout",
     "output_type": "stream",
     "text": [
      "tar: curated_logPclasslow_model_8dc2b45e-b762-4705-b412-8982c8d6311c.tar.gz: Not found in archive\n",
      "tar: Exiting with failure status due to previous errors\n"
     ]
    }
   ],
   "source": [
    "!tar xzf *.tar.gz -C /tmp"
   ]
  },
  {
   "cell_type": "code",
   "execution_count": 11,
   "id": "e0e176c2-a0b7-4570-82ec-9149369c7de2",
   "metadata": {
    "tags": []
   },
   "outputs": [
    {
     "name": "stdout",
     "output_type": "stream",
     "text": [
      "{\n",
      "    \"ecfp_specific\": {\n",
      "        \"ecfp_radius\": 2,\n",
      "        \"ecfp_size\": 1024\n",
      "    },\n",
      "    \"model_parameters\": {\n",
      "        \"ampl_version\": \"1.6.0\",\n",
      "        \"class_number\": 2,\n",
      "        \"featurizer\": \"ecfp\",\n",
      "        \"hyperparam_uuid\": null,\n"
     ]
    }
   ],
   "source": [
    "!cat /tmp/model_metadata.json | head"
   ]
  },
  {
   "cell_type": "code",
   "execution_count": 12,
   "id": "770c2b0e-e1ad-4576-a194-9a349f51ba63",
   "metadata": {
    "tags": []
   },
   "outputs": [
    {
     "data": {
      "text/html": [
       "<style>#sk-container-id-1 {color: black;background-color: white;}#sk-container-id-1 pre{padding: 0;}#sk-container-id-1 div.sk-toggleable {background-color: white;}#sk-container-id-1 label.sk-toggleable__label {cursor: pointer;display: block;width: 100%;margin-bottom: 0;padding: 0.3em;box-sizing: border-box;text-align: center;}#sk-container-id-1 label.sk-toggleable__label-arrow:before {content: \"▸\";float: left;margin-right: 0.25em;color: #696969;}#sk-container-id-1 label.sk-toggleable__label-arrow:hover:before {color: black;}#sk-container-id-1 div.sk-estimator:hover label.sk-toggleable__label-arrow:before {color: black;}#sk-container-id-1 div.sk-toggleable__content {max-height: 0;max-width: 0;overflow: hidden;text-align: left;background-color: #f0f8ff;}#sk-container-id-1 div.sk-toggleable__content pre {margin: 0.2em;color: black;border-radius: 0.25em;background-color: #f0f8ff;}#sk-container-id-1 input.sk-toggleable__control:checked~div.sk-toggleable__content {max-height: 200px;max-width: 100%;overflow: auto;}#sk-container-id-1 input.sk-toggleable__control:checked~label.sk-toggleable__label-arrow:before {content: \"▾\";}#sk-container-id-1 div.sk-estimator input.sk-toggleable__control:checked~label.sk-toggleable__label {background-color: #d4ebff;}#sk-container-id-1 div.sk-label input.sk-toggleable__control:checked~label.sk-toggleable__label {background-color: #d4ebff;}#sk-container-id-1 input.sk-hidden--visually {border: 0;clip: rect(1px 1px 1px 1px);clip: rect(1px, 1px, 1px, 1px);height: 1px;margin: -1px;overflow: hidden;padding: 0;position: absolute;width: 1px;}#sk-container-id-1 div.sk-estimator {font-family: monospace;background-color: #f0f8ff;border: 1px dotted black;border-radius: 0.25em;box-sizing: border-box;margin-bottom: 0.5em;}#sk-container-id-1 div.sk-estimator:hover {background-color: #d4ebff;}#sk-container-id-1 div.sk-parallel-item::after {content: \"\";width: 100%;border-bottom: 1px solid gray;flex-grow: 1;}#sk-container-id-1 div.sk-label:hover label.sk-toggleable__label {background-color: #d4ebff;}#sk-container-id-1 div.sk-serial::before {content: \"\";position: absolute;border-left: 1px solid gray;box-sizing: border-box;top: 0;bottom: 0;left: 50%;z-index: 0;}#sk-container-id-1 div.sk-serial {display: flex;flex-direction: column;align-items: center;background-color: white;padding-right: 0.2em;padding-left: 0.2em;position: relative;}#sk-container-id-1 div.sk-item {position: relative;z-index: 1;}#sk-container-id-1 div.sk-parallel {display: flex;align-items: stretch;justify-content: center;background-color: white;position: relative;}#sk-container-id-1 div.sk-item::before, #sk-container-id-1 div.sk-parallel-item::before {content: \"\";position: absolute;border-left: 1px solid gray;box-sizing: border-box;top: 0;bottom: 0;left: 50%;z-index: -1;}#sk-container-id-1 div.sk-parallel-item {display: flex;flex-direction: column;z-index: 1;position: relative;background-color: white;}#sk-container-id-1 div.sk-parallel-item:first-child::after {align-self: flex-end;width: 50%;}#sk-container-id-1 div.sk-parallel-item:last-child::after {align-self: flex-start;width: 50%;}#sk-container-id-1 div.sk-parallel-item:only-child::after {width: 0;}#sk-container-id-1 div.sk-dashed-wrapped {border: 1px dashed gray;margin: 0 0.4em 0.5em 0.4em;box-sizing: border-box;padding-bottom: 0.4em;background-color: white;}#sk-container-id-1 div.sk-label label {font-family: monospace;font-weight: bold;display: inline-block;line-height: 1.2em;}#sk-container-id-1 div.sk-label-container {text-align: center;}#sk-container-id-1 div.sk-container {/* jupyter's `normalize.less` sets `[hidden] { display: none; }` but bootstrap.min.css set `[hidden] { display: none !important; }` so we also need the `!important` here to be able to override the default hidden behavior on the sphinx rendered scikit-learn.org. See: https://github.com/scikit-learn/scikit-learn/issues/21755 */display: inline-block !important;position: relative;}#sk-container-id-1 div.sk-text-repr-fallback {display: none;}</style><div id=\"sk-container-id-1\" class=\"sk-top-container\"><div class=\"sk-text-repr-fallback\"><pre>RandomForestClassifier(max_features=32, n_estimators=500, n_jobs=-1)</pre><b>In a Jupyter environment, please rerun this cell to show the HTML representation or trust the notebook. <br />On GitHub, the HTML representation is unable to render, please try loading this page with nbviewer.org.</b></div><div class=\"sk-container\" hidden><div class=\"sk-item\"><div class=\"sk-estimator sk-toggleable\"><input class=\"sk-toggleable__control sk-hidden--visually\" id=\"sk-estimator-id-1\" type=\"checkbox\" checked><label for=\"sk-estimator-id-1\" class=\"sk-toggleable__label sk-toggleable__label-arrow\">RandomForestClassifier</label><div class=\"sk-toggleable__content\"><pre>RandomForestClassifier(max_features=32, n_estimators=500, n_jobs=-1)</pre></div></div></div></div></div>"
      ],
      "text/plain": [
       "RandomForestClassifier(max_features=32, n_estimators=500, n_jobs=-1)"
      ]
     },
     "execution_count": 12,
     "metadata": {},
     "output_type": "execute_result"
    }
   ],
   "source": [
    "import joblib\n",
    "# load the model from disk\n",
    "loaded_model = joblib.load(\"/tmp/best_model/model.joblib\")\n",
    "loaded_model"
   ]
  },
  {
   "cell_type": "code",
   "execution_count": 13,
   "id": "3fe5be36-fb73-4df5-a91a-fef431d935b8",
   "metadata": {
    "tags": []
   },
   "outputs": [
    {
     "data": {
      "text/plain": [
       "{'ampl_version': '1.6.0',\n",
       " 'class_number': 2,\n",
       " 'featurizer': 'ecfp',\n",
       " 'hyperparam_uuid': None,\n",
       " 'model_bucket': 'public',\n",
       " 'model_choice_score_type': 'roc_auc',\n",
       " 'model_type': 'RF',\n",
       " 'num_model_tasks': 1,\n",
       " 'prediction_type': 'classification',\n",
       " 'save_results': False,\n",
       " 'system': 'twintron-blue',\n",
       " 'time_generated': 1713290080.0563927,\n",
       " 'transformer_bucket': 'public',\n",
       " 'transformer_key': None,\n",
       " 'transformer_oid': None,\n",
       " 'transformers': True,\n",
       " 'uncertainty': True}"
      ]
     },
     "execution_count": 13,
     "metadata": {},
     "output_type": "execute_result"
    }
   ],
   "source": [
    "import json\n",
    "import pandas as pd\n",
    "data = json.load(open('/tmp/model_metadata.json'))\n",
    "# pd.DataFrame(data[\"model_parameters\"])\n",
    "data['model_parameters']"
   ]
  },
  {
   "cell_type": "code",
   "execution_count": 14,
   "id": "d04e5a62-c9c9-44a4-94d5-33e214ea34ca",
   "metadata": {
    "tags": []
   },
   "outputs": [
    {
     "data": {
      "text/plain": [
       "{'roc_auc_score': 0.8285984848484849,\n",
       " 'prc_auc_score': 0.8936192711102957,\n",
       " 'cross_entropy': 0.5202054542218015,\n",
       " 'precision': 0.8316831683168316,\n",
       " 'recall_score': 0.875,\n",
       " 'npv': 0.6923076923076923,\n",
       " 'accuracy_score': 0.7928571428571428,\n",
       " 'bal_accuracy': 0.7443181818181819,\n",
       " 'kappa': 0.504152418172936,\n",
       " 'matthews_cc': 0.5060049295355293,\n",
       " 'confusion_matrix': [[[27, 17], [12, 84]]],\n",
       " 'num_compounds': 140}"
      ]
     },
     "execution_count": 14,
     "metadata": {},
     "output_type": "execute_result"
    }
   ],
   "source": [
    "pred_data_test = pl.model_wrapper.get_perf_data(subset=\"test\", epoch_label=\"best\")\n",
    "pred_results_test = pred_data_test.get_prediction_results()\n",
    "pred_results_test\n"
   ]
  }
 ],
 "metadata": {
  "environment": {
   "kernel": "atomsci",
   "name": "common-cpu.m116",
   "type": "gcloud",
   "uri": "gcr.io/deeplearning-platform-release/base-cpu:m116"
  },
  "kernelspec": {
   "display_name": "atomsci (Local)",
   "language": "python",
   "name": "atomsci"
  },
  "language_info": {
   "codemirror_mode": {
    "name": "ipython",
    "version": 3
   },
   "file_extension": ".py",
   "mimetype": "text/x-python",
   "name": "python",
   "nbconvert_exporter": "python",
   "pygments_lexer": "ipython3",
   "version": "3.9.18"
  }
 },
 "nbformat": 4,
 "nbformat_minor": 5
}
