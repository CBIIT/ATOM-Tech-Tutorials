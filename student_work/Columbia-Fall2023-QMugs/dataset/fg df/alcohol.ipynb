{
 "cells": [
  {
   "cell_type": "code",
   "execution_count": 1,
   "id": "8c27ca7e-df9b-4452-aead-c56e77f0f18b",
   "metadata": {},
   "outputs": [
    {
     "name": "stderr",
     "output_type": "stream",
     "text": [
      "/home/jupyter/atomsci/lib/python3.8/site-packages/tqdm/auto.py:21: TqdmWarning: IProgress not found. Please update jupyter and ipywidgets. See https://ipywidgets.readthedocs.io/en/stable/user_install.html\n",
      "  from .autonotebook import tqdm as notebook_tqdm\n",
      "Skipped loading modules with pytorch-geometric dependency, missing a dependency. No module named 'torch_geometric'\n",
      "Skipped loading modules with pytorch-geometric dependency, missing a dependency. cannot import name 'DMPNN' from 'deepchem.models.torch_models' (/home/jupyter/atomsci/lib/python3.8/site-packages/deepchem/models/torch_models/__init__.py)\n",
      "Skipped loading modules with pytorch-lightning dependency, missing a dependency. No module named 'pytorch_lightning'\n",
      "Skipped loading some Jax models, missing a dependency. jax requires jaxlib to be installed. See https://github.com/google/jax#installation for installation instructions.\n",
      "2023-12-06 08:34:02,185 Model tracker client not supported in your environment; will save models in filesystem only.\n"
     ]
    }
   ],
   "source": [
    "import matplotlib.pyplot as plt\n",
    "import seaborn as sns\n",
    "import numpy as numpy\n",
    "sns.set_context(\"poster\")\n",
    "sns.set_style(\"whitegrid\")\n",
    "sns.set_palette(\"Set2\")\n",
    "\n",
    "import pandas as pd\n",
    "import os, json, sys, glob, pickle\n",
    "\n",
    "from atomsci.ddm.pipeline import parameter_parser as parse\n",
    "from atomsci.ddm.pipeline import perf_data\n",
    "from atomsci.ddm.pipeline import model_pipeline as mp\n",
    "import atomsci.ddm.utils.curate_data as curate_data\n",
    "import atomsci.ddm.utils.struct_utils as struct_utils\n",
    "from atomsci.ddm.pipeline import perf_plots as pp"
   ]
  },
  {
   "cell_type": "code",
   "execution_count": 2,
   "id": "421d45bd-860a-408e-aecb-bf1351ffb5b3",
   "metadata": {},
   "outputs": [
    {
     "name": "stdout",
     "output_type": "stream",
     "text": [
      "Standardizing SMILES strings for 255557 compounds.\n"
     ]
    },
    {
     "name": "stderr",
     "output_type": "stream",
     "text": [
      "2023-12-06 08:40:07,804 /home/jupyter/Models/select_qmugs_data_curated (2)_model_d45eab0f-3f53-4036-a3e5-0a0217a52e23.tar.gz, 1.5.1\n",
      "2023-12-06 08:40:07,808 Version compatible check: /home/jupyter/Models/select_qmugs_data_curated (2)_model_d45eab0f-3f53-4036-a3e5-0a0217a52e23.tar.gz version = \"1.5\", AMPL version = \"1.5\"\n",
      "2023-12-06 08:40:08,321 ['ampl_version', 'time_generated', 'best_epoch', 'time_built', 'dataset_hash', 'dataset_metadata', 'training_metrics'] are not part of the accepted list of parameters and will be ignored\n",
      "2023-12-06 08:40:08,343 Featurization = DynamicFeaturization with graphconv features\n"
     ]
    },
    {
     "name": "stdout",
     "output_type": "stream",
     "text": [
      "num_model_tasks is deprecated and its value is ignored.\n",
      "Standardizing SMILES strings for 255557 compounds.\n"
     ]
    },
    {
     "name": "stderr",
     "output_type": "stream",
     "text": [
      "2023-12-06 09:04:05,229 /home/jupyter/Models/select_qmugs_data_curated (2)_model_1271d6b8-ee81-474e-acc2-dd73fbc3f4ae.tar.gz, 1.5.1\n",
      "2023-12-06 09:04:05,234 Version compatible check: /home/jupyter/Models/select_qmugs_data_curated (2)_model_1271d6b8-ee81-474e-acc2-dd73fbc3f4ae.tar.gz version = \"1.5\", AMPL version = \"1.5\"\n"
     ]
    },
    {
     "name": "stdout",
     "output_type": "stream",
     "text": [
      "num_model_tasks is deprecated and its value is ignored.\n",
      "['/var/tmp/tmpjwl1xcqn/best_model/checkpoint1.pt']\n",
      "/var/tmp/tmpjwl1xcqn/best_model/checkpoint1.pt\n",
      "Standardizing SMILES strings for 255557 compounds.\n"
     ]
    },
    {
     "name": "stderr",
     "output_type": "stream",
     "text": [
      "2023-12-06 09:20:37,131 /home/jupyter/Models/select_qmugs_data_curated (2)_model_4e942a08-e9d6-4ac9-bfb4-277e0518ee2d.tar.gz, 1.5.1\n",
      "2023-12-06 09:20:37,135 Version compatible check: /home/jupyter/Models/select_qmugs_data_curated (2)_model_4e942a08-e9d6-4ac9-bfb4-277e0518ee2d.tar.gz version = \"1.5\", AMPL version = \"1.5\"\n"
     ]
    },
    {
     "name": "stdout",
     "output_type": "stream",
     "text": [
      "num_model_tasks is deprecated and its value is ignored.\n",
      "Standardizing SMILES strings for 255557 compounds.\n"
     ]
    },
    {
     "name": "stderr",
     "output_type": "stream",
     "text": [
      "2023-12-06 09:45:14,885 /home/jupyter/Models/select_qmugs_data_curated (2)_model_285356d8-0b65-4925-a8f6-ccb605d5136b.tar.gz, 1.5.1\n",
      "2023-12-06 09:45:14,889 Version compatible check: /home/jupyter/Models/select_qmugs_data_curated (2)_model_285356d8-0b65-4925-a8f6-ccb605d5136b.tar.gz version = \"1.5\", AMPL version = \"1.5\"\n"
     ]
    },
    {
     "name": "stdout",
     "output_type": "stream",
     "text": [
      "num_model_tasks is deprecated and its value is ignored.\n",
      "['/var/tmp/tmppfrinost/best_model/checkpoint1.pt']\n",
      "/var/tmp/tmppfrinost/best_model/checkpoint1.pt\n",
      "Standardizing SMILES strings for 255557 compounds.\n"
     ]
    },
    {
     "name": "stderr",
     "output_type": "stream",
     "text": [
      "2023-12-06 10:02:11,618 /home/jupyter/Models/select_qmugs_data_curated (2)_model_de56ee5b-6ad7-457a-884f-055bbe7257ad.tar.gz, 1.5.1\n",
      "2023-12-06 10:02:11,624 Version compatible check: /home/jupyter/Models/select_qmugs_data_curated (2)_model_de56ee5b-6ad7-457a-884f-055bbe7257ad.tar.gz version = \"1.5\", AMPL version = \"1.5\"\n"
     ]
    },
    {
     "name": "stdout",
     "output_type": "stream",
     "text": [
      "num_model_tasks is deprecated and its value is ignored.\n",
      "Standardizing SMILES strings for 255557 compounds.\n"
     ]
    },
    {
     "name": "stderr",
     "output_type": "stream",
     "text": [
      "2023-12-06 10:26:46,125 /home/jupyter/Models/select_qmugs_data_curated (2)_model_5e947e95-3ae9-47df-a2ac-9d29066acc3c.tar.gz, 1.5.1\n",
      "2023-12-06 10:26:46,144 Version compatible check: /home/jupyter/Models/select_qmugs_data_curated (2)_model_5e947e95-3ae9-47df-a2ac-9d29066acc3c.tar.gz version = \"1.5\", AMPL version = \"1.5\"\n"
     ]
    },
    {
     "name": "stdout",
     "output_type": "stream",
     "text": [
      "num_model_tasks is deprecated and its value is ignored.\n",
      "['/var/tmp/tmpajyztcg5/best_model/checkpoint1.pt']\n",
      "/var/tmp/tmpajyztcg5/best_model/checkpoint1.pt\n"
     ]
    },
    {
     "data": {
      "text/html": [
       "<style type=\"text/css\">\n",
       "#T_2c7da_ th {\n",
       "  background-color: orange;\n",
       "  color: black;\n",
       "  font-family: Arial;\n",
       "  text-align: center;\n",
       "}\n",
       "#T_2c7da_ .col0 {\n",
       "  text-align: left;\n",
       "}\n",
       "#T_2c7da_ .col1 {\n",
       "  text-align: center;\n",
       "}\n",
       "#T_2c7da_ caption {\n",
       "  caption-side: top;\n",
       "  font-size: 1.2em;\n",
       "  font-weight: bold;\n",
       "  color: black;\n",
       "  font-family: Arial;\n",
       "  text-align: center;\n",
       "}\n",
       "</style>\n",
       "<table id=\"T_2c7da_\">\n",
       "  <caption>Alcohol</caption>\n",
       "  <thead>\n",
       "    <tr>\n",
       "      <th class=\"blank level0\" >&nbsp;</th>\n",
       "      <th class=\"col_heading level0 col0\" >Model</th>\n",
       "      <th class=\"col_heading level0 col1\" >Tested R squared value</th>\n",
       "    </tr>\n",
       "  </thead>\n",
       "  <tbody>\n",
       "    <tr>\n",
       "      <th id=\"T_2c7da_level0_row0\" class=\"row_heading level0 row0\" >1</th>\n",
       "      <td id=\"T_2c7da_row0_col0\" class=\"data row0 col0\" >random split</td>\n",
       "      <td id=\"T_2c7da_row0_col1\" class=\"data row0 col1\" >0.950571</td>\n",
       "    </tr>\n",
       "    <tr>\n",
       "      <th id=\"T_2c7da_level0_row1\" class=\"row_heading level0 row1\" >2</th>\n",
       "      <td id=\"T_2c7da_row1_col0\" class=\"data row1 col0\" >random split with ECFP</td>\n",
       "      <td id=\"T_2c7da_row1_col1\" class=\"data row1 col1\" >0.883298</td>\n",
       "    </tr>\n",
       "    <tr>\n",
       "      <th id=\"T_2c7da_level0_row2\" class=\"row_heading level0 row2\" >3</th>\n",
       "      <td id=\"T_2c7da_row2_col0\" class=\"data row2 col0\" >fingerprint</td>\n",
       "      <td id=\"T_2c7da_row2_col1\" class=\"data row2 col1\" >0.924444</td>\n",
       "    </tr>\n",
       "    <tr>\n",
       "      <th id=\"T_2c7da_level0_row3\" class=\"row_heading level0 row3\" >4</th>\n",
       "      <td id=\"T_2c7da_row3_col0\" class=\"data row3 col0\" >fingerprint with ECFP</td>\n",
       "      <td id=\"T_2c7da_row3_col1\" class=\"data row3 col1\" >0.774498</td>\n",
       "    </tr>\n",
       "    <tr>\n",
       "      <th id=\"T_2c7da_level0_row4\" class=\"row_heading level0 row4\" >5</th>\n",
       "      <td id=\"T_2c7da_row4_col0\" class=\"data row4 col0\" >scaffold</td>\n",
       "      <td id=\"T_2c7da_row4_col1\" class=\"data row4 col1\" >0.938715</td>\n",
       "    </tr>\n",
       "    <tr>\n",
       "      <th id=\"T_2c7da_level0_row5\" class=\"row_heading level0 row5\" >6</th>\n",
       "      <td id=\"T_2c7da_row5_col0\" class=\"data row5 col0\" >scaffold with ECFP</td>\n",
       "      <td id=\"T_2c7da_row5_col1\" class=\"data row5 col1\" >0.872806</td>\n",
       "    </tr>\n",
       "  </tbody>\n",
       "</table>\n"
      ],
      "text/plain": [
       "<IPython.core.display.HTML object>"
      ]
     },
     "metadata": {},
     "output_type": "display_data"
    }
   ],
   "source": [
    "from atomsci.ddm.pipeline import predict_from_model as pfm\n",
    "test_alcohol = pd.read_csv('alcohol_df.csv')\n",
    "\n",
    "## Random split, graphconv, NN for alcohol\n",
    "\n",
    "mfile = '/home/jupyter/Models/select_qmugs_data_curated (2)_model_d45eab0f-3f53-4036-a3e5-0a0217a52e23.tar.gz'\n",
    "mpath = '/content'\n",
    "input_df = test_alcohol\n",
    "response_col = \"DFT_HOMO_LUMO_GAP,DFT_HOMO_LUMO_GAP\"\n",
    "compound_id = 'compound_id'\n",
    "smiles_col = \"rdkit_smiles\"\n",
    "results_df = pfm.predict_from_model_file(model_path = mfile, \n",
    "                            input_df = input_df, \n",
    "                            smiles_col = smiles_col, \n",
    "                            response_col = response_col)\n",
    "\n",
    "## DFT R2 for alcohol\n",
    "\n",
    "dft_alcohol_actual = results_df['DFT_HOMO_LUMO_GAP'].values\n",
    "dft_alcohol_predict = results_df['DFT_HOMO_LUMO_GAP_pred'].values\n",
    "\n",
    "corr_matrix_alcohol_R_sq_randsplit = numpy.corrcoef(dft_alcohol_actual, dft_alcohol_predict)\n",
    "corr_alcohol_R_sq_randsplit = corr_matrix_alcohol_R_sq_randsplit[0,1]\n",
    "dft_alcohol_R_sq_randsplit = corr_alcohol_R_sq_randsplit**2\n",
    "\n",
    "## new Random split, graphconv, NN for alcohol with ECFP\n",
    "\n",
    "mfile = '/home/jupyter/Models/select_qmugs_data_curated (2)_model_1271d6b8-ee81-474e-acc2-dd73fbc3f4ae.tar.gz'\n",
    "mpath = '/content'\n",
    "input_df = test_alcohol\n",
    "response_col = \"DFT_HOMO_LUMO_GAP,DFT_HOMO_LUMO_GAP\"\n",
    "compound_id = 'compound_id'\n",
    "smiles_col = \"rdkit_smiles\"\n",
    "results_df = pfm.predict_from_model_file(model_path = mfile, \n",
    "                            input_df = input_df, \n",
    "                            smiles_col = smiles_col, \n",
    "                            response_col = response_col)\n",
    "## DFT R2 for alcohol\n",
    "\n",
    "dft_alcohol_actual = results_df['DFT_HOMO_LUMO_GAP'].values\n",
    "dft_alcohol_predict = results_df['DFT_HOMO_LUMO_GAP_pred'].values\n",
    "\n",
    "corr_matrix_alcohol_R_sq_randsplit_new = numpy.corrcoef(dft_alcohol_actual, dft_alcohol_predict)\n",
    "corr_alcohol_R_sq_randsplit_new = corr_matrix_alcohol_R_sq_randsplit_new[0,1]\n",
    "dft_alcohol_R_sq_randsplit_new = corr_alcohol_R_sq_randsplit_new**2\n",
    "\n",
    "## Fingerprint split, graphconv, NN for alcohol\n",
    "\n",
    "mfile = '/home/jupyter/Models/select_qmugs_data_curated (2)_model_4e942a08-e9d6-4ac9-bfb4-277e0518ee2d.tar.gz'\n",
    "mpath = '/content'\n",
    "input_df = test_alcohol\n",
    "response_col = \"DFT_HOMO_LUMO_GAP,DFT_HOMO_LUMO_GAP\"\n",
    "compound_id = 'compound_id'\n",
    "smiles_col = \"rdkit_smiles\"\n",
    "results_df = pfm.predict_from_model_file(model_path = mfile, \n",
    "                            input_df = input_df, \n",
    "                            smiles_col = smiles_col, \n",
    "                            response_col = response_col)\n",
    "\n",
    "## DFT R2 for alcohol\n",
    "\n",
    "dft_alcohol_actual = results_df['DFT_HOMO_LUMO_GAP'].values\n",
    "dft_alcohol_predict = results_df['DFT_HOMO_LUMO_GAP_pred'].values\n",
    "\n",
    "corr_matrix_alcohol_R_sq_finger = numpy.corrcoef(dft_alcohol_actual, dft_alcohol_predict)\n",
    "corr_alcohol_R_sq_finger = corr_matrix_alcohol_R_sq_finger[0,1]\n",
    "dft_alcohol_R_sq_finger = corr_alcohol_R_sq_finger**2\n",
    "\n",
    "## new Fingerprint split, graphconv, NN for alcohol\n",
    "\n",
    "mfile = '/home/jupyter/Models/select_qmugs_data_curated (2)_model_285356d8-0b65-4925-a8f6-ccb605d5136b.tar.gz'\n",
    "mpath = '/content'\n",
    "input_df = test_alcohol\n",
    "response_col = \"DFT_HOMO_LUMO_GAP,DFT_HOMO_LUMO_GAP\"\n",
    "compound_id = 'compound_id'\n",
    "smiles_col = \"rdkit_smiles\"\n",
    "results_df = pfm.predict_from_model_file(model_path = mfile, \n",
    "                            input_df = input_df, \n",
    "                            smiles_col = smiles_col, \n",
    "                            response_col = response_col)\n",
    "## DFT R2 for alcohol\n",
    "\n",
    "dft_alcohol_actual = results_df['DFT_HOMO_LUMO_GAP'].values\n",
    "dft_alcohol_predict = results_df['DFT_HOMO_LUMO_GAP_pred'].values\n",
    "\n",
    "corr_matrix_alcohol_R_sq_finger_new = numpy.corrcoef(dft_alcohol_actual, dft_alcohol_predict)\n",
    "corr_alcohol_R_sq_finger_new = corr_matrix_alcohol_R_sq_finger_new[0,1]\n",
    "dft_alcohol_R_sq_finger_new = corr_alcohol_R_sq_finger_new**2\n",
    "\n",
    "## Scaffold split, graphconv, NN\n",
    "\n",
    "mfile = '/home/jupyter/Models/select_qmugs_data_curated (2)_model_de56ee5b-6ad7-457a-884f-055bbe7257ad.tar.gz'\n",
    "mpath = '/content'\n",
    "input_df = test_alcohol\n",
    "response_col = \"DFT_HOMO_LUMO_GAP,DFT_HOMO_LUMO_GAP\"\n",
    "compound_id = 'compound_id'\n",
    "smiles_col = \"rdkit_smiles\"\n",
    "results_df = pfm.predict_from_model_file(model_path = mfile, \n",
    "                            input_df = input_df, \n",
    "                            smiles_col = smiles_col, \n",
    "                            response_col = response_col)\n",
    "\n",
    "## DFT R2 for alcohol\n",
    "\n",
    "dft_alcohol_actual = results_df['DFT_HOMO_LUMO_GAP'].values\n",
    "dft_alcohol_predict = results_df['DFT_HOMO_LUMO_GAP_pred'].values\n",
    "\n",
    "corr_matrix_alcohol_R_sq_scaffold = numpy.corrcoef(dft_alcohol_actual, dft_alcohol_predict)\n",
    "corr_alcohol_R_sq_scaffold = corr_matrix_alcohol_R_sq_scaffold[0,1]\n",
    "dft_alcohol_R_sq_scaffold = corr_alcohol_R_sq_scaffold**2\n",
    "\n",
    "## new Scaffold split, graphconv, NN\n",
    "\n",
    "mfile = '/home/jupyter/Models/select_qmugs_data_curated (2)_model_5e947e95-3ae9-47df-a2ac-9d29066acc3c.tar.gz'\n",
    "mpath = '/content'\n",
    "input_df = test_alcohol\n",
    "response_col = \"DFT_HOMO_LUMO_GAP,DFT_HOMO_LUMO_GAP\"\n",
    "compound_id = 'compound_id'\n",
    "smiles_col = \"rdkit_smiles\"\n",
    "results_df = pfm.predict_from_model_file(model_path = mfile, \n",
    "                            input_df = input_df, \n",
    "                            smiles_col = smiles_col, \n",
    "                            response_col = response_col)\n",
    "\n",
    "## new DFT R2 for alcohol\n",
    "\n",
    "dft_alcohol_actual = results_df['DFT_HOMO_LUMO_GAP'].values\n",
    "dft_alcohol_predict = results_df['DFT_HOMO_LUMO_GAP_pred'].values\n",
    "\n",
    "corr_matrix_alcohol_R_sq_scaffold_new = numpy.corrcoef(dft_alcohol_actual, dft_alcohol_predict)\n",
    "corr_alcohol_R_sq_scaffold_new = corr_matrix_alcohol_R_sq_scaffold_new[0,1]\n",
    "dft_alcohol_R_sq_scaffold_new = corr_alcohol_R_sq_scaffold_new**2\n",
    "\n",
    "from IPython.display import HTML, display\n",
    "alcohol_result = {\n",
    "    \"Model\": [\"random split\", \"random split with ECFP\",\n",
    "              \"fingerprint\", \"fingerprint with ECFP\",\n",
    "              \"scaffold\", \"scaffold with ECFP\"],\n",
    "    \"Result\": [dft_alcohol_R_sq_randsplit, dft_alcohol_R_sq_randsplit_new,\n",
    "               dft_alcohol_R_sq_finger, dft_alcohol_R_sq_finger_new,\n",
    "               dft_alcohol_R_sq_scaffold, dft_alcohol_R_sq_scaffold_new]\n",
    "}\n",
    "\n",
    "result_df_alcohol = pd.DataFrame(alcohol_result)\n",
    "result_df_alcohol.columns = ['Model', 'Tested R squared value']\n",
    "\n",
    "# Adjusting the index to start at 1\n",
    "result_df_alcohol.index = range(1, len(result_df_alcohol) + 1)\n",
    "\n",
    "# Convert DataFrame to HTML and add custom styling\n",
    "result_df_alcohol_pre = result_df_alcohol.style.set_table_styles(\n",
    "    [\n",
    "        # Styles for the table headers\n",
    "        {'selector': 'th', \n",
    "         'props': [('background-color', 'orange'), \n",
    "                   ('color', 'black'),\n",
    "                   ('font-family', 'Arial'), \n",
    "                   ('text-align', 'center')]},\n",
    "\n",
    "        {'selector': '.col0', \n",
    "         'props': [('text-align', 'left')]},\n",
    "\n",
    "        # Styles for the 'Tested R_squared value' column\n",
    "        {'selector': '.col1', \n",
    "         'props': [('text-align', 'center')]},\n",
    "\n",
    "        # Styles for the caption\n",
    "        {'selector': 'caption', \n",
    "         'props': [('caption-side', 'top'),\n",
    "                   ('font-size', '1.2em'), \n",
    "                   ('font-weight', 'bold'), \n",
    "                   ('color', 'black'), \n",
    "                   ('font-family', 'Arial'), \n",
    "                   ('text-align', 'center')]}\n",
    "    ]\n",
    ").set_caption(\"Alcohol\").render()\n",
    "\n",
    "result_df_alcohol.to_csv('result_df_alcohol.csv', index=False)\n",
    "\n",
    "display(HTML(result_df_alcohol_pre))\n",
    "\n"
   ]
  },
  {
   "cell_type": "code",
   "execution_count": null,
   "id": "ace6ca56-0782-4c25-8f0a-6adf340b2cfc",
   "metadata": {},
   "outputs": [],
   "source": []
  }
 ],
 "metadata": {
  "environment": {
   "kernel": "atomsci",
   "name": "common-gpu.m111",
   "type": "gcloud",
   "uri": "gcr.io/deeplearning-platform-release/base-gpu:m111"
  },
  "kernelspec": {
   "display_name": "atomsci",
   "language": "python",
   "name": "atomsci"
  },
  "language_info": {
   "codemirror_mode": {
    "name": "ipython",
    "version": 3
   },
   "file_extension": ".py",
   "mimetype": "text/x-python",
   "name": "python",
   "nbconvert_exporter": "python",
   "pygments_lexer": "ipython3",
   "version": "3.8.2"
  }
 },
 "nbformat": 4,
 "nbformat_minor": 5
}
