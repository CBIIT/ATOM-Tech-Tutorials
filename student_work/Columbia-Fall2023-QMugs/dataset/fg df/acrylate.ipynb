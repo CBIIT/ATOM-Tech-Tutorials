{
 "cells": [
  {
   "cell_type": "code",
   "execution_count": 3,
   "id": "f38c5567-df8f-45ed-84fb-d53ecb5ebe38",
   "metadata": {},
   "outputs": [],
   "source": [
    "import matplotlib.pyplot as plt\n",
    "import seaborn as sns\n",
    "import numpy as numpy\n",
    "sns.set_context(\"poster\")\n",
    "sns.set_style(\"whitegrid\")\n",
    "sns.set_palette(\"Set2\")\n",
    "\n",
    "import pandas as pd\n",
    "import os, json, sys, glob, pickle\n",
    "\n",
    "from atomsci.ddm.pipeline import parameter_parser as parse\n",
    "from atomsci.ddm.pipeline import perf_data\n",
    "from atomsci.ddm.pipeline import model_pipeline as mp\n",
    "import atomsci.ddm.utils.curate_data as curate_data\n",
    "import atomsci.ddm.utils.struct_utils as struct_utils\n",
    "from atomsci.ddm.pipeline import perf_plots as pp"
   ]
  },
  {
   "cell_type": "code",
   "execution_count": 4,
   "id": "572bfd26-5389-42ba-8c03-29a2ccc2bfe0",
   "metadata": {},
   "outputs": [
    {
     "name": "stdout",
     "output_type": "stream",
     "text": [
      "Standardizing SMILES strings for 6760 compounds.\n"
     ]
    },
    {
     "name": "stderr",
     "output_type": "stream",
     "text": [
      "2023-12-05 00:43:09,555 /home/jupyter/Models/select_qmugs_data_curated (2)_model_d45eab0f-3f53-4036-a3e5-0a0217a52e23.tar.gz, 1.5.1\n",
      "2023-12-05 00:43:09,562 Version compatible check: /home/jupyter/Models/select_qmugs_data_curated (2)_model_d45eab0f-3f53-4036-a3e5-0a0217a52e23.tar.gz version = \"1.5\", AMPL version = \"1.5\"\n",
      "2023-12-05 00:43:20,195 ['ampl_version', 'time_generated', 'best_epoch', 'time_built', 'dataset_hash', 'dataset_metadata', 'training_metrics'] are not part of the accepted list of parameters and will be ignored\n",
      "2023-12-05 00:43:20,818 Featurization = DynamicFeaturization with graphconv features\n"
     ]
    },
    {
     "name": "stdout",
     "output_type": "stream",
     "text": [
      "num_model_tasks is deprecated and its value is ignored.\n",
      "Standardizing SMILES strings for 6760 compounds.\n"
     ]
    },
    {
     "name": "stderr",
     "output_type": "stream",
     "text": [
      "2023-12-05 00:54:22,669 /home/jupyter/Models/select_qmugs_data_curated (2)_model_1271d6b8-ee81-474e-acc2-dd73fbc3f4ae.tar.gz, 1.5.1\n",
      "2023-12-05 00:54:22,673 Version compatible check: /home/jupyter/Models/select_qmugs_data_curated (2)_model_1271d6b8-ee81-474e-acc2-dd73fbc3f4ae.tar.gz version = \"1.5\", AMPL version = \"1.5\"\n"
     ]
    },
    {
     "name": "stdout",
     "output_type": "stream",
     "text": [
      "num_model_tasks is deprecated and its value is ignored.\n",
      "['/var/tmp/tmp5gx8ak88/best_model/checkpoint1.pt']\n",
      "/var/tmp/tmp5gx8ak88/best_model/checkpoint1.pt\n",
      "Standardizing SMILES strings for 6760 compounds.\n"
     ]
    },
    {
     "name": "stderr",
     "output_type": "stream",
     "text": [
      "2023-12-05 00:59:10,734 /home/jupyter/Models/select_qmugs_data_curated (2)_model_4e942a08-e9d6-4ac9-bfb4-277e0518ee2d.tar.gz, 1.5.1\n",
      "2023-12-05 00:59:10,741 Version compatible check: /home/jupyter/Models/select_qmugs_data_curated (2)_model_4e942a08-e9d6-4ac9-bfb4-277e0518ee2d.tar.gz version = \"1.5\", AMPL version = \"1.5\"\n"
     ]
    },
    {
     "name": "stdout",
     "output_type": "stream",
     "text": [
      "num_model_tasks is deprecated and its value is ignored.\n",
      "Standardizing SMILES strings for 6760 compounds.\n"
     ]
    },
    {
     "name": "stderr",
     "output_type": "stream",
     "text": [
      "2023-12-05 01:01:16,403 /home/jupyter/Models/select_qmugs_data_curated (2)_model_285356d8-0b65-4925-a8f6-ccb605d5136b.tar.gz, 1.5.1\n",
      "2023-12-05 01:01:16,410 Version compatible check: /home/jupyter/Models/select_qmugs_data_curated (2)_model_285356d8-0b65-4925-a8f6-ccb605d5136b.tar.gz version = \"1.5\", AMPL version = \"1.5\"\n"
     ]
    },
    {
     "name": "stdout",
     "output_type": "stream",
     "text": [
      "num_model_tasks is deprecated and its value is ignored.\n",
      "['/var/tmp/tmpty177sd9/best_model/checkpoint1.pt']\n",
      "/var/tmp/tmpty177sd9/best_model/checkpoint1.pt\n",
      "Standardizing SMILES strings for 6760 compounds.\n"
     ]
    },
    {
     "name": "stderr",
     "output_type": "stream",
     "text": [
      "2023-12-05 01:02:12,295 /home/jupyter/Models/select_qmugs_data_curated (2)_model_de56ee5b-6ad7-457a-884f-055bbe7257ad.tar.gz, 1.5.1\n",
      "2023-12-05 01:02:12,299 Version compatible check: /home/jupyter/Models/select_qmugs_data_curated (2)_model_de56ee5b-6ad7-457a-884f-055bbe7257ad.tar.gz version = \"1.5\", AMPL version = \"1.5\"\n"
     ]
    },
    {
     "name": "stdout",
     "output_type": "stream",
     "text": [
      "num_model_tasks is deprecated and its value is ignored.\n",
      "Standardizing SMILES strings for 6760 compounds.\n"
     ]
    },
    {
     "name": "stderr",
     "output_type": "stream",
     "text": [
      "2023-12-05 01:03:54,463 /home/jupyter/Models/select_qmugs_data_curated (2)_model_5e947e95-3ae9-47df-a2ac-9d29066acc3c.tar.gz, 1.5.1\n",
      "2023-12-05 01:03:54,468 Version compatible check: /home/jupyter/Models/select_qmugs_data_curated (2)_model_5e947e95-3ae9-47df-a2ac-9d29066acc3c.tar.gz version = \"1.5\", AMPL version = \"1.5\"\n"
     ]
    },
    {
     "name": "stdout",
     "output_type": "stream",
     "text": [
      "num_model_tasks is deprecated and its value is ignored.\n",
      "['/var/tmp/tmpyy1xvz8y/best_model/checkpoint1.pt']\n",
      "/var/tmp/tmpyy1xvz8y/best_model/checkpoint1.pt\n"
     ]
    },
    {
     "data": {
      "text/html": [
       "<style type=\"text/css\">\n",
       "#T_e4a93_ th {\n",
       "  background-color: lightgrey;\n",
       "  color: black;\n",
       "  font-family: Arial;\n",
       "  text-align: center;\n",
       "}\n",
       "#T_e4a93_ .col0 {\n",
       "  text-align: left;\n",
       "}\n",
       "#T_e4a93_ .col1 {\n",
       "  text-align: center;\n",
       "}\n",
       "#T_e4a93_ caption {\n",
       "  caption-side: top;\n",
       "  font-size: 1.2em;\n",
       "  font-weight: bold;\n",
       "  color: black;\n",
       "  font-family: Arial;\n",
       "  text-align: center;\n",
       "}\n",
       "</style>\n",
       "<table id=\"T_e4a93_\">\n",
       "  <caption>Acrylate</caption>\n",
       "  <thead>\n",
       "    <tr>\n",
       "      <th class=\"blank level0\" >&nbsp;</th>\n",
       "      <th class=\"col_heading level0 col0\" >Model</th>\n",
       "      <th class=\"col_heading level0 col1\" >Tested R squared value</th>\n",
       "    </tr>\n",
       "  </thead>\n",
       "  <tbody>\n",
       "    <tr>\n",
       "      <th id=\"T_e4a93_level0_row0\" class=\"row_heading level0 row0\" >1</th>\n",
       "      <td id=\"T_e4a93_row0_col0\" class=\"data row0 col0\" >random split</td>\n",
       "      <td id=\"T_e4a93_row0_col1\" class=\"data row0 col1\" >0.943133</td>\n",
       "    </tr>\n",
       "    <tr>\n",
       "      <th id=\"T_e4a93_level0_row1\" class=\"row_heading level0 row1\" >2</th>\n",
       "      <td id=\"T_e4a93_row1_col0\" class=\"data row1 col0\" >random split with ECFP</td>\n",
       "      <td id=\"T_e4a93_row1_col1\" class=\"data row1 col1\" >0.828233</td>\n",
       "    </tr>\n",
       "    <tr>\n",
       "      <th id=\"T_e4a93_level0_row2\" class=\"row_heading level0 row2\" >3</th>\n",
       "      <td id=\"T_e4a93_row2_col0\" class=\"data row2 col0\" >fingerprint</td>\n",
       "      <td id=\"T_e4a93_row2_col1\" class=\"data row2 col1\" >0.879586</td>\n",
       "    </tr>\n",
       "    <tr>\n",
       "      <th id=\"T_e4a93_level0_row3\" class=\"row_heading level0 row3\" >4</th>\n",
       "      <td id=\"T_e4a93_row3_col0\" class=\"data row3 col0\" >fingerprint with ECFP</td>\n",
       "      <td id=\"T_e4a93_row3_col1\" class=\"data row3 col1\" >0.534854</td>\n",
       "    </tr>\n",
       "    <tr>\n",
       "      <th id=\"T_e4a93_level0_row4\" class=\"row_heading level0 row4\" >5</th>\n",
       "      <td id=\"T_e4a93_row4_col0\" class=\"data row4 col0\" >scaffold</td>\n",
       "      <td id=\"T_e4a93_row4_col1\" class=\"data row4 col1\" >0.923150</td>\n",
       "    </tr>\n",
       "    <tr>\n",
       "      <th id=\"T_e4a93_level0_row5\" class=\"row_heading level0 row5\" >6</th>\n",
       "      <td id=\"T_e4a93_row5_col0\" class=\"data row5 col0\" >scaffold with ECFP</td>\n",
       "      <td id=\"T_e4a93_row5_col1\" class=\"data row5 col1\" >0.803102</td>\n",
       "    </tr>\n",
       "  </tbody>\n",
       "</table>\n"
      ],
      "text/plain": [
       "<IPython.core.display.HTML object>"
      ]
     },
     "metadata": {},
     "output_type": "display_data"
    }
   ],
   "source": [
    "from atomsci.ddm.pipeline import predict_from_model as pfm\n",
    "\n",
    "# Load acrylate dataset\n",
    "test_acrylate = pd.read_csv('acrylate_df.csv')\n",
    "\n",
    "# Random split, graphconv, NN for acrylate\n",
    "mfile = '/home/jupyter/Models/select_qmugs_data_curated (2)_model_d45eab0f-3f53-4036-a3e5-0a0217a52e23.tar.gz'\n",
    "input_df = test_acrylate\n",
    "response_col = \"DFT_HOMO_LUMO_GAP,DFT_HOMO_LUMO_GAP\"\n",
    "smiles_col = \"rdkit_smiles\"\n",
    "results_df = pfm.predict_from_model_file(model_path=mfile, \n",
    "                                        input_df=input_df, \n",
    "                                        smiles_col=smiles_col, \n",
    "                                        response_col=response_col)\n",
    "\n",
    "# DFT R2 for acrylate\n",
    "dft_acrylate_actual = results_df['DFT_HOMO_LUMO_GAP'].values\n",
    "dft_acrylate_predict = results_df['DFT_HOMO_LUMO_GAP_pred'].values\n",
    "\n",
    "corr_matrix_acrylate_R_sq_randsplit = numpy.corrcoef(dft_acrylate_actual, dft_acrylate_predict)\n",
    "corr_acrylate_R_sq_randsplit = corr_matrix_acrylate_R_sq_randsplit[0, 1]\n",
    "dft_acrylate_R_sq_randsplit = corr_acrylate_R_sq_randsplit ** 2\n",
    "\n",
    "# New Random split, graphconv, NN for acrylate with ECFP\n",
    "mfile = '/home/jupyter/Models/select_qmugs_data_curated (2)_model_1271d6b8-ee81-474e-acc2-dd73fbc3f4ae.tar.gz'\n",
    "input_df = test_acrylate\n",
    "results_df = pfm.predict_from_model_file(model_path=mfile, \n",
    "                                        input_df=input_df, \n",
    "                                        smiles_col=smiles_col, \n",
    "                                        response_col=response_col)\n",
    "\n",
    "# New DFT R2 for acrylate\n",
    "dft_acrylate_actual = results_df['DFT_HOMO_LUMO_GAP'].values\n",
    "dft_acrylate_predict = results_df['DFT_HOMO_LUMO_GAP_pred'].values\n",
    "\n",
    "corr_matrix_acrylate_R_sq_randsplit_new = numpy.corrcoef(dft_acrylate_actual, dft_acrylate_predict)\n",
    "corr_acrylate_R_sq_randsplit_new = corr_matrix_acrylate_R_sq_randsplit_new[0, 1]\n",
    "dft_acrylate_R_sq_randsplit_new = corr_acrylate_R_sq_randsplit_new ** 2\n",
    "\n",
    "# Fingerprint split, graphconv, NN for acrylate\n",
    "mfile = '/home/jupyter/Models/select_qmugs_data_curated (2)_model_4e942a08-e9d6-4ac9-bfb4-277e0518ee2d.tar.gz'\n",
    "input_df = test_acrylate\n",
    "results_df = pfm.predict_from_model_file(model_path=mfile, \n",
    "                                        input_df=input_df, \n",
    "                                        smiles_col=smiles_col, \n",
    "                                        response_col=response_col)\n",
    "\n",
    "# DFT R2 for acrylate\n",
    "dft_acrylate_actual = results_df['DFT_HOMO_LUMO_GAP'].values\n",
    "dft_acrylate_predict = results_df['DFT_HOMO_LUMO_GAP_pred'].values\n",
    "\n",
    "corr_matrix_acrylate_R_sq_finger = numpy.corrcoef(dft_acrylate_actual, dft_acrylate_predict)\n",
    "corr_acrylate_R_sq_finger = corr_matrix_acrylate_R_sq_finger[0, 1]\n",
    "dft_acrylate_R_sq_finger = corr_acrylate_R_sq_finger ** 2\n",
    "\n",
    "# New Fingerprint split, graphconv, NN for acrylate\n",
    "mfile = '/home/jupyter/Models/select_qmugs_data_curated (2)_model_285356d8-0b65-4925-a8f6-ccb605d5136b.tar.gz'\n",
    "input_df = test_acrylate\n",
    "results_df = pfm.predict_from_model_file(model_path=mfile, \n",
    "                                        input_df=input_df, \n",
    "                                        smiles_col=smiles_col, \n",
    "                                        response_col=response_col)\n",
    "\n",
    "# New DFT R2 for acrylate\n",
    "dft_acrylate_actual = results_df['DFT_HOMO_LUMO_GAP'].values\n",
    "dft_acrylate_predict = results_df['DFT_HOMO_LUMO_GAP_pred'].values\n",
    "\n",
    "corr_matrix_acrylate_R_sq_finger_new = numpy.corrcoef(dft_acrylate_actual, dft_acrylate_predict)\n",
    "corr_acrylate_R_sq_finger_new = corr_matrix_acrylate_R_sq_finger_new[0, 1]\n",
    "dft_acrylate_R_sq_finger_new = corr_acrylate_R_sq_finger_new ** 2\n",
    "\n",
    "# Scaffold split, graphconv, NN for acrylate\n",
    "mfile = '/home/jupyter/Models/select_qmugs_data_curated (2)_model_de56ee5b-6ad7-457a-884f-055bbe7257ad.tar.gz'\n",
    "input_df = test_acrylate\n",
    "results_df = pfm.predict_from_model_file(model_path=mfile, \n",
    "                                        input_df=input_df, \n",
    "                                        smiles_col=smiles_col, \n",
    "                                        response_col=response_col)\n",
    "\n",
    "# DFT R2 for acrylate\n",
    "dft_acrylate_actual = results_df['DFT_HOMO_LUMO_GAP'].values\n",
    "dft_acrylate_predict = results_df['DFT_HOMO_LUMO_GAP_pred'].values\n",
    "\n",
    "corr_matrix_acrylate_R_sq_scaffold = numpy.corrcoef(dft_acrylate_actual, dft_acrylate_predict)\n",
    "corr_acrylate_R_sq_scaffold = corr_matrix_acrylate_R_sq_scaffold[0, 1]\n",
    "dft_acrylate_R_sq_scaffold = corr_acrylate_R_sq_scaffold ** 2\n",
    "\n",
    "# New Scaffold split, graphconv, NN for acrylate\n",
    "mfile = '/home/jupyter/Models/select_qmugs_data_curated (2)_model_5e947e95-3ae9-47df-a2ac-9d29066acc3c.tar.gz'\n",
    "input_df = test_acrylate\n",
    "results_df = pfm.predict_from_model_file(model_path=mfile, \n",
    "                                        input_df=input_df, \n",
    "                                        smiles_col=smiles_col, \n",
    "                                        response_col=response_col)\n",
    "\n",
    "# New DFT R2 for acrylate\n",
    "dft_acrylate_actual = results_df['DFT_HOMO_LUMO_GAP'].values\n",
    "dft_acrylate_predict = results_df['DFT_HOMO_LUMO_GAP_pred'].values\n",
    "\n",
    "corr_matrix_acrylate_R_sq_scaffold_new = numpy.corrcoef(dft_acrylate_actual, dft_acrylate_predict)\n",
    "corr_acrylate_R_sq_scaffold_new = corr_matrix_acrylate_R_sq_scaffold_new[0, 1]\n",
    "dft_acrylate_R_sq_scaffold_new = corr_acrylate_R_sq_scaffold_new ** 2\n",
    "\n",
    "from IPython.display import HTML, display\n",
    "\n",
    "# Results for acrylate\n",
    "acrylate_result = {\n",
    "    \"Model\": [\"random split\", \"random split with ECFP\",\n",
    "              \"fingerprint\", \"fingerprint with ECFP\",\n",
    "              \"scaffold\", \"scaffold with ECFP\"],\n",
    "    \"Result\": [dft_acrylate_R_sq_randsplit, dft_acrylate_R_sq_randsplit_new,\n",
    "               dft_acrylate_R_sq_finger, dft_acrylate_R_sq_finger_new,\n",
    "               dft_acrylate_R_sq_scaffold, dft_acrylate_R_sq_scaffold_new]\n",
    "}\n",
    "\n",
    "result_df_acrylate = pd.DataFrame(acrylate_result)\n",
    "result_df_acrylate.columns = ['Model', 'Tested R squared value']\n",
    "\n",
    "# Adjusting the index to start at 1\n",
    "result_df_acrylate.index = range(1, len(result_df_acrylate) + 1)\n",
    "\n",
    "# Convert DataFrame to HTML and add custom styling\n",
    "result_df_acrylate_pre = result_df_acrylate.style.set_table_styles(\n",
    "    [\n",
    "        # Styles for the table headers\n",
    "        {'selector': 'th', \n",
    "         'props': [('background-color', 'lightgrey'), \n",
    "                   ('color', 'black'),\n",
    "                   ('font-family', 'Arial'), \n",
    "                   ('text-align', 'center')]},\n",
    "\n",
    "        {'selector': '.col0', \n",
    "         'props': [('text-align', 'left')]},\n",
    "\n",
    "        # Styles for the 'Tested R_squared value' column\n",
    "        {'selector': '.col1', \n",
    "         'props': [('text-align', 'center')]},\n",
    "\n",
    "        # Styles for the caption\n",
    "        {'selector': 'caption', \n",
    "         'props': [('caption-side', 'top'),\n",
    "                   ('font-size', '1.2em'), \n",
    "                   ('font-weight', 'bold'), \n",
    "                   ('color', 'black'), \n",
    "                   ('font-family', 'Arial'), \n",
    "                   ('text-align', 'center')]}\n",
    "    ]\n",
    ").set_caption(\"Acrylate\").render()\n",
    "\n",
    "result_df_acrylate.to_csv('result_df_acrylate.csv', index=False)\n",
    "\n",
    "display(HTML(result_df_acrylate_pre))\n"
   ]
  },
  {
   "cell_type": "code",
   "execution_count": null,
   "id": "a1d6e2aa-8d6a-4a64-82d5-4fafbf91646d",
   "metadata": {},
   "outputs": [],
   "source": []
  }
 ],
 "metadata": {
  "environment": {
   "kernel": "atomsci",
   "name": "common-gpu.m111",
   "type": "gcloud",
   "uri": "gcr.io/deeplearning-platform-release/base-gpu:m111"
  },
  "kernelspec": {
   "display_name": "atomsci",
   "language": "python",
   "name": "atomsci"
  },
  "language_info": {
   "codemirror_mode": {
    "name": "ipython",
    "version": 3
   },
   "file_extension": ".py",
   "mimetype": "text/x-python",
   "name": "python",
   "nbconvert_exporter": "python",
   "pygments_lexer": "ipython3",
   "version": "3.8.2"
  }
 },
 "nbformat": 4,
 "nbformat_minor": 5
}
