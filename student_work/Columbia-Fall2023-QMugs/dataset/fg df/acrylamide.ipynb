{
 "cells": [
  {
   "cell_type": "code",
   "execution_count": 1,
   "id": "292812ff-1fec-462f-9e76-3666842926de",
   "metadata": {},
   "outputs": [
    {
     "name": "stderr",
     "output_type": "stream",
     "text": [
      "/home/jupyter/atomsci/lib/python3.8/site-packages/tqdm/auto.py:21: TqdmWarning: IProgress not found. Please update jupyter and ipywidgets. See https://ipywidgets.readthedocs.io/en/stable/user_install.html\n",
      "  from .autonotebook import tqdm as notebook_tqdm\n",
      "Skipped loading modules with pytorch-geometric dependency, missing a dependency. No module named 'torch_geometric'\n",
      "Skipped loading modules with pytorch-geometric dependency, missing a dependency. cannot import name 'DMPNN' from 'deepchem.models.torch_models' (/home/jupyter/atomsci/lib/python3.8/site-packages/deepchem/models/torch_models/__init__.py)\n",
      "Skipped loading modules with pytorch-lightning dependency, missing a dependency. No module named 'pytorch_lightning'\n",
      "Skipped loading some Jax models, missing a dependency. jax requires jaxlib to be installed. See https://github.com/google/jax#installation for installation instructions.\n",
      "2023-12-05 02:54:17,781 Model tracker client not supported in your environment; will save models in filesystem only.\n"
     ]
    }
   ],
   "source": [
    "import matplotlib.pyplot as plt\n",
    "import seaborn as sns\n",
    "import numpy as numpy\n",
    "sns.set_context(\"poster\")\n",
    "sns.set_style(\"whitegrid\")\n",
    "sns.set_palette(\"Set2\")\n",
    "\n",
    "import pandas as pd\n",
    "import os, json, sys, glob, pickle\n",
    "\n",
    "from atomsci.ddm.pipeline import parameter_parser as parse\n",
    "from atomsci.ddm.pipeline import perf_data\n",
    "from atomsci.ddm.pipeline import model_pipeline as mp\n",
    "import atomsci.ddm.utils.curate_data as curate_data\n",
    "import atomsci.ddm.utils.struct_utils as struct_utils\n",
    "from atomsci.ddm.pipeline import perf_plots as pp"
   ]
  },
  {
   "cell_type": "code",
   "execution_count": 2,
   "id": "e3c01327-5625-43fd-91a7-f9fca90ddc5e",
   "metadata": {},
   "outputs": [
    {
     "name": "stdout",
     "output_type": "stream",
     "text": [
      "Standardizing SMILES strings for 14791 compounds.\n"
     ]
    },
    {
     "name": "stderr",
     "output_type": "stream",
     "text": [
      "2023-12-05 02:56:25,811 /home/jupyter/Models/select_qmugs_data_curated (2)_model_d45eab0f-3f53-4036-a3e5-0a0217a52e23.tar.gz, 1.5.1\n",
      "2023-12-05 02:56:25,823 Version compatible check: /home/jupyter/Models/select_qmugs_data_curated (2)_model_d45eab0f-3f53-4036-a3e5-0a0217a52e23.tar.gz version = \"1.5\", AMPL version = \"1.5\"\n",
      "2023-12-05 02:56:29,402 ['ampl_version', 'time_generated', 'best_epoch', 'time_built', 'dataset_hash', 'dataset_metadata', 'training_metrics'] are not part of the accepted list of parameters and will be ignored\n",
      "2023-12-05 02:56:29,590 Featurization = DynamicFeaturization with graphconv features\n"
     ]
    },
    {
     "name": "stdout",
     "output_type": "stream",
     "text": [
      "num_model_tasks is deprecated and its value is ignored.\n",
      "Standardizing SMILES strings for 14791 compounds.\n"
     ]
    },
    {
     "name": "stderr",
     "output_type": "stream",
     "text": [
      "2023-12-05 02:59:39,555 /home/jupyter/Models/select_qmugs_data_curated (2)_model_1271d6b8-ee81-474e-acc2-dd73fbc3f4ae.tar.gz, 1.5.1\n",
      "2023-12-05 02:59:39,558 Version compatible check: /home/jupyter/Models/select_qmugs_data_curated (2)_model_1271d6b8-ee81-474e-acc2-dd73fbc3f4ae.tar.gz version = \"1.5\", AMPL version = \"1.5\"\n"
     ]
    },
    {
     "name": "stdout",
     "output_type": "stream",
     "text": [
      "num_model_tasks is deprecated and its value is ignored.\n",
      "['/var/tmp/tmpkf4e0hw0/best_model/checkpoint1.pt']\n",
      "/var/tmp/tmpkf4e0hw0/best_model/checkpoint1.pt\n",
      "Standardizing SMILES strings for 14791 compounds.\n"
     ]
    },
    {
     "name": "stderr",
     "output_type": "stream",
     "text": [
      "2023-12-05 03:00:34,355 /home/jupyter/Models/select_qmugs_data_curated (2)_model_4e942a08-e9d6-4ac9-bfb4-277e0518ee2d.tar.gz, 1.5.1\n",
      "2023-12-05 03:00:34,360 Version compatible check: /home/jupyter/Models/select_qmugs_data_curated (2)_model_4e942a08-e9d6-4ac9-bfb4-277e0518ee2d.tar.gz version = \"1.5\", AMPL version = \"1.5\"\n"
     ]
    },
    {
     "name": "stdout",
     "output_type": "stream",
     "text": [
      "num_model_tasks is deprecated and its value is ignored.\n",
      "Standardizing SMILES strings for 14791 compounds.\n"
     ]
    },
    {
     "name": "stderr",
     "output_type": "stream",
     "text": [
      "2023-12-05 03:01:56,302 /home/jupyter/Models/select_qmugs_data_curated (2)_model_285356d8-0b65-4925-a8f6-ccb605d5136b.tar.gz, 1.5.1\n",
      "2023-12-05 03:01:56,306 Version compatible check: /home/jupyter/Models/select_qmugs_data_curated (2)_model_285356d8-0b65-4925-a8f6-ccb605d5136b.tar.gz version = \"1.5\", AMPL version = \"1.5\"\n"
     ]
    },
    {
     "name": "stdout",
     "output_type": "stream",
     "text": [
      "num_model_tasks is deprecated and its value is ignored.\n",
      "['/var/tmp/tmptuiiw0wa/best_model/checkpoint1.pt']\n",
      "/var/tmp/tmptuiiw0wa/best_model/checkpoint1.pt\n",
      "Standardizing SMILES strings for 14791 compounds.\n"
     ]
    },
    {
     "name": "stderr",
     "output_type": "stream",
     "text": [
      "2023-12-05 03:02:50,064 /home/jupyter/Models/select_qmugs_data_curated (2)_model_de56ee5b-6ad7-457a-884f-055bbe7257ad.tar.gz, 1.5.1\n",
      "2023-12-05 03:02:50,067 Version compatible check: /home/jupyter/Models/select_qmugs_data_curated (2)_model_de56ee5b-6ad7-457a-884f-055bbe7257ad.tar.gz version = \"1.5\", AMPL version = \"1.5\"\n"
     ]
    },
    {
     "name": "stdout",
     "output_type": "stream",
     "text": [
      "num_model_tasks is deprecated and its value is ignored.\n",
      "Standardizing SMILES strings for 14791 compounds.\n"
     ]
    },
    {
     "name": "stderr",
     "output_type": "stream",
     "text": [
      "2023-12-05 03:04:12,814 /home/jupyter/Models/select_qmugs_data_curated (2)_model_5e947e95-3ae9-47df-a2ac-9d29066acc3c.tar.gz, 1.5.1\n",
      "2023-12-05 03:04:12,817 Version compatible check: /home/jupyter/Models/select_qmugs_data_curated (2)_model_5e947e95-3ae9-47df-a2ac-9d29066acc3c.tar.gz version = \"1.5\", AMPL version = \"1.5\"\n"
     ]
    },
    {
     "name": "stdout",
     "output_type": "stream",
     "text": [
      "num_model_tasks is deprecated and its value is ignored.\n",
      "['/var/tmp/tmphwqswwr0/best_model/checkpoint1.pt']\n",
      "/var/tmp/tmphwqswwr0/best_model/checkpoint1.pt\n"
     ]
    },
    {
     "data": {
      "text/html": [
       "<style type=\"text/css\">\n",
       "#T_9613c_ th {\n",
       "  background-color: lightbrown;\n",
       "  color: black;\n",
       "  font-family: Arial;\n",
       "  text-align: center;\n",
       "}\n",
       "#T_9613c_ .col0 {\n",
       "  text-align: left;\n",
       "}\n",
       "#T_9613c_ .col1 {\n",
       "  text-align: center;\n",
       "}\n",
       "#T_9613c_ caption {\n",
       "  caption-side: top;\n",
       "  font-size: 1.2em;\n",
       "  font-weight: bold;\n",
       "  color: black;\n",
       "  font-family: Arial;\n",
       "  text-align: center;\n",
       "}\n",
       "</style>\n",
       "<table id=\"T_9613c_\">\n",
       "  <caption>Acrylamide</caption>\n",
       "  <thead>\n",
       "    <tr>\n",
       "      <th class=\"blank level0\" >&nbsp;</th>\n",
       "      <th class=\"col_heading level0 col0\" >Model</th>\n",
       "      <th class=\"col_heading level0 col1\" >Tested R squared value</th>\n",
       "    </tr>\n",
       "  </thead>\n",
       "  <tbody>\n",
       "    <tr>\n",
       "      <th id=\"T_9613c_level0_row0\" class=\"row_heading level0 row0\" >1</th>\n",
       "      <td id=\"T_9613c_row0_col0\" class=\"data row0 col0\" >random split</td>\n",
       "      <td id=\"T_9613c_row0_col1\" class=\"data row0 col1\" >0.934352</td>\n",
       "    </tr>\n",
       "    <tr>\n",
       "      <th id=\"T_9613c_level0_row1\" class=\"row_heading level0 row1\" >2</th>\n",
       "      <td id=\"T_9613c_row1_col0\" class=\"data row1 col0\" >random split with ECFP</td>\n",
       "      <td id=\"T_9613c_row1_col1\" class=\"data row1 col1\" >0.833219</td>\n",
       "    </tr>\n",
       "    <tr>\n",
       "      <th id=\"T_9613c_level0_row2\" class=\"row_heading level0 row2\" >3</th>\n",
       "      <td id=\"T_9613c_row2_col0\" class=\"data row2 col0\" >fingerprint</td>\n",
       "      <td id=\"T_9613c_row2_col1\" class=\"data row2 col1\" >0.917892</td>\n",
       "    </tr>\n",
       "    <tr>\n",
       "      <th id=\"T_9613c_level0_row3\" class=\"row_heading level0 row3\" >4</th>\n",
       "      <td id=\"T_9613c_row3_col0\" class=\"data row3 col0\" >fingerprint with ECFP</td>\n",
       "      <td id=\"T_9613c_row3_col1\" class=\"data row3 col1\" >0.772657</td>\n",
       "    </tr>\n",
       "    <tr>\n",
       "      <th id=\"T_9613c_level0_row4\" class=\"row_heading level0 row4\" >5</th>\n",
       "      <td id=\"T_9613c_row4_col0\" class=\"data row4 col0\" >scaffold</td>\n",
       "      <td id=\"T_9613c_row4_col1\" class=\"data row4 col1\" >0.914216</td>\n",
       "    </tr>\n",
       "    <tr>\n",
       "      <th id=\"T_9613c_level0_row5\" class=\"row_heading level0 row5\" >6</th>\n",
       "      <td id=\"T_9613c_row5_col0\" class=\"data row5 col0\" >scaffold with ECFP</td>\n",
       "      <td id=\"T_9613c_row5_col1\" class=\"data row5 col1\" >0.812083</td>\n",
       "    </tr>\n",
       "  </tbody>\n",
       "</table>\n"
      ],
      "text/plain": [
       "<IPython.core.display.HTML object>"
      ]
     },
     "metadata": {},
     "output_type": "display_data"
    }
   ],
   "source": [
    "from atomsci.ddm.pipeline import predict_from_model as pfm\n",
    "import pandas as pd\n",
    "import numpy\n",
    "\n",
    "test_acrylamide = pd.read_csv('acrylamide_df.csv')\n",
    "\n",
    "## Random split, graphconv, NN for acrylamide\n",
    "\n",
    "mfile = '/home/jupyter/Models/select_qmugs_data_curated (2)_model_d45eab0f-3f53-4036-a3e5-0a0217a52e23.tar.gz'\n",
    "mpath = '/content'\n",
    "input_df = test_acrylamide\n",
    "response_col = \"DFT_HOMO_LUMO_GAP,DFT_HOMO_LUMO_GAP\"\n",
    "compound_id = 'compound_id'\n",
    "smiles_col = \"rdkit_smiles\"\n",
    "results_df = pfm.predict_from_model_file(model_path=mfile,\n",
    "                                         input_df=input_df,\n",
    "                                         smiles_col=smiles_col,\n",
    "                                         response_col=response_col)\n",
    "\n",
    "## DFT R2 for acrylamide\n",
    "\n",
    "dft_acrylamide_actual = results_df['DFT_HOMO_LUMO_GAP'].values\n",
    "dft_acrylamide_predict = results_df['DFT_HOMO_LUMO_GAP_pred'].values\n",
    "\n",
    "corr_matrix_acrylamide_R_sq_randsplit = numpy.corrcoef(dft_acrylamide_actual, dft_acrylamide_predict)\n",
    "corr_acrylamide_R_sq_randsplit = corr_matrix_acrylamide_R_sq_randsplit[0, 1]\n",
    "dft_acrylamide_R_sq_randsplit = corr_acrylamide_R_sq_randsplit**2\n",
    "\n",
    "## new Random split, graphconv, NN for acrylamide with ECFP\n",
    "\n",
    "mfile = '/home/jupyter/Models/select_qmugs_data_curated (2)_model_1271d6b8-ee81-474e-acc2-dd73fbc3f4ae.tar.gz'\n",
    "mpath = '/content'\n",
    "input_df = test_acrylamide\n",
    "response_col = \"DFT_HOMO_LUMO_GAP,DFT_HOMO_LUMO_GAP\"\n",
    "compound_id = 'compound_id'\n",
    "smiles_col = \"rdkit_smiles\"\n",
    "results_df = pfm.predict_from_model_file(model_path=mfile,\n",
    "                                         input_df=input_df,\n",
    "                                         smiles_col=smiles_col,\n",
    "                                         response_col=response_col)\n",
    "## DFT R2 for acrylamide\n",
    "\n",
    "dft_acrylamide_actual = results_df['DFT_HOMO_LUMO_GAP'].values\n",
    "dft_acrylamide_predict = results_df['DFT_HOMO_LUMO_GAP_pred'].values\n",
    "\n",
    "corr_matrix_acrylamide_R_sq_randsplit_new = numpy.corrcoef(dft_acrylamide_actual, dft_acrylamide_predict)\n",
    "corr_acrylamide_R_sq_randsplit_new = corr_matrix_acrylamide_R_sq_randsplit_new[0, 1]\n",
    "dft_acrylamide_R_sq_randsplit_new = corr_acrylamide_R_sq_randsplit_new**2\n",
    "\n",
    "## Fingerprint split, graphconv, NN for acrylamide\n",
    "\n",
    "mfile = '/home/jupyter/Models/select_qmugs_data_curated (2)_model_4e942a08-e9d6-4ac9-bfb4-277e0518ee2d.tar.gz'\n",
    "mpath = '/content'\n",
    "input_df = test_acrylamide\n",
    "response_col = \"DFT_HOMO_LUMO_GAP,DFT_HOMO_LUMO_GAP\"\n",
    "compound_id = 'compound_id'\n",
    "smiles_col = \"rdkit_smiles\"\n",
    "results_df = pfm.predict_from_model_file(model_path=mfile,\n",
    "                                         input_df=input_df,\n",
    "                                         smiles_col=smiles_col,\n",
    "                                         response_col=response_col)\n",
    "\n",
    "## DFT R2 for acrylamide\n",
    "\n",
    "dft_acrylamide_actual = results_df['DFT_HOMO_LUMO_GAP'].values\n",
    "dft_acrylamide_predict = results_df['DFT_HOMO_LUMO_GAP_pred'].values\n",
    "\n",
    "corr_matrix_acrylamide_R_sq_finger = numpy.corrcoef(dft_acrylamide_actual, dft_acrylamide_predict)\n",
    "corr_acrylamide_R_sq_finger = corr_matrix_acrylamide_R_sq_finger[0, 1]\n",
    "dft_acrylamide_R_sq_finger = corr_acrylamide_R_sq_finger**2\n",
    "\n",
    "## new Fingerprint split, graphconv, NN for acrylamide\n",
    "\n",
    "mfile = '/home/jupyter/Models/select_qmugs_data_curated (2)_model_285356d8-0b65-4925-a8f6-ccb605d5136b.tar.gz'\n",
    "mpath = '/content'\n",
    "input_df = test_acrylamide\n",
    "response_col = \"DFT_HOMO_LUMO_GAP,DFT_HOMO_LUMO_GAP\"\n",
    "compound_id = 'compound_id'\n",
    "smiles_col = \"rdkit_smiles\"\n",
    "results_df = pfm.predict_from_model_file(model_path=mfile,\n",
    "                                         input_df=input_df,\n",
    "                                         smiles_col=smiles_col,\n",
    "                                         response_col=response_col)\n",
    "## DFT R2 for acrylamide\n",
    "\n",
    "dft_acrylamide_actual = results_df['DFT_HOMO_LUMO_GAP'].values\n",
    "dft_acrylamide_predict = results_df['DFT_HOMO_LUMO_GAP_pred'].values\n",
    "\n",
    "corr_matrix_acrylamide_R_sq_finger_new = numpy.corrcoef(dft_acrylamide_actual, dft_acrylamide_predict)\n",
    "corr_acrylamide_R_sq_finger_new = corr_matrix_acrylamide_R_sq_finger_new[0, 1]\n",
    "dft_acrylamide_R_sq_finger_new = corr_acrylamide_R_sq_finger_new**2\n",
    "\n",
    "## Scaffold split, graphconv, NN\n",
    "\n",
    "mfile = '/home/jupyter/Models/select_qmugs_data_curated (2)_model_de56ee5b-6ad7-457a-884f-055bbe7257ad.tar.gz'\n",
    "mpath = '/content'\n",
    "input_df = test_acrylamide\n",
    "response_col = \"DFT_HOMO_LUMO_GAP,DFT_HOMO_LUMO_GAP\"\n",
    "compound_id = 'compound_id'\n",
    "smiles_col = \"rdkit_smiles\"\n",
    "results_df = pfm.predict_from_model_file(model_path=mfile,\n",
    "                                         input_df=input_df,\n",
    "                                         smiles_col=smiles_col,\n",
    "                                         response_col=response_col)\n",
    "\n",
    "## DFT R2 for acrylamide\n",
    "\n",
    "dft_acrylamide_actual = results_df['DFT_HOMO_LUMO_GAP'].values\n",
    "dft_acrylamide_predict = results_df['DFT_HOMO_LUMO_GAP_pred'].values\n",
    "\n",
    "corr_matrix_acrylamide_R_sq_scaffold = numpy.corrcoef(dft_acrylamide_actual, dft_acrylamide_predict)\n",
    "corr_acrylamide_R_sq_scaffold = corr_matrix_acrylamide_R_sq_scaffold[0, 1]\n",
    "dft_acrylamide_R_sq_scaffold = corr_acrylamide_R_sq_scaffold**2\n",
    "\n",
    "## new Scaffold split, graphconv, NN\n",
    "\n",
    "mfile = '/home/jupyter/Models/select_qmugs_data_curated (2)_model_5e947e95-3ae9-47df-a2ac-9d29066acc3c.tar.gz'\n",
    "mpath = '/content'\n",
    "input_df = test_acrylamide\n",
    "response_col = \"DFT_HOMO_LUMO_GAP,DFT_HOMO_LUMO_GAP\"\n",
    "compound_id = 'compound_id'\n",
    "smiles_col = \"rdkit_smiles\"\n",
    "results_df = pfm.predict_from_model_file(model_path=mfile,\n",
    "                                         input_df=input_df,\n",
    "                                         smiles_col=smiles_col,\n",
    "                                         response_col=response_col)\n",
    "\n",
    "## new DFT R2 for acrylamide\n",
    "\n",
    "dft_acrylamide_actual = results_df['DFT_HOMO_LUMO_GAP'].values\n",
    "dft_acrylamide_predict = results_df['DFT_HOMO_LUMO_GAP_pred'].values\n",
    "\n",
    "corr_matrix_acrylamide_R_sq_scaffold_new = numpy.corrcoef(dft_acrylamide_actual, dft_acrylamide_predict)\n",
    "corr_acrylamide_R_sq_scaffold_new = corr_matrix_acrylamide_R_sq_scaffold_new[0, 1]\n",
    "dft_acrylamide_R_sq_scaffold_new = corr_acrylamide_R_sq_scaffold_new**2\n",
    "\n",
    "from IPython.display import HTML, display\n",
    "acrylamide_result = {\n",
    "    \"Model\": [\"random split\", \"random split with ECFP\",\n",
    "              \"fingerprint\", \"fingerprint with ECFP\",\n",
    "              \"scaffold\", \"scaffold with ECFP\"],\n",
    "    \"Result\": [dft_acrylamide_R_sq_randsplit, dft_acrylamide_R_sq_randsplit_new,\n",
    "               dft_acrylamide_R_sq_finger, dft_acrylamide_R_sq_finger_new,\n",
    "               dft_acrylamide_R_sq_scaffold, dft_acrylamide_R_sq_scaffold_new]\n",
    "}\n",
    "\n",
    "result_df_acrylamide = pd.DataFrame(acrylamide_result)\n",
    "result_df_acrylamide.columns = ['Model', 'Tested R squared value']\n",
    "\n",
    "# Adjusting the index to start at 1\n",
    "result_df_acrylamide.index = range(1, len(result_df_acrylamide) + 1)\n",
    "\n",
    "# Convert DataFrame to HTML and add custom styling\n",
    "result_df_acrylamide_pre = result_df_acrylamide.style.set_table_styles(\n",
    "    [\n",
    "        # Styles for the table headers\n",
    "        {'selector': 'th', \n",
    "         'props': [('background-color', 'lightbrown'), \n",
    "                   ('color', 'black'),\n",
    "                   ('font-family', 'Arial'), \n",
    "                   ('text-align', 'center')]},\n",
    "\n",
    "        {'selector': '.col0', \n",
    "         'props': [('text-align', 'left')]},\n",
    "\n",
    "        # Styles for the 'Tested R_squared value' column\n",
    "        {'selector': '.col1', \n",
    "         'props': [('text-align', 'center')]},\n",
    "\n",
    "        # Styles for the caption\n",
    "        {'selector': 'caption', \n",
    "         'props': [('caption-side', 'top'),\n",
    "                   ('font-size', '1.2em'), \n",
    "                   ('font-weight', 'bold'), \n",
    "                   ('color', 'black'), \n",
    "                   ('font-family', 'Arial'), \n",
    "                   ('text-align', 'center')]}\n",
    "    ]\n",
    ").set_caption(\"Acrylamide\").render()\n",
    "\n",
    "result_df_acrylamide.to_csv('result_df_acrylamide.csv', index=False)\n",
    "\n",
    "display(HTML(result_df_acrylamide_pre))\n",
    "\n"
   ]
  },
  {
   "cell_type": "code",
   "execution_count": null,
   "id": "07648ff7-479b-4da3-94fd-6213aa72257a",
   "metadata": {},
   "outputs": [],
   "source": []
  }
 ],
 "metadata": {
  "environment": {
   "kernel": "atomsci",
   "name": "common-gpu.m111",
   "type": "gcloud",
   "uri": "gcr.io/deeplearning-platform-release/base-gpu:m111"
  },
  "kernelspec": {
   "display_name": "atomsci",
   "language": "python",
   "name": "atomsci"
  },
  "language_info": {
   "codemirror_mode": {
    "name": "ipython",
    "version": 3
   },
   "file_extension": ".py",
   "mimetype": "text/x-python",
   "name": "python",
   "nbconvert_exporter": "python",
   "pygments_lexer": "ipython3",
   "version": "3.8.2"
  }
 },
 "nbformat": 4,
 "nbformat_minor": 5
}
