{
  "nbformat": 4,
  "nbformat_minor": 0,
  "metadata": {
    "colab": {
      "provenance": [],
      "authorship_tag": "ABX9TyPuwhtwpa6q+aV/nC2i1kvl"
    },
    "kernelspec": {
      "name": "python3",
      "display_name": "Python 3"
    },
    "language_info": {
      "name": "python"
    }
  },
  "cells": [
    {
      "cell_type": "markdown",
      "source": [
        "# NCI Data Science Learning Exchange: AMPL for Drug Discovery A hnds-on tutorial \n",
        "## \n",
        "1. ATOM Modeling PipeLine for Drug Discovery: A Hands-on Tutorial  \n",
        "https://www.youtube.com/watch?v=NJ_3ExXXk_o&ab_channel=NCIDataScienceLearningExchangeWorkshops\n"
      ],
      "metadata": {
        "id": "W3QtMkyYU79n"
      }
    }
  ]
}