{
  "nbformat": 4,
  "nbformat_minor": 0,
  "metadata": {
    "colab": {
      "provenance": [],
      "authorship_tag": "ABX9TyN/A7z0Vk/y4KP22Bt8DuJA",
      "include_colab_link": true
    },
    "kernelspec": {
      "name": "python3",
      "display_name": "Python 3"
    },
    "language_info": {
      "name": "python"
    }
  },
  "cells": [
    {
      "cell_type": "markdown",
      "metadata": {
        "id": "view-in-github",
        "colab_type": "text"
      },
      "source": [
        "<a href=\"https://colab.research.google.com/github/ohashin2/ATOM-Tech-Tutorials/blob/main/AMPL_Tutorial.ipynb\" target=\"_parent\"><img src=\"https://colab.research.google.com/assets/colab-badge.svg\" alt=\"Open In Colab\"/></a>"
      ]
    },
    {
      "cell_type": "markdown",
      "source": [
        "# NCI Data Science Learning Exchange: AMPL for Drug Discovery A hnds-on tutorial \n",
        "## \n",
        "1. ATOM Modeling PipeLine for Drug Discovery: A Hands-on Tutorial  \n",
        "https://www.youtube.com/watch?v=NJ_3ExXXk_o&ab_channel=NCIDataScienceLearningExchangeWorkshops\n"
      ],
      "metadata": {
        "id": "W3QtMkyYU79n"
      }
    },
    {
      "cell_type": "code",
      "execution_count": null,
      "metadata": {
        "id": "_vtCeRcZU2Ew"
      },
      "outputs": [],
      "source": [
        " "
      ]
    }
  ]
}